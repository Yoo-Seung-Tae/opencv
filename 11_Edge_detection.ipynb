{
 "cells": [
  {
   "cell_type": "code",
   "execution_count": 9,
   "metadata": {},
   "outputs": [],
   "source": [
    "## 경계선 검출(canny edge detection): 색이 갑자기 바뀌는 구간을 검출\n",
    "'''\n",
    "threshold1: 약한 경계 임계값(애매하게)\n",
    "threshold2: 강한 경계 임계값(무조건)\n",
    "'''\n",
    "\n",
    "import cv2\n",
    "img=cv2.imread('images/iu.jpg', cv2.IMREAD_GRAYSCALE)\n",
    "canny=cv2.Canny(img, threshold1=50, threshold2=150)\n",
    "\n",
    "cv2.imshow('canny', canny)\n",
    "cv2.waitKey(0)\n",
    "cv2.destroyAllWindows()\n"
   ]
  },
  {
   "cell_type": "code",
   "execution_count": null,
   "metadata": {},
   "outputs": [],
   "source": [
    "# 트랙바 적용(위의 것)\n",
    "\n",
    "import cv2\n",
    "img=cv2.imread('images/iu.jpg', cv2.IMREAD_GRAYSCALE)\n",
    "name='canny'\n",
    "cv2.namedWindow(name)\n",
    "\n",
    "cv2.createTrackbar('threshold1', name, 50, 255, lambda x:x)\n",
    "cv2.createTrackbar('threshold2', name, 150, 255, lambda x:x)\n",
    "\n",
    "while True:\n",
    "    threshold1=cv2.getTrackbarPos('threshold1', name)\n",
    "    threshold2=cv2.getTrackbarPos('threshold2', name)\n",
    "    canny=cv2.Canny(img, threshold1, threshold2)\n",
    "    cv2.imshow(name, canny)\n",
    "\n",
    "    if cv2.waitKey(1)  == ord('q'):\n",
    "        break\n",
    "\n",
    "\n",
    "cv2.destroyAllWindows()\n"
   ]
  },
  {
   "cell_type": "code",
   "execution_count": null,
   "metadata": {},
   "outputs": [
    {
     "name": "stdout",
     "output_type": "stream",
     "text": [
      "True\n"
     ]
    }
   ],
   "source": [
    "## 카메라 입출력\n",
    "cap=cv2.VideoCapture(0, cv2.IMREAD_GRAYSCALE)    # 0번의 카메라를 불러온다\n",
    "print(cap.isOpened())    # 카메라 확인\n",
    "\n",
    "import cv2\n",
    "name='canny'\n",
    "cv2.namedWindow(name)\n",
    "cv2.createTrackbar('threshold1', name, 50, 255, lambda x:x)\n",
    "cv2.createTrackbar('threshold2', name, 150, 255, lambda x:x)\n",
    "\n",
    "\n",
    "if not cap.isOpened():\n",
    "    exit()\n",
    "\n",
    "while True:\n",
    "    ret, frame=cap.read()\n",
    "    \n",
    "    if not ret:\n",
    "        break\n",
    "\n",
    "    threshold1=cv2.getTrackbarPos('threshold1', name)\n",
    "    threshold2=cv2.getTrackbarPos('threshold2', name)\n",
    "    canny=cv2.Canny(frame, threshold1, threshold2)\n",
    "    cv2.imshow(name, canny)\n",
    "\n",
    "    if cv2.waitKey(1)==ord('q'):\n",
    "        break\n",
    "\n",
    "cap.release()\n",
    "cv2.destroyAllWindows()"
   ]
  },
  {
   "cell_type": "code",
   "execution_count": 27,
   "metadata": {},
   "outputs": [],
   "source": [
    "img=cv2.imread('images/iu.jpg', cv2.IMREAD_GRAYSCALE)\n",
    "blurred=cv2.GaussianBlur(img,(0,0),3)\n",
    "\n",
    "canny_img=cv2.Canny(img, 50, 150)\n",
    "canny_blu=cv2.Canny(blurred, 50, 150)\n",
    "\n",
    "cv2.imshow('1', canny_img)\n",
    "cv2.imshow('2', canny_blu)\n",
    "\n",
    "cv2.waitKey(0)\n",
    "cv2.destroyAllWindows()\n"
   ]
  }
 ],
 "metadata": {
  "kernelspec": {
   "display_name": "my_cv",
   "language": "python",
   "name": "python3"
  },
  "language_info": {
   "codemirror_mode": {
    "name": "ipython",
    "version": 3
   },
   "file_extension": ".py",
   "mimetype": "text/x-python",
   "name": "python",
   "nbconvert_exporter": "python",
   "pygments_lexer": "ipython3",
   "version": "3.12.7"
  }
 },
 "nbformat": 4,
 "nbformat_minor": 2
}
