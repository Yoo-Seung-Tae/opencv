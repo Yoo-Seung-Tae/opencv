{
 "cells": [
  {
   "cell_type": "code",
   "execution_count": 2,
   "metadata": {},
   "outputs": [],
   "source": [
    "## 텍스트 기본 입력(영어), 한글입력 지원 없음\n",
    "\n",
    "import cv2\n",
    "import numpy as np"
   ]
  },
  {
   "cell_type": "code",
   "execution_count": 3,
   "metadata": {},
   "outputs": [],
   "source": [
    "# 일반 글자 입력\n",
    "\n",
    "img=np.zeros((460,640,3),dtype=np.uint8)\n",
    "\n",
    "cv2.putText(img, \"hello world!\", (100,100), cv2.FONT_HERSHEY_COMPLEX, 1,(255,0,0),2)    #이미지, 글자, 시작지점, 글꼴, 크기, 색깔, 두께\n",
    "cv2.putText(img, \"hello world!\", (100,200), cv2.FONT_HERSHEY_COMPLEX | cv2.FONT_ITALIC, 1,(255,0,0),1)    #이미지, 글자, 시작지점, 글꼴, 크기, 색깔, 두께\n",
    "\n",
    "cv2.imshow('text',img)\n",
    "cv2.waitKey(0)\n",
    "cv2.destroyAllWindows()"
   ]
  },
  {
   "cell_type": "code",
   "execution_count": 4,
   "metadata": {},
   "outputs": [],
   "source": [
    "# 한글 텍스트 입력(우회)\n",
    "# %pip install pillow\n",
    "\n",
    "from PIL import Image, ImageDraw, ImageFont\n",
    "\n",
    "img=np.zeros((460,640,3),dtype=np.uint8)\n",
    "\n",
    "def putKorText(img, text, pos, font_size, font_color):\n",
    "    img_pil=Image.fromarray(img)\n",
    "    draw=ImageDraw.Draw(img_pil)\n",
    "    font=ImageFont.truetype(\"fonts/gulim.ttc\",font_size)\n",
    "    draw.text(pos, text, font=font,fill=font_color)\n",
    "    return np.array(img_pil)\n",
    "\n",
    "text=putKorText(img, \"아아아아\", (100,100), 30, (255,255,255))\n",
    "\n",
    "\n",
    "cv2.imshow('korean', text)\n",
    "cv2.waitKey(0)\n",
    "cv2.destroyAllWindows()"
   ]
  },
  {
   "cell_type": "code",
   "execution_count": null,
   "metadata": {},
   "outputs": [],
   "source": []
  },
  {
   "cell_type": "code",
   "execution_count": null,
   "metadata": {},
   "outputs": [],
   "source": []
  },
  {
   "cell_type": "code",
   "execution_count": null,
   "metadata": {},
   "outputs": [],
   "source": []
  },
  {
   "cell_type": "code",
   "execution_count": null,
   "metadata": {},
   "outputs": [],
   "source": []
  },
  {
   "cell_type": "code",
   "execution_count": null,
   "metadata": {},
   "outputs": [],
   "source": []
  },
  {
   "cell_type": "code",
   "execution_count": null,
   "metadata": {},
   "outputs": [],
   "source": []
  }
 ],
 "metadata": {
  "kernelspec": {
   "display_name": "my_cv",
   "language": "python",
   "name": "python3"
  },
  "language_info": {
   "codemirror_mode": {
    "name": "ipython",
    "version": 3
   },
   "file_extension": ".py",
   "mimetype": "text/x-python",
   "name": "python",
   "nbconvert_exporter": "python",
   "pygments_lexer": "ipython3",
   "version": "3.12.7"
  }
 },
 "nbformat": 4,
 "nbformat_minor": 2
}
