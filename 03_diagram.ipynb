{
 "cells": [
  {
   "cell_type": "code",
   "execution_count": 1,
   "metadata": {},
   "outputs": [],
   "source": [
    "import numpy as np\n",
    "import cv2"
   ]
  },
  {
   "cell_type": "code",
   "execution_count": null,
   "metadata": {},
   "outputs": [],
   "source": [
    "## 도형 그리기\n",
    "img=np.zeros((450,600,3),dtype=np.uint8)\n",
    "img[200:300,200:300]=(225,225,0)\n",
    "\n",
    "cv2.imshow('blank',img)\n",
    "cv2.waitKey(0)\n",
    "cv2.destroyAllWindows()"
   ]
  },
  {
   "cell_type": "code",
   "execution_count": null,
   "metadata": {},
   "outputs": [],
   "source": [
    "## 선 그리기\n",
    "img=np.zeros((450,600,3),dtype=np.uint8)\n",
    "cv2.line(img, (50,100), (400,300), (255,0,0),1,cv2.LINE_4)    # 파일, 시작점, 끝점, 색깔, 두께, 옵션\n",
    "cv2.line(img, (60,100), (410,300), (255,255,0),1,cv2.LINE_8)    # 파일, 시작점, 끝점, 색깔, 두께, 옵션\n",
    "cv2.line(img, (70,100), (420,300), (255,0,255),1,cv2.LINE_AA)    # 파일, 시작점, 끝점, 색깔, 두께, 옵션\n",
    "\n",
    "cv2.imshow('line',img)\n",
    "cv2.waitKey(0)\n",
    "cv2.destroyAllWindows()"
   ]
  },
  {
   "cell_type": "code",
   "execution_count": null,
   "metadata": {},
   "outputs": [],
   "source": []
  },
  {
   "cell_type": "code",
   "execution_count": null,
   "metadata": {},
   "outputs": [],
   "source": []
  },
  {
   "cell_type": "code",
   "execution_count": null,
   "metadata": {},
   "outputs": [],
   "source": []
  },
  {
   "cell_type": "code",
   "execution_count": null,
   "metadata": {},
   "outputs": [],
   "source": []
  },
  {
   "cell_type": "code",
   "execution_count": null,
   "metadata": {},
   "outputs": [],
   "source": []
  }
 ],
 "metadata": {
  "kernelspec": {
   "display_name": "my_cv",
   "language": "python",
   "name": "python3"
  },
  "language_info": {
   "codemirror_mode": {
    "name": "ipython",
    "version": 3
   },
   "file_extension": ".py",
   "mimetype": "text/x-python",
   "name": "python",
   "nbconvert_exporter": "python",
   "pygments_lexer": "ipython3",
   "version": "3.12.7"
  }
 },
 "nbformat": 4,
 "nbformat_minor": 2
}
