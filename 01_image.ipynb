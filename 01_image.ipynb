{
 "cells": [
  {
   "cell_type": "code",
   "execution_count": 1,
   "metadata": {},
   "outputs": [],
   "source": [
    "import cv2\n",
    "log_jpg='images/a.jpg'\n",
    "log_png='images/a.png'"
   ]
  },
  {
   "cell_type": "code",
   "execution_count": 6,
   "metadata": {},
   "outputs": [
    {
     "name": "stdout",
     "output_type": "stream",
     "text": [
      "-1\n"
     ]
    }
   ],
   "source": [
    "img=cv2.imread('images/a.jpg')\n",
    "cv2.imshow('image', img)\n",
    "key=cv2.waitKey(0)    # 무한대기\n",
    "print(key)    # ASCII코드 반환\n",
    "cv2.destroyAllWindows()    # 모든 창 닫기"
   ]
  },
  {
   "cell_type": "code",
   "execution_count": null,
   "metadata": {},
   "outputs": [],
   "source": [
    "## 이미지 불러오기 옵션\n",
    "\n",
    "img_default=cv2.imread(log_jpg, cv2.IMREAD_COLOR)\n",
    "img_gray=cv2.imread(log_jpg, cv2.IMREAD_GRAYSCALE)\n",
    "img_unchanged=cv2.imread(log_jpg, cv2.IMREAD_UNCHANGED)\n",
    "\n",
    "\n",
    "cv2.imshow('Image default', img_default)\n",
    "cv2.imshow('Image gray', img_gray)\n",
    "cv2.imshow('Image unchanged', img_unchanged)\n",
    "\n",
    "cv2.waitKey(0)\n",
    "cv2.destroyAllWindows()"
   ]
  },
  {
   "cell_type": "code",
   "execution_count": null,
   "metadata": {},
   "outputs": [
    {
     "name": "stdout",
     "output_type": "stream",
     "text": [
      "1080 1920 3\n",
      "1080 1920 3\n",
      "1080 1920\n"
     ]
    }
   ],
   "source": [
    "## 이미지 shape\n",
    "\n",
    "img_default=cv2.imread(log_png, cv2.IMREAD_COLOR)\n",
    "img_gray=cv2.imread(log_png, cv2.IMREAD_GRAYSCALE)\n",
    "img_unchanged=cv2.imread(log_png, cv2.IMREAD_UNCHANGED)\n",
    "\n",
    "height, width, channel =img_default.shape    # 세로, 가로, 채널(RGB로 3개)을 출력\n",
    "print(height, width, channel)\n",
    "\n",
    "\n",
    "height, width, channel =img_unchanged.shape    # 세로, 가로, 채널을 출력\n",
    "print(height, width, channel)    # unchanged는 알파값이라는 투명도를 저장하는 채널을 1개 더 가지고 있음\n",
    "\n",
    "\n",
    "height, width =img_gray.shape    # 세로, 가로는 출력\n",
    "print(height, width)    # gray는 channel이 없음"
   ]
  },
  {
   "cell_type": "code",
   "execution_count": null,
   "metadata": {},
   "outputs": [],
   "source": [
    "img=cv2.imread(log_jpg)\n",
    "cv2.imshow('img', img)\n",
    "key=cv2.waitKey(0)\n",
    "if key==ord('q'):\n",
    "    cv2.destroyAllWindows()"
   ]
  },
  {
   "cell_type": "code",
   "execution_count": 4,
   "metadata": {},
   "outputs": [
    {
     "data": {
      "text/plain": [
       "True"
      ]
     },
     "execution_count": 4,
     "metadata": {},
     "output_type": "execute_result"
    }
   ],
   "source": [
    "## 이미지 쓰기: 이미지를 새로운 파일로 생성\n",
    "\n",
    "img=cv2.imread(log_jpg)\n",
    "cv2.imwrite('output/new_a.jpg',img)   # 일반 저장\n",
    "\n",
    "img_gray=cv2.imread(log_png, cv2.IMREAD_GRAYSCALE)\n",
    "cv2.imwrite('output/new_gray_a.jpg',img_gray)   # 흑백저장\n"
   ]
  },
  {
   "cell_type": "code",
   "execution_count": null,
   "metadata": {},
   "outputs": [],
   "source": [
    "\n",
    "\n"
   ]
  },
  {
   "cell_type": "code",
   "execution_count": null,
   "metadata": {},
   "outputs": [],
   "source": []
  },
  {
   "cell_type": "code",
   "execution_count": null,
   "metadata": {},
   "outputs": [],
   "source": []
  },
  {
   "cell_type": "code",
   "execution_count": null,
   "metadata": {},
   "outputs": [],
   "source": []
  }
 ],
 "metadata": {
  "kernelspec": {
   "display_name": "my_cv",
   "language": "python",
   "name": "python3"
  },
  "language_info": {
   "codemirror_mode": {
    "name": "ipython",
    "version": 3
   },
   "file_extension": ".py",
   "mimetype": "text/x-python",
   "name": "python",
   "nbconvert_exporter": "python",
   "pygments_lexer": "ipython3",
   "version": "3.12.7"
  }
 },
 "nbformat": 4,
 "nbformat_minor": 2
}
