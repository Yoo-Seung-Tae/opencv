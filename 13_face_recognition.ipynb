{
 "cells": [
  {
   "cell_type": "code",
   "execution_count": 21,
   "metadata": {},
   "outputs": [],
   "source": [
    "# 얼굴인식\n",
    "\n",
    "import cv2\n",
    "iu='images/iu.jpg'\n",
    "family='images/family.jpg'\n"
   ]
  },
  {
   "cell_type": "code",
   "execution_count": 20,
   "metadata": {},
   "outputs": [],
   "source": [
    "face_cascade=cv2.CascadeClassifier('cascade/haarcascade_frontalface_default.xml')\n",
    "img=cv2.imread(iu)\n",
    "gray=cv2.cvtColor(img, cv2.COLOR_BGR2GRAY)\n",
    "faces=face_cascade.detectMultiScale(\n",
    "    gray, scaleFactor=1.1, minNeighbors=10, minSize=(20,20)\n",
    ")\n",
    "\n",
    "\n",
    "for face in faces:\n",
    "    x, y, width, height = face\n",
    "    cv2.rectangle(img, (x, y),(x+width,y+height),(255,0,0), 3)\n",
    "\n",
    "\n",
    "cv2.imshow('1', img)\n",
    "cv2.waitKey(0)\n",
    "cv2.destroyAllWindows()"
   ]
  },
  {
   "cell_type": "code",
   "execution_count": null,
   "metadata": {},
   "outputs": [],
   "source": [
    "face_cascade=cv2.CascadeClassifier('cascade/haarcascade_frontalface_default.xml')\n",
    "eye_cascade=cv2.CascadeClassifier('cascade/haarcascade_eye.xml')\n",
    "\n",
    "\n",
    "img=cv2.imread(family)\n",
    "gray=cv2.cvtColor(img, cv2.COLOR_BGR2GRAY)\n",
    "\n",
    "faces=face_cascade.detectMultiScale(\n",
    "    gray, scaleFactor=1.1, minNeighbors=10, minSize=(20,20)\n",
    ")\n",
    "\n",
    "eyes=eye_cascade.detectMultiScale(\n",
    "    gray, scaleFactor=1.1, minNeighbors=10, maxSize=(10,10)\n",
    ")\n",
    "\n",
    "if len(faces):\n",
    "    for face in faces:\n",
    "        x, y, width, height = face\n",
    "        cv2.rectangle(img, (x, y),(x+width,y+height),(255,0,0), 3)\n",
    "\n",
    "if len(eyes):\n",
    "    for eye in eyes:\n",
    "        x, y, width, height = eye\n",
    "        cv2.rectangle(img, (x, y),(x+width,y+height),(255,255,0), 4)\n",
    "        \n",
    "        \n",
    "cv2.imshow('1', img)\n",
    "cv2.waitKey(0)\n",
    "cv2.destroyAllWindows()"
   ]
  },
  {
   "cell_type": "code",
   "execution_count": null,
   "metadata": {},
   "outputs": [],
   "source": []
  },
  {
   "cell_type": "code",
   "execution_count": null,
   "metadata": {},
   "outputs": [],
   "source": []
  },
  {
   "cell_type": "code",
   "execution_count": null,
   "metadata": {},
   "outputs": [],
   "source": []
  }
 ],
 "metadata": {
  "kernelspec": {
   "display_name": "my_cv",
   "language": "python",
   "name": "python3"
  },
  "language_info": {
   "name": "python",
   "version": "3.12.7"
  }
 },
 "nbformat": 4,
 "nbformat_minor": 2
}
