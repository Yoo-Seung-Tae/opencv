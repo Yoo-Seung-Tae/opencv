{
 "cells": [
  {
   "cell_type": "code",
   "execution_count": 2,
   "metadata": {},
   "outputs": [],
   "source": [
    "import numpy as np\n",
    "import cv2"
   ]
  },
  {
   "cell_type": "code",
   "execution_count": 2,
   "metadata": {},
   "outputs": [],
   "source": [
    "## 도형 그리기\n",
    "img=np.zeros((450,600,3),dtype=np.uint8)\n",
    "img[200:300,200:300]=(225,225,0)\n",
    "\n",
    "cv2.imshow('blank',img)\n",
    "cv2.waitKey(0)\n",
    "cv2.destroyAllWindows()"
   ]
  },
  {
   "cell_type": "code",
   "execution_count": 3,
   "metadata": {},
   "outputs": [],
   "source": [
    "## 선 그리기\n",
    "img=np.zeros((450,600,3),dtype=np.uint8)\n",
    "cv2.line(img, (50,100), (400,300), (255,0,0),1,cv2.LINE_4)    # 파일, 시작점, 끝점, 색깔, 두께, 옵션\n",
    "cv2.line(img, (60,100), (410,300), (255,255,0),1,cv2.LINE_8)    # 파일, 시작점, 끝점, 색깔, 두께, 옵션\n",
    "cv2.line(img, (70,100), (420,300), (255,0,255),1,cv2.LINE_AA)    # 파일, 시작점, 끝점, 색깔, 두께, 옵션\n",
    "\n",
    "cv2.imshow('line',img)\n",
    "cv2.waitKey(0)\n",
    "cv2.destroyAllWindows()"
   ]
  },
  {
   "cell_type": "code",
   "execution_count": 14,
   "metadata": {},
   "outputs": [],
   "source": [
    "## 원그리기\n",
    "img=np.zeros((450,600,3),dtype=np.uint8)\n",
    "cv2.circle(img,(300, 300),50,(255,0,0),10,cv2.LINE_AA)\n",
    "cv2.circle(img,(100, 300),50,(255,0,0),cv2.FILLED,cv2.LINE_AA)    ## 속이 차있는 원그리기\n",
    "\n",
    "cv2.imshow('circle',img)\n",
    "cv2.waitKey(0)\n",
    "cv2.destroyAllWindows()"
   ]
  },
  {
   "cell_type": "code",
   "execution_count": null,
   "metadata": {},
   "outputs": [
    {
     "data": {
      "text/plain": [
       "8"
      ]
     },
     "execution_count": 8,
     "metadata": {},
     "output_type": "execute_result"
    }
   ],
   "source": [
    "cv2.LINE_AA    # 일반 정수가 들어가 있음\n",
    "cv2.LINE_8"
   ]
  },
  {
   "cell_type": "code",
   "execution_count": null,
   "metadata": {},
   "outputs": [],
   "source": [
    "## 타원 그리기\n",
    "img=np.zeros((450,600,3),dtype=np.uint8)\n",
    "\n",
    "cv2.ellipse(img,(300,200),(100,50),45,0,360,(255,0,0),cv2.LINE_AA)     #이미지, 가운데, 가로/세로 크기, 앵글(시계방향으로 돌아감), 시작점, 끝점, 색깔, 선 설정\n",
    "\n",
    "cv2.imshow('ellipse',img)\n",
    "cv2.waitKey(0)\n",
    "cv2.destroyAllWindows()\n"
   ]
  },
  {
   "cell_type": "code",
   "execution_count": 23,
   "metadata": {},
   "outputs": [],
   "source": [
    "## 사격형 그리기\n",
    "img=np.zeros((450,600,3),dtype=np.uint8)\n",
    "\n",
    "cv2.rectangle(img, (100, 100),(250,250),(255,0,0),10,cv2.LINE_AA)    # 이미지, 왼쪽 끝, 오른쪽 끝, 색깔, 두꼐, 선 설정\n",
    "cv2.rectangle(img, (260, 100),(360,250),(255,0,0),cv2.FILLED,cv2.LINE_AA)    # 이미지, 왼쪽 끝, 오른쪽 끝, 색깔, 두꼐, 선 설정\n",
    "\n",
    "cv2.imshow('rectangle',img)\n",
    "cv2.waitKey(0)\n",
    "cv2.destroyAllWindows()\n",
    "\n"
   ]
  },
  {
   "cell_type": "code",
   "execution_count": 27,
   "metadata": {},
   "outputs": [],
   "source": [
    "## 다격형(선) 그리기\n",
    "img=np.zeros((450,600,3),dtype=np.uint8)\n",
    "\n",
    "pts=np.array([[100,100],[200,100],[100,200]])\n",
    "cv2.polylines(img, [pts], False, (255,0,0), 5)    # 이미지, 점들, 다 닫을지, 색깔, 두께\n",
    "\n",
    "cv2.imshow('polylines',img)\n",
    "cv2.waitKey(0)\n",
    "cv2.destroyAllWindows()\n"
   ]
  },
  {
   "cell_type": "code",
   "execution_count": 28,
   "metadata": {},
   "outputs": [],
   "source": [
    "## 다격형(선) 채우기\n",
    "\n",
    "img=np.zeros((450,600,3),dtype=np.uint8)\n",
    "\n",
    "pts=np.array([[100,100],[200,100],[100,200]])\n",
    "cv2.fillPoly(img, [pts], (255,0,0))    # 이미지, 점들, 색깔\n",
    "\n",
    "cv2.imshow('fillpoly',img)\n",
    "cv2.waitKey(0)\n",
    "cv2.destroyAllWindows()"
   ]
  },
  {
   "cell_type": "code",
   "execution_count": 14,
   "metadata": {},
   "outputs": [],
   "source": [
    "# 실습\n",
    "\n",
    "img=np.zeros((640,480,3), dtype=np.uint8)\n",
    "\n",
    "cv2.line(img,(50,50),(600,50),(255,0,0),5,cv2.LINE_AA)\n",
    "cv2.circle(img,(200,100),50,(255,0,0),5,cv2.LINE_AA)\n",
    "cv2.ellipse(img,(350,200),(100,200),30,0,360,(255,0,0),5,cv2.LINE_AA)\n",
    "cv2.rectangle(img,(350,100),(400,200),(255,0,0),5,cv2.LINE_AA)\n",
    "cv2.polylines(img,np.array([[[300,300],[400,400],[300,400]]]),True,(255,0,0),5,cv2.LINE_AA)\n",
    "cv2.fillPoly(img,np.array([[[400,400],[500,500],[400,500]]]),(255,0,0),cv2.LINE_AA)\n",
    "\n",
    "cv2.imshow('practice',img)\n",
    "cv2.waitKey(0)\n",
    "cv2.destroyAllWindows()"
   ]
  },
  {
   "cell_type": "code",
   "execution_count": null,
   "metadata": {},
   "outputs": [],
   "source": []
  },
  {
   "cell_type": "code",
   "execution_count": null,
   "metadata": {},
   "outputs": [],
   "source": []
  },
  {
   "cell_type": "code",
   "execution_count": null,
   "metadata": {},
   "outputs": [],
   "source": []
  },
  {
   "cell_type": "code",
   "execution_count": null,
   "metadata": {},
   "outputs": [],
   "source": []
  },
  {
   "cell_type": "code",
   "execution_count": null,
   "metadata": {},
   "outputs": [],
   "source": []
  },
  {
   "cell_type": "code",
   "execution_count": null,
   "metadata": {},
   "outputs": [],
   "source": []
  }
 ],
 "metadata": {
  "kernelspec": {
   "display_name": "my_cv",
   "language": "python",
   "name": "python3"
  },
  "language_info": {
   "codemirror_mode": {
    "name": "ipython",
    "version": 3
   },
   "file_extension": ".py",
   "mimetype": "text/x-python",
   "name": "python",
   "nbconvert_exporter": "python",
   "pygments_lexer": "ipython3",
   "version": "3.12.7"
  }
 },
 "nbformat": 4,
 "nbformat_minor": 2
}
