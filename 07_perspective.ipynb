{
 "cells": [
  {
   "cell_type": "code",
   "execution_count": 4,
   "metadata": {},
   "outputs": [],
   "source": [
    "# 원근변환\n",
    "\n",
    "import cv2\n",
    "import numpy as np\n",
    "\n",
    "card_path='images/card.jpg'\n",
    "down_path='images/down.jpg'"
   ]
  },
  {
   "cell_type": "code",
   "execution_count": null,
   "metadata": {},
   "outputs": [],
   "source": [
    "img=cv2.imread(card_path)\n",
    "\n",
    "width, height = 600, 250\n",
    "\n",
    "#메모장으로 이미지 꼭지점 파악(시계방향으로 작성)\n",
    "src=np.array([[54,261],[981,128],[1213, 560],[194,735]],dtype=np.float32)\n",
    "\n",
    "# 결과물 출력할 형태\n",
    "dst=np.array([[0,0],[width,0],[width, height],[0,height]], dtype=np.float32)\n",
    "\n",
    "mat=cv2.getPerspectiveTransform(src, dst)     # 변형될 소스, 변형할 소스\n",
    "\n",
    "# img를 mat에 의해 변환\n",
    "result=cv2.warpPerspective(img, mat, (width, height))    # 이미지, 매트릭스, (넓이, 높이)\n",
    "\n",
    "\n",
    "cv2.imshow('1',img)\n",
    "cv2.imshow('2',result)\n",
    "cv2.waitKey(0)\n",
    "cv2.destroyAllWindows()\n"
   ]
  },
  {
   "cell_type": "code",
   "execution_count": null,
   "metadata": {},
   "outputs": [],
   "source": [
    "# 실습\n",
    "img=cv2.imread(down_path)\n",
    "\n",
    "width, height = 372, 372\n",
    "\n",
    "#메모장으로 이미지 꼭지점 파악(시계방향으로 작성)\n",
    "src=np.array([[177,50],[261, 275],[152,340],[74,129]],dtype=np.float32)\n",
    "\n",
    "# 결과물 출력할 형태\n",
    "dst=np.array([[0,0],[width,0],[width, height],[0,height]], dtype=np.float32)\n",
    "\n",
    "mat=cv2.getPerspectiveTransform(src, dst)     # 변형될 소스, 변형할 소스\n",
    "\n",
    "# img를 mat에 의해 변환\n",
    "result=cv2.warpPerspective(img, mat, (width, height))    # 이미지, 매트릭스, (넓이, 높이)\n",
    "\n",
    "\n",
    "cv2.imshow('1',img)\n",
    "cv2.imshow('2',result)\n",
    "cv2.waitKey(0)\n",
    "cv2.destroyAllWindows()\n"
   ]
  },
  {
   "cell_type": "code",
   "execution_count": null,
   "metadata": {},
   "outputs": [],
   "source": []
  },
  {
   "cell_type": "code",
   "execution_count": null,
   "metadata": {},
   "outputs": [],
   "source": []
  },
  {
   "cell_type": "code",
   "execution_count": null,
   "metadata": {},
   "outputs": [],
   "source": []
  },
  {
   "cell_type": "code",
   "execution_count": null,
   "metadata": {},
   "outputs": [],
   "source": []
  },
  {
   "cell_type": "code",
   "execution_count": null,
   "metadata": {},
   "outputs": [],
   "source": []
  }
 ],
 "metadata": {
  "kernelspec": {
   "display_name": "my_cv",
   "language": "python",
   "name": "python3"
  },
  "language_info": {
   "codemirror_mode": {
    "name": "ipython",
    "version": 3
   },
   "file_extension": ".py",
   "mimetype": "text/x-python",
   "name": "python",
   "nbconvert_exporter": "python",
   "pygments_lexer": "ipython3",
   "version": "3.12.7"
  }
 },
 "nbformat": 4,
 "nbformat_minor": 2
}
