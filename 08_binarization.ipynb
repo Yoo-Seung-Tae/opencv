{
 "cells": [
  {
   "cell_type": "code",
   "execution_count": 4,
   "metadata": {},
   "outputs": [],
   "source": [
    "# 이진화: 특정값을 기준으로 0 혹은 255로 나눈다. (흰색과 검은색으로)\n",
    "\n",
    "import cv2\n",
    "import numpy as np\n",
    "\n",
    "book_path='images/book.jpg'\n",
    "iu_path='images/iu.jpg'\n"
   ]
  },
  {
   "cell_type": "code",
   "execution_count": null,
   "metadata": {},
   "outputs": [],
   "source": [
    "## 기존 이진화\n",
    "\n",
    "img=cv2.imread(book_path, cv2.IMREAD_GRAYSCALE)    # 그레이스케일로 불러오기\n",
    "\n",
    "ret , binary = cv2.threshold(img, 200, 255, cv2.THRESH_BINARY)    # 이미지, 임계값, 나누는 값중 최대값, 이진화를 계산하는 옵션\n",
    "\n",
    "cv2.imshow('1', img)\n",
    "cv2.imshow('2', binary)\n",
    "\n",
    "cv2.waitKey(0)\n",
    "cv2.destroyAllWindows()\n"
   ]
  },
  {
   "cell_type": "code",
   "execution_count": null,
   "metadata": {},
   "outputs": [],
   "source": [
    "# 적응형 이진화: 이진화를 하는데, 글자부분(특정부분)이 살아나게 하고 싶다. 일부 블록만 다른 임계값을 적용한다.\n",
    "\n",
    "img=cv2.imread(book_path, cv2.IMREAD_GRAYSCALE)    # 그레이스케일로 불러오기\n",
    "name='Adaptive'\n",
    "cv2.namedWindow(name)\n",
    "cv2.createTrackbar('block_size',name, 25, 100, lambda x:x)\n",
    "cv2.createTrackbar('C',name, 1, 10, lambda x:x)\n",
    "\n",
    "\n",
    "while True:\n",
    "    block_size=cv2.getTrackbarPos('block_size', name)\n",
    "    C=cv2.getTrackbarPos('C', name)\n",
    "\n",
    "    if block_size<=1:\n",
    "        block_size=3\n",
    "\n",
    "    if block_size%2==0:\n",
    "        block_size+=1\n",
    "\n",
    "    binary=cv2.adaptiveThreshold(img, 255, cv2.ADAPTIVE_THRESH_MEAN_C, cv2.THRESH_BINARY, block_size, C)      # 이미지, 최대값, 적응형 이진화를 할 방법, 이진화 적용 방식(계산방법 옵션), 블록사이즈, C값(보정값=인계값에서 빼주는 값))\n",
    "    cv2.imshow(name, binary)\n",
    "\n",
    "    if cv2.waitKey(1) == ord('q'):\n",
    "        break\n",
    "\n",
    "cv2.destroyAllWindows()\n"
   ]
  },
  {
   "cell_type": "code",
   "execution_count": 3,
   "metadata": {},
   "outputs": [],
   "source": [
    "# 트랙바\n",
    "## 직접 아핀 행렬 생성\n",
    "\n",
    "import math\n",
    "\n",
    "img=cv2.imread(iu_path)\n",
    "\n",
    "# 트랙바\n",
    "name='Trackbar'\n",
    "cv2.namedWindow(name)\n",
    "cv2.createTrackbar('rotation',name,0,360, lambda x:x)     # 트랙바 창 이름, 트랙바 조정 값 이름, 시작점, 최대점, 수식\n",
    "\n",
    "while True:\n",
    "    angle=cv2.getTrackbarPos('rotation',name)\n",
    "\n",
    "    rad=angle*math.pi/180\n",
    "    affine_matrix=np.array([[math.cos(rad),-math.sin(rad),0], [math.sin(rad),math.cos(rad),0]], dtype=np.float32)\n",
    "    dst = cv2.warpAffine(img, affine_matrix, (img.shape[1], img.shape[0]))\n",
    "    cv2.imshow(name, dst)\n",
    "\n",
    "    if cv2.waitKey(1) == ord('q'):\n",
    "        break\n",
    "\n",
    "cv2.destroyAllWindows()"
   ]
  },
  {
   "cell_type": "code",
   "execution_count": 15,
   "metadata": {},
   "outputs": [],
   "source": [
    "## 기존 이진화 and 트랙바 실습\n",
    "\n",
    "img=cv2.imread(book_path, cv2.IMREAD_GRAYSCALE)    # 그레이스케일로 불러오기\n",
    "ret , binary = cv2.threshold(img, 127, 255, cv2.THRESH_BINARY)    # 이미지, 임계값, 나누는 값중 최대값, 이진화를 계산하는 옵션\n",
    "\n",
    "# 트랙바\n",
    "name='Trackbar'\n",
    "cv2.namedWindow(name)\n",
    "cv2.createTrackbar('Trackbar', name, 127, 255, lambda x:x)     # 트랙바 창 이름, 트랙바 조정 값 이름, 시작점, 최대점, 수식(무의미해도 없으면 안됨, 변동이 있을 시 변환)\n",
    "\n",
    "while True:\n",
    "    threshold=cv2.getTrackbarPos(name, 'Trackbar')\n",
    "    ret , binary = cv2.threshold(img, threshold, 255, cv2.THRESH_BINARY)    # 이미지, 임계값, 나누는 값중 최대값, 이진화를 계산하는 옵션\n",
    "\n",
    "    cv2.imshow(name, binary)\n",
    "\n",
    "    if cv2.waitKey(1) == ord('q'):\n",
    "        break\n",
    "\n",
    "cv2.destroyAllWindows()"
   ]
  },
  {
   "cell_type": "code",
   "execution_count": 3,
   "metadata": {},
   "outputs": [],
   "source": [
    "# 실습(컬러 팔레트)\n",
    "\n",
    "img=np.zeros([640,400,3],dtype=np.uint8)\n",
    "\n",
    "img[:]=(255,0,0)\n",
    "\n",
    "name='Palette'\n",
    "cv2.namedWindow(name)\n",
    "cv2.createTrackbar('R', name, 0, 255, lambda x:x)     # 트랙바 창 이름, 트랙바 조정 값 이름, 시작점, 최대점, 수식(무의미해도 없으면 안됨, 변동이 있을 시 변환)\n",
    "cv2.createTrackbar('G', name, 0, 255, lambda x:x)\n",
    "cv2.createTrackbar('B', name, 0, 255, lambda x:x)\n",
    "cv2.createTrackbar('0: OFF 1: ON', name, 1, 1, lambda x:x)\n",
    "\n",
    "while True:\n",
    "    threshold_1=cv2.getTrackbarPos('R', name)\n",
    "    threshold_2=cv2.getTrackbarPos('G', name)\n",
    "    threshold_3=cv2.getTrackbarPos('B', name)\n",
    "    threshold_onoff=cv2.getTrackbarPos('0: OFF 1: ON', name)\n",
    "\n",
    "    if threshold_onoff==1:\n",
    "        img[:]=(threshold_3,threshold_2,threshold_1)\n",
    "    else:\n",
    "        img[:]=0\n",
    "    \n",
    "    cv2.imshow(name, img)\n",
    "\n",
    "    if cv2.waitKey(1) == ord('q'):\n",
    "        break\n",
    "\n",
    "cv2.destroyAllWindows()"
   ]
  },
  {
   "cell_type": "code",
   "execution_count": null,
   "metadata": {},
   "outputs": [],
   "source": []
  },
  {
   "cell_type": "code",
   "execution_count": null,
   "metadata": {},
   "outputs": [],
   "source": []
  },
  {
   "cell_type": "code",
   "execution_count": null,
   "metadata": {},
   "outputs": [],
   "source": []
  },
  {
   "cell_type": "code",
   "execution_count": null,
   "metadata": {},
   "outputs": [],
   "source": []
  },
  {
   "cell_type": "code",
   "execution_count": null,
   "metadata": {},
   "outputs": [],
   "source": []
  }
 ],
 "metadata": {
  "kernelspec": {
   "display_name": "my_cv",
   "language": "python",
   "name": "python3"
  },
  "language_info": {
   "codemirror_mode": {
    "name": "ipython",
    "version": 3
   },
   "file_extension": ".py",
   "mimetype": "text/x-python",
   "name": "python",
   "nbconvert_exporter": "python",
   "pygments_lexer": "ipython3",
   "version": "3.12.7"
  }
 },
 "nbformat": 4,
 "nbformat_minor": 2
}
