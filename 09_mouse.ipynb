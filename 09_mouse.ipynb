{
 "cells": [
  {
   "cell_type": "code",
   "execution_count": 24,
   "metadata": {},
   "outputs": [],
   "source": [
    "import cv2\n",
    "\n",
    "img=cv2.imread('images/iu.jpg')"
   ]
  },
  {
   "cell_type": "code",
   "execution_count": null,
   "metadata": {},
   "outputs": [],
   "source": [
    "name='mouse'\n",
    "\n",
    "def on_mouse(event, x, y, flags, _):\n",
    "    #if event == cv2.EVENT_LBUTTONDOWN:               # 좌클릭시\n",
    "        #print(event, cv2.EVENT_LBUTTONDOWN)\n",
    "        #print('이벤트 작동')\n",
    "\n",
    "    #print(x, y)             # 마우스 좌표 출력\n",
    "\n",
    "    if event == cv2.EVENT_LBUTTONDOWN:           # 좌클릭시 동그라미 만들기\n",
    "        copied=img.copy()        # 깊은 복사\n",
    "        cv2.circle(copied, (x,y), 3, (255,0,0), cv2.FILLED)\n",
    "        cv2.imshow(name, copied)\n",
    "\n",
    "\n",
    "cv2.namedWindow(name)\n",
    "cv2.setMouseCallback(name, on_mouse)    # 창 이름, 함수\n",
    "\n",
    "\n",
    "cv2.imshow(name, img)    # 위의 이름과 같이야 함.\n",
    "cv2.waitKey(0)\n",
    "cv2.destroyAllWindows()"
   ]
  },
  {
   "cell_type": "code",
   "execution_count": null,
   "metadata": {},
   "outputs": [],
   "source": [
    "# 미니 프로젝트(정답 얘시)\n",
    "import cv2\n",
    "import numpy as np\n",
    "\n",
    "img = cv2.imread(\"images/card.jpg\")\n",
    "point_list = []\n",
    "\n",
    "# 최종 결과를 출력하는 함수입니다\n",
    "def show_result():\n",
    "  width, height = 600, 350\n",
    "  src = np.array(point_list, dtype=np.float32)\n",
    "  # src = np.float32(point_list)\n",
    "  target = np.array([[0,0], [width, 0], [width, height], [0, height]], dtype=np.float32)\n",
    "  mat = cv2.getPerspectiveTransform(src, target)\n",
    "  result = cv2.warpPerspective(img, mat, (width, height))\n",
    "  cv2.imshow(\"result\", result)\n",
    "\n",
    "# 마우스 이벤트와 함께 실행되는 콜백함수입니다.\n",
    "drawing = False\n",
    "def on_mouse(event, x, y, flags, _):\n",
    "  global drawing\n",
    "  coppied = img.copy()\n",
    "  if event == cv2.EVENT_LBUTTONDOWN:\n",
    "    drawing = True\n",
    "    point_list.append((x,y))\n",
    "\n",
    "  if drawing:\n",
    "    prev_point = None\n",
    "    for point in point_list:\n",
    "      cv2.circle(coppied, point, 10, (0,0,255), cv2.FILLED)\n",
    "      if prev_point:\n",
    "        cv2.line(coppied, prev_point, point, (0,0,255), 5)\n",
    "      prev_point = point\n",
    "\n",
    "    next_point = (x,y)\n",
    "    if len(point_list) == 4:\n",
    "      next_point = point_list[0]\n",
    "      show_result()\n",
    "    cv2.line(coppied, point_list[-1], next_point, (0,0,255), 5)\n",
    "\n",
    "  cv2.imshow(name, coppied)\n",
    "\n",
    "# 기본적인 코드 실행입니다.\n",
    "name = \"Scanner\"\n",
    "cv2.namedWindow(name)\n",
    "cv2.setMouseCallback(name, on_mouse)\n",
    "cv2.imshow(name, img)\n",
    "cv2.waitKey(0)\n",
    "cv2.destroyAllWindows()"
   ]
  },
  {
   "cell_type": "code",
   "execution_count": null,
   "metadata": {},
   "outputs": [
    {
     "ename": "UnboundLocalError",
     "evalue": "cannot access local variable 'a' where it is not associated with a value",
     "output_type": "error",
     "traceback": [
      "\u001b[1;31m---------------------------------------------------------------------------\u001b[0m",
      "\u001b[1;31mUnboundLocalError\u001b[0m                         Traceback (most recent call last)",
      "Cell \u001b[1;32mIn[38], line 45\u001b[0m, in \u001b[0;36monMouse\u001b[1;34m(event, x, y, flags, _)\u001b[0m\n\u001b[0;32m     42\u001b[0m     cv2\u001b[38;5;241m.\u001b[39mcircle(img, (x,y), \u001b[38;5;241m3\u001b[39m, (\u001b[38;5;241m255\u001b[39m,\u001b[38;5;241m0\u001b[39m,\u001b[38;5;241m0\u001b[39m), cv2\u001b[38;5;241m.\u001b[39mFILLED)\n\u001b[0;32m     44\u001b[0m \u001b[38;5;28;01mwhile\u001b[39;00m \u001b[38;5;28;01mTrue\u001b[39;00m:\n\u001b[1;32m---> 45\u001b[0m     cv2\u001b[38;5;241m.\u001b[39mline(img, (point_x[\u001b[43ma\u001b[49m\u001b[38;5;241m-\u001b[39m\u001b[38;5;241m2\u001b[39m], point_y[a\u001b[38;5;241m-\u001b[39m\u001b[38;5;241m2\u001b[39m]), (x,y), (\u001b[38;5;241m255\u001b[39m,\u001b[38;5;241m0\u001b[39m,\u001b[38;5;241m0\u001b[39m),\u001b[38;5;241m1\u001b[39m,cv2\u001b[38;5;241m.\u001b[39mLINE_AA)    \u001b[38;5;66;03m# 파일, 시작점, 끝점, 색깔, 두께, 옵션\u001b[39;00m\n\u001b[0;32m     47\u001b[0m     \u001b[38;5;28;01mif\u001b[39;00m event \u001b[38;5;241m==\u001b[39m cv2\u001b[38;5;241m.\u001b[39mEVENT_LBUTTONDOWN:\n\u001b[0;32m     48\u001b[0m         \u001b[38;5;28;01mbreak\u001b[39;00m\n",
      "\u001b[1;31mUnboundLocalError\u001b[0m: cannot access local variable 'a' where it is not associated with a value"
     ]
    },
    {
     "ename": "UnboundLocalError",
     "evalue": "cannot access local variable 'a' where it is not associated with a value",
     "output_type": "error",
     "traceback": [
      "\u001b[1;31m---------------------------------------------------------------------------\u001b[0m",
      "\u001b[1;31mUnboundLocalError\u001b[0m                         Traceback (most recent call last)",
      "Cell \u001b[1;32mIn[38], line 45\u001b[0m, in \u001b[0;36monMouse\u001b[1;34m(event, x, y, flags, _)\u001b[0m\n\u001b[0;32m     42\u001b[0m     cv2\u001b[38;5;241m.\u001b[39mcircle(img, (x,y), \u001b[38;5;241m3\u001b[39m, (\u001b[38;5;241m255\u001b[39m,\u001b[38;5;241m0\u001b[39m,\u001b[38;5;241m0\u001b[39m), cv2\u001b[38;5;241m.\u001b[39mFILLED)\n\u001b[0;32m     44\u001b[0m \u001b[38;5;28;01mwhile\u001b[39;00m \u001b[38;5;28;01mTrue\u001b[39;00m:\n\u001b[1;32m---> 45\u001b[0m     cv2\u001b[38;5;241m.\u001b[39mline(img, (point_x[\u001b[43ma\u001b[49m\u001b[38;5;241m-\u001b[39m\u001b[38;5;241m2\u001b[39m], point_y[a\u001b[38;5;241m-\u001b[39m\u001b[38;5;241m2\u001b[39m]), (x,y), (\u001b[38;5;241m255\u001b[39m,\u001b[38;5;241m0\u001b[39m,\u001b[38;5;241m0\u001b[39m),\u001b[38;5;241m1\u001b[39m,cv2\u001b[38;5;241m.\u001b[39mLINE_AA)    \u001b[38;5;66;03m# 파일, 시작점, 끝점, 색깔, 두께, 옵션\u001b[39;00m\n\u001b[0;32m     47\u001b[0m     \u001b[38;5;28;01mif\u001b[39;00m event \u001b[38;5;241m==\u001b[39m cv2\u001b[38;5;241m.\u001b[39mEVENT_LBUTTONDOWN:\n\u001b[0;32m     48\u001b[0m         \u001b[38;5;28;01mbreak\u001b[39;00m\n",
      "\u001b[1;31mUnboundLocalError\u001b[0m: cannot access local variable 'a' where it is not associated with a value"
     ]
    },
    {
     "ename": "UnboundLocalError",
     "evalue": "cannot access local variable 'a' where it is not associated with a value",
     "output_type": "error",
     "traceback": [
      "\u001b[1;31m---------------------------------------------------------------------------\u001b[0m",
      "\u001b[1;31mUnboundLocalError\u001b[0m                         Traceback (most recent call last)",
      "Cell \u001b[1;32mIn[38], line 45\u001b[0m, in \u001b[0;36monMouse\u001b[1;34m(event, x, y, flags, _)\u001b[0m\n\u001b[0;32m     42\u001b[0m     cv2\u001b[38;5;241m.\u001b[39mcircle(img, (x,y), \u001b[38;5;241m3\u001b[39m, (\u001b[38;5;241m255\u001b[39m,\u001b[38;5;241m0\u001b[39m,\u001b[38;5;241m0\u001b[39m), cv2\u001b[38;5;241m.\u001b[39mFILLED)\n\u001b[0;32m     44\u001b[0m \u001b[38;5;28;01mwhile\u001b[39;00m \u001b[38;5;28;01mTrue\u001b[39;00m:\n\u001b[1;32m---> 45\u001b[0m     cv2\u001b[38;5;241m.\u001b[39mline(img, (point_x[\u001b[43ma\u001b[49m\u001b[38;5;241m-\u001b[39m\u001b[38;5;241m2\u001b[39m], point_y[a\u001b[38;5;241m-\u001b[39m\u001b[38;5;241m2\u001b[39m]), (x,y), (\u001b[38;5;241m255\u001b[39m,\u001b[38;5;241m0\u001b[39m,\u001b[38;5;241m0\u001b[39m),\u001b[38;5;241m1\u001b[39m,cv2\u001b[38;5;241m.\u001b[39mLINE_AA)    \u001b[38;5;66;03m# 파일, 시작점, 끝점, 색깔, 두께, 옵션\u001b[39;00m\n\u001b[0;32m     47\u001b[0m     \u001b[38;5;28;01mif\u001b[39;00m event \u001b[38;5;241m==\u001b[39m cv2\u001b[38;5;241m.\u001b[39mEVENT_LBUTTONDOWN:\n\u001b[0;32m     48\u001b[0m         \u001b[38;5;28;01mbreak\u001b[39;00m\n",
      "\u001b[1;31mUnboundLocalError\u001b[0m: cannot access local variable 'a' where it is not associated with a value"
     ]
    },
    {
     "ename": "UnboundLocalError",
     "evalue": "cannot access local variable 'a' where it is not associated with a value",
     "output_type": "error",
     "traceback": [
      "\u001b[1;31m---------------------------------------------------------------------------\u001b[0m",
      "\u001b[1;31mUnboundLocalError\u001b[0m                         Traceback (most recent call last)",
      "Cell \u001b[1;32mIn[38], line 45\u001b[0m, in \u001b[0;36monMouse\u001b[1;34m(event, x, y, flags, _)\u001b[0m\n\u001b[0;32m     42\u001b[0m     cv2\u001b[38;5;241m.\u001b[39mcircle(img, (x,y), \u001b[38;5;241m3\u001b[39m, (\u001b[38;5;241m255\u001b[39m,\u001b[38;5;241m0\u001b[39m,\u001b[38;5;241m0\u001b[39m), cv2\u001b[38;5;241m.\u001b[39mFILLED)\n\u001b[0;32m     44\u001b[0m \u001b[38;5;28;01mwhile\u001b[39;00m \u001b[38;5;28;01mTrue\u001b[39;00m:\n\u001b[1;32m---> 45\u001b[0m     cv2\u001b[38;5;241m.\u001b[39mline(img, (point_x[\u001b[43ma\u001b[49m\u001b[38;5;241m-\u001b[39m\u001b[38;5;241m2\u001b[39m], point_y[a\u001b[38;5;241m-\u001b[39m\u001b[38;5;241m2\u001b[39m]), (x,y), (\u001b[38;5;241m255\u001b[39m,\u001b[38;5;241m0\u001b[39m,\u001b[38;5;241m0\u001b[39m),\u001b[38;5;241m1\u001b[39m,cv2\u001b[38;5;241m.\u001b[39mLINE_AA)    \u001b[38;5;66;03m# 파일, 시작점, 끝점, 색깔, 두께, 옵션\u001b[39;00m\n\u001b[0;32m     47\u001b[0m     \u001b[38;5;28;01mif\u001b[39;00m event \u001b[38;5;241m==\u001b[39m cv2\u001b[38;5;241m.\u001b[39mEVENT_LBUTTONDOWN:\n\u001b[0;32m     48\u001b[0m         \u001b[38;5;28;01mbreak\u001b[39;00m\n",
      "\u001b[1;31mUnboundLocalError\u001b[0m: cannot access local variable 'a' where it is not associated with a value"
     ]
    },
    {
     "ename": "UnboundLocalError",
     "evalue": "cannot access local variable 'a' where it is not associated with a value",
     "output_type": "error",
     "traceback": [
      "\u001b[1;31m---------------------------------------------------------------------------\u001b[0m",
      "\u001b[1;31mUnboundLocalError\u001b[0m                         Traceback (most recent call last)",
      "Cell \u001b[1;32mIn[38], line 45\u001b[0m, in \u001b[0;36monMouse\u001b[1;34m(event, x, y, flags, _)\u001b[0m\n\u001b[0;32m     42\u001b[0m     cv2\u001b[38;5;241m.\u001b[39mcircle(img, (x,y), \u001b[38;5;241m3\u001b[39m, (\u001b[38;5;241m255\u001b[39m,\u001b[38;5;241m0\u001b[39m,\u001b[38;5;241m0\u001b[39m), cv2\u001b[38;5;241m.\u001b[39mFILLED)\n\u001b[0;32m     44\u001b[0m \u001b[38;5;28;01mwhile\u001b[39;00m \u001b[38;5;28;01mTrue\u001b[39;00m:\n\u001b[1;32m---> 45\u001b[0m     cv2\u001b[38;5;241m.\u001b[39mline(img, (point_x[\u001b[43ma\u001b[49m\u001b[38;5;241m-\u001b[39m\u001b[38;5;241m2\u001b[39m], point_y[a\u001b[38;5;241m-\u001b[39m\u001b[38;5;241m2\u001b[39m]), (x,y), (\u001b[38;5;241m255\u001b[39m,\u001b[38;5;241m0\u001b[39m,\u001b[38;5;241m0\u001b[39m),\u001b[38;5;241m1\u001b[39m,cv2\u001b[38;5;241m.\u001b[39mLINE_AA)    \u001b[38;5;66;03m# 파일, 시작점, 끝점, 색깔, 두께, 옵션\u001b[39;00m\n\u001b[0;32m     47\u001b[0m     \u001b[38;5;28;01mif\u001b[39;00m event \u001b[38;5;241m==\u001b[39m cv2\u001b[38;5;241m.\u001b[39mEVENT_LBUTTONDOWN:\n\u001b[0;32m     48\u001b[0m         \u001b[38;5;28;01mbreak\u001b[39;00m\n",
      "\u001b[1;31mUnboundLocalError\u001b[0m: cannot access local variable 'a' where it is not associated with a value"
     ]
    },
    {
     "ename": "UnboundLocalError",
     "evalue": "cannot access local variable 'a' where it is not associated with a value",
     "output_type": "error",
     "traceback": [
      "\u001b[1;31m---------------------------------------------------------------------------\u001b[0m",
      "\u001b[1;31mUnboundLocalError\u001b[0m                         Traceback (most recent call last)",
      "Cell \u001b[1;32mIn[38], line 45\u001b[0m, in \u001b[0;36monMouse\u001b[1;34m(event, x, y, flags, _)\u001b[0m\n\u001b[0;32m     42\u001b[0m     cv2\u001b[38;5;241m.\u001b[39mcircle(img, (x,y), \u001b[38;5;241m3\u001b[39m, (\u001b[38;5;241m255\u001b[39m,\u001b[38;5;241m0\u001b[39m,\u001b[38;5;241m0\u001b[39m), cv2\u001b[38;5;241m.\u001b[39mFILLED)\n\u001b[0;32m     44\u001b[0m \u001b[38;5;28;01mwhile\u001b[39;00m \u001b[38;5;28;01mTrue\u001b[39;00m:\n\u001b[1;32m---> 45\u001b[0m     cv2\u001b[38;5;241m.\u001b[39mline(img, (point_x[\u001b[43ma\u001b[49m\u001b[38;5;241m-\u001b[39m\u001b[38;5;241m2\u001b[39m], point_y[a\u001b[38;5;241m-\u001b[39m\u001b[38;5;241m2\u001b[39m]), (x,y), (\u001b[38;5;241m255\u001b[39m,\u001b[38;5;241m0\u001b[39m,\u001b[38;5;241m0\u001b[39m),\u001b[38;5;241m1\u001b[39m,cv2\u001b[38;5;241m.\u001b[39mLINE_AA)    \u001b[38;5;66;03m# 파일, 시작점, 끝점, 색깔, 두께, 옵션\u001b[39;00m\n\u001b[0;32m     47\u001b[0m     \u001b[38;5;28;01mif\u001b[39;00m event \u001b[38;5;241m==\u001b[39m cv2\u001b[38;5;241m.\u001b[39mEVENT_LBUTTONDOWN:\n\u001b[0;32m     48\u001b[0m         \u001b[38;5;28;01mbreak\u001b[39;00m\n",
      "\u001b[1;31mUnboundLocalError\u001b[0m: cannot access local variable 'a' where it is not associated with a value"
     ]
    },
    {
     "ename": "UnboundLocalError",
     "evalue": "cannot access local variable 'a' where it is not associated with a value",
     "output_type": "error",
     "traceback": [
      "\u001b[1;31m---------------------------------------------------------------------------\u001b[0m",
      "\u001b[1;31mUnboundLocalError\u001b[0m                         Traceback (most recent call last)",
      "Cell \u001b[1;32mIn[38], line 45\u001b[0m, in \u001b[0;36monMouse\u001b[1;34m(event, x, y, flags, _)\u001b[0m\n\u001b[0;32m     42\u001b[0m     cv2\u001b[38;5;241m.\u001b[39mcircle(img, (x,y), \u001b[38;5;241m3\u001b[39m, (\u001b[38;5;241m255\u001b[39m,\u001b[38;5;241m0\u001b[39m,\u001b[38;5;241m0\u001b[39m), cv2\u001b[38;5;241m.\u001b[39mFILLED)\n\u001b[0;32m     44\u001b[0m \u001b[38;5;28;01mwhile\u001b[39;00m \u001b[38;5;28;01mTrue\u001b[39;00m:\n\u001b[1;32m---> 45\u001b[0m     cv2\u001b[38;5;241m.\u001b[39mline(img, (point_x[\u001b[43ma\u001b[49m\u001b[38;5;241m-\u001b[39m\u001b[38;5;241m2\u001b[39m], point_y[a\u001b[38;5;241m-\u001b[39m\u001b[38;5;241m2\u001b[39m]), (x,y), (\u001b[38;5;241m255\u001b[39m,\u001b[38;5;241m0\u001b[39m,\u001b[38;5;241m0\u001b[39m),\u001b[38;5;241m1\u001b[39m,cv2\u001b[38;5;241m.\u001b[39mLINE_AA)    \u001b[38;5;66;03m# 파일, 시작점, 끝점, 색깔, 두께, 옵션\u001b[39;00m\n\u001b[0;32m     47\u001b[0m     \u001b[38;5;28;01mif\u001b[39;00m event \u001b[38;5;241m==\u001b[39m cv2\u001b[38;5;241m.\u001b[39mEVENT_LBUTTONDOWN:\n\u001b[0;32m     48\u001b[0m         \u001b[38;5;28;01mbreak\u001b[39;00m\n",
      "\u001b[1;31mUnboundLocalError\u001b[0m: cannot access local variable 'a' where it is not associated with a value"
     ]
    },
    {
     "ename": "UnboundLocalError",
     "evalue": "cannot access local variable 'a' where it is not associated with a value",
     "output_type": "error",
     "traceback": [
      "\u001b[1;31m---------------------------------------------------------------------------\u001b[0m",
      "\u001b[1;31mUnboundLocalError\u001b[0m                         Traceback (most recent call last)",
      "Cell \u001b[1;32mIn[38], line 45\u001b[0m, in \u001b[0;36monMouse\u001b[1;34m(event, x, y, flags, _)\u001b[0m\n\u001b[0;32m     42\u001b[0m     cv2\u001b[38;5;241m.\u001b[39mcircle(img, (x,y), \u001b[38;5;241m3\u001b[39m, (\u001b[38;5;241m255\u001b[39m,\u001b[38;5;241m0\u001b[39m,\u001b[38;5;241m0\u001b[39m), cv2\u001b[38;5;241m.\u001b[39mFILLED)\n\u001b[0;32m     44\u001b[0m \u001b[38;5;28;01mwhile\u001b[39;00m \u001b[38;5;28;01mTrue\u001b[39;00m:\n\u001b[1;32m---> 45\u001b[0m     cv2\u001b[38;5;241m.\u001b[39mline(img, (point_x[\u001b[43ma\u001b[49m\u001b[38;5;241m-\u001b[39m\u001b[38;5;241m2\u001b[39m], point_y[a\u001b[38;5;241m-\u001b[39m\u001b[38;5;241m2\u001b[39m]), (x,y), (\u001b[38;5;241m255\u001b[39m,\u001b[38;5;241m0\u001b[39m,\u001b[38;5;241m0\u001b[39m),\u001b[38;5;241m1\u001b[39m,cv2\u001b[38;5;241m.\u001b[39mLINE_AA)    \u001b[38;5;66;03m# 파일, 시작점, 끝점, 색깔, 두께, 옵션\u001b[39;00m\n\u001b[0;32m     47\u001b[0m     \u001b[38;5;28;01mif\u001b[39;00m event \u001b[38;5;241m==\u001b[39m cv2\u001b[38;5;241m.\u001b[39mEVENT_LBUTTONDOWN:\n\u001b[0;32m     48\u001b[0m         \u001b[38;5;28;01mbreak\u001b[39;00m\n",
      "\u001b[1;31mUnboundLocalError\u001b[0m: cannot access local variable 'a' where it is not associated with a value"
     ]
    },
    {
     "ename": "UnboundLocalError",
     "evalue": "cannot access local variable 'a' where it is not associated with a value",
     "output_type": "error",
     "traceback": [
      "\u001b[1;31m---------------------------------------------------------------------------\u001b[0m",
      "\u001b[1;31mUnboundLocalError\u001b[0m                         Traceback (most recent call last)",
      "Cell \u001b[1;32mIn[38], line 45\u001b[0m, in \u001b[0;36monMouse\u001b[1;34m(event, x, y, flags, _)\u001b[0m\n\u001b[0;32m     42\u001b[0m     cv2\u001b[38;5;241m.\u001b[39mcircle(img, (x,y), \u001b[38;5;241m3\u001b[39m, (\u001b[38;5;241m255\u001b[39m,\u001b[38;5;241m0\u001b[39m,\u001b[38;5;241m0\u001b[39m), cv2\u001b[38;5;241m.\u001b[39mFILLED)\n\u001b[0;32m     44\u001b[0m \u001b[38;5;28;01mwhile\u001b[39;00m \u001b[38;5;28;01mTrue\u001b[39;00m:\n\u001b[1;32m---> 45\u001b[0m     cv2\u001b[38;5;241m.\u001b[39mline(img, (point_x[\u001b[43ma\u001b[49m\u001b[38;5;241m-\u001b[39m\u001b[38;5;241m2\u001b[39m], point_y[a\u001b[38;5;241m-\u001b[39m\u001b[38;5;241m2\u001b[39m]), (x,y), (\u001b[38;5;241m255\u001b[39m,\u001b[38;5;241m0\u001b[39m,\u001b[38;5;241m0\u001b[39m),\u001b[38;5;241m1\u001b[39m,cv2\u001b[38;5;241m.\u001b[39mLINE_AA)    \u001b[38;5;66;03m# 파일, 시작점, 끝점, 색깔, 두께, 옵션\u001b[39;00m\n\u001b[0;32m     47\u001b[0m     \u001b[38;5;28;01mif\u001b[39;00m event \u001b[38;5;241m==\u001b[39m cv2\u001b[38;5;241m.\u001b[39mEVENT_LBUTTONDOWN:\n\u001b[0;32m     48\u001b[0m         \u001b[38;5;28;01mbreak\u001b[39;00m\n",
      "\u001b[1;31mUnboundLocalError\u001b[0m: cannot access local variable 'a' where it is not associated with a value"
     ]
    },
    {
     "ename": "UnboundLocalError",
     "evalue": "cannot access local variable 'a' where it is not associated with a value",
     "output_type": "error",
     "traceback": [
      "\u001b[1;31m---------------------------------------------------------------------------\u001b[0m",
      "\u001b[1;31mUnboundLocalError\u001b[0m                         Traceback (most recent call last)",
      "Cell \u001b[1;32mIn[38], line 45\u001b[0m, in \u001b[0;36monMouse\u001b[1;34m(event, x, y, flags, _)\u001b[0m\n\u001b[0;32m     42\u001b[0m     cv2\u001b[38;5;241m.\u001b[39mcircle(img, (x,y), \u001b[38;5;241m3\u001b[39m, (\u001b[38;5;241m255\u001b[39m,\u001b[38;5;241m0\u001b[39m,\u001b[38;5;241m0\u001b[39m), cv2\u001b[38;5;241m.\u001b[39mFILLED)\n\u001b[0;32m     44\u001b[0m \u001b[38;5;28;01mwhile\u001b[39;00m \u001b[38;5;28;01mTrue\u001b[39;00m:\n\u001b[1;32m---> 45\u001b[0m     cv2\u001b[38;5;241m.\u001b[39mline(img, (point_x[\u001b[43ma\u001b[49m\u001b[38;5;241m-\u001b[39m\u001b[38;5;241m2\u001b[39m], point_y[a\u001b[38;5;241m-\u001b[39m\u001b[38;5;241m2\u001b[39m]), (x,y), (\u001b[38;5;241m255\u001b[39m,\u001b[38;5;241m0\u001b[39m,\u001b[38;5;241m0\u001b[39m),\u001b[38;5;241m1\u001b[39m,cv2\u001b[38;5;241m.\u001b[39mLINE_AA)    \u001b[38;5;66;03m# 파일, 시작점, 끝점, 색깔, 두께, 옵션\u001b[39;00m\n\u001b[0;32m     47\u001b[0m     \u001b[38;5;28;01mif\u001b[39;00m event \u001b[38;5;241m==\u001b[39m cv2\u001b[38;5;241m.\u001b[39mEVENT_LBUTTONDOWN:\n\u001b[0;32m     48\u001b[0m         \u001b[38;5;28;01mbreak\u001b[39;00m\n",
      "\u001b[1;31mUnboundLocalError\u001b[0m: cannot access local variable 'a' where it is not associated with a value"
     ]
    },
    {
     "ename": "UnboundLocalError",
     "evalue": "cannot access local variable 'a' where it is not associated with a value",
     "output_type": "error",
     "traceback": [
      "\u001b[1;31m---------------------------------------------------------------------------\u001b[0m",
      "\u001b[1;31mUnboundLocalError\u001b[0m                         Traceback (most recent call last)",
      "Cell \u001b[1;32mIn[38], line 45\u001b[0m, in \u001b[0;36monMouse\u001b[1;34m(event, x, y, flags, _)\u001b[0m\n\u001b[0;32m     42\u001b[0m     cv2\u001b[38;5;241m.\u001b[39mcircle(img, (x,y), \u001b[38;5;241m3\u001b[39m, (\u001b[38;5;241m255\u001b[39m,\u001b[38;5;241m0\u001b[39m,\u001b[38;5;241m0\u001b[39m), cv2\u001b[38;5;241m.\u001b[39mFILLED)\n\u001b[0;32m     44\u001b[0m \u001b[38;5;28;01mwhile\u001b[39;00m \u001b[38;5;28;01mTrue\u001b[39;00m:\n\u001b[1;32m---> 45\u001b[0m     cv2\u001b[38;5;241m.\u001b[39mline(img, (point_x[\u001b[43ma\u001b[49m\u001b[38;5;241m-\u001b[39m\u001b[38;5;241m2\u001b[39m], point_y[a\u001b[38;5;241m-\u001b[39m\u001b[38;5;241m2\u001b[39m]), (x,y), (\u001b[38;5;241m255\u001b[39m,\u001b[38;5;241m0\u001b[39m,\u001b[38;5;241m0\u001b[39m),\u001b[38;5;241m1\u001b[39m,cv2\u001b[38;5;241m.\u001b[39mLINE_AA)    \u001b[38;5;66;03m# 파일, 시작점, 끝점, 색깔, 두께, 옵션\u001b[39;00m\n\u001b[0;32m     47\u001b[0m     \u001b[38;5;28;01mif\u001b[39;00m event \u001b[38;5;241m==\u001b[39m cv2\u001b[38;5;241m.\u001b[39mEVENT_LBUTTONDOWN:\n\u001b[0;32m     48\u001b[0m         \u001b[38;5;28;01mbreak\u001b[39;00m\n",
      "\u001b[1;31mUnboundLocalError\u001b[0m: cannot access local variable 'a' where it is not associated with a value"
     ]
    },
    {
     "ename": "UnboundLocalError",
     "evalue": "cannot access local variable 'a' where it is not associated with a value",
     "output_type": "error",
     "traceback": [
      "\u001b[1;31m---------------------------------------------------------------------------\u001b[0m",
      "\u001b[1;31mUnboundLocalError\u001b[0m                         Traceback (most recent call last)",
      "Cell \u001b[1;32mIn[38], line 45\u001b[0m, in \u001b[0;36monMouse\u001b[1;34m(event, x, y, flags, _)\u001b[0m\n\u001b[0;32m     42\u001b[0m     cv2\u001b[38;5;241m.\u001b[39mcircle(img, (x,y), \u001b[38;5;241m3\u001b[39m, (\u001b[38;5;241m255\u001b[39m,\u001b[38;5;241m0\u001b[39m,\u001b[38;5;241m0\u001b[39m), cv2\u001b[38;5;241m.\u001b[39mFILLED)\n\u001b[0;32m     44\u001b[0m \u001b[38;5;28;01mwhile\u001b[39;00m \u001b[38;5;28;01mTrue\u001b[39;00m:\n\u001b[1;32m---> 45\u001b[0m     cv2\u001b[38;5;241m.\u001b[39mline(img, (point_x[\u001b[43ma\u001b[49m\u001b[38;5;241m-\u001b[39m\u001b[38;5;241m2\u001b[39m], point_y[a\u001b[38;5;241m-\u001b[39m\u001b[38;5;241m2\u001b[39m]), (x,y), (\u001b[38;5;241m255\u001b[39m,\u001b[38;5;241m0\u001b[39m,\u001b[38;5;241m0\u001b[39m),\u001b[38;5;241m1\u001b[39m,cv2\u001b[38;5;241m.\u001b[39mLINE_AA)    \u001b[38;5;66;03m# 파일, 시작점, 끝점, 색깔, 두께, 옵션\u001b[39;00m\n\u001b[0;32m     47\u001b[0m     \u001b[38;5;28;01mif\u001b[39;00m event \u001b[38;5;241m==\u001b[39m cv2\u001b[38;5;241m.\u001b[39mEVENT_LBUTTONDOWN:\n\u001b[0;32m     48\u001b[0m         \u001b[38;5;28;01mbreak\u001b[39;00m\n",
      "\u001b[1;31mUnboundLocalError\u001b[0m: cannot access local variable 'a' where it is not associated with a value"
     ]
    },
    {
     "ename": "UnboundLocalError",
     "evalue": "cannot access local variable 'a' where it is not associated with a value",
     "output_type": "error",
     "traceback": [
      "\u001b[1;31m---------------------------------------------------------------------------\u001b[0m",
      "\u001b[1;31mUnboundLocalError\u001b[0m                         Traceback (most recent call last)",
      "Cell \u001b[1;32mIn[38], line 45\u001b[0m, in \u001b[0;36monMouse\u001b[1;34m(event, x, y, flags, _)\u001b[0m\n\u001b[0;32m     42\u001b[0m     cv2\u001b[38;5;241m.\u001b[39mcircle(img, (x,y), \u001b[38;5;241m3\u001b[39m, (\u001b[38;5;241m255\u001b[39m,\u001b[38;5;241m0\u001b[39m,\u001b[38;5;241m0\u001b[39m), cv2\u001b[38;5;241m.\u001b[39mFILLED)\n\u001b[0;32m     44\u001b[0m \u001b[38;5;28;01mwhile\u001b[39;00m \u001b[38;5;28;01mTrue\u001b[39;00m:\n\u001b[1;32m---> 45\u001b[0m     cv2\u001b[38;5;241m.\u001b[39mline(img, (point_x[\u001b[43ma\u001b[49m\u001b[38;5;241m-\u001b[39m\u001b[38;5;241m2\u001b[39m], point_y[a\u001b[38;5;241m-\u001b[39m\u001b[38;5;241m2\u001b[39m]), (x,y), (\u001b[38;5;241m255\u001b[39m,\u001b[38;5;241m0\u001b[39m,\u001b[38;5;241m0\u001b[39m),\u001b[38;5;241m1\u001b[39m,cv2\u001b[38;5;241m.\u001b[39mLINE_AA)    \u001b[38;5;66;03m# 파일, 시작점, 끝점, 색깔, 두께, 옵션\u001b[39;00m\n\u001b[0;32m     47\u001b[0m     \u001b[38;5;28;01mif\u001b[39;00m event \u001b[38;5;241m==\u001b[39m cv2\u001b[38;5;241m.\u001b[39mEVENT_LBUTTONDOWN:\n\u001b[0;32m     48\u001b[0m         \u001b[38;5;28;01mbreak\u001b[39;00m\n",
      "\u001b[1;31mUnboundLocalError\u001b[0m: cannot access local variable 'a' where it is not associated with a value"
     ]
    },
    {
     "ename": "UnboundLocalError",
     "evalue": "cannot access local variable 'a' where it is not associated with a value",
     "output_type": "error",
     "traceback": [
      "\u001b[1;31m---------------------------------------------------------------------------\u001b[0m",
      "\u001b[1;31mUnboundLocalError\u001b[0m                         Traceback (most recent call last)",
      "Cell \u001b[1;32mIn[38], line 45\u001b[0m, in \u001b[0;36monMouse\u001b[1;34m(event, x, y, flags, _)\u001b[0m\n\u001b[0;32m     42\u001b[0m     cv2\u001b[38;5;241m.\u001b[39mcircle(img, (x,y), \u001b[38;5;241m3\u001b[39m, (\u001b[38;5;241m255\u001b[39m,\u001b[38;5;241m0\u001b[39m,\u001b[38;5;241m0\u001b[39m), cv2\u001b[38;5;241m.\u001b[39mFILLED)\n\u001b[0;32m     44\u001b[0m \u001b[38;5;28;01mwhile\u001b[39;00m \u001b[38;5;28;01mTrue\u001b[39;00m:\n\u001b[1;32m---> 45\u001b[0m     cv2\u001b[38;5;241m.\u001b[39mline(img, (point_x[\u001b[43ma\u001b[49m\u001b[38;5;241m-\u001b[39m\u001b[38;5;241m2\u001b[39m], point_y[a\u001b[38;5;241m-\u001b[39m\u001b[38;5;241m2\u001b[39m]), (x,y), (\u001b[38;5;241m255\u001b[39m,\u001b[38;5;241m0\u001b[39m,\u001b[38;5;241m0\u001b[39m),\u001b[38;5;241m1\u001b[39m,cv2\u001b[38;5;241m.\u001b[39mLINE_AA)    \u001b[38;5;66;03m# 파일, 시작점, 끝점, 색깔, 두께, 옵션\u001b[39;00m\n\u001b[0;32m     47\u001b[0m     \u001b[38;5;28;01mif\u001b[39;00m event \u001b[38;5;241m==\u001b[39m cv2\u001b[38;5;241m.\u001b[39mEVENT_LBUTTONDOWN:\n\u001b[0;32m     48\u001b[0m         \u001b[38;5;28;01mbreak\u001b[39;00m\n",
      "\u001b[1;31mUnboundLocalError\u001b[0m: cannot access local variable 'a' where it is not associated with a value"
     ]
    },
    {
     "ename": "UnboundLocalError",
     "evalue": "cannot access local variable 'a' where it is not associated with a value",
     "output_type": "error",
     "traceback": [
      "\u001b[1;31m---------------------------------------------------------------------------\u001b[0m",
      "\u001b[1;31mUnboundLocalError\u001b[0m                         Traceback (most recent call last)",
      "Cell \u001b[1;32mIn[38], line 45\u001b[0m, in \u001b[0;36monMouse\u001b[1;34m(event, x, y, flags, _)\u001b[0m\n\u001b[0;32m     42\u001b[0m     cv2\u001b[38;5;241m.\u001b[39mcircle(img, (x,y), \u001b[38;5;241m3\u001b[39m, (\u001b[38;5;241m255\u001b[39m,\u001b[38;5;241m0\u001b[39m,\u001b[38;5;241m0\u001b[39m), cv2\u001b[38;5;241m.\u001b[39mFILLED)\n\u001b[0;32m     44\u001b[0m \u001b[38;5;28;01mwhile\u001b[39;00m \u001b[38;5;28;01mTrue\u001b[39;00m:\n\u001b[1;32m---> 45\u001b[0m     cv2\u001b[38;5;241m.\u001b[39mline(img, (point_x[\u001b[43ma\u001b[49m\u001b[38;5;241m-\u001b[39m\u001b[38;5;241m2\u001b[39m], point_y[a\u001b[38;5;241m-\u001b[39m\u001b[38;5;241m2\u001b[39m]), (x,y), (\u001b[38;5;241m255\u001b[39m,\u001b[38;5;241m0\u001b[39m,\u001b[38;5;241m0\u001b[39m),\u001b[38;5;241m1\u001b[39m,cv2\u001b[38;5;241m.\u001b[39mLINE_AA)    \u001b[38;5;66;03m# 파일, 시작점, 끝점, 색깔, 두께, 옵션\u001b[39;00m\n\u001b[0;32m     47\u001b[0m     \u001b[38;5;28;01mif\u001b[39;00m event \u001b[38;5;241m==\u001b[39m cv2\u001b[38;5;241m.\u001b[39mEVENT_LBUTTONDOWN:\n\u001b[0;32m     48\u001b[0m         \u001b[38;5;28;01mbreak\u001b[39;00m\n",
      "\u001b[1;31mUnboundLocalError\u001b[0m: cannot access local variable 'a' where it is not associated with a value"
     ]
    },
    {
     "ename": "UnboundLocalError",
     "evalue": "cannot access local variable 'a' where it is not associated with a value",
     "output_type": "error",
     "traceback": [
      "\u001b[1;31m---------------------------------------------------------------------------\u001b[0m",
      "\u001b[1;31mUnboundLocalError\u001b[0m                         Traceback (most recent call last)",
      "Cell \u001b[1;32mIn[38], line 45\u001b[0m, in \u001b[0;36monMouse\u001b[1;34m(event, x, y, flags, _)\u001b[0m\n\u001b[0;32m     42\u001b[0m     cv2\u001b[38;5;241m.\u001b[39mcircle(img, (x,y), \u001b[38;5;241m3\u001b[39m, (\u001b[38;5;241m255\u001b[39m,\u001b[38;5;241m0\u001b[39m,\u001b[38;5;241m0\u001b[39m), cv2\u001b[38;5;241m.\u001b[39mFILLED)\n\u001b[0;32m     44\u001b[0m \u001b[38;5;28;01mwhile\u001b[39;00m \u001b[38;5;28;01mTrue\u001b[39;00m:\n\u001b[1;32m---> 45\u001b[0m     cv2\u001b[38;5;241m.\u001b[39mline(img, (point_x[\u001b[43ma\u001b[49m\u001b[38;5;241m-\u001b[39m\u001b[38;5;241m2\u001b[39m], point_y[a\u001b[38;5;241m-\u001b[39m\u001b[38;5;241m2\u001b[39m]), (x,y), (\u001b[38;5;241m255\u001b[39m,\u001b[38;5;241m0\u001b[39m,\u001b[38;5;241m0\u001b[39m),\u001b[38;5;241m1\u001b[39m,cv2\u001b[38;5;241m.\u001b[39mLINE_AA)    \u001b[38;5;66;03m# 파일, 시작점, 끝점, 색깔, 두께, 옵션\u001b[39;00m\n\u001b[0;32m     47\u001b[0m     \u001b[38;5;28;01mif\u001b[39;00m event \u001b[38;5;241m==\u001b[39m cv2\u001b[38;5;241m.\u001b[39mEVENT_LBUTTONDOWN:\n\u001b[0;32m     48\u001b[0m         \u001b[38;5;28;01mbreak\u001b[39;00m\n",
      "\u001b[1;31mUnboundLocalError\u001b[0m: cannot access local variable 'a' where it is not associated with a value"
     ]
    },
    {
     "ename": "UnboundLocalError",
     "evalue": "cannot access local variable 'a' where it is not associated with a value",
     "output_type": "error",
     "traceback": [
      "\u001b[1;31m---------------------------------------------------------------------------\u001b[0m",
      "\u001b[1;31mUnboundLocalError\u001b[0m                         Traceback (most recent call last)",
      "Cell \u001b[1;32mIn[38], line 45\u001b[0m, in \u001b[0;36monMouse\u001b[1;34m(event, x, y, flags, _)\u001b[0m\n\u001b[0;32m     42\u001b[0m     cv2\u001b[38;5;241m.\u001b[39mcircle(img, (x,y), \u001b[38;5;241m3\u001b[39m, (\u001b[38;5;241m255\u001b[39m,\u001b[38;5;241m0\u001b[39m,\u001b[38;5;241m0\u001b[39m), cv2\u001b[38;5;241m.\u001b[39mFILLED)\n\u001b[0;32m     44\u001b[0m \u001b[38;5;28;01mwhile\u001b[39;00m \u001b[38;5;28;01mTrue\u001b[39;00m:\n\u001b[1;32m---> 45\u001b[0m     cv2\u001b[38;5;241m.\u001b[39mline(img, (point_x[\u001b[43ma\u001b[49m\u001b[38;5;241m-\u001b[39m\u001b[38;5;241m2\u001b[39m], point_y[a\u001b[38;5;241m-\u001b[39m\u001b[38;5;241m2\u001b[39m]), (x,y), (\u001b[38;5;241m255\u001b[39m,\u001b[38;5;241m0\u001b[39m,\u001b[38;5;241m0\u001b[39m),\u001b[38;5;241m1\u001b[39m,cv2\u001b[38;5;241m.\u001b[39mLINE_AA)    \u001b[38;5;66;03m# 파일, 시작점, 끝점, 색깔, 두께, 옵션\u001b[39;00m\n\u001b[0;32m     47\u001b[0m     \u001b[38;5;28;01mif\u001b[39;00m event \u001b[38;5;241m==\u001b[39m cv2\u001b[38;5;241m.\u001b[39mEVENT_LBUTTONDOWN:\n\u001b[0;32m     48\u001b[0m         \u001b[38;5;28;01mbreak\u001b[39;00m\n",
      "\u001b[1;31mUnboundLocalError\u001b[0m: cannot access local variable 'a' where it is not associated with a value"
     ]
    },
    {
     "ename": "UnboundLocalError",
     "evalue": "cannot access local variable 'a' where it is not associated with a value",
     "output_type": "error",
     "traceback": [
      "\u001b[1;31m---------------------------------------------------------------------------\u001b[0m",
      "\u001b[1;31mUnboundLocalError\u001b[0m                         Traceback (most recent call last)",
      "Cell \u001b[1;32mIn[38], line 45\u001b[0m, in \u001b[0;36monMouse\u001b[1;34m(event, x, y, flags, _)\u001b[0m\n\u001b[0;32m     42\u001b[0m     cv2\u001b[38;5;241m.\u001b[39mcircle(img, (x,y), \u001b[38;5;241m3\u001b[39m, (\u001b[38;5;241m255\u001b[39m,\u001b[38;5;241m0\u001b[39m,\u001b[38;5;241m0\u001b[39m), cv2\u001b[38;5;241m.\u001b[39mFILLED)\n\u001b[0;32m     44\u001b[0m \u001b[38;5;28;01mwhile\u001b[39;00m \u001b[38;5;28;01mTrue\u001b[39;00m:\n\u001b[1;32m---> 45\u001b[0m     cv2\u001b[38;5;241m.\u001b[39mline(img, (point_x[\u001b[43ma\u001b[49m\u001b[38;5;241m-\u001b[39m\u001b[38;5;241m2\u001b[39m], point_y[a\u001b[38;5;241m-\u001b[39m\u001b[38;5;241m2\u001b[39m]), (x,y), (\u001b[38;5;241m255\u001b[39m,\u001b[38;5;241m0\u001b[39m,\u001b[38;5;241m0\u001b[39m),\u001b[38;5;241m1\u001b[39m,cv2\u001b[38;5;241m.\u001b[39mLINE_AA)    \u001b[38;5;66;03m# 파일, 시작점, 끝점, 색깔, 두께, 옵션\u001b[39;00m\n\u001b[0;32m     47\u001b[0m     \u001b[38;5;28;01mif\u001b[39;00m event \u001b[38;5;241m==\u001b[39m cv2\u001b[38;5;241m.\u001b[39mEVENT_LBUTTONDOWN:\n\u001b[0;32m     48\u001b[0m         \u001b[38;5;28;01mbreak\u001b[39;00m\n",
      "\u001b[1;31mUnboundLocalError\u001b[0m: cannot access local variable 'a' where it is not associated with a value"
     ]
    },
    {
     "ename": "UnboundLocalError",
     "evalue": "cannot access local variable 'a' where it is not associated with a value",
     "output_type": "error",
     "traceback": [
      "\u001b[1;31m---------------------------------------------------------------------------\u001b[0m",
      "\u001b[1;31mUnboundLocalError\u001b[0m                         Traceback (most recent call last)",
      "Cell \u001b[1;32mIn[38], line 45\u001b[0m, in \u001b[0;36monMouse\u001b[1;34m(event, x, y, flags, _)\u001b[0m\n\u001b[0;32m     42\u001b[0m     cv2\u001b[38;5;241m.\u001b[39mcircle(img, (x,y), \u001b[38;5;241m3\u001b[39m, (\u001b[38;5;241m255\u001b[39m,\u001b[38;5;241m0\u001b[39m,\u001b[38;5;241m0\u001b[39m), cv2\u001b[38;5;241m.\u001b[39mFILLED)\n\u001b[0;32m     44\u001b[0m \u001b[38;5;28;01mwhile\u001b[39;00m \u001b[38;5;28;01mTrue\u001b[39;00m:\n\u001b[1;32m---> 45\u001b[0m     cv2\u001b[38;5;241m.\u001b[39mline(img, (point_x[\u001b[43ma\u001b[49m\u001b[38;5;241m-\u001b[39m\u001b[38;5;241m2\u001b[39m], point_y[a\u001b[38;5;241m-\u001b[39m\u001b[38;5;241m2\u001b[39m]), (x,y), (\u001b[38;5;241m255\u001b[39m,\u001b[38;5;241m0\u001b[39m,\u001b[38;5;241m0\u001b[39m),\u001b[38;5;241m1\u001b[39m,cv2\u001b[38;5;241m.\u001b[39mLINE_AA)    \u001b[38;5;66;03m# 파일, 시작점, 끝점, 색깔, 두께, 옵션\u001b[39;00m\n\u001b[0;32m     47\u001b[0m     \u001b[38;5;28;01mif\u001b[39;00m event \u001b[38;5;241m==\u001b[39m cv2\u001b[38;5;241m.\u001b[39mEVENT_LBUTTONDOWN:\n\u001b[0;32m     48\u001b[0m         \u001b[38;5;28;01mbreak\u001b[39;00m\n",
      "\u001b[1;31mUnboundLocalError\u001b[0m: cannot access local variable 'a' where it is not associated with a value"
     ]
    },
    {
     "ename": "UnboundLocalError",
     "evalue": "cannot access local variable 'a' where it is not associated with a value",
     "output_type": "error",
     "traceback": [
      "\u001b[1;31m---------------------------------------------------------------------------\u001b[0m",
      "\u001b[1;31mUnboundLocalError\u001b[0m                         Traceback (most recent call last)",
      "Cell \u001b[1;32mIn[38], line 45\u001b[0m, in \u001b[0;36monMouse\u001b[1;34m(event, x, y, flags, _)\u001b[0m\n\u001b[0;32m     42\u001b[0m     cv2\u001b[38;5;241m.\u001b[39mcircle(img, (x,y), \u001b[38;5;241m3\u001b[39m, (\u001b[38;5;241m255\u001b[39m,\u001b[38;5;241m0\u001b[39m,\u001b[38;5;241m0\u001b[39m), cv2\u001b[38;5;241m.\u001b[39mFILLED)\n\u001b[0;32m     44\u001b[0m \u001b[38;5;28;01mwhile\u001b[39;00m \u001b[38;5;28;01mTrue\u001b[39;00m:\n\u001b[1;32m---> 45\u001b[0m     cv2\u001b[38;5;241m.\u001b[39mline(img, (point_x[\u001b[43ma\u001b[49m\u001b[38;5;241m-\u001b[39m\u001b[38;5;241m2\u001b[39m], point_y[a\u001b[38;5;241m-\u001b[39m\u001b[38;5;241m2\u001b[39m]), (x,y), (\u001b[38;5;241m255\u001b[39m,\u001b[38;5;241m0\u001b[39m,\u001b[38;5;241m0\u001b[39m),\u001b[38;5;241m1\u001b[39m,cv2\u001b[38;5;241m.\u001b[39mLINE_AA)    \u001b[38;5;66;03m# 파일, 시작점, 끝점, 색깔, 두께, 옵션\u001b[39;00m\n\u001b[0;32m     47\u001b[0m     \u001b[38;5;28;01mif\u001b[39;00m event \u001b[38;5;241m==\u001b[39m cv2\u001b[38;5;241m.\u001b[39mEVENT_LBUTTONDOWN:\n\u001b[0;32m     48\u001b[0m         \u001b[38;5;28;01mbreak\u001b[39;00m\n",
      "\u001b[1;31mUnboundLocalError\u001b[0m: cannot access local variable 'a' where it is not associated with a value"
     ]
    },
    {
     "ename": "UnboundLocalError",
     "evalue": "cannot access local variable 'a' where it is not associated with a value",
     "output_type": "error",
     "traceback": [
      "\u001b[1;31m---------------------------------------------------------------------------\u001b[0m",
      "\u001b[1;31mUnboundLocalError\u001b[0m                         Traceback (most recent call last)",
      "Cell \u001b[1;32mIn[38], line 45\u001b[0m, in \u001b[0;36monMouse\u001b[1;34m(event, x, y, flags, _)\u001b[0m\n\u001b[0;32m     42\u001b[0m     cv2\u001b[38;5;241m.\u001b[39mcircle(img, (x,y), \u001b[38;5;241m3\u001b[39m, (\u001b[38;5;241m255\u001b[39m,\u001b[38;5;241m0\u001b[39m,\u001b[38;5;241m0\u001b[39m), cv2\u001b[38;5;241m.\u001b[39mFILLED)\n\u001b[0;32m     44\u001b[0m \u001b[38;5;28;01mwhile\u001b[39;00m \u001b[38;5;28;01mTrue\u001b[39;00m:\n\u001b[1;32m---> 45\u001b[0m     cv2\u001b[38;5;241m.\u001b[39mline(img, (point_x[\u001b[43ma\u001b[49m\u001b[38;5;241m-\u001b[39m\u001b[38;5;241m2\u001b[39m], point_y[a\u001b[38;5;241m-\u001b[39m\u001b[38;5;241m2\u001b[39m]), (x,y), (\u001b[38;5;241m255\u001b[39m,\u001b[38;5;241m0\u001b[39m,\u001b[38;5;241m0\u001b[39m),\u001b[38;5;241m1\u001b[39m,cv2\u001b[38;5;241m.\u001b[39mLINE_AA)    \u001b[38;5;66;03m# 파일, 시작점, 끝점, 색깔, 두께, 옵션\u001b[39;00m\n\u001b[0;32m     47\u001b[0m     \u001b[38;5;28;01mif\u001b[39;00m event \u001b[38;5;241m==\u001b[39m cv2\u001b[38;5;241m.\u001b[39mEVENT_LBUTTONDOWN:\n\u001b[0;32m     48\u001b[0m         \u001b[38;5;28;01mbreak\u001b[39;00m\n",
      "\u001b[1;31mUnboundLocalError\u001b[0m: cannot access local variable 'a' where it is not associated with a value"
     ]
    },
    {
     "ename": "UnboundLocalError",
     "evalue": "cannot access local variable 'a' where it is not associated with a value",
     "output_type": "error",
     "traceback": [
      "\u001b[1;31m---------------------------------------------------------------------------\u001b[0m",
      "\u001b[1;31mUnboundLocalError\u001b[0m                         Traceback (most recent call last)",
      "Cell \u001b[1;32mIn[38], line 45\u001b[0m, in \u001b[0;36monMouse\u001b[1;34m(event, x, y, flags, _)\u001b[0m\n\u001b[0;32m     42\u001b[0m     cv2\u001b[38;5;241m.\u001b[39mcircle(img, (x,y), \u001b[38;5;241m3\u001b[39m, (\u001b[38;5;241m255\u001b[39m,\u001b[38;5;241m0\u001b[39m,\u001b[38;5;241m0\u001b[39m), cv2\u001b[38;5;241m.\u001b[39mFILLED)\n\u001b[0;32m     44\u001b[0m \u001b[38;5;28;01mwhile\u001b[39;00m \u001b[38;5;28;01mTrue\u001b[39;00m:\n\u001b[1;32m---> 45\u001b[0m     cv2\u001b[38;5;241m.\u001b[39mline(img, (point_x[\u001b[43ma\u001b[49m\u001b[38;5;241m-\u001b[39m\u001b[38;5;241m2\u001b[39m], point_y[a\u001b[38;5;241m-\u001b[39m\u001b[38;5;241m2\u001b[39m]), (x,y), (\u001b[38;5;241m255\u001b[39m,\u001b[38;5;241m0\u001b[39m,\u001b[38;5;241m0\u001b[39m),\u001b[38;5;241m1\u001b[39m,cv2\u001b[38;5;241m.\u001b[39mLINE_AA)    \u001b[38;5;66;03m# 파일, 시작점, 끝점, 색깔, 두께, 옵션\u001b[39;00m\n\u001b[0;32m     47\u001b[0m     \u001b[38;5;28;01mif\u001b[39;00m event \u001b[38;5;241m==\u001b[39m cv2\u001b[38;5;241m.\u001b[39mEVENT_LBUTTONDOWN:\n\u001b[0;32m     48\u001b[0m         \u001b[38;5;28;01mbreak\u001b[39;00m\n",
      "\u001b[1;31mUnboundLocalError\u001b[0m: cannot access local variable 'a' where it is not associated with a value"
     ]
    },
    {
     "ename": "UnboundLocalError",
     "evalue": "cannot access local variable 'a' where it is not associated with a value",
     "output_type": "error",
     "traceback": [
      "\u001b[1;31m---------------------------------------------------------------------------\u001b[0m",
      "\u001b[1;31mUnboundLocalError\u001b[0m                         Traceback (most recent call last)",
      "Cell \u001b[1;32mIn[38], line 45\u001b[0m, in \u001b[0;36monMouse\u001b[1;34m(event, x, y, flags, _)\u001b[0m\n\u001b[0;32m     42\u001b[0m     cv2\u001b[38;5;241m.\u001b[39mcircle(img, (x,y), \u001b[38;5;241m3\u001b[39m, (\u001b[38;5;241m255\u001b[39m,\u001b[38;5;241m0\u001b[39m,\u001b[38;5;241m0\u001b[39m), cv2\u001b[38;5;241m.\u001b[39mFILLED)\n\u001b[0;32m     44\u001b[0m \u001b[38;5;28;01mwhile\u001b[39;00m \u001b[38;5;28;01mTrue\u001b[39;00m:\n\u001b[1;32m---> 45\u001b[0m     cv2\u001b[38;5;241m.\u001b[39mline(img, (point_x[\u001b[43ma\u001b[49m\u001b[38;5;241m-\u001b[39m\u001b[38;5;241m2\u001b[39m], point_y[a\u001b[38;5;241m-\u001b[39m\u001b[38;5;241m2\u001b[39m]), (x,y), (\u001b[38;5;241m255\u001b[39m,\u001b[38;5;241m0\u001b[39m,\u001b[38;5;241m0\u001b[39m),\u001b[38;5;241m1\u001b[39m,cv2\u001b[38;5;241m.\u001b[39mLINE_AA)    \u001b[38;5;66;03m# 파일, 시작점, 끝점, 색깔, 두께, 옵션\u001b[39;00m\n\u001b[0;32m     47\u001b[0m     \u001b[38;5;28;01mif\u001b[39;00m event \u001b[38;5;241m==\u001b[39m cv2\u001b[38;5;241m.\u001b[39mEVENT_LBUTTONDOWN:\n\u001b[0;32m     48\u001b[0m         \u001b[38;5;28;01mbreak\u001b[39;00m\n",
      "\u001b[1;31mUnboundLocalError\u001b[0m: cannot access local variable 'a' where it is not associated with a value"
     ]
    },
    {
     "ename": "UnboundLocalError",
     "evalue": "cannot access local variable 'a' where it is not associated with a value",
     "output_type": "error",
     "traceback": [
      "\u001b[1;31m---------------------------------------------------------------------------\u001b[0m",
      "\u001b[1;31mUnboundLocalError\u001b[0m                         Traceback (most recent call last)",
      "Cell \u001b[1;32mIn[38], line 45\u001b[0m, in \u001b[0;36monMouse\u001b[1;34m(event, x, y, flags, _)\u001b[0m\n\u001b[0;32m     42\u001b[0m     cv2\u001b[38;5;241m.\u001b[39mcircle(img, (x,y), \u001b[38;5;241m3\u001b[39m, (\u001b[38;5;241m255\u001b[39m,\u001b[38;5;241m0\u001b[39m,\u001b[38;5;241m0\u001b[39m), cv2\u001b[38;5;241m.\u001b[39mFILLED)\n\u001b[0;32m     44\u001b[0m \u001b[38;5;28;01mwhile\u001b[39;00m \u001b[38;5;28;01mTrue\u001b[39;00m:\n\u001b[1;32m---> 45\u001b[0m     cv2\u001b[38;5;241m.\u001b[39mline(img, (point_x[\u001b[43ma\u001b[49m\u001b[38;5;241m-\u001b[39m\u001b[38;5;241m2\u001b[39m], point_y[a\u001b[38;5;241m-\u001b[39m\u001b[38;5;241m2\u001b[39m]), (x,y), (\u001b[38;5;241m255\u001b[39m,\u001b[38;5;241m0\u001b[39m,\u001b[38;5;241m0\u001b[39m),\u001b[38;5;241m1\u001b[39m,cv2\u001b[38;5;241m.\u001b[39mLINE_AA)    \u001b[38;5;66;03m# 파일, 시작점, 끝점, 색깔, 두께, 옵션\u001b[39;00m\n\u001b[0;32m     47\u001b[0m     \u001b[38;5;28;01mif\u001b[39;00m event \u001b[38;5;241m==\u001b[39m cv2\u001b[38;5;241m.\u001b[39mEVENT_LBUTTONDOWN:\n\u001b[0;32m     48\u001b[0m         \u001b[38;5;28;01mbreak\u001b[39;00m\n",
      "\u001b[1;31mUnboundLocalError\u001b[0m: cannot access local variable 'a' where it is not associated with a value"
     ]
    },
    {
     "ename": "UnboundLocalError",
     "evalue": "cannot access local variable 'a' where it is not associated with a value",
     "output_type": "error",
     "traceback": [
      "\u001b[1;31m---------------------------------------------------------------------------\u001b[0m",
      "\u001b[1;31mUnboundLocalError\u001b[0m                         Traceback (most recent call last)",
      "Cell \u001b[1;32mIn[38], line 45\u001b[0m, in \u001b[0;36monMouse\u001b[1;34m(event, x, y, flags, _)\u001b[0m\n\u001b[0;32m     42\u001b[0m     cv2\u001b[38;5;241m.\u001b[39mcircle(img, (x,y), \u001b[38;5;241m3\u001b[39m, (\u001b[38;5;241m255\u001b[39m,\u001b[38;5;241m0\u001b[39m,\u001b[38;5;241m0\u001b[39m), cv2\u001b[38;5;241m.\u001b[39mFILLED)\n\u001b[0;32m     44\u001b[0m \u001b[38;5;28;01mwhile\u001b[39;00m \u001b[38;5;28;01mTrue\u001b[39;00m:\n\u001b[1;32m---> 45\u001b[0m     cv2\u001b[38;5;241m.\u001b[39mline(img, (point_x[\u001b[43ma\u001b[49m\u001b[38;5;241m-\u001b[39m\u001b[38;5;241m2\u001b[39m], point_y[a\u001b[38;5;241m-\u001b[39m\u001b[38;5;241m2\u001b[39m]), (x,y), (\u001b[38;5;241m255\u001b[39m,\u001b[38;5;241m0\u001b[39m,\u001b[38;5;241m0\u001b[39m),\u001b[38;5;241m1\u001b[39m,cv2\u001b[38;5;241m.\u001b[39mLINE_AA)    \u001b[38;5;66;03m# 파일, 시작점, 끝점, 색깔, 두께, 옵션\u001b[39;00m\n\u001b[0;32m     47\u001b[0m     \u001b[38;5;28;01mif\u001b[39;00m event \u001b[38;5;241m==\u001b[39m cv2\u001b[38;5;241m.\u001b[39mEVENT_LBUTTONDOWN:\n\u001b[0;32m     48\u001b[0m         \u001b[38;5;28;01mbreak\u001b[39;00m\n",
      "\u001b[1;31mUnboundLocalError\u001b[0m: cannot access local variable 'a' where it is not associated with a value"
     ]
    },
    {
     "ename": "UnboundLocalError",
     "evalue": "cannot access local variable 'a' where it is not associated with a value",
     "output_type": "error",
     "traceback": [
      "\u001b[1;31m---------------------------------------------------------------------------\u001b[0m",
      "\u001b[1;31mUnboundLocalError\u001b[0m                         Traceback (most recent call last)",
      "Cell \u001b[1;32mIn[38], line 45\u001b[0m, in \u001b[0;36monMouse\u001b[1;34m(event, x, y, flags, _)\u001b[0m\n\u001b[0;32m     42\u001b[0m     cv2\u001b[38;5;241m.\u001b[39mcircle(img, (x,y), \u001b[38;5;241m3\u001b[39m, (\u001b[38;5;241m255\u001b[39m,\u001b[38;5;241m0\u001b[39m,\u001b[38;5;241m0\u001b[39m), cv2\u001b[38;5;241m.\u001b[39mFILLED)\n\u001b[0;32m     44\u001b[0m \u001b[38;5;28;01mwhile\u001b[39;00m \u001b[38;5;28;01mTrue\u001b[39;00m:\n\u001b[1;32m---> 45\u001b[0m     cv2\u001b[38;5;241m.\u001b[39mline(img, (point_x[\u001b[43ma\u001b[49m\u001b[38;5;241m-\u001b[39m\u001b[38;5;241m2\u001b[39m], point_y[a\u001b[38;5;241m-\u001b[39m\u001b[38;5;241m2\u001b[39m]), (x,y), (\u001b[38;5;241m255\u001b[39m,\u001b[38;5;241m0\u001b[39m,\u001b[38;5;241m0\u001b[39m),\u001b[38;5;241m1\u001b[39m,cv2\u001b[38;5;241m.\u001b[39mLINE_AA)    \u001b[38;5;66;03m# 파일, 시작점, 끝점, 색깔, 두께, 옵션\u001b[39;00m\n\u001b[0;32m     47\u001b[0m     \u001b[38;5;28;01mif\u001b[39;00m event \u001b[38;5;241m==\u001b[39m cv2\u001b[38;5;241m.\u001b[39mEVENT_LBUTTONDOWN:\n\u001b[0;32m     48\u001b[0m         \u001b[38;5;28;01mbreak\u001b[39;00m\n",
      "\u001b[1;31mUnboundLocalError\u001b[0m: cannot access local variable 'a' where it is not associated with a value"
     ]
    },
    {
     "ename": "UnboundLocalError",
     "evalue": "cannot access local variable 'a' where it is not associated with a value",
     "output_type": "error",
     "traceback": [
      "\u001b[1;31m---------------------------------------------------------------------------\u001b[0m",
      "\u001b[1;31mUnboundLocalError\u001b[0m                         Traceback (most recent call last)",
      "Cell \u001b[1;32mIn[38], line 45\u001b[0m, in \u001b[0;36monMouse\u001b[1;34m(event, x, y, flags, _)\u001b[0m\n\u001b[0;32m     42\u001b[0m     cv2\u001b[38;5;241m.\u001b[39mcircle(img, (x,y), \u001b[38;5;241m3\u001b[39m, (\u001b[38;5;241m255\u001b[39m,\u001b[38;5;241m0\u001b[39m,\u001b[38;5;241m0\u001b[39m), cv2\u001b[38;5;241m.\u001b[39mFILLED)\n\u001b[0;32m     44\u001b[0m \u001b[38;5;28;01mwhile\u001b[39;00m \u001b[38;5;28;01mTrue\u001b[39;00m:\n\u001b[1;32m---> 45\u001b[0m     cv2\u001b[38;5;241m.\u001b[39mline(img, (point_x[\u001b[43ma\u001b[49m\u001b[38;5;241m-\u001b[39m\u001b[38;5;241m2\u001b[39m], point_y[a\u001b[38;5;241m-\u001b[39m\u001b[38;5;241m2\u001b[39m]), (x,y), (\u001b[38;5;241m255\u001b[39m,\u001b[38;5;241m0\u001b[39m,\u001b[38;5;241m0\u001b[39m),\u001b[38;5;241m1\u001b[39m,cv2\u001b[38;5;241m.\u001b[39mLINE_AA)    \u001b[38;5;66;03m# 파일, 시작점, 끝점, 색깔, 두께, 옵션\u001b[39;00m\n\u001b[0;32m     47\u001b[0m     \u001b[38;5;28;01mif\u001b[39;00m event \u001b[38;5;241m==\u001b[39m cv2\u001b[38;5;241m.\u001b[39mEVENT_LBUTTONDOWN:\n\u001b[0;32m     48\u001b[0m         \u001b[38;5;28;01mbreak\u001b[39;00m\n",
      "\u001b[1;31mUnboundLocalError\u001b[0m: cannot access local variable 'a' where it is not associated with a value"
     ]
    },
    {
     "ename": "UnboundLocalError",
     "evalue": "cannot access local variable 'a' where it is not associated with a value",
     "output_type": "error",
     "traceback": [
      "\u001b[1;31m---------------------------------------------------------------------------\u001b[0m",
      "\u001b[1;31mUnboundLocalError\u001b[0m                         Traceback (most recent call last)",
      "Cell \u001b[1;32mIn[38], line 45\u001b[0m, in \u001b[0;36monMouse\u001b[1;34m(event, x, y, flags, _)\u001b[0m\n\u001b[0;32m     42\u001b[0m     cv2\u001b[38;5;241m.\u001b[39mcircle(img, (x,y), \u001b[38;5;241m3\u001b[39m, (\u001b[38;5;241m255\u001b[39m,\u001b[38;5;241m0\u001b[39m,\u001b[38;5;241m0\u001b[39m), cv2\u001b[38;5;241m.\u001b[39mFILLED)\n\u001b[0;32m     44\u001b[0m \u001b[38;5;28;01mwhile\u001b[39;00m \u001b[38;5;28;01mTrue\u001b[39;00m:\n\u001b[1;32m---> 45\u001b[0m     cv2\u001b[38;5;241m.\u001b[39mline(img, (point_x[\u001b[43ma\u001b[49m\u001b[38;5;241m-\u001b[39m\u001b[38;5;241m2\u001b[39m], point_y[a\u001b[38;5;241m-\u001b[39m\u001b[38;5;241m2\u001b[39m]), (x,y), (\u001b[38;5;241m255\u001b[39m,\u001b[38;5;241m0\u001b[39m,\u001b[38;5;241m0\u001b[39m),\u001b[38;5;241m1\u001b[39m,cv2\u001b[38;5;241m.\u001b[39mLINE_AA)    \u001b[38;5;66;03m# 파일, 시작점, 끝점, 색깔, 두께, 옵션\u001b[39;00m\n\u001b[0;32m     47\u001b[0m     \u001b[38;5;28;01mif\u001b[39;00m event \u001b[38;5;241m==\u001b[39m cv2\u001b[38;5;241m.\u001b[39mEVENT_LBUTTONDOWN:\n\u001b[0;32m     48\u001b[0m         \u001b[38;5;28;01mbreak\u001b[39;00m\n",
      "\u001b[1;31mUnboundLocalError\u001b[0m: cannot access local variable 'a' where it is not associated with a value"
     ]
    },
    {
     "ename": "UnboundLocalError",
     "evalue": "cannot access local variable 'a' where it is not associated with a value",
     "output_type": "error",
     "traceback": [
      "\u001b[1;31m---------------------------------------------------------------------------\u001b[0m",
      "\u001b[1;31mUnboundLocalError\u001b[0m                         Traceback (most recent call last)",
      "Cell \u001b[1;32mIn[38], line 45\u001b[0m, in \u001b[0;36monMouse\u001b[1;34m(event, x, y, flags, _)\u001b[0m\n\u001b[0;32m     42\u001b[0m     cv2\u001b[38;5;241m.\u001b[39mcircle(img, (x,y), \u001b[38;5;241m3\u001b[39m, (\u001b[38;5;241m255\u001b[39m,\u001b[38;5;241m0\u001b[39m,\u001b[38;5;241m0\u001b[39m), cv2\u001b[38;5;241m.\u001b[39mFILLED)\n\u001b[0;32m     44\u001b[0m \u001b[38;5;28;01mwhile\u001b[39;00m \u001b[38;5;28;01mTrue\u001b[39;00m:\n\u001b[1;32m---> 45\u001b[0m     cv2\u001b[38;5;241m.\u001b[39mline(img, (point_x[\u001b[43ma\u001b[49m\u001b[38;5;241m-\u001b[39m\u001b[38;5;241m2\u001b[39m], point_y[a\u001b[38;5;241m-\u001b[39m\u001b[38;5;241m2\u001b[39m]), (x,y), (\u001b[38;5;241m255\u001b[39m,\u001b[38;5;241m0\u001b[39m,\u001b[38;5;241m0\u001b[39m),\u001b[38;5;241m1\u001b[39m,cv2\u001b[38;5;241m.\u001b[39mLINE_AA)    \u001b[38;5;66;03m# 파일, 시작점, 끝점, 색깔, 두께, 옵션\u001b[39;00m\n\u001b[0;32m     47\u001b[0m     \u001b[38;5;28;01mif\u001b[39;00m event \u001b[38;5;241m==\u001b[39m cv2\u001b[38;5;241m.\u001b[39mEVENT_LBUTTONDOWN:\n\u001b[0;32m     48\u001b[0m         \u001b[38;5;28;01mbreak\u001b[39;00m\n",
      "\u001b[1;31mUnboundLocalError\u001b[0m: cannot access local variable 'a' where it is not associated with a value"
     ]
    },
    {
     "ename": "UnboundLocalError",
     "evalue": "cannot access local variable 'a' where it is not associated with a value",
     "output_type": "error",
     "traceback": [
      "\u001b[1;31m---------------------------------------------------------------------------\u001b[0m",
      "\u001b[1;31mUnboundLocalError\u001b[0m                         Traceback (most recent call last)",
      "Cell \u001b[1;32mIn[38], line 45\u001b[0m, in \u001b[0;36monMouse\u001b[1;34m(event, x, y, flags, _)\u001b[0m\n\u001b[0;32m     42\u001b[0m     cv2\u001b[38;5;241m.\u001b[39mcircle(img, (x,y), \u001b[38;5;241m3\u001b[39m, (\u001b[38;5;241m255\u001b[39m,\u001b[38;5;241m0\u001b[39m,\u001b[38;5;241m0\u001b[39m), cv2\u001b[38;5;241m.\u001b[39mFILLED)\n\u001b[0;32m     44\u001b[0m \u001b[38;5;28;01mwhile\u001b[39;00m \u001b[38;5;28;01mTrue\u001b[39;00m:\n\u001b[1;32m---> 45\u001b[0m     cv2\u001b[38;5;241m.\u001b[39mline(img, (point_x[\u001b[43ma\u001b[49m\u001b[38;5;241m-\u001b[39m\u001b[38;5;241m2\u001b[39m], point_y[a\u001b[38;5;241m-\u001b[39m\u001b[38;5;241m2\u001b[39m]), (x,y), (\u001b[38;5;241m255\u001b[39m,\u001b[38;5;241m0\u001b[39m,\u001b[38;5;241m0\u001b[39m),\u001b[38;5;241m1\u001b[39m,cv2\u001b[38;5;241m.\u001b[39mLINE_AA)    \u001b[38;5;66;03m# 파일, 시작점, 끝점, 색깔, 두께, 옵션\u001b[39;00m\n\u001b[0;32m     47\u001b[0m     \u001b[38;5;28;01mif\u001b[39;00m event \u001b[38;5;241m==\u001b[39m cv2\u001b[38;5;241m.\u001b[39mEVENT_LBUTTONDOWN:\n\u001b[0;32m     48\u001b[0m         \u001b[38;5;28;01mbreak\u001b[39;00m\n",
      "\u001b[1;31mUnboundLocalError\u001b[0m: cannot access local variable 'a' where it is not associated with a value"
     ]
    },
    {
     "ename": "UnboundLocalError",
     "evalue": "cannot access local variable 'a' where it is not associated with a value",
     "output_type": "error",
     "traceback": [
      "\u001b[1;31m---------------------------------------------------------------------------\u001b[0m",
      "\u001b[1;31mUnboundLocalError\u001b[0m                         Traceback (most recent call last)",
      "Cell \u001b[1;32mIn[38], line 45\u001b[0m, in \u001b[0;36monMouse\u001b[1;34m(event, x, y, flags, _)\u001b[0m\n\u001b[0;32m     42\u001b[0m     cv2\u001b[38;5;241m.\u001b[39mcircle(img, (x,y), \u001b[38;5;241m3\u001b[39m, (\u001b[38;5;241m255\u001b[39m,\u001b[38;5;241m0\u001b[39m,\u001b[38;5;241m0\u001b[39m), cv2\u001b[38;5;241m.\u001b[39mFILLED)\n\u001b[0;32m     44\u001b[0m \u001b[38;5;28;01mwhile\u001b[39;00m \u001b[38;5;28;01mTrue\u001b[39;00m:\n\u001b[1;32m---> 45\u001b[0m     cv2\u001b[38;5;241m.\u001b[39mline(img, (point_x[\u001b[43ma\u001b[49m\u001b[38;5;241m-\u001b[39m\u001b[38;5;241m2\u001b[39m], point_y[a\u001b[38;5;241m-\u001b[39m\u001b[38;5;241m2\u001b[39m]), (x,y), (\u001b[38;5;241m255\u001b[39m,\u001b[38;5;241m0\u001b[39m,\u001b[38;5;241m0\u001b[39m),\u001b[38;5;241m1\u001b[39m,cv2\u001b[38;5;241m.\u001b[39mLINE_AA)    \u001b[38;5;66;03m# 파일, 시작점, 끝점, 색깔, 두께, 옵션\u001b[39;00m\n\u001b[0;32m     47\u001b[0m     \u001b[38;5;28;01mif\u001b[39;00m event \u001b[38;5;241m==\u001b[39m cv2\u001b[38;5;241m.\u001b[39mEVENT_LBUTTONDOWN:\n\u001b[0;32m     48\u001b[0m         \u001b[38;5;28;01mbreak\u001b[39;00m\n",
      "\u001b[1;31mUnboundLocalError\u001b[0m: cannot access local variable 'a' where it is not associated with a value"
     ]
    },
    {
     "ename": "UnboundLocalError",
     "evalue": "cannot access local variable 'a' where it is not associated with a value",
     "output_type": "error",
     "traceback": [
      "\u001b[1;31m---------------------------------------------------------------------------\u001b[0m",
      "\u001b[1;31mUnboundLocalError\u001b[0m                         Traceback (most recent call last)",
      "Cell \u001b[1;32mIn[38], line 45\u001b[0m, in \u001b[0;36monMouse\u001b[1;34m(event, x, y, flags, _)\u001b[0m\n\u001b[0;32m     42\u001b[0m     cv2\u001b[38;5;241m.\u001b[39mcircle(img, (x,y), \u001b[38;5;241m3\u001b[39m, (\u001b[38;5;241m255\u001b[39m,\u001b[38;5;241m0\u001b[39m,\u001b[38;5;241m0\u001b[39m), cv2\u001b[38;5;241m.\u001b[39mFILLED)\n\u001b[0;32m     44\u001b[0m \u001b[38;5;28;01mwhile\u001b[39;00m \u001b[38;5;28;01mTrue\u001b[39;00m:\n\u001b[1;32m---> 45\u001b[0m     cv2\u001b[38;5;241m.\u001b[39mline(img, (point_x[\u001b[43ma\u001b[49m\u001b[38;5;241m-\u001b[39m\u001b[38;5;241m2\u001b[39m], point_y[a\u001b[38;5;241m-\u001b[39m\u001b[38;5;241m2\u001b[39m]), (x,y), (\u001b[38;5;241m255\u001b[39m,\u001b[38;5;241m0\u001b[39m,\u001b[38;5;241m0\u001b[39m),\u001b[38;5;241m1\u001b[39m,cv2\u001b[38;5;241m.\u001b[39mLINE_AA)    \u001b[38;5;66;03m# 파일, 시작점, 끝점, 색깔, 두께, 옵션\u001b[39;00m\n\u001b[0;32m     47\u001b[0m     \u001b[38;5;28;01mif\u001b[39;00m event \u001b[38;5;241m==\u001b[39m cv2\u001b[38;5;241m.\u001b[39mEVENT_LBUTTONDOWN:\n\u001b[0;32m     48\u001b[0m         \u001b[38;5;28;01mbreak\u001b[39;00m\n",
      "\u001b[1;31mUnboundLocalError\u001b[0m: cannot access local variable 'a' where it is not associated with a value"
     ]
    },
    {
     "ename": "UnboundLocalError",
     "evalue": "cannot access local variable 'a' where it is not associated with a value",
     "output_type": "error",
     "traceback": [
      "\u001b[1;31m---------------------------------------------------------------------------\u001b[0m",
      "\u001b[1;31mUnboundLocalError\u001b[0m                         Traceback (most recent call last)",
      "Cell \u001b[1;32mIn[38], line 45\u001b[0m, in \u001b[0;36monMouse\u001b[1;34m(event, x, y, flags, _)\u001b[0m\n\u001b[0;32m     42\u001b[0m     cv2\u001b[38;5;241m.\u001b[39mcircle(img, (x,y), \u001b[38;5;241m3\u001b[39m, (\u001b[38;5;241m255\u001b[39m,\u001b[38;5;241m0\u001b[39m,\u001b[38;5;241m0\u001b[39m), cv2\u001b[38;5;241m.\u001b[39mFILLED)\n\u001b[0;32m     44\u001b[0m \u001b[38;5;28;01mwhile\u001b[39;00m \u001b[38;5;28;01mTrue\u001b[39;00m:\n\u001b[1;32m---> 45\u001b[0m     cv2\u001b[38;5;241m.\u001b[39mline(img, (point_x[\u001b[43ma\u001b[49m\u001b[38;5;241m-\u001b[39m\u001b[38;5;241m2\u001b[39m], point_y[a\u001b[38;5;241m-\u001b[39m\u001b[38;5;241m2\u001b[39m]), (x,y), (\u001b[38;5;241m255\u001b[39m,\u001b[38;5;241m0\u001b[39m,\u001b[38;5;241m0\u001b[39m),\u001b[38;5;241m1\u001b[39m,cv2\u001b[38;5;241m.\u001b[39mLINE_AA)    \u001b[38;5;66;03m# 파일, 시작점, 끝점, 색깔, 두께, 옵션\u001b[39;00m\n\u001b[0;32m     47\u001b[0m     \u001b[38;5;28;01mif\u001b[39;00m event \u001b[38;5;241m==\u001b[39m cv2\u001b[38;5;241m.\u001b[39mEVENT_LBUTTONDOWN:\n\u001b[0;32m     48\u001b[0m         \u001b[38;5;28;01mbreak\u001b[39;00m\n",
      "\u001b[1;31mUnboundLocalError\u001b[0m: cannot access local variable 'a' where it is not associated with a value"
     ]
    },
    {
     "ename": "UnboundLocalError",
     "evalue": "cannot access local variable 'a' where it is not associated with a value",
     "output_type": "error",
     "traceback": [
      "\u001b[1;31m---------------------------------------------------------------------------\u001b[0m",
      "\u001b[1;31mUnboundLocalError\u001b[0m                         Traceback (most recent call last)",
      "Cell \u001b[1;32mIn[38], line 45\u001b[0m, in \u001b[0;36monMouse\u001b[1;34m(event, x, y, flags, _)\u001b[0m\n\u001b[0;32m     42\u001b[0m     cv2\u001b[38;5;241m.\u001b[39mcircle(img, (x,y), \u001b[38;5;241m3\u001b[39m, (\u001b[38;5;241m255\u001b[39m,\u001b[38;5;241m0\u001b[39m,\u001b[38;5;241m0\u001b[39m), cv2\u001b[38;5;241m.\u001b[39mFILLED)\n\u001b[0;32m     44\u001b[0m \u001b[38;5;28;01mwhile\u001b[39;00m \u001b[38;5;28;01mTrue\u001b[39;00m:\n\u001b[1;32m---> 45\u001b[0m     cv2\u001b[38;5;241m.\u001b[39mline(img, (point_x[\u001b[43ma\u001b[49m\u001b[38;5;241m-\u001b[39m\u001b[38;5;241m2\u001b[39m], point_y[a\u001b[38;5;241m-\u001b[39m\u001b[38;5;241m2\u001b[39m]), (x,y), (\u001b[38;5;241m255\u001b[39m,\u001b[38;5;241m0\u001b[39m,\u001b[38;5;241m0\u001b[39m),\u001b[38;5;241m1\u001b[39m,cv2\u001b[38;5;241m.\u001b[39mLINE_AA)    \u001b[38;5;66;03m# 파일, 시작점, 끝점, 색깔, 두께, 옵션\u001b[39;00m\n\u001b[0;32m     47\u001b[0m     \u001b[38;5;28;01mif\u001b[39;00m event \u001b[38;5;241m==\u001b[39m cv2\u001b[38;5;241m.\u001b[39mEVENT_LBUTTONDOWN:\n\u001b[0;32m     48\u001b[0m         \u001b[38;5;28;01mbreak\u001b[39;00m\n",
      "\u001b[1;31mUnboundLocalError\u001b[0m: cannot access local variable 'a' where it is not associated with a value"
     ]
    },
    {
     "ename": "UnboundLocalError",
     "evalue": "cannot access local variable 'a' where it is not associated with a value",
     "output_type": "error",
     "traceback": [
      "\u001b[1;31m---------------------------------------------------------------------------\u001b[0m",
      "\u001b[1;31mUnboundLocalError\u001b[0m                         Traceback (most recent call last)",
      "Cell \u001b[1;32mIn[38], line 45\u001b[0m, in \u001b[0;36monMouse\u001b[1;34m(event, x, y, flags, _)\u001b[0m\n\u001b[0;32m     42\u001b[0m     cv2\u001b[38;5;241m.\u001b[39mcircle(img, (x,y), \u001b[38;5;241m3\u001b[39m, (\u001b[38;5;241m255\u001b[39m,\u001b[38;5;241m0\u001b[39m,\u001b[38;5;241m0\u001b[39m), cv2\u001b[38;5;241m.\u001b[39mFILLED)\n\u001b[0;32m     44\u001b[0m \u001b[38;5;28;01mwhile\u001b[39;00m \u001b[38;5;28;01mTrue\u001b[39;00m:\n\u001b[1;32m---> 45\u001b[0m     cv2\u001b[38;5;241m.\u001b[39mline(img, (point_x[\u001b[43ma\u001b[49m\u001b[38;5;241m-\u001b[39m\u001b[38;5;241m2\u001b[39m], point_y[a\u001b[38;5;241m-\u001b[39m\u001b[38;5;241m2\u001b[39m]), (x,y), (\u001b[38;5;241m255\u001b[39m,\u001b[38;5;241m0\u001b[39m,\u001b[38;5;241m0\u001b[39m),\u001b[38;5;241m1\u001b[39m,cv2\u001b[38;5;241m.\u001b[39mLINE_AA)    \u001b[38;5;66;03m# 파일, 시작점, 끝점, 색깔, 두께, 옵션\u001b[39;00m\n\u001b[0;32m     47\u001b[0m     \u001b[38;5;28;01mif\u001b[39;00m event \u001b[38;5;241m==\u001b[39m cv2\u001b[38;5;241m.\u001b[39mEVENT_LBUTTONDOWN:\n\u001b[0;32m     48\u001b[0m         \u001b[38;5;28;01mbreak\u001b[39;00m\n",
      "\u001b[1;31mUnboundLocalError\u001b[0m: cannot access local variable 'a' where it is not associated with a value"
     ]
    },
    {
     "ename": "UnboundLocalError",
     "evalue": "cannot access local variable 'a' where it is not associated with a value",
     "output_type": "error",
     "traceback": [
      "\u001b[1;31m---------------------------------------------------------------------------\u001b[0m",
      "\u001b[1;31mUnboundLocalError\u001b[0m                         Traceback (most recent call last)",
      "Cell \u001b[1;32mIn[38], line 45\u001b[0m, in \u001b[0;36monMouse\u001b[1;34m(event, x, y, flags, _)\u001b[0m\n\u001b[0;32m     42\u001b[0m     cv2\u001b[38;5;241m.\u001b[39mcircle(img, (x,y), \u001b[38;5;241m3\u001b[39m, (\u001b[38;5;241m255\u001b[39m,\u001b[38;5;241m0\u001b[39m,\u001b[38;5;241m0\u001b[39m), cv2\u001b[38;5;241m.\u001b[39mFILLED)\n\u001b[0;32m     44\u001b[0m \u001b[38;5;28;01mwhile\u001b[39;00m \u001b[38;5;28;01mTrue\u001b[39;00m:\n\u001b[1;32m---> 45\u001b[0m     cv2\u001b[38;5;241m.\u001b[39mline(img, (point_x[\u001b[43ma\u001b[49m\u001b[38;5;241m-\u001b[39m\u001b[38;5;241m2\u001b[39m], point_y[a\u001b[38;5;241m-\u001b[39m\u001b[38;5;241m2\u001b[39m]), (x,y), (\u001b[38;5;241m255\u001b[39m,\u001b[38;5;241m0\u001b[39m,\u001b[38;5;241m0\u001b[39m),\u001b[38;5;241m1\u001b[39m,cv2\u001b[38;5;241m.\u001b[39mLINE_AA)    \u001b[38;5;66;03m# 파일, 시작점, 끝점, 색깔, 두께, 옵션\u001b[39;00m\n\u001b[0;32m     47\u001b[0m     \u001b[38;5;28;01mif\u001b[39;00m event \u001b[38;5;241m==\u001b[39m cv2\u001b[38;5;241m.\u001b[39mEVENT_LBUTTONDOWN:\n\u001b[0;32m     48\u001b[0m         \u001b[38;5;28;01mbreak\u001b[39;00m\n",
      "\u001b[1;31mUnboundLocalError\u001b[0m: cannot access local variable 'a' where it is not associated with a value"
     ]
    },
    {
     "ename": "UnboundLocalError",
     "evalue": "cannot access local variable 'a' where it is not associated with a value",
     "output_type": "error",
     "traceback": [
      "\u001b[1;31m---------------------------------------------------------------------------\u001b[0m",
      "\u001b[1;31mUnboundLocalError\u001b[0m                         Traceback (most recent call last)",
      "Cell \u001b[1;32mIn[38], line 45\u001b[0m, in \u001b[0;36monMouse\u001b[1;34m(event, x, y, flags, _)\u001b[0m\n\u001b[0;32m     42\u001b[0m     cv2\u001b[38;5;241m.\u001b[39mcircle(img, (x,y), \u001b[38;5;241m3\u001b[39m, (\u001b[38;5;241m255\u001b[39m,\u001b[38;5;241m0\u001b[39m,\u001b[38;5;241m0\u001b[39m), cv2\u001b[38;5;241m.\u001b[39mFILLED)\n\u001b[0;32m     44\u001b[0m \u001b[38;5;28;01mwhile\u001b[39;00m \u001b[38;5;28;01mTrue\u001b[39;00m:\n\u001b[1;32m---> 45\u001b[0m     cv2\u001b[38;5;241m.\u001b[39mline(img, (point_x[\u001b[43ma\u001b[49m\u001b[38;5;241m-\u001b[39m\u001b[38;5;241m2\u001b[39m], point_y[a\u001b[38;5;241m-\u001b[39m\u001b[38;5;241m2\u001b[39m]), (x,y), (\u001b[38;5;241m255\u001b[39m,\u001b[38;5;241m0\u001b[39m,\u001b[38;5;241m0\u001b[39m),\u001b[38;5;241m1\u001b[39m,cv2\u001b[38;5;241m.\u001b[39mLINE_AA)    \u001b[38;5;66;03m# 파일, 시작점, 끝점, 색깔, 두께, 옵션\u001b[39;00m\n\u001b[0;32m     47\u001b[0m     \u001b[38;5;28;01mif\u001b[39;00m event \u001b[38;5;241m==\u001b[39m cv2\u001b[38;5;241m.\u001b[39mEVENT_LBUTTONDOWN:\n\u001b[0;32m     48\u001b[0m         \u001b[38;5;28;01mbreak\u001b[39;00m\n",
      "\u001b[1;31mUnboundLocalError\u001b[0m: cannot access local variable 'a' where it is not associated with a value"
     ]
    },
    {
     "ename": "UnboundLocalError",
     "evalue": "cannot access local variable 'a' where it is not associated with a value",
     "output_type": "error",
     "traceback": [
      "\u001b[1;31m---------------------------------------------------------------------------\u001b[0m",
      "\u001b[1;31mUnboundLocalError\u001b[0m                         Traceback (most recent call last)",
      "Cell \u001b[1;32mIn[38], line 45\u001b[0m, in \u001b[0;36monMouse\u001b[1;34m(event, x, y, flags, _)\u001b[0m\n\u001b[0;32m     42\u001b[0m     cv2\u001b[38;5;241m.\u001b[39mcircle(img, (x,y), \u001b[38;5;241m3\u001b[39m, (\u001b[38;5;241m255\u001b[39m,\u001b[38;5;241m0\u001b[39m,\u001b[38;5;241m0\u001b[39m), cv2\u001b[38;5;241m.\u001b[39mFILLED)\n\u001b[0;32m     44\u001b[0m \u001b[38;5;28;01mwhile\u001b[39;00m \u001b[38;5;28;01mTrue\u001b[39;00m:\n\u001b[1;32m---> 45\u001b[0m     cv2\u001b[38;5;241m.\u001b[39mline(img, (point_x[\u001b[43ma\u001b[49m\u001b[38;5;241m-\u001b[39m\u001b[38;5;241m2\u001b[39m], point_y[a\u001b[38;5;241m-\u001b[39m\u001b[38;5;241m2\u001b[39m]), (x,y), (\u001b[38;5;241m255\u001b[39m,\u001b[38;5;241m0\u001b[39m,\u001b[38;5;241m0\u001b[39m),\u001b[38;5;241m1\u001b[39m,cv2\u001b[38;5;241m.\u001b[39mLINE_AA)    \u001b[38;5;66;03m# 파일, 시작점, 끝점, 색깔, 두께, 옵션\u001b[39;00m\n\u001b[0;32m     47\u001b[0m     \u001b[38;5;28;01mif\u001b[39;00m event \u001b[38;5;241m==\u001b[39m cv2\u001b[38;5;241m.\u001b[39mEVENT_LBUTTONDOWN:\n\u001b[0;32m     48\u001b[0m         \u001b[38;5;28;01mbreak\u001b[39;00m\n",
      "\u001b[1;31mUnboundLocalError\u001b[0m: cannot access local variable 'a' where it is not associated with a value"
     ]
    },
    {
     "ename": "UnboundLocalError",
     "evalue": "cannot access local variable 'a' where it is not associated with a value",
     "output_type": "error",
     "traceback": [
      "\u001b[1;31m---------------------------------------------------------------------------\u001b[0m",
      "\u001b[1;31mUnboundLocalError\u001b[0m                         Traceback (most recent call last)",
      "Cell \u001b[1;32mIn[38], line 45\u001b[0m, in \u001b[0;36monMouse\u001b[1;34m(event, x, y, flags, _)\u001b[0m\n\u001b[0;32m     42\u001b[0m     cv2\u001b[38;5;241m.\u001b[39mcircle(img, (x,y), \u001b[38;5;241m3\u001b[39m, (\u001b[38;5;241m255\u001b[39m,\u001b[38;5;241m0\u001b[39m,\u001b[38;5;241m0\u001b[39m), cv2\u001b[38;5;241m.\u001b[39mFILLED)\n\u001b[0;32m     44\u001b[0m \u001b[38;5;28;01mwhile\u001b[39;00m \u001b[38;5;28;01mTrue\u001b[39;00m:\n\u001b[1;32m---> 45\u001b[0m     cv2\u001b[38;5;241m.\u001b[39mline(img, (point_x[\u001b[43ma\u001b[49m\u001b[38;5;241m-\u001b[39m\u001b[38;5;241m2\u001b[39m], point_y[a\u001b[38;5;241m-\u001b[39m\u001b[38;5;241m2\u001b[39m]), (x,y), (\u001b[38;5;241m255\u001b[39m,\u001b[38;5;241m0\u001b[39m,\u001b[38;5;241m0\u001b[39m),\u001b[38;5;241m1\u001b[39m,cv2\u001b[38;5;241m.\u001b[39mLINE_AA)    \u001b[38;5;66;03m# 파일, 시작점, 끝점, 색깔, 두께, 옵션\u001b[39;00m\n\u001b[0;32m     47\u001b[0m     \u001b[38;5;28;01mif\u001b[39;00m event \u001b[38;5;241m==\u001b[39m cv2\u001b[38;5;241m.\u001b[39mEVENT_LBUTTONDOWN:\n\u001b[0;32m     48\u001b[0m         \u001b[38;5;28;01mbreak\u001b[39;00m\n",
      "\u001b[1;31mUnboundLocalError\u001b[0m: cannot access local variable 'a' where it is not associated with a value"
     ]
    },
    {
     "ename": "UnboundLocalError",
     "evalue": "cannot access local variable 'a' where it is not associated with a value",
     "output_type": "error",
     "traceback": [
      "\u001b[1;31m---------------------------------------------------------------------------\u001b[0m",
      "\u001b[1;31mUnboundLocalError\u001b[0m                         Traceback (most recent call last)",
      "Cell \u001b[1;32mIn[38], line 45\u001b[0m, in \u001b[0;36monMouse\u001b[1;34m(event, x, y, flags, _)\u001b[0m\n\u001b[0;32m     42\u001b[0m     cv2\u001b[38;5;241m.\u001b[39mcircle(img, (x,y), \u001b[38;5;241m3\u001b[39m, (\u001b[38;5;241m255\u001b[39m,\u001b[38;5;241m0\u001b[39m,\u001b[38;5;241m0\u001b[39m), cv2\u001b[38;5;241m.\u001b[39mFILLED)\n\u001b[0;32m     44\u001b[0m \u001b[38;5;28;01mwhile\u001b[39;00m \u001b[38;5;28;01mTrue\u001b[39;00m:\n\u001b[1;32m---> 45\u001b[0m     cv2\u001b[38;5;241m.\u001b[39mline(img, (point_x[\u001b[43ma\u001b[49m\u001b[38;5;241m-\u001b[39m\u001b[38;5;241m2\u001b[39m], point_y[a\u001b[38;5;241m-\u001b[39m\u001b[38;5;241m2\u001b[39m]), (x,y), (\u001b[38;5;241m255\u001b[39m,\u001b[38;5;241m0\u001b[39m,\u001b[38;5;241m0\u001b[39m),\u001b[38;5;241m1\u001b[39m,cv2\u001b[38;5;241m.\u001b[39mLINE_AA)    \u001b[38;5;66;03m# 파일, 시작점, 끝점, 색깔, 두께, 옵션\u001b[39;00m\n\u001b[0;32m     47\u001b[0m     \u001b[38;5;28;01mif\u001b[39;00m event \u001b[38;5;241m==\u001b[39m cv2\u001b[38;5;241m.\u001b[39mEVENT_LBUTTONDOWN:\n\u001b[0;32m     48\u001b[0m         \u001b[38;5;28;01mbreak\u001b[39;00m\n",
      "\u001b[1;31mUnboundLocalError\u001b[0m: cannot access local variable 'a' where it is not associated with a value"
     ]
    },
    {
     "ename": "UnboundLocalError",
     "evalue": "cannot access local variable 'a' where it is not associated with a value",
     "output_type": "error",
     "traceback": [
      "\u001b[1;31m---------------------------------------------------------------------------\u001b[0m",
      "\u001b[1;31mUnboundLocalError\u001b[0m                         Traceback (most recent call last)",
      "Cell \u001b[1;32mIn[38], line 45\u001b[0m, in \u001b[0;36monMouse\u001b[1;34m(event, x, y, flags, _)\u001b[0m\n\u001b[0;32m     42\u001b[0m     cv2\u001b[38;5;241m.\u001b[39mcircle(img, (x,y), \u001b[38;5;241m3\u001b[39m, (\u001b[38;5;241m255\u001b[39m,\u001b[38;5;241m0\u001b[39m,\u001b[38;5;241m0\u001b[39m), cv2\u001b[38;5;241m.\u001b[39mFILLED)\n\u001b[0;32m     44\u001b[0m \u001b[38;5;28;01mwhile\u001b[39;00m \u001b[38;5;28;01mTrue\u001b[39;00m:\n\u001b[1;32m---> 45\u001b[0m     cv2\u001b[38;5;241m.\u001b[39mline(img, (point_x[\u001b[43ma\u001b[49m\u001b[38;5;241m-\u001b[39m\u001b[38;5;241m2\u001b[39m], point_y[a\u001b[38;5;241m-\u001b[39m\u001b[38;5;241m2\u001b[39m]), (x,y), (\u001b[38;5;241m255\u001b[39m,\u001b[38;5;241m0\u001b[39m,\u001b[38;5;241m0\u001b[39m),\u001b[38;5;241m1\u001b[39m,cv2\u001b[38;5;241m.\u001b[39mLINE_AA)    \u001b[38;5;66;03m# 파일, 시작점, 끝점, 색깔, 두께, 옵션\u001b[39;00m\n\u001b[0;32m     47\u001b[0m     \u001b[38;5;28;01mif\u001b[39;00m event \u001b[38;5;241m==\u001b[39m cv2\u001b[38;5;241m.\u001b[39mEVENT_LBUTTONDOWN:\n\u001b[0;32m     48\u001b[0m         \u001b[38;5;28;01mbreak\u001b[39;00m\n",
      "\u001b[1;31mUnboundLocalError\u001b[0m: cannot access local variable 'a' where it is not associated with a value"
     ]
    },
    {
     "ename": "UnboundLocalError",
     "evalue": "cannot access local variable 'a' where it is not associated with a value",
     "output_type": "error",
     "traceback": [
      "\u001b[1;31m---------------------------------------------------------------------------\u001b[0m",
      "\u001b[1;31mUnboundLocalError\u001b[0m                         Traceback (most recent call last)",
      "Cell \u001b[1;32mIn[38], line 45\u001b[0m, in \u001b[0;36monMouse\u001b[1;34m(event, x, y, flags, _)\u001b[0m\n\u001b[0;32m     42\u001b[0m     cv2\u001b[38;5;241m.\u001b[39mcircle(img, (x,y), \u001b[38;5;241m3\u001b[39m, (\u001b[38;5;241m255\u001b[39m,\u001b[38;5;241m0\u001b[39m,\u001b[38;5;241m0\u001b[39m), cv2\u001b[38;5;241m.\u001b[39mFILLED)\n\u001b[0;32m     44\u001b[0m \u001b[38;5;28;01mwhile\u001b[39;00m \u001b[38;5;28;01mTrue\u001b[39;00m:\n\u001b[1;32m---> 45\u001b[0m     cv2\u001b[38;5;241m.\u001b[39mline(img, (point_x[\u001b[43ma\u001b[49m\u001b[38;5;241m-\u001b[39m\u001b[38;5;241m2\u001b[39m], point_y[a\u001b[38;5;241m-\u001b[39m\u001b[38;5;241m2\u001b[39m]), (x,y), (\u001b[38;5;241m255\u001b[39m,\u001b[38;5;241m0\u001b[39m,\u001b[38;5;241m0\u001b[39m),\u001b[38;5;241m1\u001b[39m,cv2\u001b[38;5;241m.\u001b[39mLINE_AA)    \u001b[38;5;66;03m# 파일, 시작점, 끝점, 색깔, 두께, 옵션\u001b[39;00m\n\u001b[0;32m     47\u001b[0m     \u001b[38;5;28;01mif\u001b[39;00m event \u001b[38;5;241m==\u001b[39m cv2\u001b[38;5;241m.\u001b[39mEVENT_LBUTTONDOWN:\n\u001b[0;32m     48\u001b[0m         \u001b[38;5;28;01mbreak\u001b[39;00m\n",
      "\u001b[1;31mUnboundLocalError\u001b[0m: cannot access local variable 'a' where it is not associated with a value"
     ]
    },
    {
     "ename": "UnboundLocalError",
     "evalue": "cannot access local variable 'a' where it is not associated with a value",
     "output_type": "error",
     "traceback": [
      "\u001b[1;31m---------------------------------------------------------------------------\u001b[0m",
      "\u001b[1;31mUnboundLocalError\u001b[0m                         Traceback (most recent call last)",
      "Cell \u001b[1;32mIn[38], line 45\u001b[0m, in \u001b[0;36monMouse\u001b[1;34m(event, x, y, flags, _)\u001b[0m\n\u001b[0;32m     42\u001b[0m     cv2\u001b[38;5;241m.\u001b[39mcircle(img, (x,y), \u001b[38;5;241m3\u001b[39m, (\u001b[38;5;241m255\u001b[39m,\u001b[38;5;241m0\u001b[39m,\u001b[38;5;241m0\u001b[39m), cv2\u001b[38;5;241m.\u001b[39mFILLED)\n\u001b[0;32m     44\u001b[0m \u001b[38;5;28;01mwhile\u001b[39;00m \u001b[38;5;28;01mTrue\u001b[39;00m:\n\u001b[1;32m---> 45\u001b[0m     cv2\u001b[38;5;241m.\u001b[39mline(img, (point_x[\u001b[43ma\u001b[49m\u001b[38;5;241m-\u001b[39m\u001b[38;5;241m2\u001b[39m], point_y[a\u001b[38;5;241m-\u001b[39m\u001b[38;5;241m2\u001b[39m]), (x,y), (\u001b[38;5;241m255\u001b[39m,\u001b[38;5;241m0\u001b[39m,\u001b[38;5;241m0\u001b[39m),\u001b[38;5;241m1\u001b[39m,cv2\u001b[38;5;241m.\u001b[39mLINE_AA)    \u001b[38;5;66;03m# 파일, 시작점, 끝점, 색깔, 두께, 옵션\u001b[39;00m\n\u001b[0;32m     47\u001b[0m     \u001b[38;5;28;01mif\u001b[39;00m event \u001b[38;5;241m==\u001b[39m cv2\u001b[38;5;241m.\u001b[39mEVENT_LBUTTONDOWN:\n\u001b[0;32m     48\u001b[0m         \u001b[38;5;28;01mbreak\u001b[39;00m\n",
      "\u001b[1;31mUnboundLocalError\u001b[0m: cannot access local variable 'a' where it is not associated with a value"
     ]
    },
    {
     "ename": "UnboundLocalError",
     "evalue": "cannot access local variable 'a' where it is not associated with a value",
     "output_type": "error",
     "traceback": [
      "\u001b[1;31m---------------------------------------------------------------------------\u001b[0m",
      "\u001b[1;31mUnboundLocalError\u001b[0m                         Traceback (most recent call last)",
      "Cell \u001b[1;32mIn[38], line 45\u001b[0m, in \u001b[0;36monMouse\u001b[1;34m(event, x, y, flags, _)\u001b[0m\n\u001b[0;32m     42\u001b[0m     cv2\u001b[38;5;241m.\u001b[39mcircle(img, (x,y), \u001b[38;5;241m3\u001b[39m, (\u001b[38;5;241m255\u001b[39m,\u001b[38;5;241m0\u001b[39m,\u001b[38;5;241m0\u001b[39m), cv2\u001b[38;5;241m.\u001b[39mFILLED)\n\u001b[0;32m     44\u001b[0m \u001b[38;5;28;01mwhile\u001b[39;00m \u001b[38;5;28;01mTrue\u001b[39;00m:\n\u001b[1;32m---> 45\u001b[0m     cv2\u001b[38;5;241m.\u001b[39mline(img, (point_x[\u001b[43ma\u001b[49m\u001b[38;5;241m-\u001b[39m\u001b[38;5;241m2\u001b[39m], point_y[a\u001b[38;5;241m-\u001b[39m\u001b[38;5;241m2\u001b[39m]), (x,y), (\u001b[38;5;241m255\u001b[39m,\u001b[38;5;241m0\u001b[39m,\u001b[38;5;241m0\u001b[39m),\u001b[38;5;241m1\u001b[39m,cv2\u001b[38;5;241m.\u001b[39mLINE_AA)    \u001b[38;5;66;03m# 파일, 시작점, 끝점, 색깔, 두께, 옵션\u001b[39;00m\n\u001b[0;32m     47\u001b[0m     \u001b[38;5;28;01mif\u001b[39;00m event \u001b[38;5;241m==\u001b[39m cv2\u001b[38;5;241m.\u001b[39mEVENT_LBUTTONDOWN:\n\u001b[0;32m     48\u001b[0m         \u001b[38;5;28;01mbreak\u001b[39;00m\n",
      "\u001b[1;31mUnboundLocalError\u001b[0m: cannot access local variable 'a' where it is not associated with a value"
     ]
    },
    {
     "ename": "UnboundLocalError",
     "evalue": "cannot access local variable 'a' where it is not associated with a value",
     "output_type": "error",
     "traceback": [
      "\u001b[1;31m---------------------------------------------------------------------------\u001b[0m",
      "\u001b[1;31mUnboundLocalError\u001b[0m                         Traceback (most recent call last)",
      "Cell \u001b[1;32mIn[38], line 45\u001b[0m, in \u001b[0;36monMouse\u001b[1;34m(event, x, y, flags, _)\u001b[0m\n\u001b[0;32m     42\u001b[0m     cv2\u001b[38;5;241m.\u001b[39mcircle(img, (x,y), \u001b[38;5;241m3\u001b[39m, (\u001b[38;5;241m255\u001b[39m,\u001b[38;5;241m0\u001b[39m,\u001b[38;5;241m0\u001b[39m), cv2\u001b[38;5;241m.\u001b[39mFILLED)\n\u001b[0;32m     44\u001b[0m \u001b[38;5;28;01mwhile\u001b[39;00m \u001b[38;5;28;01mTrue\u001b[39;00m:\n\u001b[1;32m---> 45\u001b[0m     cv2\u001b[38;5;241m.\u001b[39mline(img, (point_x[\u001b[43ma\u001b[49m\u001b[38;5;241m-\u001b[39m\u001b[38;5;241m2\u001b[39m], point_y[a\u001b[38;5;241m-\u001b[39m\u001b[38;5;241m2\u001b[39m]), (x,y), (\u001b[38;5;241m255\u001b[39m,\u001b[38;5;241m0\u001b[39m,\u001b[38;5;241m0\u001b[39m),\u001b[38;5;241m1\u001b[39m,cv2\u001b[38;5;241m.\u001b[39mLINE_AA)    \u001b[38;5;66;03m# 파일, 시작점, 끝점, 색깔, 두께, 옵션\u001b[39;00m\n\u001b[0;32m     47\u001b[0m     \u001b[38;5;28;01mif\u001b[39;00m event \u001b[38;5;241m==\u001b[39m cv2\u001b[38;5;241m.\u001b[39mEVENT_LBUTTONDOWN:\n\u001b[0;32m     48\u001b[0m         \u001b[38;5;28;01mbreak\u001b[39;00m\n",
      "\u001b[1;31mUnboundLocalError\u001b[0m: cannot access local variable 'a' where it is not associated with a value"
     ]
    },
    {
     "ename": "UnboundLocalError",
     "evalue": "cannot access local variable 'a' where it is not associated with a value",
     "output_type": "error",
     "traceback": [
      "\u001b[1;31m---------------------------------------------------------------------------\u001b[0m",
      "\u001b[1;31mUnboundLocalError\u001b[0m                         Traceback (most recent call last)",
      "Cell \u001b[1;32mIn[38], line 45\u001b[0m, in \u001b[0;36monMouse\u001b[1;34m(event, x, y, flags, _)\u001b[0m\n\u001b[0;32m     42\u001b[0m     cv2\u001b[38;5;241m.\u001b[39mcircle(img, (x,y), \u001b[38;5;241m3\u001b[39m, (\u001b[38;5;241m255\u001b[39m,\u001b[38;5;241m0\u001b[39m,\u001b[38;5;241m0\u001b[39m), cv2\u001b[38;5;241m.\u001b[39mFILLED)\n\u001b[0;32m     44\u001b[0m \u001b[38;5;28;01mwhile\u001b[39;00m \u001b[38;5;28;01mTrue\u001b[39;00m:\n\u001b[1;32m---> 45\u001b[0m     cv2\u001b[38;5;241m.\u001b[39mline(img, (point_x[\u001b[43ma\u001b[49m\u001b[38;5;241m-\u001b[39m\u001b[38;5;241m2\u001b[39m], point_y[a\u001b[38;5;241m-\u001b[39m\u001b[38;5;241m2\u001b[39m]), (x,y), (\u001b[38;5;241m255\u001b[39m,\u001b[38;5;241m0\u001b[39m,\u001b[38;5;241m0\u001b[39m),\u001b[38;5;241m1\u001b[39m,cv2\u001b[38;5;241m.\u001b[39mLINE_AA)    \u001b[38;5;66;03m# 파일, 시작점, 끝점, 색깔, 두께, 옵션\u001b[39;00m\n\u001b[0;32m     47\u001b[0m     \u001b[38;5;28;01mif\u001b[39;00m event \u001b[38;5;241m==\u001b[39m cv2\u001b[38;5;241m.\u001b[39mEVENT_LBUTTONDOWN:\n\u001b[0;32m     48\u001b[0m         \u001b[38;5;28;01mbreak\u001b[39;00m\n",
      "\u001b[1;31mUnboundLocalError\u001b[0m: cannot access local variable 'a' where it is not associated with a value"
     ]
    },
    {
     "ename": "UnboundLocalError",
     "evalue": "cannot access local variable 'a' where it is not associated with a value",
     "output_type": "error",
     "traceback": [
      "\u001b[1;31m---------------------------------------------------------------------------\u001b[0m",
      "\u001b[1;31mUnboundLocalError\u001b[0m                         Traceback (most recent call last)",
      "Cell \u001b[1;32mIn[38], line 45\u001b[0m, in \u001b[0;36monMouse\u001b[1;34m(event, x, y, flags, _)\u001b[0m\n\u001b[0;32m     42\u001b[0m     cv2\u001b[38;5;241m.\u001b[39mcircle(img, (x,y), \u001b[38;5;241m3\u001b[39m, (\u001b[38;5;241m255\u001b[39m,\u001b[38;5;241m0\u001b[39m,\u001b[38;5;241m0\u001b[39m), cv2\u001b[38;5;241m.\u001b[39mFILLED)\n\u001b[0;32m     44\u001b[0m \u001b[38;5;28;01mwhile\u001b[39;00m \u001b[38;5;28;01mTrue\u001b[39;00m:\n\u001b[1;32m---> 45\u001b[0m     cv2\u001b[38;5;241m.\u001b[39mline(img, (point_x[\u001b[43ma\u001b[49m\u001b[38;5;241m-\u001b[39m\u001b[38;5;241m2\u001b[39m], point_y[a\u001b[38;5;241m-\u001b[39m\u001b[38;5;241m2\u001b[39m]), (x,y), (\u001b[38;5;241m255\u001b[39m,\u001b[38;5;241m0\u001b[39m,\u001b[38;5;241m0\u001b[39m),\u001b[38;5;241m1\u001b[39m,cv2\u001b[38;5;241m.\u001b[39mLINE_AA)    \u001b[38;5;66;03m# 파일, 시작점, 끝점, 색깔, 두께, 옵션\u001b[39;00m\n\u001b[0;32m     47\u001b[0m     \u001b[38;5;28;01mif\u001b[39;00m event \u001b[38;5;241m==\u001b[39m cv2\u001b[38;5;241m.\u001b[39mEVENT_LBUTTONDOWN:\n\u001b[0;32m     48\u001b[0m         \u001b[38;5;28;01mbreak\u001b[39;00m\n",
      "\u001b[1;31mUnboundLocalError\u001b[0m: cannot access local variable 'a' where it is not associated with a value"
     ]
    },
    {
     "ename": "UnboundLocalError",
     "evalue": "cannot access local variable 'a' where it is not associated with a value",
     "output_type": "error",
     "traceback": [
      "\u001b[1;31m---------------------------------------------------------------------------\u001b[0m",
      "\u001b[1;31mUnboundLocalError\u001b[0m                         Traceback (most recent call last)",
      "Cell \u001b[1;32mIn[38], line 45\u001b[0m, in \u001b[0;36monMouse\u001b[1;34m(event, x, y, flags, _)\u001b[0m\n\u001b[0;32m     42\u001b[0m     cv2\u001b[38;5;241m.\u001b[39mcircle(img, (x,y), \u001b[38;5;241m3\u001b[39m, (\u001b[38;5;241m255\u001b[39m,\u001b[38;5;241m0\u001b[39m,\u001b[38;5;241m0\u001b[39m), cv2\u001b[38;5;241m.\u001b[39mFILLED)\n\u001b[0;32m     44\u001b[0m \u001b[38;5;28;01mwhile\u001b[39;00m \u001b[38;5;28;01mTrue\u001b[39;00m:\n\u001b[1;32m---> 45\u001b[0m     cv2\u001b[38;5;241m.\u001b[39mline(img, (point_x[\u001b[43ma\u001b[49m\u001b[38;5;241m-\u001b[39m\u001b[38;5;241m2\u001b[39m], point_y[a\u001b[38;5;241m-\u001b[39m\u001b[38;5;241m2\u001b[39m]), (x,y), (\u001b[38;5;241m255\u001b[39m,\u001b[38;5;241m0\u001b[39m,\u001b[38;5;241m0\u001b[39m),\u001b[38;5;241m1\u001b[39m,cv2\u001b[38;5;241m.\u001b[39mLINE_AA)    \u001b[38;5;66;03m# 파일, 시작점, 끝점, 색깔, 두께, 옵션\u001b[39;00m\n\u001b[0;32m     47\u001b[0m     \u001b[38;5;28;01mif\u001b[39;00m event \u001b[38;5;241m==\u001b[39m cv2\u001b[38;5;241m.\u001b[39mEVENT_LBUTTONDOWN:\n\u001b[0;32m     48\u001b[0m         \u001b[38;5;28;01mbreak\u001b[39;00m\n",
      "\u001b[1;31mUnboundLocalError\u001b[0m: cannot access local variable 'a' where it is not associated with a value"
     ]
    },
    {
     "ename": "UnboundLocalError",
     "evalue": "cannot access local variable 'a' where it is not associated with a value",
     "output_type": "error",
     "traceback": [
      "\u001b[1;31m---------------------------------------------------------------------------\u001b[0m",
      "\u001b[1;31mUnboundLocalError\u001b[0m                         Traceback (most recent call last)",
      "Cell \u001b[1;32mIn[38], line 45\u001b[0m, in \u001b[0;36monMouse\u001b[1;34m(event, x, y, flags, _)\u001b[0m\n\u001b[0;32m     42\u001b[0m     cv2\u001b[38;5;241m.\u001b[39mcircle(img, (x,y), \u001b[38;5;241m3\u001b[39m, (\u001b[38;5;241m255\u001b[39m,\u001b[38;5;241m0\u001b[39m,\u001b[38;5;241m0\u001b[39m), cv2\u001b[38;5;241m.\u001b[39mFILLED)\n\u001b[0;32m     44\u001b[0m \u001b[38;5;28;01mwhile\u001b[39;00m \u001b[38;5;28;01mTrue\u001b[39;00m:\n\u001b[1;32m---> 45\u001b[0m     cv2\u001b[38;5;241m.\u001b[39mline(img, (point_x[\u001b[43ma\u001b[49m\u001b[38;5;241m-\u001b[39m\u001b[38;5;241m2\u001b[39m], point_y[a\u001b[38;5;241m-\u001b[39m\u001b[38;5;241m2\u001b[39m]), (x,y), (\u001b[38;5;241m255\u001b[39m,\u001b[38;5;241m0\u001b[39m,\u001b[38;5;241m0\u001b[39m),\u001b[38;5;241m1\u001b[39m,cv2\u001b[38;5;241m.\u001b[39mLINE_AA)    \u001b[38;5;66;03m# 파일, 시작점, 끝점, 색깔, 두께, 옵션\u001b[39;00m\n\u001b[0;32m     47\u001b[0m     \u001b[38;5;28;01mif\u001b[39;00m event \u001b[38;5;241m==\u001b[39m cv2\u001b[38;5;241m.\u001b[39mEVENT_LBUTTONDOWN:\n\u001b[0;32m     48\u001b[0m         \u001b[38;5;28;01mbreak\u001b[39;00m\n",
      "\u001b[1;31mUnboundLocalError\u001b[0m: cannot access local variable 'a' where it is not associated with a value"
     ]
    },
    {
     "ename": "UnboundLocalError",
     "evalue": "cannot access local variable 'a' where it is not associated with a value",
     "output_type": "error",
     "traceback": [
      "\u001b[1;31m---------------------------------------------------------------------------\u001b[0m",
      "\u001b[1;31mUnboundLocalError\u001b[0m                         Traceback (most recent call last)",
      "Cell \u001b[1;32mIn[38], line 45\u001b[0m, in \u001b[0;36monMouse\u001b[1;34m(event, x, y, flags, _)\u001b[0m\n\u001b[0;32m     42\u001b[0m     cv2\u001b[38;5;241m.\u001b[39mcircle(img, (x,y), \u001b[38;5;241m3\u001b[39m, (\u001b[38;5;241m255\u001b[39m,\u001b[38;5;241m0\u001b[39m,\u001b[38;5;241m0\u001b[39m), cv2\u001b[38;5;241m.\u001b[39mFILLED)\n\u001b[0;32m     44\u001b[0m \u001b[38;5;28;01mwhile\u001b[39;00m \u001b[38;5;28;01mTrue\u001b[39;00m:\n\u001b[1;32m---> 45\u001b[0m     cv2\u001b[38;5;241m.\u001b[39mline(img, (point_x[\u001b[43ma\u001b[49m\u001b[38;5;241m-\u001b[39m\u001b[38;5;241m2\u001b[39m], point_y[a\u001b[38;5;241m-\u001b[39m\u001b[38;5;241m2\u001b[39m]), (x,y), (\u001b[38;5;241m255\u001b[39m,\u001b[38;5;241m0\u001b[39m,\u001b[38;5;241m0\u001b[39m),\u001b[38;5;241m1\u001b[39m,cv2\u001b[38;5;241m.\u001b[39mLINE_AA)    \u001b[38;5;66;03m# 파일, 시작점, 끝점, 색깔, 두께, 옵션\u001b[39;00m\n\u001b[0;32m     47\u001b[0m     \u001b[38;5;28;01mif\u001b[39;00m event \u001b[38;5;241m==\u001b[39m cv2\u001b[38;5;241m.\u001b[39mEVENT_LBUTTONDOWN:\n\u001b[0;32m     48\u001b[0m         \u001b[38;5;28;01mbreak\u001b[39;00m\n",
      "\u001b[1;31mUnboundLocalError\u001b[0m: cannot access local variable 'a' where it is not associated with a value"
     ]
    },
    {
     "ename": "UnboundLocalError",
     "evalue": "cannot access local variable 'a' where it is not associated with a value",
     "output_type": "error",
     "traceback": [
      "\u001b[1;31m---------------------------------------------------------------------------\u001b[0m",
      "\u001b[1;31mUnboundLocalError\u001b[0m                         Traceback (most recent call last)",
      "Cell \u001b[1;32mIn[38], line 45\u001b[0m, in \u001b[0;36monMouse\u001b[1;34m(event, x, y, flags, _)\u001b[0m\n\u001b[0;32m     42\u001b[0m     cv2\u001b[38;5;241m.\u001b[39mcircle(img, (x,y), \u001b[38;5;241m3\u001b[39m, (\u001b[38;5;241m255\u001b[39m,\u001b[38;5;241m0\u001b[39m,\u001b[38;5;241m0\u001b[39m), cv2\u001b[38;5;241m.\u001b[39mFILLED)\n\u001b[0;32m     44\u001b[0m \u001b[38;5;28;01mwhile\u001b[39;00m \u001b[38;5;28;01mTrue\u001b[39;00m:\n\u001b[1;32m---> 45\u001b[0m     cv2\u001b[38;5;241m.\u001b[39mline(img, (point_x[\u001b[43ma\u001b[49m\u001b[38;5;241m-\u001b[39m\u001b[38;5;241m2\u001b[39m], point_y[a\u001b[38;5;241m-\u001b[39m\u001b[38;5;241m2\u001b[39m]), (x,y), (\u001b[38;5;241m255\u001b[39m,\u001b[38;5;241m0\u001b[39m,\u001b[38;5;241m0\u001b[39m),\u001b[38;5;241m1\u001b[39m,cv2\u001b[38;5;241m.\u001b[39mLINE_AA)    \u001b[38;5;66;03m# 파일, 시작점, 끝점, 색깔, 두께, 옵션\u001b[39;00m\n\u001b[0;32m     47\u001b[0m     \u001b[38;5;28;01mif\u001b[39;00m event \u001b[38;5;241m==\u001b[39m cv2\u001b[38;5;241m.\u001b[39mEVENT_LBUTTONDOWN:\n\u001b[0;32m     48\u001b[0m         \u001b[38;5;28;01mbreak\u001b[39;00m\n",
      "\u001b[1;31mUnboundLocalError\u001b[0m: cannot access local variable 'a' where it is not associated with a value"
     ]
    },
    {
     "ename": "UnboundLocalError",
     "evalue": "cannot access local variable 'a' where it is not associated with a value",
     "output_type": "error",
     "traceback": [
      "\u001b[1;31m---------------------------------------------------------------------------\u001b[0m",
      "\u001b[1;31mUnboundLocalError\u001b[0m                         Traceback (most recent call last)",
      "Cell \u001b[1;32mIn[38], line 45\u001b[0m, in \u001b[0;36monMouse\u001b[1;34m(event, x, y, flags, _)\u001b[0m\n\u001b[0;32m     42\u001b[0m     cv2\u001b[38;5;241m.\u001b[39mcircle(img, (x,y), \u001b[38;5;241m3\u001b[39m, (\u001b[38;5;241m255\u001b[39m,\u001b[38;5;241m0\u001b[39m,\u001b[38;5;241m0\u001b[39m), cv2\u001b[38;5;241m.\u001b[39mFILLED)\n\u001b[0;32m     44\u001b[0m \u001b[38;5;28;01mwhile\u001b[39;00m \u001b[38;5;28;01mTrue\u001b[39;00m:\n\u001b[1;32m---> 45\u001b[0m     cv2\u001b[38;5;241m.\u001b[39mline(img, (point_x[\u001b[43ma\u001b[49m\u001b[38;5;241m-\u001b[39m\u001b[38;5;241m2\u001b[39m], point_y[a\u001b[38;5;241m-\u001b[39m\u001b[38;5;241m2\u001b[39m]), (x,y), (\u001b[38;5;241m255\u001b[39m,\u001b[38;5;241m0\u001b[39m,\u001b[38;5;241m0\u001b[39m),\u001b[38;5;241m1\u001b[39m,cv2\u001b[38;5;241m.\u001b[39mLINE_AA)    \u001b[38;5;66;03m# 파일, 시작점, 끝점, 색깔, 두께, 옵션\u001b[39;00m\n\u001b[0;32m     47\u001b[0m     \u001b[38;5;28;01mif\u001b[39;00m event \u001b[38;5;241m==\u001b[39m cv2\u001b[38;5;241m.\u001b[39mEVENT_LBUTTONDOWN:\n\u001b[0;32m     48\u001b[0m         \u001b[38;5;28;01mbreak\u001b[39;00m\n",
      "\u001b[1;31mUnboundLocalError\u001b[0m: cannot access local variable 'a' where it is not associated with a value"
     ]
    },
    {
     "ename": "UnboundLocalError",
     "evalue": "cannot access local variable 'a' where it is not associated with a value",
     "output_type": "error",
     "traceback": [
      "\u001b[1;31m---------------------------------------------------------------------------\u001b[0m",
      "\u001b[1;31mUnboundLocalError\u001b[0m                         Traceback (most recent call last)",
      "Cell \u001b[1;32mIn[38], line 45\u001b[0m, in \u001b[0;36monMouse\u001b[1;34m(event, x, y, flags, _)\u001b[0m\n\u001b[0;32m     42\u001b[0m     cv2\u001b[38;5;241m.\u001b[39mcircle(img, (x,y), \u001b[38;5;241m3\u001b[39m, (\u001b[38;5;241m255\u001b[39m,\u001b[38;5;241m0\u001b[39m,\u001b[38;5;241m0\u001b[39m), cv2\u001b[38;5;241m.\u001b[39mFILLED)\n\u001b[0;32m     44\u001b[0m \u001b[38;5;28;01mwhile\u001b[39;00m \u001b[38;5;28;01mTrue\u001b[39;00m:\n\u001b[1;32m---> 45\u001b[0m     cv2\u001b[38;5;241m.\u001b[39mline(img, (point_x[\u001b[43ma\u001b[49m\u001b[38;5;241m-\u001b[39m\u001b[38;5;241m2\u001b[39m], point_y[a\u001b[38;5;241m-\u001b[39m\u001b[38;5;241m2\u001b[39m]), (x,y), (\u001b[38;5;241m255\u001b[39m,\u001b[38;5;241m0\u001b[39m,\u001b[38;5;241m0\u001b[39m),\u001b[38;5;241m1\u001b[39m,cv2\u001b[38;5;241m.\u001b[39mLINE_AA)    \u001b[38;5;66;03m# 파일, 시작점, 끝점, 색깔, 두께, 옵션\u001b[39;00m\n\u001b[0;32m     47\u001b[0m     \u001b[38;5;28;01mif\u001b[39;00m event \u001b[38;5;241m==\u001b[39m cv2\u001b[38;5;241m.\u001b[39mEVENT_LBUTTONDOWN:\n\u001b[0;32m     48\u001b[0m         \u001b[38;5;28;01mbreak\u001b[39;00m\n",
      "\u001b[1;31mUnboundLocalError\u001b[0m: cannot access local variable 'a' where it is not associated with a value"
     ]
    },
    {
     "ename": "UnboundLocalError",
     "evalue": "cannot access local variable 'a' where it is not associated with a value",
     "output_type": "error",
     "traceback": [
      "\u001b[1;31m---------------------------------------------------------------------------\u001b[0m",
      "\u001b[1;31mUnboundLocalError\u001b[0m                         Traceback (most recent call last)",
      "Cell \u001b[1;32mIn[38], line 45\u001b[0m, in \u001b[0;36monMouse\u001b[1;34m(event, x, y, flags, _)\u001b[0m\n\u001b[0;32m     42\u001b[0m     cv2\u001b[38;5;241m.\u001b[39mcircle(img, (x,y), \u001b[38;5;241m3\u001b[39m, (\u001b[38;5;241m255\u001b[39m,\u001b[38;5;241m0\u001b[39m,\u001b[38;5;241m0\u001b[39m), cv2\u001b[38;5;241m.\u001b[39mFILLED)\n\u001b[0;32m     44\u001b[0m \u001b[38;5;28;01mwhile\u001b[39;00m \u001b[38;5;28;01mTrue\u001b[39;00m:\n\u001b[1;32m---> 45\u001b[0m     cv2\u001b[38;5;241m.\u001b[39mline(img, (point_x[\u001b[43ma\u001b[49m\u001b[38;5;241m-\u001b[39m\u001b[38;5;241m2\u001b[39m], point_y[a\u001b[38;5;241m-\u001b[39m\u001b[38;5;241m2\u001b[39m]), (x,y), (\u001b[38;5;241m255\u001b[39m,\u001b[38;5;241m0\u001b[39m,\u001b[38;5;241m0\u001b[39m),\u001b[38;5;241m1\u001b[39m,cv2\u001b[38;5;241m.\u001b[39mLINE_AA)    \u001b[38;5;66;03m# 파일, 시작점, 끝점, 색깔, 두께, 옵션\u001b[39;00m\n\u001b[0;32m     47\u001b[0m     \u001b[38;5;28;01mif\u001b[39;00m event \u001b[38;5;241m==\u001b[39m cv2\u001b[38;5;241m.\u001b[39mEVENT_LBUTTONDOWN:\n\u001b[0;32m     48\u001b[0m         \u001b[38;5;28;01mbreak\u001b[39;00m\n",
      "\u001b[1;31mUnboundLocalError\u001b[0m: cannot access local variable 'a' where it is not associated with a value"
     ]
    },
    {
     "ename": "UnboundLocalError",
     "evalue": "cannot access local variable 'a' where it is not associated with a value",
     "output_type": "error",
     "traceback": [
      "\u001b[1;31m---------------------------------------------------------------------------\u001b[0m",
      "\u001b[1;31mUnboundLocalError\u001b[0m                         Traceback (most recent call last)",
      "Cell \u001b[1;32mIn[38], line 45\u001b[0m, in \u001b[0;36monMouse\u001b[1;34m(event, x, y, flags, _)\u001b[0m\n\u001b[0;32m     42\u001b[0m     cv2\u001b[38;5;241m.\u001b[39mcircle(img, (x,y), \u001b[38;5;241m3\u001b[39m, (\u001b[38;5;241m255\u001b[39m,\u001b[38;5;241m0\u001b[39m,\u001b[38;5;241m0\u001b[39m), cv2\u001b[38;5;241m.\u001b[39mFILLED)\n\u001b[0;32m     44\u001b[0m \u001b[38;5;28;01mwhile\u001b[39;00m \u001b[38;5;28;01mTrue\u001b[39;00m:\n\u001b[1;32m---> 45\u001b[0m     cv2\u001b[38;5;241m.\u001b[39mline(img, (point_x[\u001b[43ma\u001b[49m\u001b[38;5;241m-\u001b[39m\u001b[38;5;241m2\u001b[39m], point_y[a\u001b[38;5;241m-\u001b[39m\u001b[38;5;241m2\u001b[39m]), (x,y), (\u001b[38;5;241m255\u001b[39m,\u001b[38;5;241m0\u001b[39m,\u001b[38;5;241m0\u001b[39m),\u001b[38;5;241m1\u001b[39m,cv2\u001b[38;5;241m.\u001b[39mLINE_AA)    \u001b[38;5;66;03m# 파일, 시작점, 끝점, 색깔, 두께, 옵션\u001b[39;00m\n\u001b[0;32m     47\u001b[0m     \u001b[38;5;28;01mif\u001b[39;00m event \u001b[38;5;241m==\u001b[39m cv2\u001b[38;5;241m.\u001b[39mEVENT_LBUTTONDOWN:\n\u001b[0;32m     48\u001b[0m         \u001b[38;5;28;01mbreak\u001b[39;00m\n",
      "\u001b[1;31mUnboundLocalError\u001b[0m: cannot access local variable 'a' where it is not associated with a value"
     ]
    },
    {
     "ename": "UnboundLocalError",
     "evalue": "cannot access local variable 'a' where it is not associated with a value",
     "output_type": "error",
     "traceback": [
      "\u001b[1;31m---------------------------------------------------------------------------\u001b[0m",
      "\u001b[1;31mUnboundLocalError\u001b[0m                         Traceback (most recent call last)",
      "Cell \u001b[1;32mIn[38], line 45\u001b[0m, in \u001b[0;36monMouse\u001b[1;34m(event, x, y, flags, _)\u001b[0m\n\u001b[0;32m     42\u001b[0m     cv2\u001b[38;5;241m.\u001b[39mcircle(img, (x,y), \u001b[38;5;241m3\u001b[39m, (\u001b[38;5;241m255\u001b[39m,\u001b[38;5;241m0\u001b[39m,\u001b[38;5;241m0\u001b[39m), cv2\u001b[38;5;241m.\u001b[39mFILLED)\n\u001b[0;32m     44\u001b[0m \u001b[38;5;28;01mwhile\u001b[39;00m \u001b[38;5;28;01mTrue\u001b[39;00m:\n\u001b[1;32m---> 45\u001b[0m     cv2\u001b[38;5;241m.\u001b[39mline(img, (point_x[\u001b[43ma\u001b[49m\u001b[38;5;241m-\u001b[39m\u001b[38;5;241m2\u001b[39m], point_y[a\u001b[38;5;241m-\u001b[39m\u001b[38;5;241m2\u001b[39m]), (x,y), (\u001b[38;5;241m255\u001b[39m,\u001b[38;5;241m0\u001b[39m,\u001b[38;5;241m0\u001b[39m),\u001b[38;5;241m1\u001b[39m,cv2\u001b[38;5;241m.\u001b[39mLINE_AA)    \u001b[38;5;66;03m# 파일, 시작점, 끝점, 색깔, 두께, 옵션\u001b[39;00m\n\u001b[0;32m     47\u001b[0m     \u001b[38;5;28;01mif\u001b[39;00m event \u001b[38;5;241m==\u001b[39m cv2\u001b[38;5;241m.\u001b[39mEVENT_LBUTTONDOWN:\n\u001b[0;32m     48\u001b[0m         \u001b[38;5;28;01mbreak\u001b[39;00m\n",
      "\u001b[1;31mUnboundLocalError\u001b[0m: cannot access local variable 'a' where it is not associated with a value"
     ]
    },
    {
     "ename": "UnboundLocalError",
     "evalue": "cannot access local variable 'a' where it is not associated with a value",
     "output_type": "error",
     "traceback": [
      "\u001b[1;31m---------------------------------------------------------------------------\u001b[0m",
      "\u001b[1;31mUnboundLocalError\u001b[0m                         Traceback (most recent call last)",
      "Cell \u001b[1;32mIn[38], line 45\u001b[0m, in \u001b[0;36monMouse\u001b[1;34m(event, x, y, flags, _)\u001b[0m\n\u001b[0;32m     42\u001b[0m     cv2\u001b[38;5;241m.\u001b[39mcircle(img, (x,y), \u001b[38;5;241m3\u001b[39m, (\u001b[38;5;241m255\u001b[39m,\u001b[38;5;241m0\u001b[39m,\u001b[38;5;241m0\u001b[39m), cv2\u001b[38;5;241m.\u001b[39mFILLED)\n\u001b[0;32m     44\u001b[0m \u001b[38;5;28;01mwhile\u001b[39;00m \u001b[38;5;28;01mTrue\u001b[39;00m:\n\u001b[1;32m---> 45\u001b[0m     cv2\u001b[38;5;241m.\u001b[39mline(img, (point_x[\u001b[43ma\u001b[49m\u001b[38;5;241m-\u001b[39m\u001b[38;5;241m2\u001b[39m], point_y[a\u001b[38;5;241m-\u001b[39m\u001b[38;5;241m2\u001b[39m]), (x,y), (\u001b[38;5;241m255\u001b[39m,\u001b[38;5;241m0\u001b[39m,\u001b[38;5;241m0\u001b[39m),\u001b[38;5;241m1\u001b[39m,cv2\u001b[38;5;241m.\u001b[39mLINE_AA)    \u001b[38;5;66;03m# 파일, 시작점, 끝점, 색깔, 두께, 옵션\u001b[39;00m\n\u001b[0;32m     47\u001b[0m     \u001b[38;5;28;01mif\u001b[39;00m event \u001b[38;5;241m==\u001b[39m cv2\u001b[38;5;241m.\u001b[39mEVENT_LBUTTONDOWN:\n\u001b[0;32m     48\u001b[0m         \u001b[38;5;28;01mbreak\u001b[39;00m\n",
      "\u001b[1;31mUnboundLocalError\u001b[0m: cannot access local variable 'a' where it is not associated with a value"
     ]
    },
    {
     "ename": "UnboundLocalError",
     "evalue": "cannot access local variable 'a' where it is not associated with a value",
     "output_type": "error",
     "traceback": [
      "\u001b[1;31m---------------------------------------------------------------------------\u001b[0m",
      "\u001b[1;31mUnboundLocalError\u001b[0m                         Traceback (most recent call last)",
      "Cell \u001b[1;32mIn[38], line 45\u001b[0m, in \u001b[0;36monMouse\u001b[1;34m(event, x, y, flags, _)\u001b[0m\n\u001b[0;32m     42\u001b[0m     cv2\u001b[38;5;241m.\u001b[39mcircle(img, (x,y), \u001b[38;5;241m3\u001b[39m, (\u001b[38;5;241m255\u001b[39m,\u001b[38;5;241m0\u001b[39m,\u001b[38;5;241m0\u001b[39m), cv2\u001b[38;5;241m.\u001b[39mFILLED)\n\u001b[0;32m     44\u001b[0m \u001b[38;5;28;01mwhile\u001b[39;00m \u001b[38;5;28;01mTrue\u001b[39;00m:\n\u001b[1;32m---> 45\u001b[0m     cv2\u001b[38;5;241m.\u001b[39mline(img, (point_x[\u001b[43ma\u001b[49m\u001b[38;5;241m-\u001b[39m\u001b[38;5;241m2\u001b[39m], point_y[a\u001b[38;5;241m-\u001b[39m\u001b[38;5;241m2\u001b[39m]), (x,y), (\u001b[38;5;241m255\u001b[39m,\u001b[38;5;241m0\u001b[39m,\u001b[38;5;241m0\u001b[39m),\u001b[38;5;241m1\u001b[39m,cv2\u001b[38;5;241m.\u001b[39mLINE_AA)    \u001b[38;5;66;03m# 파일, 시작점, 끝점, 색깔, 두께, 옵션\u001b[39;00m\n\u001b[0;32m     47\u001b[0m     \u001b[38;5;28;01mif\u001b[39;00m event \u001b[38;5;241m==\u001b[39m cv2\u001b[38;5;241m.\u001b[39mEVENT_LBUTTONDOWN:\n\u001b[0;32m     48\u001b[0m         \u001b[38;5;28;01mbreak\u001b[39;00m\n",
      "\u001b[1;31mUnboundLocalError\u001b[0m: cannot access local variable 'a' where it is not associated with a value"
     ]
    },
    {
     "ename": "UnboundLocalError",
     "evalue": "cannot access local variable 'a' where it is not associated with a value",
     "output_type": "error",
     "traceback": [
      "\u001b[1;31m---------------------------------------------------------------------------\u001b[0m",
      "\u001b[1;31mUnboundLocalError\u001b[0m                         Traceback (most recent call last)",
      "Cell \u001b[1;32mIn[38], line 45\u001b[0m, in \u001b[0;36monMouse\u001b[1;34m(event, x, y, flags, _)\u001b[0m\n\u001b[0;32m     42\u001b[0m     cv2\u001b[38;5;241m.\u001b[39mcircle(img, (x,y), \u001b[38;5;241m3\u001b[39m, (\u001b[38;5;241m255\u001b[39m,\u001b[38;5;241m0\u001b[39m,\u001b[38;5;241m0\u001b[39m), cv2\u001b[38;5;241m.\u001b[39mFILLED)\n\u001b[0;32m     44\u001b[0m \u001b[38;5;28;01mwhile\u001b[39;00m \u001b[38;5;28;01mTrue\u001b[39;00m:\n\u001b[1;32m---> 45\u001b[0m     cv2\u001b[38;5;241m.\u001b[39mline(img, (point_x[\u001b[43ma\u001b[49m\u001b[38;5;241m-\u001b[39m\u001b[38;5;241m2\u001b[39m], point_y[a\u001b[38;5;241m-\u001b[39m\u001b[38;5;241m2\u001b[39m]), (x,y), (\u001b[38;5;241m255\u001b[39m,\u001b[38;5;241m0\u001b[39m,\u001b[38;5;241m0\u001b[39m),\u001b[38;5;241m1\u001b[39m,cv2\u001b[38;5;241m.\u001b[39mLINE_AA)    \u001b[38;5;66;03m# 파일, 시작점, 끝점, 색깔, 두께, 옵션\u001b[39;00m\n\u001b[0;32m     47\u001b[0m     \u001b[38;5;28;01mif\u001b[39;00m event \u001b[38;5;241m==\u001b[39m cv2\u001b[38;5;241m.\u001b[39mEVENT_LBUTTONDOWN:\n\u001b[0;32m     48\u001b[0m         \u001b[38;5;28;01mbreak\u001b[39;00m\n",
      "\u001b[1;31mUnboundLocalError\u001b[0m: cannot access local variable 'a' where it is not associated with a value"
     ]
    },
    {
     "ename": "UnboundLocalError",
     "evalue": "cannot access local variable 'a' where it is not associated with a value",
     "output_type": "error",
     "traceback": [
      "\u001b[1;31m---------------------------------------------------------------------------\u001b[0m",
      "\u001b[1;31mUnboundLocalError\u001b[0m                         Traceback (most recent call last)",
      "Cell \u001b[1;32mIn[38], line 45\u001b[0m, in \u001b[0;36monMouse\u001b[1;34m(event, x, y, flags, _)\u001b[0m\n\u001b[0;32m     42\u001b[0m     cv2\u001b[38;5;241m.\u001b[39mcircle(img, (x,y), \u001b[38;5;241m3\u001b[39m, (\u001b[38;5;241m255\u001b[39m,\u001b[38;5;241m0\u001b[39m,\u001b[38;5;241m0\u001b[39m), cv2\u001b[38;5;241m.\u001b[39mFILLED)\n\u001b[0;32m     44\u001b[0m \u001b[38;5;28;01mwhile\u001b[39;00m \u001b[38;5;28;01mTrue\u001b[39;00m:\n\u001b[1;32m---> 45\u001b[0m     cv2\u001b[38;5;241m.\u001b[39mline(img, (point_x[\u001b[43ma\u001b[49m\u001b[38;5;241m-\u001b[39m\u001b[38;5;241m2\u001b[39m], point_y[a\u001b[38;5;241m-\u001b[39m\u001b[38;5;241m2\u001b[39m]), (x,y), (\u001b[38;5;241m255\u001b[39m,\u001b[38;5;241m0\u001b[39m,\u001b[38;5;241m0\u001b[39m),\u001b[38;5;241m1\u001b[39m,cv2\u001b[38;5;241m.\u001b[39mLINE_AA)    \u001b[38;5;66;03m# 파일, 시작점, 끝점, 색깔, 두께, 옵션\u001b[39;00m\n\u001b[0;32m     47\u001b[0m     \u001b[38;5;28;01mif\u001b[39;00m event \u001b[38;5;241m==\u001b[39m cv2\u001b[38;5;241m.\u001b[39mEVENT_LBUTTONDOWN:\n\u001b[0;32m     48\u001b[0m         \u001b[38;5;28;01mbreak\u001b[39;00m\n",
      "\u001b[1;31mUnboundLocalError\u001b[0m: cannot access local variable 'a' where it is not associated with a value"
     ]
    },
    {
     "ename": "UnboundLocalError",
     "evalue": "cannot access local variable 'a' where it is not associated with a value",
     "output_type": "error",
     "traceback": [
      "\u001b[1;31m---------------------------------------------------------------------------\u001b[0m",
      "\u001b[1;31mUnboundLocalError\u001b[0m                         Traceback (most recent call last)",
      "Cell \u001b[1;32mIn[38], line 45\u001b[0m, in \u001b[0;36monMouse\u001b[1;34m(event, x, y, flags, _)\u001b[0m\n\u001b[0;32m     42\u001b[0m     cv2\u001b[38;5;241m.\u001b[39mcircle(img, (x,y), \u001b[38;5;241m3\u001b[39m, (\u001b[38;5;241m255\u001b[39m,\u001b[38;5;241m0\u001b[39m,\u001b[38;5;241m0\u001b[39m), cv2\u001b[38;5;241m.\u001b[39mFILLED)\n\u001b[0;32m     44\u001b[0m \u001b[38;5;28;01mwhile\u001b[39;00m \u001b[38;5;28;01mTrue\u001b[39;00m:\n\u001b[1;32m---> 45\u001b[0m     cv2\u001b[38;5;241m.\u001b[39mline(img, (point_x[\u001b[43ma\u001b[49m\u001b[38;5;241m-\u001b[39m\u001b[38;5;241m2\u001b[39m], point_y[a\u001b[38;5;241m-\u001b[39m\u001b[38;5;241m2\u001b[39m]), (x,y), (\u001b[38;5;241m255\u001b[39m,\u001b[38;5;241m0\u001b[39m,\u001b[38;5;241m0\u001b[39m),\u001b[38;5;241m1\u001b[39m,cv2\u001b[38;5;241m.\u001b[39mLINE_AA)    \u001b[38;5;66;03m# 파일, 시작점, 끝점, 색깔, 두께, 옵션\u001b[39;00m\n\u001b[0;32m     47\u001b[0m     \u001b[38;5;28;01mif\u001b[39;00m event \u001b[38;5;241m==\u001b[39m cv2\u001b[38;5;241m.\u001b[39mEVENT_LBUTTONDOWN:\n\u001b[0;32m     48\u001b[0m         \u001b[38;5;28;01mbreak\u001b[39;00m\n",
      "\u001b[1;31mUnboundLocalError\u001b[0m: cannot access local variable 'a' where it is not associated with a value"
     ]
    },
    {
     "ename": "UnboundLocalError",
     "evalue": "cannot access local variable 'a' where it is not associated with a value",
     "output_type": "error",
     "traceback": [
      "\u001b[1;31m---------------------------------------------------------------------------\u001b[0m",
      "\u001b[1;31mUnboundLocalError\u001b[0m                         Traceback (most recent call last)",
      "Cell \u001b[1;32mIn[38], line 45\u001b[0m, in \u001b[0;36monMouse\u001b[1;34m(event, x, y, flags, _)\u001b[0m\n\u001b[0;32m     42\u001b[0m     cv2\u001b[38;5;241m.\u001b[39mcircle(img, (x,y), \u001b[38;5;241m3\u001b[39m, (\u001b[38;5;241m255\u001b[39m,\u001b[38;5;241m0\u001b[39m,\u001b[38;5;241m0\u001b[39m), cv2\u001b[38;5;241m.\u001b[39mFILLED)\n\u001b[0;32m     44\u001b[0m \u001b[38;5;28;01mwhile\u001b[39;00m \u001b[38;5;28;01mTrue\u001b[39;00m:\n\u001b[1;32m---> 45\u001b[0m     cv2\u001b[38;5;241m.\u001b[39mline(img, (point_x[\u001b[43ma\u001b[49m\u001b[38;5;241m-\u001b[39m\u001b[38;5;241m2\u001b[39m], point_y[a\u001b[38;5;241m-\u001b[39m\u001b[38;5;241m2\u001b[39m]), (x,y), (\u001b[38;5;241m255\u001b[39m,\u001b[38;5;241m0\u001b[39m,\u001b[38;5;241m0\u001b[39m),\u001b[38;5;241m1\u001b[39m,cv2\u001b[38;5;241m.\u001b[39mLINE_AA)    \u001b[38;5;66;03m# 파일, 시작점, 끝점, 색깔, 두께, 옵션\u001b[39;00m\n\u001b[0;32m     47\u001b[0m     \u001b[38;5;28;01mif\u001b[39;00m event \u001b[38;5;241m==\u001b[39m cv2\u001b[38;5;241m.\u001b[39mEVENT_LBUTTONDOWN:\n\u001b[0;32m     48\u001b[0m         \u001b[38;5;28;01mbreak\u001b[39;00m\n",
      "\u001b[1;31mUnboundLocalError\u001b[0m: cannot access local variable 'a' where it is not associated with a value"
     ]
    },
    {
     "ename": "UnboundLocalError",
     "evalue": "cannot access local variable 'a' where it is not associated with a value",
     "output_type": "error",
     "traceback": [
      "\u001b[1;31m---------------------------------------------------------------------------\u001b[0m",
      "\u001b[1;31mUnboundLocalError\u001b[0m                         Traceback (most recent call last)",
      "Cell \u001b[1;32mIn[38], line 45\u001b[0m, in \u001b[0;36monMouse\u001b[1;34m(event, x, y, flags, _)\u001b[0m\n\u001b[0;32m     42\u001b[0m     cv2\u001b[38;5;241m.\u001b[39mcircle(img, (x,y), \u001b[38;5;241m3\u001b[39m, (\u001b[38;5;241m255\u001b[39m,\u001b[38;5;241m0\u001b[39m,\u001b[38;5;241m0\u001b[39m), cv2\u001b[38;5;241m.\u001b[39mFILLED)\n\u001b[0;32m     44\u001b[0m \u001b[38;5;28;01mwhile\u001b[39;00m \u001b[38;5;28;01mTrue\u001b[39;00m:\n\u001b[1;32m---> 45\u001b[0m     cv2\u001b[38;5;241m.\u001b[39mline(img, (point_x[\u001b[43ma\u001b[49m\u001b[38;5;241m-\u001b[39m\u001b[38;5;241m2\u001b[39m], point_y[a\u001b[38;5;241m-\u001b[39m\u001b[38;5;241m2\u001b[39m]), (x,y), (\u001b[38;5;241m255\u001b[39m,\u001b[38;5;241m0\u001b[39m,\u001b[38;5;241m0\u001b[39m),\u001b[38;5;241m1\u001b[39m,cv2\u001b[38;5;241m.\u001b[39mLINE_AA)    \u001b[38;5;66;03m# 파일, 시작점, 끝점, 색깔, 두께, 옵션\u001b[39;00m\n\u001b[0;32m     47\u001b[0m     \u001b[38;5;28;01mif\u001b[39;00m event \u001b[38;5;241m==\u001b[39m cv2\u001b[38;5;241m.\u001b[39mEVENT_LBUTTONDOWN:\n\u001b[0;32m     48\u001b[0m         \u001b[38;5;28;01mbreak\u001b[39;00m\n",
      "\u001b[1;31mUnboundLocalError\u001b[0m: cannot access local variable 'a' where it is not associated with a value"
     ]
    },
    {
     "ename": "UnboundLocalError",
     "evalue": "cannot access local variable 'a' where it is not associated with a value",
     "output_type": "error",
     "traceback": [
      "\u001b[1;31m---------------------------------------------------------------------------\u001b[0m",
      "\u001b[1;31mUnboundLocalError\u001b[0m                         Traceback (most recent call last)",
      "Cell \u001b[1;32mIn[38], line 45\u001b[0m, in \u001b[0;36monMouse\u001b[1;34m(event, x, y, flags, _)\u001b[0m\n\u001b[0;32m     42\u001b[0m     cv2\u001b[38;5;241m.\u001b[39mcircle(img, (x,y), \u001b[38;5;241m3\u001b[39m, (\u001b[38;5;241m255\u001b[39m,\u001b[38;5;241m0\u001b[39m,\u001b[38;5;241m0\u001b[39m), cv2\u001b[38;5;241m.\u001b[39mFILLED)\n\u001b[0;32m     44\u001b[0m \u001b[38;5;28;01mwhile\u001b[39;00m \u001b[38;5;28;01mTrue\u001b[39;00m:\n\u001b[1;32m---> 45\u001b[0m     cv2\u001b[38;5;241m.\u001b[39mline(img, (point_x[\u001b[43ma\u001b[49m\u001b[38;5;241m-\u001b[39m\u001b[38;5;241m2\u001b[39m], point_y[a\u001b[38;5;241m-\u001b[39m\u001b[38;5;241m2\u001b[39m]), (x,y), (\u001b[38;5;241m255\u001b[39m,\u001b[38;5;241m0\u001b[39m,\u001b[38;5;241m0\u001b[39m),\u001b[38;5;241m1\u001b[39m,cv2\u001b[38;5;241m.\u001b[39mLINE_AA)    \u001b[38;5;66;03m# 파일, 시작점, 끝점, 색깔, 두께, 옵션\u001b[39;00m\n\u001b[0;32m     47\u001b[0m     \u001b[38;5;28;01mif\u001b[39;00m event \u001b[38;5;241m==\u001b[39m cv2\u001b[38;5;241m.\u001b[39mEVENT_LBUTTONDOWN:\n\u001b[0;32m     48\u001b[0m         \u001b[38;5;28;01mbreak\u001b[39;00m\n",
      "\u001b[1;31mUnboundLocalError\u001b[0m: cannot access local variable 'a' where it is not associated with a value"
     ]
    },
    {
     "ename": "UnboundLocalError",
     "evalue": "cannot access local variable 'a' where it is not associated with a value",
     "output_type": "error",
     "traceback": [
      "\u001b[1;31m---------------------------------------------------------------------------\u001b[0m",
      "\u001b[1;31mUnboundLocalError\u001b[0m                         Traceback (most recent call last)",
      "Cell \u001b[1;32mIn[38], line 45\u001b[0m, in \u001b[0;36monMouse\u001b[1;34m(event, x, y, flags, _)\u001b[0m\n\u001b[0;32m     42\u001b[0m     cv2\u001b[38;5;241m.\u001b[39mcircle(img, (x,y), \u001b[38;5;241m3\u001b[39m, (\u001b[38;5;241m255\u001b[39m,\u001b[38;5;241m0\u001b[39m,\u001b[38;5;241m0\u001b[39m), cv2\u001b[38;5;241m.\u001b[39mFILLED)\n\u001b[0;32m     44\u001b[0m \u001b[38;5;28;01mwhile\u001b[39;00m \u001b[38;5;28;01mTrue\u001b[39;00m:\n\u001b[1;32m---> 45\u001b[0m     cv2\u001b[38;5;241m.\u001b[39mline(img, (point_x[\u001b[43ma\u001b[49m\u001b[38;5;241m-\u001b[39m\u001b[38;5;241m2\u001b[39m], point_y[a\u001b[38;5;241m-\u001b[39m\u001b[38;5;241m2\u001b[39m]), (x,y), (\u001b[38;5;241m255\u001b[39m,\u001b[38;5;241m0\u001b[39m,\u001b[38;5;241m0\u001b[39m),\u001b[38;5;241m1\u001b[39m,cv2\u001b[38;5;241m.\u001b[39mLINE_AA)    \u001b[38;5;66;03m# 파일, 시작점, 끝점, 색깔, 두께, 옵션\u001b[39;00m\n\u001b[0;32m     47\u001b[0m     \u001b[38;5;28;01mif\u001b[39;00m event \u001b[38;5;241m==\u001b[39m cv2\u001b[38;5;241m.\u001b[39mEVENT_LBUTTONDOWN:\n\u001b[0;32m     48\u001b[0m         \u001b[38;5;28;01mbreak\u001b[39;00m\n",
      "\u001b[1;31mUnboundLocalError\u001b[0m: cannot access local variable 'a' where it is not associated with a value"
     ]
    },
    {
     "ename": "UnboundLocalError",
     "evalue": "cannot access local variable 'a' where it is not associated with a value",
     "output_type": "error",
     "traceback": [
      "\u001b[1;31m---------------------------------------------------------------------------\u001b[0m",
      "\u001b[1;31mUnboundLocalError\u001b[0m                         Traceback (most recent call last)",
      "Cell \u001b[1;32mIn[38], line 45\u001b[0m, in \u001b[0;36monMouse\u001b[1;34m(event, x, y, flags, _)\u001b[0m\n\u001b[0;32m     42\u001b[0m     cv2\u001b[38;5;241m.\u001b[39mcircle(img, (x,y), \u001b[38;5;241m3\u001b[39m, (\u001b[38;5;241m255\u001b[39m,\u001b[38;5;241m0\u001b[39m,\u001b[38;5;241m0\u001b[39m), cv2\u001b[38;5;241m.\u001b[39mFILLED)\n\u001b[0;32m     44\u001b[0m \u001b[38;5;28;01mwhile\u001b[39;00m \u001b[38;5;28;01mTrue\u001b[39;00m:\n\u001b[1;32m---> 45\u001b[0m     cv2\u001b[38;5;241m.\u001b[39mline(img, (point_x[\u001b[43ma\u001b[49m\u001b[38;5;241m-\u001b[39m\u001b[38;5;241m2\u001b[39m], point_y[a\u001b[38;5;241m-\u001b[39m\u001b[38;5;241m2\u001b[39m]), (x,y), (\u001b[38;5;241m255\u001b[39m,\u001b[38;5;241m0\u001b[39m,\u001b[38;5;241m0\u001b[39m),\u001b[38;5;241m1\u001b[39m,cv2\u001b[38;5;241m.\u001b[39mLINE_AA)    \u001b[38;5;66;03m# 파일, 시작점, 끝점, 색깔, 두께, 옵션\u001b[39;00m\n\u001b[0;32m     47\u001b[0m     \u001b[38;5;28;01mif\u001b[39;00m event \u001b[38;5;241m==\u001b[39m cv2\u001b[38;5;241m.\u001b[39mEVENT_LBUTTONDOWN:\n\u001b[0;32m     48\u001b[0m         \u001b[38;5;28;01mbreak\u001b[39;00m\n",
      "\u001b[1;31mUnboundLocalError\u001b[0m: cannot access local variable 'a' where it is not associated with a value"
     ]
    },
    {
     "ename": "UnboundLocalError",
     "evalue": "cannot access local variable 'a' where it is not associated with a value",
     "output_type": "error",
     "traceback": [
      "\u001b[1;31m---------------------------------------------------------------------------\u001b[0m",
      "\u001b[1;31mUnboundLocalError\u001b[0m                         Traceback (most recent call last)",
      "Cell \u001b[1;32mIn[38], line 45\u001b[0m, in \u001b[0;36monMouse\u001b[1;34m(event, x, y, flags, _)\u001b[0m\n\u001b[0;32m     42\u001b[0m     cv2\u001b[38;5;241m.\u001b[39mcircle(img, (x,y), \u001b[38;5;241m3\u001b[39m, (\u001b[38;5;241m255\u001b[39m,\u001b[38;5;241m0\u001b[39m,\u001b[38;5;241m0\u001b[39m), cv2\u001b[38;5;241m.\u001b[39mFILLED)\n\u001b[0;32m     44\u001b[0m \u001b[38;5;28;01mwhile\u001b[39;00m \u001b[38;5;28;01mTrue\u001b[39;00m:\n\u001b[1;32m---> 45\u001b[0m     cv2\u001b[38;5;241m.\u001b[39mline(img, (point_x[\u001b[43ma\u001b[49m\u001b[38;5;241m-\u001b[39m\u001b[38;5;241m2\u001b[39m], point_y[a\u001b[38;5;241m-\u001b[39m\u001b[38;5;241m2\u001b[39m]), (x,y), (\u001b[38;5;241m255\u001b[39m,\u001b[38;5;241m0\u001b[39m,\u001b[38;5;241m0\u001b[39m),\u001b[38;5;241m1\u001b[39m,cv2\u001b[38;5;241m.\u001b[39mLINE_AA)    \u001b[38;5;66;03m# 파일, 시작점, 끝점, 색깔, 두께, 옵션\u001b[39;00m\n\u001b[0;32m     47\u001b[0m     \u001b[38;5;28;01mif\u001b[39;00m event \u001b[38;5;241m==\u001b[39m cv2\u001b[38;5;241m.\u001b[39mEVENT_LBUTTONDOWN:\n\u001b[0;32m     48\u001b[0m         \u001b[38;5;28;01mbreak\u001b[39;00m\n",
      "\u001b[1;31mUnboundLocalError\u001b[0m: cannot access local variable 'a' where it is not associated with a value"
     ]
    },
    {
     "ename": "UnboundLocalError",
     "evalue": "cannot access local variable 'a' where it is not associated with a value",
     "output_type": "error",
     "traceback": [
      "\u001b[1;31m---------------------------------------------------------------------------\u001b[0m",
      "\u001b[1;31mUnboundLocalError\u001b[0m                         Traceback (most recent call last)",
      "Cell \u001b[1;32mIn[38], line 45\u001b[0m, in \u001b[0;36monMouse\u001b[1;34m(event, x, y, flags, _)\u001b[0m\n\u001b[0;32m     42\u001b[0m     cv2\u001b[38;5;241m.\u001b[39mcircle(img, (x,y), \u001b[38;5;241m3\u001b[39m, (\u001b[38;5;241m255\u001b[39m,\u001b[38;5;241m0\u001b[39m,\u001b[38;5;241m0\u001b[39m), cv2\u001b[38;5;241m.\u001b[39mFILLED)\n\u001b[0;32m     44\u001b[0m \u001b[38;5;28;01mwhile\u001b[39;00m \u001b[38;5;28;01mTrue\u001b[39;00m:\n\u001b[1;32m---> 45\u001b[0m     cv2\u001b[38;5;241m.\u001b[39mline(img, (point_x[\u001b[43ma\u001b[49m\u001b[38;5;241m-\u001b[39m\u001b[38;5;241m2\u001b[39m], point_y[a\u001b[38;5;241m-\u001b[39m\u001b[38;5;241m2\u001b[39m]), (x,y), (\u001b[38;5;241m255\u001b[39m,\u001b[38;5;241m0\u001b[39m,\u001b[38;5;241m0\u001b[39m),\u001b[38;5;241m1\u001b[39m,cv2\u001b[38;5;241m.\u001b[39mLINE_AA)    \u001b[38;5;66;03m# 파일, 시작점, 끝점, 색깔, 두께, 옵션\u001b[39;00m\n\u001b[0;32m     47\u001b[0m     \u001b[38;5;28;01mif\u001b[39;00m event \u001b[38;5;241m==\u001b[39m cv2\u001b[38;5;241m.\u001b[39mEVENT_LBUTTONDOWN:\n\u001b[0;32m     48\u001b[0m         \u001b[38;5;28;01mbreak\u001b[39;00m\n",
      "\u001b[1;31mUnboundLocalError\u001b[0m: cannot access local variable 'a' where it is not associated with a value"
     ]
    },
    {
     "ename": "UnboundLocalError",
     "evalue": "cannot access local variable 'a' where it is not associated with a value",
     "output_type": "error",
     "traceback": [
      "\u001b[1;31m---------------------------------------------------------------------------\u001b[0m",
      "\u001b[1;31mUnboundLocalError\u001b[0m                         Traceback (most recent call last)",
      "Cell \u001b[1;32mIn[38], line 45\u001b[0m, in \u001b[0;36monMouse\u001b[1;34m(event, x, y, flags, _)\u001b[0m\n\u001b[0;32m     42\u001b[0m     cv2\u001b[38;5;241m.\u001b[39mcircle(img, (x,y), \u001b[38;5;241m3\u001b[39m, (\u001b[38;5;241m255\u001b[39m,\u001b[38;5;241m0\u001b[39m,\u001b[38;5;241m0\u001b[39m), cv2\u001b[38;5;241m.\u001b[39mFILLED)\n\u001b[0;32m     44\u001b[0m \u001b[38;5;28;01mwhile\u001b[39;00m \u001b[38;5;28;01mTrue\u001b[39;00m:\n\u001b[1;32m---> 45\u001b[0m     cv2\u001b[38;5;241m.\u001b[39mline(img, (point_x[\u001b[43ma\u001b[49m\u001b[38;5;241m-\u001b[39m\u001b[38;5;241m2\u001b[39m], point_y[a\u001b[38;5;241m-\u001b[39m\u001b[38;5;241m2\u001b[39m]), (x,y), (\u001b[38;5;241m255\u001b[39m,\u001b[38;5;241m0\u001b[39m,\u001b[38;5;241m0\u001b[39m),\u001b[38;5;241m1\u001b[39m,cv2\u001b[38;5;241m.\u001b[39mLINE_AA)    \u001b[38;5;66;03m# 파일, 시작점, 끝점, 색깔, 두께, 옵션\u001b[39;00m\n\u001b[0;32m     47\u001b[0m     \u001b[38;5;28;01mif\u001b[39;00m event \u001b[38;5;241m==\u001b[39m cv2\u001b[38;5;241m.\u001b[39mEVENT_LBUTTONDOWN:\n\u001b[0;32m     48\u001b[0m         \u001b[38;5;28;01mbreak\u001b[39;00m\n",
      "\u001b[1;31mUnboundLocalError\u001b[0m: cannot access local variable 'a' where it is not associated with a value"
     ]
    },
    {
     "ename": "UnboundLocalError",
     "evalue": "cannot access local variable 'a' where it is not associated with a value",
     "output_type": "error",
     "traceback": [
      "\u001b[1;31m---------------------------------------------------------------------------\u001b[0m",
      "\u001b[1;31mUnboundLocalError\u001b[0m                         Traceback (most recent call last)",
      "Cell \u001b[1;32mIn[38], line 45\u001b[0m, in \u001b[0;36monMouse\u001b[1;34m(event, x, y, flags, _)\u001b[0m\n\u001b[0;32m     42\u001b[0m     cv2\u001b[38;5;241m.\u001b[39mcircle(img, (x,y), \u001b[38;5;241m3\u001b[39m, (\u001b[38;5;241m255\u001b[39m,\u001b[38;5;241m0\u001b[39m,\u001b[38;5;241m0\u001b[39m), cv2\u001b[38;5;241m.\u001b[39mFILLED)\n\u001b[0;32m     44\u001b[0m \u001b[38;5;28;01mwhile\u001b[39;00m \u001b[38;5;28;01mTrue\u001b[39;00m:\n\u001b[1;32m---> 45\u001b[0m     cv2\u001b[38;5;241m.\u001b[39mline(img, (point_x[\u001b[43ma\u001b[49m\u001b[38;5;241m-\u001b[39m\u001b[38;5;241m2\u001b[39m], point_y[a\u001b[38;5;241m-\u001b[39m\u001b[38;5;241m2\u001b[39m]), (x,y), (\u001b[38;5;241m255\u001b[39m,\u001b[38;5;241m0\u001b[39m,\u001b[38;5;241m0\u001b[39m),\u001b[38;5;241m1\u001b[39m,cv2\u001b[38;5;241m.\u001b[39mLINE_AA)    \u001b[38;5;66;03m# 파일, 시작점, 끝점, 색깔, 두께, 옵션\u001b[39;00m\n\u001b[0;32m     47\u001b[0m     \u001b[38;5;28;01mif\u001b[39;00m event \u001b[38;5;241m==\u001b[39m cv2\u001b[38;5;241m.\u001b[39mEVENT_LBUTTONDOWN:\n\u001b[0;32m     48\u001b[0m         \u001b[38;5;28;01mbreak\u001b[39;00m\n",
      "\u001b[1;31mUnboundLocalError\u001b[0m: cannot access local variable 'a' where it is not associated with a value"
     ]
    },
    {
     "ename": "UnboundLocalError",
     "evalue": "cannot access local variable 'a' where it is not associated with a value",
     "output_type": "error",
     "traceback": [
      "\u001b[1;31m---------------------------------------------------------------------------\u001b[0m",
      "\u001b[1;31mUnboundLocalError\u001b[0m                         Traceback (most recent call last)",
      "Cell \u001b[1;32mIn[38], line 45\u001b[0m, in \u001b[0;36monMouse\u001b[1;34m(event, x, y, flags, _)\u001b[0m\n\u001b[0;32m     42\u001b[0m     cv2\u001b[38;5;241m.\u001b[39mcircle(img, (x,y), \u001b[38;5;241m3\u001b[39m, (\u001b[38;5;241m255\u001b[39m,\u001b[38;5;241m0\u001b[39m,\u001b[38;5;241m0\u001b[39m), cv2\u001b[38;5;241m.\u001b[39mFILLED)\n\u001b[0;32m     44\u001b[0m \u001b[38;5;28;01mwhile\u001b[39;00m \u001b[38;5;28;01mTrue\u001b[39;00m:\n\u001b[1;32m---> 45\u001b[0m     cv2\u001b[38;5;241m.\u001b[39mline(img, (point_x[\u001b[43ma\u001b[49m\u001b[38;5;241m-\u001b[39m\u001b[38;5;241m2\u001b[39m], point_y[a\u001b[38;5;241m-\u001b[39m\u001b[38;5;241m2\u001b[39m]), (x,y), (\u001b[38;5;241m255\u001b[39m,\u001b[38;5;241m0\u001b[39m,\u001b[38;5;241m0\u001b[39m),\u001b[38;5;241m1\u001b[39m,cv2\u001b[38;5;241m.\u001b[39mLINE_AA)    \u001b[38;5;66;03m# 파일, 시작점, 끝점, 색깔, 두께, 옵션\u001b[39;00m\n\u001b[0;32m     47\u001b[0m     \u001b[38;5;28;01mif\u001b[39;00m event \u001b[38;5;241m==\u001b[39m cv2\u001b[38;5;241m.\u001b[39mEVENT_LBUTTONDOWN:\n\u001b[0;32m     48\u001b[0m         \u001b[38;5;28;01mbreak\u001b[39;00m\n",
      "\u001b[1;31mUnboundLocalError\u001b[0m: cannot access local variable 'a' where it is not associated with a value"
     ]
    },
    {
     "ename": "UnboundLocalError",
     "evalue": "cannot access local variable 'a' where it is not associated with a value",
     "output_type": "error",
     "traceback": [
      "\u001b[1;31m---------------------------------------------------------------------------\u001b[0m",
      "\u001b[1;31mUnboundLocalError\u001b[0m                         Traceback (most recent call last)",
      "Cell \u001b[1;32mIn[38], line 45\u001b[0m, in \u001b[0;36monMouse\u001b[1;34m(event, x, y, flags, _)\u001b[0m\n\u001b[0;32m     42\u001b[0m     cv2\u001b[38;5;241m.\u001b[39mcircle(img, (x,y), \u001b[38;5;241m3\u001b[39m, (\u001b[38;5;241m255\u001b[39m,\u001b[38;5;241m0\u001b[39m,\u001b[38;5;241m0\u001b[39m), cv2\u001b[38;5;241m.\u001b[39mFILLED)\n\u001b[0;32m     44\u001b[0m \u001b[38;5;28;01mwhile\u001b[39;00m \u001b[38;5;28;01mTrue\u001b[39;00m:\n\u001b[1;32m---> 45\u001b[0m     cv2\u001b[38;5;241m.\u001b[39mline(img, (point_x[\u001b[43ma\u001b[49m\u001b[38;5;241m-\u001b[39m\u001b[38;5;241m2\u001b[39m], point_y[a\u001b[38;5;241m-\u001b[39m\u001b[38;5;241m2\u001b[39m]), (x,y), (\u001b[38;5;241m255\u001b[39m,\u001b[38;5;241m0\u001b[39m,\u001b[38;5;241m0\u001b[39m),\u001b[38;5;241m1\u001b[39m,cv2\u001b[38;5;241m.\u001b[39mLINE_AA)    \u001b[38;5;66;03m# 파일, 시작점, 끝점, 색깔, 두께, 옵션\u001b[39;00m\n\u001b[0;32m     47\u001b[0m     \u001b[38;5;28;01mif\u001b[39;00m event \u001b[38;5;241m==\u001b[39m cv2\u001b[38;5;241m.\u001b[39mEVENT_LBUTTONDOWN:\n\u001b[0;32m     48\u001b[0m         \u001b[38;5;28;01mbreak\u001b[39;00m\n",
      "\u001b[1;31mUnboundLocalError\u001b[0m: cannot access local variable 'a' where it is not associated with a value"
     ]
    },
    {
     "ename": "UnboundLocalError",
     "evalue": "cannot access local variable 'a' where it is not associated with a value",
     "output_type": "error",
     "traceback": [
      "\u001b[1;31m---------------------------------------------------------------------------\u001b[0m",
      "\u001b[1;31mUnboundLocalError\u001b[0m                         Traceback (most recent call last)",
      "Cell \u001b[1;32mIn[38], line 45\u001b[0m, in \u001b[0;36monMouse\u001b[1;34m(event, x, y, flags, _)\u001b[0m\n\u001b[0;32m     42\u001b[0m     cv2\u001b[38;5;241m.\u001b[39mcircle(img, (x,y), \u001b[38;5;241m3\u001b[39m, (\u001b[38;5;241m255\u001b[39m,\u001b[38;5;241m0\u001b[39m,\u001b[38;5;241m0\u001b[39m), cv2\u001b[38;5;241m.\u001b[39mFILLED)\n\u001b[0;32m     44\u001b[0m \u001b[38;5;28;01mwhile\u001b[39;00m \u001b[38;5;28;01mTrue\u001b[39;00m:\n\u001b[1;32m---> 45\u001b[0m     cv2\u001b[38;5;241m.\u001b[39mline(img, (point_x[\u001b[43ma\u001b[49m\u001b[38;5;241m-\u001b[39m\u001b[38;5;241m2\u001b[39m], point_y[a\u001b[38;5;241m-\u001b[39m\u001b[38;5;241m2\u001b[39m]), (x,y), (\u001b[38;5;241m255\u001b[39m,\u001b[38;5;241m0\u001b[39m,\u001b[38;5;241m0\u001b[39m),\u001b[38;5;241m1\u001b[39m,cv2\u001b[38;5;241m.\u001b[39mLINE_AA)    \u001b[38;5;66;03m# 파일, 시작점, 끝점, 색깔, 두께, 옵션\u001b[39;00m\n\u001b[0;32m     47\u001b[0m     \u001b[38;5;28;01mif\u001b[39;00m event \u001b[38;5;241m==\u001b[39m cv2\u001b[38;5;241m.\u001b[39mEVENT_LBUTTONDOWN:\n\u001b[0;32m     48\u001b[0m         \u001b[38;5;28;01mbreak\u001b[39;00m\n",
      "\u001b[1;31mUnboundLocalError\u001b[0m: cannot access local variable 'a' where it is not associated with a value"
     ]
    },
    {
     "ename": "UnboundLocalError",
     "evalue": "cannot access local variable 'a' where it is not associated with a value",
     "output_type": "error",
     "traceback": [
      "\u001b[1;31m---------------------------------------------------------------------------\u001b[0m",
      "\u001b[1;31mUnboundLocalError\u001b[0m                         Traceback (most recent call last)",
      "Cell \u001b[1;32mIn[38], line 45\u001b[0m, in \u001b[0;36monMouse\u001b[1;34m(event, x, y, flags, _)\u001b[0m\n\u001b[0;32m     42\u001b[0m     cv2\u001b[38;5;241m.\u001b[39mcircle(img, (x,y), \u001b[38;5;241m3\u001b[39m, (\u001b[38;5;241m255\u001b[39m,\u001b[38;5;241m0\u001b[39m,\u001b[38;5;241m0\u001b[39m), cv2\u001b[38;5;241m.\u001b[39mFILLED)\n\u001b[0;32m     44\u001b[0m \u001b[38;5;28;01mwhile\u001b[39;00m \u001b[38;5;28;01mTrue\u001b[39;00m:\n\u001b[1;32m---> 45\u001b[0m     cv2\u001b[38;5;241m.\u001b[39mline(img, (point_x[\u001b[43ma\u001b[49m\u001b[38;5;241m-\u001b[39m\u001b[38;5;241m2\u001b[39m], point_y[a\u001b[38;5;241m-\u001b[39m\u001b[38;5;241m2\u001b[39m]), (x,y), (\u001b[38;5;241m255\u001b[39m,\u001b[38;5;241m0\u001b[39m,\u001b[38;5;241m0\u001b[39m),\u001b[38;5;241m1\u001b[39m,cv2\u001b[38;5;241m.\u001b[39mLINE_AA)    \u001b[38;5;66;03m# 파일, 시작점, 끝점, 색깔, 두께, 옵션\u001b[39;00m\n\u001b[0;32m     47\u001b[0m     \u001b[38;5;28;01mif\u001b[39;00m event \u001b[38;5;241m==\u001b[39m cv2\u001b[38;5;241m.\u001b[39mEVENT_LBUTTONDOWN:\n\u001b[0;32m     48\u001b[0m         \u001b[38;5;28;01mbreak\u001b[39;00m\n",
      "\u001b[1;31mUnboundLocalError\u001b[0m: cannot access local variable 'a' where it is not associated with a value"
     ]
    },
    {
     "ename": "UnboundLocalError",
     "evalue": "cannot access local variable 'a' where it is not associated with a value",
     "output_type": "error",
     "traceback": [
      "\u001b[1;31m---------------------------------------------------------------------------\u001b[0m",
      "\u001b[1;31mUnboundLocalError\u001b[0m                         Traceback (most recent call last)",
      "Cell \u001b[1;32mIn[38], line 45\u001b[0m, in \u001b[0;36monMouse\u001b[1;34m(event, x, y, flags, _)\u001b[0m\n\u001b[0;32m     42\u001b[0m     cv2\u001b[38;5;241m.\u001b[39mcircle(img, (x,y), \u001b[38;5;241m3\u001b[39m, (\u001b[38;5;241m255\u001b[39m,\u001b[38;5;241m0\u001b[39m,\u001b[38;5;241m0\u001b[39m), cv2\u001b[38;5;241m.\u001b[39mFILLED)\n\u001b[0;32m     44\u001b[0m \u001b[38;5;28;01mwhile\u001b[39;00m \u001b[38;5;28;01mTrue\u001b[39;00m:\n\u001b[1;32m---> 45\u001b[0m     cv2\u001b[38;5;241m.\u001b[39mline(img, (point_x[\u001b[43ma\u001b[49m\u001b[38;5;241m-\u001b[39m\u001b[38;5;241m2\u001b[39m], point_y[a\u001b[38;5;241m-\u001b[39m\u001b[38;5;241m2\u001b[39m]), (x,y), (\u001b[38;5;241m255\u001b[39m,\u001b[38;5;241m0\u001b[39m,\u001b[38;5;241m0\u001b[39m),\u001b[38;5;241m1\u001b[39m,cv2\u001b[38;5;241m.\u001b[39mLINE_AA)    \u001b[38;5;66;03m# 파일, 시작점, 끝점, 색깔, 두께, 옵션\u001b[39;00m\n\u001b[0;32m     47\u001b[0m     \u001b[38;5;28;01mif\u001b[39;00m event \u001b[38;5;241m==\u001b[39m cv2\u001b[38;5;241m.\u001b[39mEVENT_LBUTTONDOWN:\n\u001b[0;32m     48\u001b[0m         \u001b[38;5;28;01mbreak\u001b[39;00m\n",
      "\u001b[1;31mUnboundLocalError\u001b[0m: cannot access local variable 'a' where it is not associated with a value"
     ]
    },
    {
     "ename": "UnboundLocalError",
     "evalue": "cannot access local variable 'a' where it is not associated with a value",
     "output_type": "error",
     "traceback": [
      "\u001b[1;31m---------------------------------------------------------------------------\u001b[0m",
      "\u001b[1;31mUnboundLocalError\u001b[0m                         Traceback (most recent call last)",
      "Cell \u001b[1;32mIn[38], line 45\u001b[0m, in \u001b[0;36monMouse\u001b[1;34m(event, x, y, flags, _)\u001b[0m\n\u001b[0;32m     42\u001b[0m     cv2\u001b[38;5;241m.\u001b[39mcircle(img, (x,y), \u001b[38;5;241m3\u001b[39m, (\u001b[38;5;241m255\u001b[39m,\u001b[38;5;241m0\u001b[39m,\u001b[38;5;241m0\u001b[39m), cv2\u001b[38;5;241m.\u001b[39mFILLED)\n\u001b[0;32m     44\u001b[0m \u001b[38;5;28;01mwhile\u001b[39;00m \u001b[38;5;28;01mTrue\u001b[39;00m:\n\u001b[1;32m---> 45\u001b[0m     cv2\u001b[38;5;241m.\u001b[39mline(img, (point_x[\u001b[43ma\u001b[49m\u001b[38;5;241m-\u001b[39m\u001b[38;5;241m2\u001b[39m], point_y[a\u001b[38;5;241m-\u001b[39m\u001b[38;5;241m2\u001b[39m]), (x,y), (\u001b[38;5;241m255\u001b[39m,\u001b[38;5;241m0\u001b[39m,\u001b[38;5;241m0\u001b[39m),\u001b[38;5;241m1\u001b[39m,cv2\u001b[38;5;241m.\u001b[39mLINE_AA)    \u001b[38;5;66;03m# 파일, 시작점, 끝점, 색깔, 두께, 옵션\u001b[39;00m\n\u001b[0;32m     47\u001b[0m     \u001b[38;5;28;01mif\u001b[39;00m event \u001b[38;5;241m==\u001b[39m cv2\u001b[38;5;241m.\u001b[39mEVENT_LBUTTONDOWN:\n\u001b[0;32m     48\u001b[0m         \u001b[38;5;28;01mbreak\u001b[39;00m\n",
      "\u001b[1;31mUnboundLocalError\u001b[0m: cannot access local variable 'a' where it is not associated with a value"
     ]
    },
    {
     "ename": "UnboundLocalError",
     "evalue": "cannot access local variable 'a' where it is not associated with a value",
     "output_type": "error",
     "traceback": [
      "\u001b[1;31m---------------------------------------------------------------------------\u001b[0m",
      "\u001b[1;31mUnboundLocalError\u001b[0m                         Traceback (most recent call last)",
      "Cell \u001b[1;32mIn[38], line 45\u001b[0m, in \u001b[0;36monMouse\u001b[1;34m(event, x, y, flags, _)\u001b[0m\n\u001b[0;32m     42\u001b[0m     cv2\u001b[38;5;241m.\u001b[39mcircle(img, (x,y), \u001b[38;5;241m3\u001b[39m, (\u001b[38;5;241m255\u001b[39m,\u001b[38;5;241m0\u001b[39m,\u001b[38;5;241m0\u001b[39m), cv2\u001b[38;5;241m.\u001b[39mFILLED)\n\u001b[0;32m     44\u001b[0m \u001b[38;5;28;01mwhile\u001b[39;00m \u001b[38;5;28;01mTrue\u001b[39;00m:\n\u001b[1;32m---> 45\u001b[0m     cv2\u001b[38;5;241m.\u001b[39mline(img, (point_x[\u001b[43ma\u001b[49m\u001b[38;5;241m-\u001b[39m\u001b[38;5;241m2\u001b[39m], point_y[a\u001b[38;5;241m-\u001b[39m\u001b[38;5;241m2\u001b[39m]), (x,y), (\u001b[38;5;241m255\u001b[39m,\u001b[38;5;241m0\u001b[39m,\u001b[38;5;241m0\u001b[39m),\u001b[38;5;241m1\u001b[39m,cv2\u001b[38;5;241m.\u001b[39mLINE_AA)    \u001b[38;5;66;03m# 파일, 시작점, 끝점, 색깔, 두께, 옵션\u001b[39;00m\n\u001b[0;32m     47\u001b[0m     \u001b[38;5;28;01mif\u001b[39;00m event \u001b[38;5;241m==\u001b[39m cv2\u001b[38;5;241m.\u001b[39mEVENT_LBUTTONDOWN:\n\u001b[0;32m     48\u001b[0m         \u001b[38;5;28;01mbreak\u001b[39;00m\n",
      "\u001b[1;31mUnboundLocalError\u001b[0m: cannot access local variable 'a' where it is not associated with a value"
     ]
    },
    {
     "ename": "UnboundLocalError",
     "evalue": "cannot access local variable 'a' where it is not associated with a value",
     "output_type": "error",
     "traceback": [
      "\u001b[1;31m---------------------------------------------------------------------------\u001b[0m",
      "\u001b[1;31mUnboundLocalError\u001b[0m                         Traceback (most recent call last)",
      "Cell \u001b[1;32mIn[38], line 45\u001b[0m, in \u001b[0;36monMouse\u001b[1;34m(event, x, y, flags, _)\u001b[0m\n\u001b[0;32m     42\u001b[0m     cv2\u001b[38;5;241m.\u001b[39mcircle(img, (x,y), \u001b[38;5;241m3\u001b[39m, (\u001b[38;5;241m255\u001b[39m,\u001b[38;5;241m0\u001b[39m,\u001b[38;5;241m0\u001b[39m), cv2\u001b[38;5;241m.\u001b[39mFILLED)\n\u001b[0;32m     44\u001b[0m \u001b[38;5;28;01mwhile\u001b[39;00m \u001b[38;5;28;01mTrue\u001b[39;00m:\n\u001b[1;32m---> 45\u001b[0m     cv2\u001b[38;5;241m.\u001b[39mline(img, (point_x[\u001b[43ma\u001b[49m\u001b[38;5;241m-\u001b[39m\u001b[38;5;241m2\u001b[39m], point_y[a\u001b[38;5;241m-\u001b[39m\u001b[38;5;241m2\u001b[39m]), (x,y), (\u001b[38;5;241m255\u001b[39m,\u001b[38;5;241m0\u001b[39m,\u001b[38;5;241m0\u001b[39m),\u001b[38;5;241m1\u001b[39m,cv2\u001b[38;5;241m.\u001b[39mLINE_AA)    \u001b[38;5;66;03m# 파일, 시작점, 끝점, 색깔, 두께, 옵션\u001b[39;00m\n\u001b[0;32m     47\u001b[0m     \u001b[38;5;28;01mif\u001b[39;00m event \u001b[38;5;241m==\u001b[39m cv2\u001b[38;5;241m.\u001b[39mEVENT_LBUTTONDOWN:\n\u001b[0;32m     48\u001b[0m         \u001b[38;5;28;01mbreak\u001b[39;00m\n",
      "\u001b[1;31mUnboundLocalError\u001b[0m: cannot access local variable 'a' where it is not associated with a value"
     ]
    },
    {
     "ename": "UnboundLocalError",
     "evalue": "cannot access local variable 'a' where it is not associated with a value",
     "output_type": "error",
     "traceback": [
      "\u001b[1;31m---------------------------------------------------------------------------\u001b[0m",
      "\u001b[1;31mUnboundLocalError\u001b[0m                         Traceback (most recent call last)",
      "Cell \u001b[1;32mIn[38], line 45\u001b[0m, in \u001b[0;36monMouse\u001b[1;34m(event, x, y, flags, _)\u001b[0m\n\u001b[0;32m     42\u001b[0m     cv2\u001b[38;5;241m.\u001b[39mcircle(img, (x,y), \u001b[38;5;241m3\u001b[39m, (\u001b[38;5;241m255\u001b[39m,\u001b[38;5;241m0\u001b[39m,\u001b[38;5;241m0\u001b[39m), cv2\u001b[38;5;241m.\u001b[39mFILLED)\n\u001b[0;32m     44\u001b[0m \u001b[38;5;28;01mwhile\u001b[39;00m \u001b[38;5;28;01mTrue\u001b[39;00m:\n\u001b[1;32m---> 45\u001b[0m     cv2\u001b[38;5;241m.\u001b[39mline(img, (point_x[\u001b[43ma\u001b[49m\u001b[38;5;241m-\u001b[39m\u001b[38;5;241m2\u001b[39m], point_y[a\u001b[38;5;241m-\u001b[39m\u001b[38;5;241m2\u001b[39m]), (x,y), (\u001b[38;5;241m255\u001b[39m,\u001b[38;5;241m0\u001b[39m,\u001b[38;5;241m0\u001b[39m),\u001b[38;5;241m1\u001b[39m,cv2\u001b[38;5;241m.\u001b[39mLINE_AA)    \u001b[38;5;66;03m# 파일, 시작점, 끝점, 색깔, 두께, 옵션\u001b[39;00m\n\u001b[0;32m     47\u001b[0m     \u001b[38;5;28;01mif\u001b[39;00m event \u001b[38;5;241m==\u001b[39m cv2\u001b[38;5;241m.\u001b[39mEVENT_LBUTTONDOWN:\n\u001b[0;32m     48\u001b[0m         \u001b[38;5;28;01mbreak\u001b[39;00m\n",
      "\u001b[1;31mUnboundLocalError\u001b[0m: cannot access local variable 'a' where it is not associated with a value"
     ]
    },
    {
     "ename": "UnboundLocalError",
     "evalue": "cannot access local variable 'a' where it is not associated with a value",
     "output_type": "error",
     "traceback": [
      "\u001b[1;31m---------------------------------------------------------------------------\u001b[0m",
      "\u001b[1;31mUnboundLocalError\u001b[0m                         Traceback (most recent call last)",
      "Cell \u001b[1;32mIn[38], line 45\u001b[0m, in \u001b[0;36monMouse\u001b[1;34m(event, x, y, flags, _)\u001b[0m\n\u001b[0;32m     42\u001b[0m     cv2\u001b[38;5;241m.\u001b[39mcircle(img, (x,y), \u001b[38;5;241m3\u001b[39m, (\u001b[38;5;241m255\u001b[39m,\u001b[38;5;241m0\u001b[39m,\u001b[38;5;241m0\u001b[39m), cv2\u001b[38;5;241m.\u001b[39mFILLED)\n\u001b[0;32m     44\u001b[0m \u001b[38;5;28;01mwhile\u001b[39;00m \u001b[38;5;28;01mTrue\u001b[39;00m:\n\u001b[1;32m---> 45\u001b[0m     cv2\u001b[38;5;241m.\u001b[39mline(img, (point_x[\u001b[43ma\u001b[49m\u001b[38;5;241m-\u001b[39m\u001b[38;5;241m2\u001b[39m], point_y[a\u001b[38;5;241m-\u001b[39m\u001b[38;5;241m2\u001b[39m]), (x,y), (\u001b[38;5;241m255\u001b[39m,\u001b[38;5;241m0\u001b[39m,\u001b[38;5;241m0\u001b[39m),\u001b[38;5;241m1\u001b[39m,cv2\u001b[38;5;241m.\u001b[39mLINE_AA)    \u001b[38;5;66;03m# 파일, 시작점, 끝점, 색깔, 두께, 옵션\u001b[39;00m\n\u001b[0;32m     47\u001b[0m     \u001b[38;5;28;01mif\u001b[39;00m event \u001b[38;5;241m==\u001b[39m cv2\u001b[38;5;241m.\u001b[39mEVENT_LBUTTONDOWN:\n\u001b[0;32m     48\u001b[0m         \u001b[38;5;28;01mbreak\u001b[39;00m\n",
      "\u001b[1;31mUnboundLocalError\u001b[0m: cannot access local variable 'a' where it is not associated with a value"
     ]
    },
    {
     "ename": "UnboundLocalError",
     "evalue": "cannot access local variable 'a' where it is not associated with a value",
     "output_type": "error",
     "traceback": [
      "\u001b[1;31m---------------------------------------------------------------------------\u001b[0m",
      "\u001b[1;31mUnboundLocalError\u001b[0m                         Traceback (most recent call last)",
      "Cell \u001b[1;32mIn[38], line 45\u001b[0m, in \u001b[0;36monMouse\u001b[1;34m(event, x, y, flags, _)\u001b[0m\n\u001b[0;32m     42\u001b[0m     cv2\u001b[38;5;241m.\u001b[39mcircle(img, (x,y), \u001b[38;5;241m3\u001b[39m, (\u001b[38;5;241m255\u001b[39m,\u001b[38;5;241m0\u001b[39m,\u001b[38;5;241m0\u001b[39m), cv2\u001b[38;5;241m.\u001b[39mFILLED)\n\u001b[0;32m     44\u001b[0m \u001b[38;5;28;01mwhile\u001b[39;00m \u001b[38;5;28;01mTrue\u001b[39;00m:\n\u001b[1;32m---> 45\u001b[0m     cv2\u001b[38;5;241m.\u001b[39mline(img, (point_x[\u001b[43ma\u001b[49m\u001b[38;5;241m-\u001b[39m\u001b[38;5;241m2\u001b[39m], point_y[a\u001b[38;5;241m-\u001b[39m\u001b[38;5;241m2\u001b[39m]), (x,y), (\u001b[38;5;241m255\u001b[39m,\u001b[38;5;241m0\u001b[39m,\u001b[38;5;241m0\u001b[39m),\u001b[38;5;241m1\u001b[39m,cv2\u001b[38;5;241m.\u001b[39mLINE_AA)    \u001b[38;5;66;03m# 파일, 시작점, 끝점, 색깔, 두께, 옵션\u001b[39;00m\n\u001b[0;32m     47\u001b[0m     \u001b[38;5;28;01mif\u001b[39;00m event \u001b[38;5;241m==\u001b[39m cv2\u001b[38;5;241m.\u001b[39mEVENT_LBUTTONDOWN:\n\u001b[0;32m     48\u001b[0m         \u001b[38;5;28;01mbreak\u001b[39;00m\n",
      "\u001b[1;31mUnboundLocalError\u001b[0m: cannot access local variable 'a' where it is not associated with a value"
     ]
    },
    {
     "ename": "UnboundLocalError",
     "evalue": "cannot access local variable 'a' where it is not associated with a value",
     "output_type": "error",
     "traceback": [
      "\u001b[1;31m---------------------------------------------------------------------------\u001b[0m",
      "\u001b[1;31mUnboundLocalError\u001b[0m                         Traceback (most recent call last)",
      "Cell \u001b[1;32mIn[38], line 45\u001b[0m, in \u001b[0;36monMouse\u001b[1;34m(event, x, y, flags, _)\u001b[0m\n\u001b[0;32m     42\u001b[0m     cv2\u001b[38;5;241m.\u001b[39mcircle(img, (x,y), \u001b[38;5;241m3\u001b[39m, (\u001b[38;5;241m255\u001b[39m,\u001b[38;5;241m0\u001b[39m,\u001b[38;5;241m0\u001b[39m), cv2\u001b[38;5;241m.\u001b[39mFILLED)\n\u001b[0;32m     44\u001b[0m \u001b[38;5;28;01mwhile\u001b[39;00m \u001b[38;5;28;01mTrue\u001b[39;00m:\n\u001b[1;32m---> 45\u001b[0m     cv2\u001b[38;5;241m.\u001b[39mline(img, (point_x[\u001b[43ma\u001b[49m\u001b[38;5;241m-\u001b[39m\u001b[38;5;241m2\u001b[39m], point_y[a\u001b[38;5;241m-\u001b[39m\u001b[38;5;241m2\u001b[39m]), (x,y), (\u001b[38;5;241m255\u001b[39m,\u001b[38;5;241m0\u001b[39m,\u001b[38;5;241m0\u001b[39m),\u001b[38;5;241m1\u001b[39m,cv2\u001b[38;5;241m.\u001b[39mLINE_AA)    \u001b[38;5;66;03m# 파일, 시작점, 끝점, 색깔, 두께, 옵션\u001b[39;00m\n\u001b[0;32m     47\u001b[0m     \u001b[38;5;28;01mif\u001b[39;00m event \u001b[38;5;241m==\u001b[39m cv2\u001b[38;5;241m.\u001b[39mEVENT_LBUTTONDOWN:\n\u001b[0;32m     48\u001b[0m         \u001b[38;5;28;01mbreak\u001b[39;00m\n",
      "\u001b[1;31mUnboundLocalError\u001b[0m: cannot access local variable 'a' where it is not associated with a value"
     ]
    },
    {
     "ename": "UnboundLocalError",
     "evalue": "cannot access local variable 'a' where it is not associated with a value",
     "output_type": "error",
     "traceback": [
      "\u001b[1;31m---------------------------------------------------------------------------\u001b[0m",
      "\u001b[1;31mUnboundLocalError\u001b[0m                         Traceback (most recent call last)",
      "Cell \u001b[1;32mIn[38], line 45\u001b[0m, in \u001b[0;36monMouse\u001b[1;34m(event, x, y, flags, _)\u001b[0m\n\u001b[0;32m     42\u001b[0m     cv2\u001b[38;5;241m.\u001b[39mcircle(img, (x,y), \u001b[38;5;241m3\u001b[39m, (\u001b[38;5;241m255\u001b[39m,\u001b[38;5;241m0\u001b[39m,\u001b[38;5;241m0\u001b[39m), cv2\u001b[38;5;241m.\u001b[39mFILLED)\n\u001b[0;32m     44\u001b[0m \u001b[38;5;28;01mwhile\u001b[39;00m \u001b[38;5;28;01mTrue\u001b[39;00m:\n\u001b[1;32m---> 45\u001b[0m     cv2\u001b[38;5;241m.\u001b[39mline(img, (point_x[\u001b[43ma\u001b[49m\u001b[38;5;241m-\u001b[39m\u001b[38;5;241m2\u001b[39m], point_y[a\u001b[38;5;241m-\u001b[39m\u001b[38;5;241m2\u001b[39m]), (x,y), (\u001b[38;5;241m255\u001b[39m,\u001b[38;5;241m0\u001b[39m,\u001b[38;5;241m0\u001b[39m),\u001b[38;5;241m1\u001b[39m,cv2\u001b[38;5;241m.\u001b[39mLINE_AA)    \u001b[38;5;66;03m# 파일, 시작점, 끝점, 색깔, 두께, 옵션\u001b[39;00m\n\u001b[0;32m     47\u001b[0m     \u001b[38;5;28;01mif\u001b[39;00m event \u001b[38;5;241m==\u001b[39m cv2\u001b[38;5;241m.\u001b[39mEVENT_LBUTTONDOWN:\n\u001b[0;32m     48\u001b[0m         \u001b[38;5;28;01mbreak\u001b[39;00m\n",
      "\u001b[1;31mUnboundLocalError\u001b[0m: cannot access local variable 'a' where it is not associated with a value"
     ]
    },
    {
     "ename": "UnboundLocalError",
     "evalue": "cannot access local variable 'a' where it is not associated with a value",
     "output_type": "error",
     "traceback": [
      "\u001b[1;31m---------------------------------------------------------------------------\u001b[0m",
      "\u001b[1;31mUnboundLocalError\u001b[0m                         Traceback (most recent call last)",
      "Cell \u001b[1;32mIn[38], line 45\u001b[0m, in \u001b[0;36monMouse\u001b[1;34m(event, x, y, flags, _)\u001b[0m\n\u001b[0;32m     42\u001b[0m     cv2\u001b[38;5;241m.\u001b[39mcircle(img, (x,y), \u001b[38;5;241m3\u001b[39m, (\u001b[38;5;241m255\u001b[39m,\u001b[38;5;241m0\u001b[39m,\u001b[38;5;241m0\u001b[39m), cv2\u001b[38;5;241m.\u001b[39mFILLED)\n\u001b[0;32m     44\u001b[0m \u001b[38;5;28;01mwhile\u001b[39;00m \u001b[38;5;28;01mTrue\u001b[39;00m:\n\u001b[1;32m---> 45\u001b[0m     cv2\u001b[38;5;241m.\u001b[39mline(img, (point_x[\u001b[43ma\u001b[49m\u001b[38;5;241m-\u001b[39m\u001b[38;5;241m2\u001b[39m], point_y[a\u001b[38;5;241m-\u001b[39m\u001b[38;5;241m2\u001b[39m]), (x,y), (\u001b[38;5;241m255\u001b[39m,\u001b[38;5;241m0\u001b[39m,\u001b[38;5;241m0\u001b[39m),\u001b[38;5;241m1\u001b[39m,cv2\u001b[38;5;241m.\u001b[39mLINE_AA)    \u001b[38;5;66;03m# 파일, 시작점, 끝점, 색깔, 두께, 옵션\u001b[39;00m\n\u001b[0;32m     47\u001b[0m     \u001b[38;5;28;01mif\u001b[39;00m event \u001b[38;5;241m==\u001b[39m cv2\u001b[38;5;241m.\u001b[39mEVENT_LBUTTONDOWN:\n\u001b[0;32m     48\u001b[0m         \u001b[38;5;28;01mbreak\u001b[39;00m\n",
      "\u001b[1;31mUnboundLocalError\u001b[0m: cannot access local variable 'a' where it is not associated with a value"
     ]
    },
    {
     "ename": "UnboundLocalError",
     "evalue": "cannot access local variable 'a' where it is not associated with a value",
     "output_type": "error",
     "traceback": [
      "\u001b[1;31m---------------------------------------------------------------------------\u001b[0m",
      "\u001b[1;31mUnboundLocalError\u001b[0m                         Traceback (most recent call last)",
      "Cell \u001b[1;32mIn[38], line 45\u001b[0m, in \u001b[0;36monMouse\u001b[1;34m(event, x, y, flags, _)\u001b[0m\n\u001b[0;32m     42\u001b[0m     cv2\u001b[38;5;241m.\u001b[39mcircle(img, (x,y), \u001b[38;5;241m3\u001b[39m, (\u001b[38;5;241m255\u001b[39m,\u001b[38;5;241m0\u001b[39m,\u001b[38;5;241m0\u001b[39m), cv2\u001b[38;5;241m.\u001b[39mFILLED)\n\u001b[0;32m     44\u001b[0m \u001b[38;5;28;01mwhile\u001b[39;00m \u001b[38;5;28;01mTrue\u001b[39;00m:\n\u001b[1;32m---> 45\u001b[0m     cv2\u001b[38;5;241m.\u001b[39mline(img, (point_x[\u001b[43ma\u001b[49m\u001b[38;5;241m-\u001b[39m\u001b[38;5;241m2\u001b[39m], point_y[a\u001b[38;5;241m-\u001b[39m\u001b[38;5;241m2\u001b[39m]), (x,y), (\u001b[38;5;241m255\u001b[39m,\u001b[38;5;241m0\u001b[39m,\u001b[38;5;241m0\u001b[39m),\u001b[38;5;241m1\u001b[39m,cv2\u001b[38;5;241m.\u001b[39mLINE_AA)    \u001b[38;5;66;03m# 파일, 시작점, 끝점, 색깔, 두께, 옵션\u001b[39;00m\n\u001b[0;32m     47\u001b[0m     \u001b[38;5;28;01mif\u001b[39;00m event \u001b[38;5;241m==\u001b[39m cv2\u001b[38;5;241m.\u001b[39mEVENT_LBUTTONDOWN:\n\u001b[0;32m     48\u001b[0m         \u001b[38;5;28;01mbreak\u001b[39;00m\n",
      "\u001b[1;31mUnboundLocalError\u001b[0m: cannot access local variable 'a' where it is not associated with a value"
     ]
    },
    {
     "ename": "UnboundLocalError",
     "evalue": "cannot access local variable 'a' where it is not associated with a value",
     "output_type": "error",
     "traceback": [
      "\u001b[1;31m---------------------------------------------------------------------------\u001b[0m",
      "\u001b[1;31mUnboundLocalError\u001b[0m                         Traceback (most recent call last)",
      "Cell \u001b[1;32mIn[38], line 45\u001b[0m, in \u001b[0;36monMouse\u001b[1;34m(event, x, y, flags, _)\u001b[0m\n\u001b[0;32m     42\u001b[0m     cv2\u001b[38;5;241m.\u001b[39mcircle(img, (x,y), \u001b[38;5;241m3\u001b[39m, (\u001b[38;5;241m255\u001b[39m,\u001b[38;5;241m0\u001b[39m,\u001b[38;5;241m0\u001b[39m), cv2\u001b[38;5;241m.\u001b[39mFILLED)\n\u001b[0;32m     44\u001b[0m \u001b[38;5;28;01mwhile\u001b[39;00m \u001b[38;5;28;01mTrue\u001b[39;00m:\n\u001b[1;32m---> 45\u001b[0m     cv2\u001b[38;5;241m.\u001b[39mline(img, (point_x[\u001b[43ma\u001b[49m\u001b[38;5;241m-\u001b[39m\u001b[38;5;241m2\u001b[39m], point_y[a\u001b[38;5;241m-\u001b[39m\u001b[38;5;241m2\u001b[39m]), (x,y), (\u001b[38;5;241m255\u001b[39m,\u001b[38;5;241m0\u001b[39m,\u001b[38;5;241m0\u001b[39m),\u001b[38;5;241m1\u001b[39m,cv2\u001b[38;5;241m.\u001b[39mLINE_AA)    \u001b[38;5;66;03m# 파일, 시작점, 끝점, 색깔, 두께, 옵션\u001b[39;00m\n\u001b[0;32m     47\u001b[0m     \u001b[38;5;28;01mif\u001b[39;00m event \u001b[38;5;241m==\u001b[39m cv2\u001b[38;5;241m.\u001b[39mEVENT_LBUTTONDOWN:\n\u001b[0;32m     48\u001b[0m         \u001b[38;5;28;01mbreak\u001b[39;00m\n",
      "\u001b[1;31mUnboundLocalError\u001b[0m: cannot access local variable 'a' where it is not associated with a value"
     ]
    },
    {
     "ename": "UnboundLocalError",
     "evalue": "cannot access local variable 'a' where it is not associated with a value",
     "output_type": "error",
     "traceback": [
      "\u001b[1;31m---------------------------------------------------------------------------\u001b[0m",
      "\u001b[1;31mUnboundLocalError\u001b[0m                         Traceback (most recent call last)",
      "Cell \u001b[1;32mIn[38], line 45\u001b[0m, in \u001b[0;36monMouse\u001b[1;34m(event, x, y, flags, _)\u001b[0m\n\u001b[0;32m     42\u001b[0m     cv2\u001b[38;5;241m.\u001b[39mcircle(img, (x,y), \u001b[38;5;241m3\u001b[39m, (\u001b[38;5;241m255\u001b[39m,\u001b[38;5;241m0\u001b[39m,\u001b[38;5;241m0\u001b[39m), cv2\u001b[38;5;241m.\u001b[39mFILLED)\n\u001b[0;32m     44\u001b[0m \u001b[38;5;28;01mwhile\u001b[39;00m \u001b[38;5;28;01mTrue\u001b[39;00m:\n\u001b[1;32m---> 45\u001b[0m     cv2\u001b[38;5;241m.\u001b[39mline(img, (point_x[\u001b[43ma\u001b[49m\u001b[38;5;241m-\u001b[39m\u001b[38;5;241m2\u001b[39m], point_y[a\u001b[38;5;241m-\u001b[39m\u001b[38;5;241m2\u001b[39m]), (x,y), (\u001b[38;5;241m255\u001b[39m,\u001b[38;5;241m0\u001b[39m,\u001b[38;5;241m0\u001b[39m),\u001b[38;5;241m1\u001b[39m,cv2\u001b[38;5;241m.\u001b[39mLINE_AA)    \u001b[38;5;66;03m# 파일, 시작점, 끝점, 색깔, 두께, 옵션\u001b[39;00m\n\u001b[0;32m     47\u001b[0m     \u001b[38;5;28;01mif\u001b[39;00m event \u001b[38;5;241m==\u001b[39m cv2\u001b[38;5;241m.\u001b[39mEVENT_LBUTTONDOWN:\n\u001b[0;32m     48\u001b[0m         \u001b[38;5;28;01mbreak\u001b[39;00m\n",
      "\u001b[1;31mUnboundLocalError\u001b[0m: cannot access local variable 'a' where it is not associated with a value"
     ]
    },
    {
     "ename": "UnboundLocalError",
     "evalue": "cannot access local variable 'a' where it is not associated with a value",
     "output_type": "error",
     "traceback": [
      "\u001b[1;31m---------------------------------------------------------------------------\u001b[0m",
      "\u001b[1;31mUnboundLocalError\u001b[0m                         Traceback (most recent call last)",
      "Cell \u001b[1;32mIn[38], line 45\u001b[0m, in \u001b[0;36monMouse\u001b[1;34m(event, x, y, flags, _)\u001b[0m\n\u001b[0;32m     42\u001b[0m     cv2\u001b[38;5;241m.\u001b[39mcircle(img, (x,y), \u001b[38;5;241m3\u001b[39m, (\u001b[38;5;241m255\u001b[39m,\u001b[38;5;241m0\u001b[39m,\u001b[38;5;241m0\u001b[39m), cv2\u001b[38;5;241m.\u001b[39mFILLED)\n\u001b[0;32m     44\u001b[0m \u001b[38;5;28;01mwhile\u001b[39;00m \u001b[38;5;28;01mTrue\u001b[39;00m:\n\u001b[1;32m---> 45\u001b[0m     cv2\u001b[38;5;241m.\u001b[39mline(img, (point_x[\u001b[43ma\u001b[49m\u001b[38;5;241m-\u001b[39m\u001b[38;5;241m2\u001b[39m], point_y[a\u001b[38;5;241m-\u001b[39m\u001b[38;5;241m2\u001b[39m]), (x,y), (\u001b[38;5;241m255\u001b[39m,\u001b[38;5;241m0\u001b[39m,\u001b[38;5;241m0\u001b[39m),\u001b[38;5;241m1\u001b[39m,cv2\u001b[38;5;241m.\u001b[39mLINE_AA)    \u001b[38;5;66;03m# 파일, 시작점, 끝점, 색깔, 두께, 옵션\u001b[39;00m\n\u001b[0;32m     47\u001b[0m     \u001b[38;5;28;01mif\u001b[39;00m event \u001b[38;5;241m==\u001b[39m cv2\u001b[38;5;241m.\u001b[39mEVENT_LBUTTONDOWN:\n\u001b[0;32m     48\u001b[0m         \u001b[38;5;28;01mbreak\u001b[39;00m\n",
      "\u001b[1;31mUnboundLocalError\u001b[0m: cannot access local variable 'a' where it is not associated with a value"
     ]
    },
    {
     "ename": "UnboundLocalError",
     "evalue": "cannot access local variable 'a' where it is not associated with a value",
     "output_type": "error",
     "traceback": [
      "\u001b[1;31m---------------------------------------------------------------------------\u001b[0m",
      "\u001b[1;31mUnboundLocalError\u001b[0m                         Traceback (most recent call last)",
      "Cell \u001b[1;32mIn[38], line 45\u001b[0m, in \u001b[0;36monMouse\u001b[1;34m(event, x, y, flags, _)\u001b[0m\n\u001b[0;32m     42\u001b[0m     cv2\u001b[38;5;241m.\u001b[39mcircle(img, (x,y), \u001b[38;5;241m3\u001b[39m, (\u001b[38;5;241m255\u001b[39m,\u001b[38;5;241m0\u001b[39m,\u001b[38;5;241m0\u001b[39m), cv2\u001b[38;5;241m.\u001b[39mFILLED)\n\u001b[0;32m     44\u001b[0m \u001b[38;5;28;01mwhile\u001b[39;00m \u001b[38;5;28;01mTrue\u001b[39;00m:\n\u001b[1;32m---> 45\u001b[0m     cv2\u001b[38;5;241m.\u001b[39mline(img, (point_x[\u001b[43ma\u001b[49m\u001b[38;5;241m-\u001b[39m\u001b[38;5;241m2\u001b[39m], point_y[a\u001b[38;5;241m-\u001b[39m\u001b[38;5;241m2\u001b[39m]), (x,y), (\u001b[38;5;241m255\u001b[39m,\u001b[38;5;241m0\u001b[39m,\u001b[38;5;241m0\u001b[39m),\u001b[38;5;241m1\u001b[39m,cv2\u001b[38;5;241m.\u001b[39mLINE_AA)    \u001b[38;5;66;03m# 파일, 시작점, 끝점, 색깔, 두께, 옵션\u001b[39;00m\n\u001b[0;32m     47\u001b[0m     \u001b[38;5;28;01mif\u001b[39;00m event \u001b[38;5;241m==\u001b[39m cv2\u001b[38;5;241m.\u001b[39mEVENT_LBUTTONDOWN:\n\u001b[0;32m     48\u001b[0m         \u001b[38;5;28;01mbreak\u001b[39;00m\n",
      "\u001b[1;31mUnboundLocalError\u001b[0m: cannot access local variable 'a' where it is not associated with a value"
     ]
    },
    {
     "ename": "UnboundLocalError",
     "evalue": "cannot access local variable 'a' where it is not associated with a value",
     "output_type": "error",
     "traceback": [
      "\u001b[1;31m---------------------------------------------------------------------------\u001b[0m",
      "\u001b[1;31mUnboundLocalError\u001b[0m                         Traceback (most recent call last)",
      "Cell \u001b[1;32mIn[38], line 45\u001b[0m, in \u001b[0;36monMouse\u001b[1;34m(event, x, y, flags, _)\u001b[0m\n\u001b[0;32m     42\u001b[0m     cv2\u001b[38;5;241m.\u001b[39mcircle(img, (x,y), \u001b[38;5;241m3\u001b[39m, (\u001b[38;5;241m255\u001b[39m,\u001b[38;5;241m0\u001b[39m,\u001b[38;5;241m0\u001b[39m), cv2\u001b[38;5;241m.\u001b[39mFILLED)\n\u001b[0;32m     44\u001b[0m \u001b[38;5;28;01mwhile\u001b[39;00m \u001b[38;5;28;01mTrue\u001b[39;00m:\n\u001b[1;32m---> 45\u001b[0m     cv2\u001b[38;5;241m.\u001b[39mline(img, (point_x[\u001b[43ma\u001b[49m\u001b[38;5;241m-\u001b[39m\u001b[38;5;241m2\u001b[39m], point_y[a\u001b[38;5;241m-\u001b[39m\u001b[38;5;241m2\u001b[39m]), (x,y), (\u001b[38;5;241m255\u001b[39m,\u001b[38;5;241m0\u001b[39m,\u001b[38;5;241m0\u001b[39m),\u001b[38;5;241m1\u001b[39m,cv2\u001b[38;5;241m.\u001b[39mLINE_AA)    \u001b[38;5;66;03m# 파일, 시작점, 끝점, 색깔, 두께, 옵션\u001b[39;00m\n\u001b[0;32m     47\u001b[0m     \u001b[38;5;28;01mif\u001b[39;00m event \u001b[38;5;241m==\u001b[39m cv2\u001b[38;5;241m.\u001b[39mEVENT_LBUTTONDOWN:\n\u001b[0;32m     48\u001b[0m         \u001b[38;5;28;01mbreak\u001b[39;00m\n",
      "\u001b[1;31mUnboundLocalError\u001b[0m: cannot access local variable 'a' where it is not associated with a value"
     ]
    },
    {
     "ename": "UnboundLocalError",
     "evalue": "cannot access local variable 'a' where it is not associated with a value",
     "output_type": "error",
     "traceback": [
      "\u001b[1;31m---------------------------------------------------------------------------\u001b[0m",
      "\u001b[1;31mUnboundLocalError\u001b[0m                         Traceback (most recent call last)",
      "Cell \u001b[1;32mIn[38], line 45\u001b[0m, in \u001b[0;36monMouse\u001b[1;34m(event, x, y, flags, _)\u001b[0m\n\u001b[0;32m     42\u001b[0m     cv2\u001b[38;5;241m.\u001b[39mcircle(img, (x,y), \u001b[38;5;241m3\u001b[39m, (\u001b[38;5;241m255\u001b[39m,\u001b[38;5;241m0\u001b[39m,\u001b[38;5;241m0\u001b[39m), cv2\u001b[38;5;241m.\u001b[39mFILLED)\n\u001b[0;32m     44\u001b[0m \u001b[38;5;28;01mwhile\u001b[39;00m \u001b[38;5;28;01mTrue\u001b[39;00m:\n\u001b[1;32m---> 45\u001b[0m     cv2\u001b[38;5;241m.\u001b[39mline(img, (point_x[\u001b[43ma\u001b[49m\u001b[38;5;241m-\u001b[39m\u001b[38;5;241m2\u001b[39m], point_y[a\u001b[38;5;241m-\u001b[39m\u001b[38;5;241m2\u001b[39m]), (x,y), (\u001b[38;5;241m255\u001b[39m,\u001b[38;5;241m0\u001b[39m,\u001b[38;5;241m0\u001b[39m),\u001b[38;5;241m1\u001b[39m,cv2\u001b[38;5;241m.\u001b[39mLINE_AA)    \u001b[38;5;66;03m# 파일, 시작점, 끝점, 색깔, 두께, 옵션\u001b[39;00m\n\u001b[0;32m     47\u001b[0m     \u001b[38;5;28;01mif\u001b[39;00m event \u001b[38;5;241m==\u001b[39m cv2\u001b[38;5;241m.\u001b[39mEVENT_LBUTTONDOWN:\n\u001b[0;32m     48\u001b[0m         \u001b[38;5;28;01mbreak\u001b[39;00m\n",
      "\u001b[1;31mUnboundLocalError\u001b[0m: cannot access local variable 'a' where it is not associated with a value"
     ]
    },
    {
     "ename": "UnboundLocalError",
     "evalue": "cannot access local variable 'a' where it is not associated with a value",
     "output_type": "error",
     "traceback": [
      "\u001b[1;31m---------------------------------------------------------------------------\u001b[0m",
      "\u001b[1;31mUnboundLocalError\u001b[0m                         Traceback (most recent call last)",
      "Cell \u001b[1;32mIn[38], line 45\u001b[0m, in \u001b[0;36monMouse\u001b[1;34m(event, x, y, flags, _)\u001b[0m\n\u001b[0;32m     42\u001b[0m     cv2\u001b[38;5;241m.\u001b[39mcircle(img, (x,y), \u001b[38;5;241m3\u001b[39m, (\u001b[38;5;241m255\u001b[39m,\u001b[38;5;241m0\u001b[39m,\u001b[38;5;241m0\u001b[39m), cv2\u001b[38;5;241m.\u001b[39mFILLED)\n\u001b[0;32m     44\u001b[0m \u001b[38;5;28;01mwhile\u001b[39;00m \u001b[38;5;28;01mTrue\u001b[39;00m:\n\u001b[1;32m---> 45\u001b[0m     cv2\u001b[38;5;241m.\u001b[39mline(img, (point_x[\u001b[43ma\u001b[49m\u001b[38;5;241m-\u001b[39m\u001b[38;5;241m2\u001b[39m], point_y[a\u001b[38;5;241m-\u001b[39m\u001b[38;5;241m2\u001b[39m]), (x,y), (\u001b[38;5;241m255\u001b[39m,\u001b[38;5;241m0\u001b[39m,\u001b[38;5;241m0\u001b[39m),\u001b[38;5;241m1\u001b[39m,cv2\u001b[38;5;241m.\u001b[39mLINE_AA)    \u001b[38;5;66;03m# 파일, 시작점, 끝점, 색깔, 두께, 옵션\u001b[39;00m\n\u001b[0;32m     47\u001b[0m     \u001b[38;5;28;01mif\u001b[39;00m event \u001b[38;5;241m==\u001b[39m cv2\u001b[38;5;241m.\u001b[39mEVENT_LBUTTONDOWN:\n\u001b[0;32m     48\u001b[0m         \u001b[38;5;28;01mbreak\u001b[39;00m\n",
      "\u001b[1;31mUnboundLocalError\u001b[0m: cannot access local variable 'a' where it is not associated with a value"
     ]
    },
    {
     "ename": "UnboundLocalError",
     "evalue": "cannot access local variable 'a' where it is not associated with a value",
     "output_type": "error",
     "traceback": [
      "\u001b[1;31m---------------------------------------------------------------------------\u001b[0m",
      "\u001b[1;31mUnboundLocalError\u001b[0m                         Traceback (most recent call last)",
      "Cell \u001b[1;32mIn[38], line 45\u001b[0m, in \u001b[0;36monMouse\u001b[1;34m(event, x, y, flags, _)\u001b[0m\n\u001b[0;32m     42\u001b[0m     cv2\u001b[38;5;241m.\u001b[39mcircle(img, (x,y), \u001b[38;5;241m3\u001b[39m, (\u001b[38;5;241m255\u001b[39m,\u001b[38;5;241m0\u001b[39m,\u001b[38;5;241m0\u001b[39m), cv2\u001b[38;5;241m.\u001b[39mFILLED)\n\u001b[0;32m     44\u001b[0m \u001b[38;5;28;01mwhile\u001b[39;00m \u001b[38;5;28;01mTrue\u001b[39;00m:\n\u001b[1;32m---> 45\u001b[0m     cv2\u001b[38;5;241m.\u001b[39mline(img, (point_x[\u001b[43ma\u001b[49m\u001b[38;5;241m-\u001b[39m\u001b[38;5;241m2\u001b[39m], point_y[a\u001b[38;5;241m-\u001b[39m\u001b[38;5;241m2\u001b[39m]), (x,y), (\u001b[38;5;241m255\u001b[39m,\u001b[38;5;241m0\u001b[39m,\u001b[38;5;241m0\u001b[39m),\u001b[38;5;241m1\u001b[39m,cv2\u001b[38;5;241m.\u001b[39mLINE_AA)    \u001b[38;5;66;03m# 파일, 시작점, 끝점, 색깔, 두께, 옵션\u001b[39;00m\n\u001b[0;32m     47\u001b[0m     \u001b[38;5;28;01mif\u001b[39;00m event \u001b[38;5;241m==\u001b[39m cv2\u001b[38;5;241m.\u001b[39mEVENT_LBUTTONDOWN:\n\u001b[0;32m     48\u001b[0m         \u001b[38;5;28;01mbreak\u001b[39;00m\n",
      "\u001b[1;31mUnboundLocalError\u001b[0m: cannot access local variable 'a' where it is not associated with a value"
     ]
    },
    {
     "ename": "UnboundLocalError",
     "evalue": "cannot access local variable 'a' where it is not associated with a value",
     "output_type": "error",
     "traceback": [
      "\u001b[1;31m---------------------------------------------------------------------------\u001b[0m",
      "\u001b[1;31mUnboundLocalError\u001b[0m                         Traceback (most recent call last)",
      "Cell \u001b[1;32mIn[38], line 45\u001b[0m, in \u001b[0;36monMouse\u001b[1;34m(event, x, y, flags, _)\u001b[0m\n\u001b[0;32m     42\u001b[0m     cv2\u001b[38;5;241m.\u001b[39mcircle(img, (x,y), \u001b[38;5;241m3\u001b[39m, (\u001b[38;5;241m255\u001b[39m,\u001b[38;5;241m0\u001b[39m,\u001b[38;5;241m0\u001b[39m), cv2\u001b[38;5;241m.\u001b[39mFILLED)\n\u001b[0;32m     44\u001b[0m \u001b[38;5;28;01mwhile\u001b[39;00m \u001b[38;5;28;01mTrue\u001b[39;00m:\n\u001b[1;32m---> 45\u001b[0m     cv2\u001b[38;5;241m.\u001b[39mline(img, (point_x[\u001b[43ma\u001b[49m\u001b[38;5;241m-\u001b[39m\u001b[38;5;241m2\u001b[39m], point_y[a\u001b[38;5;241m-\u001b[39m\u001b[38;5;241m2\u001b[39m]), (x,y), (\u001b[38;5;241m255\u001b[39m,\u001b[38;5;241m0\u001b[39m,\u001b[38;5;241m0\u001b[39m),\u001b[38;5;241m1\u001b[39m,cv2\u001b[38;5;241m.\u001b[39mLINE_AA)    \u001b[38;5;66;03m# 파일, 시작점, 끝점, 색깔, 두께, 옵션\u001b[39;00m\n\u001b[0;32m     47\u001b[0m     \u001b[38;5;28;01mif\u001b[39;00m event \u001b[38;5;241m==\u001b[39m cv2\u001b[38;5;241m.\u001b[39mEVENT_LBUTTONDOWN:\n\u001b[0;32m     48\u001b[0m         \u001b[38;5;28;01mbreak\u001b[39;00m\n",
      "\u001b[1;31mUnboundLocalError\u001b[0m: cannot access local variable 'a' where it is not associated with a value"
     ]
    },
    {
     "ename": "UnboundLocalError",
     "evalue": "cannot access local variable 'a' where it is not associated with a value",
     "output_type": "error",
     "traceback": [
      "\u001b[1;31m---------------------------------------------------------------------------\u001b[0m",
      "\u001b[1;31mUnboundLocalError\u001b[0m                         Traceback (most recent call last)",
      "Cell \u001b[1;32mIn[38], line 45\u001b[0m, in \u001b[0;36monMouse\u001b[1;34m(event, x, y, flags, _)\u001b[0m\n\u001b[0;32m     42\u001b[0m     cv2\u001b[38;5;241m.\u001b[39mcircle(img, (x,y), \u001b[38;5;241m3\u001b[39m, (\u001b[38;5;241m255\u001b[39m,\u001b[38;5;241m0\u001b[39m,\u001b[38;5;241m0\u001b[39m), cv2\u001b[38;5;241m.\u001b[39mFILLED)\n\u001b[0;32m     44\u001b[0m \u001b[38;5;28;01mwhile\u001b[39;00m \u001b[38;5;28;01mTrue\u001b[39;00m:\n\u001b[1;32m---> 45\u001b[0m     cv2\u001b[38;5;241m.\u001b[39mline(img, (point_x[\u001b[43ma\u001b[49m\u001b[38;5;241m-\u001b[39m\u001b[38;5;241m2\u001b[39m], point_y[a\u001b[38;5;241m-\u001b[39m\u001b[38;5;241m2\u001b[39m]), (x,y), (\u001b[38;5;241m255\u001b[39m,\u001b[38;5;241m0\u001b[39m,\u001b[38;5;241m0\u001b[39m),\u001b[38;5;241m1\u001b[39m,cv2\u001b[38;5;241m.\u001b[39mLINE_AA)    \u001b[38;5;66;03m# 파일, 시작점, 끝점, 색깔, 두께, 옵션\u001b[39;00m\n\u001b[0;32m     47\u001b[0m     \u001b[38;5;28;01mif\u001b[39;00m event \u001b[38;5;241m==\u001b[39m cv2\u001b[38;5;241m.\u001b[39mEVENT_LBUTTONDOWN:\n\u001b[0;32m     48\u001b[0m         \u001b[38;5;28;01mbreak\u001b[39;00m\n",
      "\u001b[1;31mUnboundLocalError\u001b[0m: cannot access local variable 'a' where it is not associated with a value"
     ]
    },
    {
     "ename": "UnboundLocalError",
     "evalue": "cannot access local variable 'a' where it is not associated with a value",
     "output_type": "error",
     "traceback": [
      "\u001b[1;31m---------------------------------------------------------------------------\u001b[0m",
      "\u001b[1;31mUnboundLocalError\u001b[0m                         Traceback (most recent call last)",
      "Cell \u001b[1;32mIn[38], line 45\u001b[0m, in \u001b[0;36monMouse\u001b[1;34m(event, x, y, flags, _)\u001b[0m\n\u001b[0;32m     42\u001b[0m     cv2\u001b[38;5;241m.\u001b[39mcircle(img, (x,y), \u001b[38;5;241m3\u001b[39m, (\u001b[38;5;241m255\u001b[39m,\u001b[38;5;241m0\u001b[39m,\u001b[38;5;241m0\u001b[39m), cv2\u001b[38;5;241m.\u001b[39mFILLED)\n\u001b[0;32m     44\u001b[0m \u001b[38;5;28;01mwhile\u001b[39;00m \u001b[38;5;28;01mTrue\u001b[39;00m:\n\u001b[1;32m---> 45\u001b[0m     cv2\u001b[38;5;241m.\u001b[39mline(img, (point_x[\u001b[43ma\u001b[49m\u001b[38;5;241m-\u001b[39m\u001b[38;5;241m2\u001b[39m], point_y[a\u001b[38;5;241m-\u001b[39m\u001b[38;5;241m2\u001b[39m]), (x,y), (\u001b[38;5;241m255\u001b[39m,\u001b[38;5;241m0\u001b[39m,\u001b[38;5;241m0\u001b[39m),\u001b[38;5;241m1\u001b[39m,cv2\u001b[38;5;241m.\u001b[39mLINE_AA)    \u001b[38;5;66;03m# 파일, 시작점, 끝점, 색깔, 두께, 옵션\u001b[39;00m\n\u001b[0;32m     47\u001b[0m     \u001b[38;5;28;01mif\u001b[39;00m event \u001b[38;5;241m==\u001b[39m cv2\u001b[38;5;241m.\u001b[39mEVENT_LBUTTONDOWN:\n\u001b[0;32m     48\u001b[0m         \u001b[38;5;28;01mbreak\u001b[39;00m\n",
      "\u001b[1;31mUnboundLocalError\u001b[0m: cannot access local variable 'a' where it is not associated with a value"
     ]
    },
    {
     "ename": "UnboundLocalError",
     "evalue": "cannot access local variable 'a' where it is not associated with a value",
     "output_type": "error",
     "traceback": [
      "\u001b[1;31m---------------------------------------------------------------------------\u001b[0m",
      "\u001b[1;31mUnboundLocalError\u001b[0m                         Traceback (most recent call last)",
      "Cell \u001b[1;32mIn[38], line 45\u001b[0m, in \u001b[0;36monMouse\u001b[1;34m(event, x, y, flags, _)\u001b[0m\n\u001b[0;32m     42\u001b[0m     cv2\u001b[38;5;241m.\u001b[39mcircle(img, (x,y), \u001b[38;5;241m3\u001b[39m, (\u001b[38;5;241m255\u001b[39m,\u001b[38;5;241m0\u001b[39m,\u001b[38;5;241m0\u001b[39m), cv2\u001b[38;5;241m.\u001b[39mFILLED)\n\u001b[0;32m     44\u001b[0m \u001b[38;5;28;01mwhile\u001b[39;00m \u001b[38;5;28;01mTrue\u001b[39;00m:\n\u001b[1;32m---> 45\u001b[0m     cv2\u001b[38;5;241m.\u001b[39mline(img, (point_x[\u001b[43ma\u001b[49m\u001b[38;5;241m-\u001b[39m\u001b[38;5;241m2\u001b[39m], point_y[a\u001b[38;5;241m-\u001b[39m\u001b[38;5;241m2\u001b[39m]), (x,y), (\u001b[38;5;241m255\u001b[39m,\u001b[38;5;241m0\u001b[39m,\u001b[38;5;241m0\u001b[39m),\u001b[38;5;241m1\u001b[39m,cv2\u001b[38;5;241m.\u001b[39mLINE_AA)    \u001b[38;5;66;03m# 파일, 시작점, 끝점, 색깔, 두께, 옵션\u001b[39;00m\n\u001b[0;32m     47\u001b[0m     \u001b[38;5;28;01mif\u001b[39;00m event \u001b[38;5;241m==\u001b[39m cv2\u001b[38;5;241m.\u001b[39mEVENT_LBUTTONDOWN:\n\u001b[0;32m     48\u001b[0m         \u001b[38;5;28;01mbreak\u001b[39;00m\n",
      "\u001b[1;31mUnboundLocalError\u001b[0m: cannot access local variable 'a' where it is not associated with a value"
     ]
    },
    {
     "ename": "UnboundLocalError",
     "evalue": "cannot access local variable 'a' where it is not associated with a value",
     "output_type": "error",
     "traceback": [
      "\u001b[1;31m---------------------------------------------------------------------------\u001b[0m",
      "\u001b[1;31mUnboundLocalError\u001b[0m                         Traceback (most recent call last)",
      "Cell \u001b[1;32mIn[38], line 45\u001b[0m, in \u001b[0;36monMouse\u001b[1;34m(event, x, y, flags, _)\u001b[0m\n\u001b[0;32m     42\u001b[0m     cv2\u001b[38;5;241m.\u001b[39mcircle(img, (x,y), \u001b[38;5;241m3\u001b[39m, (\u001b[38;5;241m255\u001b[39m,\u001b[38;5;241m0\u001b[39m,\u001b[38;5;241m0\u001b[39m), cv2\u001b[38;5;241m.\u001b[39mFILLED)\n\u001b[0;32m     44\u001b[0m \u001b[38;5;28;01mwhile\u001b[39;00m \u001b[38;5;28;01mTrue\u001b[39;00m:\n\u001b[1;32m---> 45\u001b[0m     cv2\u001b[38;5;241m.\u001b[39mline(img, (point_x[\u001b[43ma\u001b[49m\u001b[38;5;241m-\u001b[39m\u001b[38;5;241m2\u001b[39m], point_y[a\u001b[38;5;241m-\u001b[39m\u001b[38;5;241m2\u001b[39m]), (x,y), (\u001b[38;5;241m255\u001b[39m,\u001b[38;5;241m0\u001b[39m,\u001b[38;5;241m0\u001b[39m),\u001b[38;5;241m1\u001b[39m,cv2\u001b[38;5;241m.\u001b[39mLINE_AA)    \u001b[38;5;66;03m# 파일, 시작점, 끝점, 색깔, 두께, 옵션\u001b[39;00m\n\u001b[0;32m     47\u001b[0m     \u001b[38;5;28;01mif\u001b[39;00m event \u001b[38;5;241m==\u001b[39m cv2\u001b[38;5;241m.\u001b[39mEVENT_LBUTTONDOWN:\n\u001b[0;32m     48\u001b[0m         \u001b[38;5;28;01mbreak\u001b[39;00m\n",
      "\u001b[1;31mUnboundLocalError\u001b[0m: cannot access local variable 'a' where it is not associated with a value"
     ]
    },
    {
     "ename": "UnboundLocalError",
     "evalue": "cannot access local variable 'a' where it is not associated with a value",
     "output_type": "error",
     "traceback": [
      "\u001b[1;31m---------------------------------------------------------------------------\u001b[0m",
      "\u001b[1;31mUnboundLocalError\u001b[0m                         Traceback (most recent call last)",
      "Cell \u001b[1;32mIn[38], line 45\u001b[0m, in \u001b[0;36monMouse\u001b[1;34m(event, x, y, flags, _)\u001b[0m\n\u001b[0;32m     42\u001b[0m     cv2\u001b[38;5;241m.\u001b[39mcircle(img, (x,y), \u001b[38;5;241m3\u001b[39m, (\u001b[38;5;241m255\u001b[39m,\u001b[38;5;241m0\u001b[39m,\u001b[38;5;241m0\u001b[39m), cv2\u001b[38;5;241m.\u001b[39mFILLED)\n\u001b[0;32m     44\u001b[0m \u001b[38;5;28;01mwhile\u001b[39;00m \u001b[38;5;28;01mTrue\u001b[39;00m:\n\u001b[1;32m---> 45\u001b[0m     cv2\u001b[38;5;241m.\u001b[39mline(img, (point_x[\u001b[43ma\u001b[49m\u001b[38;5;241m-\u001b[39m\u001b[38;5;241m2\u001b[39m], point_y[a\u001b[38;5;241m-\u001b[39m\u001b[38;5;241m2\u001b[39m]), (x,y), (\u001b[38;5;241m255\u001b[39m,\u001b[38;5;241m0\u001b[39m,\u001b[38;5;241m0\u001b[39m),\u001b[38;5;241m1\u001b[39m,cv2\u001b[38;5;241m.\u001b[39mLINE_AA)    \u001b[38;5;66;03m# 파일, 시작점, 끝점, 색깔, 두께, 옵션\u001b[39;00m\n\u001b[0;32m     47\u001b[0m     \u001b[38;5;28;01mif\u001b[39;00m event \u001b[38;5;241m==\u001b[39m cv2\u001b[38;5;241m.\u001b[39mEVENT_LBUTTONDOWN:\n\u001b[0;32m     48\u001b[0m         \u001b[38;5;28;01mbreak\u001b[39;00m\n",
      "\u001b[1;31mUnboundLocalError\u001b[0m: cannot access local variable 'a' where it is not associated with a value"
     ]
    },
    {
     "ename": "UnboundLocalError",
     "evalue": "cannot access local variable 'a' where it is not associated with a value",
     "output_type": "error",
     "traceback": [
      "\u001b[1;31m---------------------------------------------------------------------------\u001b[0m",
      "\u001b[1;31mUnboundLocalError\u001b[0m                         Traceback (most recent call last)",
      "Cell \u001b[1;32mIn[38], line 45\u001b[0m, in \u001b[0;36monMouse\u001b[1;34m(event, x, y, flags, _)\u001b[0m\n\u001b[0;32m     42\u001b[0m     cv2\u001b[38;5;241m.\u001b[39mcircle(img, (x,y), \u001b[38;5;241m3\u001b[39m, (\u001b[38;5;241m255\u001b[39m,\u001b[38;5;241m0\u001b[39m,\u001b[38;5;241m0\u001b[39m), cv2\u001b[38;5;241m.\u001b[39mFILLED)\n\u001b[0;32m     44\u001b[0m \u001b[38;5;28;01mwhile\u001b[39;00m \u001b[38;5;28;01mTrue\u001b[39;00m:\n\u001b[1;32m---> 45\u001b[0m     cv2\u001b[38;5;241m.\u001b[39mline(img, (point_x[\u001b[43ma\u001b[49m\u001b[38;5;241m-\u001b[39m\u001b[38;5;241m2\u001b[39m], point_y[a\u001b[38;5;241m-\u001b[39m\u001b[38;5;241m2\u001b[39m]), (x,y), (\u001b[38;5;241m255\u001b[39m,\u001b[38;5;241m0\u001b[39m,\u001b[38;5;241m0\u001b[39m),\u001b[38;5;241m1\u001b[39m,cv2\u001b[38;5;241m.\u001b[39mLINE_AA)    \u001b[38;5;66;03m# 파일, 시작점, 끝점, 색깔, 두께, 옵션\u001b[39;00m\n\u001b[0;32m     47\u001b[0m     \u001b[38;5;28;01mif\u001b[39;00m event \u001b[38;5;241m==\u001b[39m cv2\u001b[38;5;241m.\u001b[39mEVENT_LBUTTONDOWN:\n\u001b[0;32m     48\u001b[0m         \u001b[38;5;28;01mbreak\u001b[39;00m\n",
      "\u001b[1;31mUnboundLocalError\u001b[0m: cannot access local variable 'a' where it is not associated with a value"
     ]
    },
    {
     "ename": "UnboundLocalError",
     "evalue": "cannot access local variable 'a' where it is not associated with a value",
     "output_type": "error",
     "traceback": [
      "\u001b[1;31m---------------------------------------------------------------------------\u001b[0m",
      "\u001b[1;31mUnboundLocalError\u001b[0m                         Traceback (most recent call last)",
      "Cell \u001b[1;32mIn[38], line 45\u001b[0m, in \u001b[0;36monMouse\u001b[1;34m(event, x, y, flags, _)\u001b[0m\n\u001b[0;32m     42\u001b[0m     cv2\u001b[38;5;241m.\u001b[39mcircle(img, (x,y), \u001b[38;5;241m3\u001b[39m, (\u001b[38;5;241m255\u001b[39m,\u001b[38;5;241m0\u001b[39m,\u001b[38;5;241m0\u001b[39m), cv2\u001b[38;5;241m.\u001b[39mFILLED)\n\u001b[0;32m     44\u001b[0m \u001b[38;5;28;01mwhile\u001b[39;00m \u001b[38;5;28;01mTrue\u001b[39;00m:\n\u001b[1;32m---> 45\u001b[0m     cv2\u001b[38;5;241m.\u001b[39mline(img, (point_x[\u001b[43ma\u001b[49m\u001b[38;5;241m-\u001b[39m\u001b[38;5;241m2\u001b[39m], point_y[a\u001b[38;5;241m-\u001b[39m\u001b[38;5;241m2\u001b[39m]), (x,y), (\u001b[38;5;241m255\u001b[39m,\u001b[38;5;241m0\u001b[39m,\u001b[38;5;241m0\u001b[39m),\u001b[38;5;241m1\u001b[39m,cv2\u001b[38;5;241m.\u001b[39mLINE_AA)    \u001b[38;5;66;03m# 파일, 시작점, 끝점, 색깔, 두께, 옵션\u001b[39;00m\n\u001b[0;32m     47\u001b[0m     \u001b[38;5;28;01mif\u001b[39;00m event \u001b[38;5;241m==\u001b[39m cv2\u001b[38;5;241m.\u001b[39mEVENT_LBUTTONDOWN:\n\u001b[0;32m     48\u001b[0m         \u001b[38;5;28;01mbreak\u001b[39;00m\n",
      "\u001b[1;31mUnboundLocalError\u001b[0m: cannot access local variable 'a' where it is not associated with a value"
     ]
    },
    {
     "ename": "UnboundLocalError",
     "evalue": "cannot access local variable 'a' where it is not associated with a value",
     "output_type": "error",
     "traceback": [
      "\u001b[1;31m---------------------------------------------------------------------------\u001b[0m",
      "\u001b[1;31mUnboundLocalError\u001b[0m                         Traceback (most recent call last)",
      "Cell \u001b[1;32mIn[38], line 45\u001b[0m, in \u001b[0;36monMouse\u001b[1;34m(event, x, y, flags, _)\u001b[0m\n\u001b[0;32m     42\u001b[0m     cv2\u001b[38;5;241m.\u001b[39mcircle(img, (x,y), \u001b[38;5;241m3\u001b[39m, (\u001b[38;5;241m255\u001b[39m,\u001b[38;5;241m0\u001b[39m,\u001b[38;5;241m0\u001b[39m), cv2\u001b[38;5;241m.\u001b[39mFILLED)\n\u001b[0;32m     44\u001b[0m \u001b[38;5;28;01mwhile\u001b[39;00m \u001b[38;5;28;01mTrue\u001b[39;00m:\n\u001b[1;32m---> 45\u001b[0m     cv2\u001b[38;5;241m.\u001b[39mline(img, (point_x[\u001b[43ma\u001b[49m\u001b[38;5;241m-\u001b[39m\u001b[38;5;241m2\u001b[39m], point_y[a\u001b[38;5;241m-\u001b[39m\u001b[38;5;241m2\u001b[39m]), (x,y), (\u001b[38;5;241m255\u001b[39m,\u001b[38;5;241m0\u001b[39m,\u001b[38;5;241m0\u001b[39m),\u001b[38;5;241m1\u001b[39m,cv2\u001b[38;5;241m.\u001b[39mLINE_AA)    \u001b[38;5;66;03m# 파일, 시작점, 끝점, 색깔, 두께, 옵션\u001b[39;00m\n\u001b[0;32m     47\u001b[0m     \u001b[38;5;28;01mif\u001b[39;00m event \u001b[38;5;241m==\u001b[39m cv2\u001b[38;5;241m.\u001b[39mEVENT_LBUTTONDOWN:\n\u001b[0;32m     48\u001b[0m         \u001b[38;5;28;01mbreak\u001b[39;00m\n",
      "\u001b[1;31mUnboundLocalError\u001b[0m: cannot access local variable 'a' where it is not associated with a value"
     ]
    },
    {
     "ename": "UnboundLocalError",
     "evalue": "cannot access local variable 'a' where it is not associated with a value",
     "output_type": "error",
     "traceback": [
      "\u001b[1;31m---------------------------------------------------------------------------\u001b[0m",
      "\u001b[1;31mUnboundLocalError\u001b[0m                         Traceback (most recent call last)",
      "Cell \u001b[1;32mIn[38], line 45\u001b[0m, in \u001b[0;36monMouse\u001b[1;34m(event, x, y, flags, _)\u001b[0m\n\u001b[0;32m     42\u001b[0m     cv2\u001b[38;5;241m.\u001b[39mcircle(img, (x,y), \u001b[38;5;241m3\u001b[39m, (\u001b[38;5;241m255\u001b[39m,\u001b[38;5;241m0\u001b[39m,\u001b[38;5;241m0\u001b[39m), cv2\u001b[38;5;241m.\u001b[39mFILLED)\n\u001b[0;32m     44\u001b[0m \u001b[38;5;28;01mwhile\u001b[39;00m \u001b[38;5;28;01mTrue\u001b[39;00m:\n\u001b[1;32m---> 45\u001b[0m     cv2\u001b[38;5;241m.\u001b[39mline(img, (point_x[\u001b[43ma\u001b[49m\u001b[38;5;241m-\u001b[39m\u001b[38;5;241m2\u001b[39m], point_y[a\u001b[38;5;241m-\u001b[39m\u001b[38;5;241m2\u001b[39m]), (x,y), (\u001b[38;5;241m255\u001b[39m,\u001b[38;5;241m0\u001b[39m,\u001b[38;5;241m0\u001b[39m),\u001b[38;5;241m1\u001b[39m,cv2\u001b[38;5;241m.\u001b[39mLINE_AA)    \u001b[38;5;66;03m# 파일, 시작점, 끝점, 색깔, 두께, 옵션\u001b[39;00m\n\u001b[0;32m     47\u001b[0m     \u001b[38;5;28;01mif\u001b[39;00m event \u001b[38;5;241m==\u001b[39m cv2\u001b[38;5;241m.\u001b[39mEVENT_LBUTTONDOWN:\n\u001b[0;32m     48\u001b[0m         \u001b[38;5;28;01mbreak\u001b[39;00m\n",
      "\u001b[1;31mUnboundLocalError\u001b[0m: cannot access local variable 'a' where it is not associated with a value"
     ]
    },
    {
     "ename": "UnboundLocalError",
     "evalue": "cannot access local variable 'a' where it is not associated with a value",
     "output_type": "error",
     "traceback": [
      "\u001b[1;31m---------------------------------------------------------------------------\u001b[0m",
      "\u001b[1;31mUnboundLocalError\u001b[0m                         Traceback (most recent call last)",
      "Cell \u001b[1;32mIn[38], line 45\u001b[0m, in \u001b[0;36monMouse\u001b[1;34m(event, x, y, flags, _)\u001b[0m\n\u001b[0;32m     42\u001b[0m     cv2\u001b[38;5;241m.\u001b[39mcircle(img, (x,y), \u001b[38;5;241m3\u001b[39m, (\u001b[38;5;241m255\u001b[39m,\u001b[38;5;241m0\u001b[39m,\u001b[38;5;241m0\u001b[39m), cv2\u001b[38;5;241m.\u001b[39mFILLED)\n\u001b[0;32m     44\u001b[0m \u001b[38;5;28;01mwhile\u001b[39;00m \u001b[38;5;28;01mTrue\u001b[39;00m:\n\u001b[1;32m---> 45\u001b[0m     cv2\u001b[38;5;241m.\u001b[39mline(img, (point_x[\u001b[43ma\u001b[49m\u001b[38;5;241m-\u001b[39m\u001b[38;5;241m2\u001b[39m], point_y[a\u001b[38;5;241m-\u001b[39m\u001b[38;5;241m2\u001b[39m]), (x,y), (\u001b[38;5;241m255\u001b[39m,\u001b[38;5;241m0\u001b[39m,\u001b[38;5;241m0\u001b[39m),\u001b[38;5;241m1\u001b[39m,cv2\u001b[38;5;241m.\u001b[39mLINE_AA)    \u001b[38;5;66;03m# 파일, 시작점, 끝점, 색깔, 두께, 옵션\u001b[39;00m\n\u001b[0;32m     47\u001b[0m     \u001b[38;5;28;01mif\u001b[39;00m event \u001b[38;5;241m==\u001b[39m cv2\u001b[38;5;241m.\u001b[39mEVENT_LBUTTONDOWN:\n\u001b[0;32m     48\u001b[0m         \u001b[38;5;28;01mbreak\u001b[39;00m\n",
      "\u001b[1;31mUnboundLocalError\u001b[0m: cannot access local variable 'a' where it is not associated with a value"
     ]
    },
    {
     "ename": "UnboundLocalError",
     "evalue": "cannot access local variable 'a' where it is not associated with a value",
     "output_type": "error",
     "traceback": [
      "\u001b[1;31m---------------------------------------------------------------------------\u001b[0m",
      "\u001b[1;31mUnboundLocalError\u001b[0m                         Traceback (most recent call last)",
      "Cell \u001b[1;32mIn[38], line 45\u001b[0m, in \u001b[0;36monMouse\u001b[1;34m(event, x, y, flags, _)\u001b[0m\n\u001b[0;32m     42\u001b[0m     cv2\u001b[38;5;241m.\u001b[39mcircle(img, (x,y), \u001b[38;5;241m3\u001b[39m, (\u001b[38;5;241m255\u001b[39m,\u001b[38;5;241m0\u001b[39m,\u001b[38;5;241m0\u001b[39m), cv2\u001b[38;5;241m.\u001b[39mFILLED)\n\u001b[0;32m     44\u001b[0m \u001b[38;5;28;01mwhile\u001b[39;00m \u001b[38;5;28;01mTrue\u001b[39;00m:\n\u001b[1;32m---> 45\u001b[0m     cv2\u001b[38;5;241m.\u001b[39mline(img, (point_x[\u001b[43ma\u001b[49m\u001b[38;5;241m-\u001b[39m\u001b[38;5;241m2\u001b[39m], point_y[a\u001b[38;5;241m-\u001b[39m\u001b[38;5;241m2\u001b[39m]), (x,y), (\u001b[38;5;241m255\u001b[39m,\u001b[38;5;241m0\u001b[39m,\u001b[38;5;241m0\u001b[39m),\u001b[38;5;241m1\u001b[39m,cv2\u001b[38;5;241m.\u001b[39mLINE_AA)    \u001b[38;5;66;03m# 파일, 시작점, 끝점, 색깔, 두께, 옵션\u001b[39;00m\n\u001b[0;32m     47\u001b[0m     \u001b[38;5;28;01mif\u001b[39;00m event \u001b[38;5;241m==\u001b[39m cv2\u001b[38;5;241m.\u001b[39mEVENT_LBUTTONDOWN:\n\u001b[0;32m     48\u001b[0m         \u001b[38;5;28;01mbreak\u001b[39;00m\n",
      "\u001b[1;31mUnboundLocalError\u001b[0m: cannot access local variable 'a' where it is not associated with a value"
     ]
    },
    {
     "ename": "UnboundLocalError",
     "evalue": "cannot access local variable 'a' where it is not associated with a value",
     "output_type": "error",
     "traceback": [
      "\u001b[1;31m---------------------------------------------------------------------------\u001b[0m",
      "\u001b[1;31mUnboundLocalError\u001b[0m                         Traceback (most recent call last)",
      "Cell \u001b[1;32mIn[38], line 45\u001b[0m, in \u001b[0;36monMouse\u001b[1;34m(event, x, y, flags, _)\u001b[0m\n\u001b[0;32m     42\u001b[0m     cv2\u001b[38;5;241m.\u001b[39mcircle(img, (x,y), \u001b[38;5;241m3\u001b[39m, (\u001b[38;5;241m255\u001b[39m,\u001b[38;5;241m0\u001b[39m,\u001b[38;5;241m0\u001b[39m), cv2\u001b[38;5;241m.\u001b[39mFILLED)\n\u001b[0;32m     44\u001b[0m \u001b[38;5;28;01mwhile\u001b[39;00m \u001b[38;5;28;01mTrue\u001b[39;00m:\n\u001b[1;32m---> 45\u001b[0m     cv2\u001b[38;5;241m.\u001b[39mline(img, (point_x[\u001b[43ma\u001b[49m\u001b[38;5;241m-\u001b[39m\u001b[38;5;241m2\u001b[39m], point_y[a\u001b[38;5;241m-\u001b[39m\u001b[38;5;241m2\u001b[39m]), (x,y), (\u001b[38;5;241m255\u001b[39m,\u001b[38;5;241m0\u001b[39m,\u001b[38;5;241m0\u001b[39m),\u001b[38;5;241m1\u001b[39m,cv2\u001b[38;5;241m.\u001b[39mLINE_AA)    \u001b[38;5;66;03m# 파일, 시작점, 끝점, 색깔, 두께, 옵션\u001b[39;00m\n\u001b[0;32m     47\u001b[0m     \u001b[38;5;28;01mif\u001b[39;00m event \u001b[38;5;241m==\u001b[39m cv2\u001b[38;5;241m.\u001b[39mEVENT_LBUTTONDOWN:\n\u001b[0;32m     48\u001b[0m         \u001b[38;5;28;01mbreak\u001b[39;00m\n",
      "\u001b[1;31mUnboundLocalError\u001b[0m: cannot access local variable 'a' where it is not associated with a value"
     ]
    },
    {
     "ename": "UnboundLocalError",
     "evalue": "cannot access local variable 'a' where it is not associated with a value",
     "output_type": "error",
     "traceback": [
      "\u001b[1;31m---------------------------------------------------------------------------\u001b[0m",
      "\u001b[1;31mUnboundLocalError\u001b[0m                         Traceback (most recent call last)",
      "Cell \u001b[1;32mIn[38], line 45\u001b[0m, in \u001b[0;36monMouse\u001b[1;34m(event, x, y, flags, _)\u001b[0m\n\u001b[0;32m     42\u001b[0m     cv2\u001b[38;5;241m.\u001b[39mcircle(img, (x,y), \u001b[38;5;241m3\u001b[39m, (\u001b[38;5;241m255\u001b[39m,\u001b[38;5;241m0\u001b[39m,\u001b[38;5;241m0\u001b[39m), cv2\u001b[38;5;241m.\u001b[39mFILLED)\n\u001b[0;32m     44\u001b[0m \u001b[38;5;28;01mwhile\u001b[39;00m \u001b[38;5;28;01mTrue\u001b[39;00m:\n\u001b[1;32m---> 45\u001b[0m     cv2\u001b[38;5;241m.\u001b[39mline(img, (point_x[\u001b[43ma\u001b[49m\u001b[38;5;241m-\u001b[39m\u001b[38;5;241m2\u001b[39m], point_y[a\u001b[38;5;241m-\u001b[39m\u001b[38;5;241m2\u001b[39m]), (x,y), (\u001b[38;5;241m255\u001b[39m,\u001b[38;5;241m0\u001b[39m,\u001b[38;5;241m0\u001b[39m),\u001b[38;5;241m1\u001b[39m,cv2\u001b[38;5;241m.\u001b[39mLINE_AA)    \u001b[38;5;66;03m# 파일, 시작점, 끝점, 색깔, 두께, 옵션\u001b[39;00m\n\u001b[0;32m     47\u001b[0m     \u001b[38;5;28;01mif\u001b[39;00m event \u001b[38;5;241m==\u001b[39m cv2\u001b[38;5;241m.\u001b[39mEVENT_LBUTTONDOWN:\n\u001b[0;32m     48\u001b[0m         \u001b[38;5;28;01mbreak\u001b[39;00m\n",
      "\u001b[1;31mUnboundLocalError\u001b[0m: cannot access local variable 'a' where it is not associated with a value"
     ]
    },
    {
     "ename": "UnboundLocalError",
     "evalue": "cannot access local variable 'a' where it is not associated with a value",
     "output_type": "error",
     "traceback": [
      "\u001b[1;31m---------------------------------------------------------------------------\u001b[0m",
      "\u001b[1;31mUnboundLocalError\u001b[0m                         Traceback (most recent call last)",
      "Cell \u001b[1;32mIn[38], line 45\u001b[0m, in \u001b[0;36monMouse\u001b[1;34m(event, x, y, flags, _)\u001b[0m\n\u001b[0;32m     42\u001b[0m     cv2\u001b[38;5;241m.\u001b[39mcircle(img, (x,y), \u001b[38;5;241m3\u001b[39m, (\u001b[38;5;241m255\u001b[39m,\u001b[38;5;241m0\u001b[39m,\u001b[38;5;241m0\u001b[39m), cv2\u001b[38;5;241m.\u001b[39mFILLED)\n\u001b[0;32m     44\u001b[0m \u001b[38;5;28;01mwhile\u001b[39;00m \u001b[38;5;28;01mTrue\u001b[39;00m:\n\u001b[1;32m---> 45\u001b[0m     cv2\u001b[38;5;241m.\u001b[39mline(img, (point_x[\u001b[43ma\u001b[49m\u001b[38;5;241m-\u001b[39m\u001b[38;5;241m2\u001b[39m], point_y[a\u001b[38;5;241m-\u001b[39m\u001b[38;5;241m2\u001b[39m]), (x,y), (\u001b[38;5;241m255\u001b[39m,\u001b[38;5;241m0\u001b[39m,\u001b[38;5;241m0\u001b[39m),\u001b[38;5;241m1\u001b[39m,cv2\u001b[38;5;241m.\u001b[39mLINE_AA)    \u001b[38;5;66;03m# 파일, 시작점, 끝점, 색깔, 두께, 옵션\u001b[39;00m\n\u001b[0;32m     47\u001b[0m     \u001b[38;5;28;01mif\u001b[39;00m event \u001b[38;5;241m==\u001b[39m cv2\u001b[38;5;241m.\u001b[39mEVENT_LBUTTONDOWN:\n\u001b[0;32m     48\u001b[0m         \u001b[38;5;28;01mbreak\u001b[39;00m\n",
      "\u001b[1;31mUnboundLocalError\u001b[0m: cannot access local variable 'a' where it is not associated with a value"
     ]
    },
    {
     "ename": "UnboundLocalError",
     "evalue": "cannot access local variable 'a' where it is not associated with a value",
     "output_type": "error",
     "traceback": [
      "\u001b[1;31m---------------------------------------------------------------------------\u001b[0m",
      "\u001b[1;31mUnboundLocalError\u001b[0m                         Traceback (most recent call last)",
      "Cell \u001b[1;32mIn[38], line 45\u001b[0m, in \u001b[0;36monMouse\u001b[1;34m(event, x, y, flags, _)\u001b[0m\n\u001b[0;32m     42\u001b[0m     cv2\u001b[38;5;241m.\u001b[39mcircle(img, (x,y), \u001b[38;5;241m3\u001b[39m, (\u001b[38;5;241m255\u001b[39m,\u001b[38;5;241m0\u001b[39m,\u001b[38;5;241m0\u001b[39m), cv2\u001b[38;5;241m.\u001b[39mFILLED)\n\u001b[0;32m     44\u001b[0m \u001b[38;5;28;01mwhile\u001b[39;00m \u001b[38;5;28;01mTrue\u001b[39;00m:\n\u001b[1;32m---> 45\u001b[0m     cv2\u001b[38;5;241m.\u001b[39mline(img, (point_x[\u001b[43ma\u001b[49m\u001b[38;5;241m-\u001b[39m\u001b[38;5;241m2\u001b[39m], point_y[a\u001b[38;5;241m-\u001b[39m\u001b[38;5;241m2\u001b[39m]), (x,y), (\u001b[38;5;241m255\u001b[39m,\u001b[38;5;241m0\u001b[39m,\u001b[38;5;241m0\u001b[39m),\u001b[38;5;241m1\u001b[39m,cv2\u001b[38;5;241m.\u001b[39mLINE_AA)    \u001b[38;5;66;03m# 파일, 시작점, 끝점, 색깔, 두께, 옵션\u001b[39;00m\n\u001b[0;32m     47\u001b[0m     \u001b[38;5;28;01mif\u001b[39;00m event \u001b[38;5;241m==\u001b[39m cv2\u001b[38;5;241m.\u001b[39mEVENT_LBUTTONDOWN:\n\u001b[0;32m     48\u001b[0m         \u001b[38;5;28;01mbreak\u001b[39;00m\n",
      "\u001b[1;31mUnboundLocalError\u001b[0m: cannot access local variable 'a' where it is not associated with a value"
     ]
    },
    {
     "ename": "UnboundLocalError",
     "evalue": "cannot access local variable 'a' where it is not associated with a value",
     "output_type": "error",
     "traceback": [
      "\u001b[1;31m---------------------------------------------------------------------------\u001b[0m",
      "\u001b[1;31mUnboundLocalError\u001b[0m                         Traceback (most recent call last)",
      "Cell \u001b[1;32mIn[38], line 45\u001b[0m, in \u001b[0;36monMouse\u001b[1;34m(event, x, y, flags, _)\u001b[0m\n\u001b[0;32m     42\u001b[0m     cv2\u001b[38;5;241m.\u001b[39mcircle(img, (x,y), \u001b[38;5;241m3\u001b[39m, (\u001b[38;5;241m255\u001b[39m,\u001b[38;5;241m0\u001b[39m,\u001b[38;5;241m0\u001b[39m), cv2\u001b[38;5;241m.\u001b[39mFILLED)\n\u001b[0;32m     44\u001b[0m \u001b[38;5;28;01mwhile\u001b[39;00m \u001b[38;5;28;01mTrue\u001b[39;00m:\n\u001b[1;32m---> 45\u001b[0m     cv2\u001b[38;5;241m.\u001b[39mline(img, (point_x[\u001b[43ma\u001b[49m\u001b[38;5;241m-\u001b[39m\u001b[38;5;241m2\u001b[39m], point_y[a\u001b[38;5;241m-\u001b[39m\u001b[38;5;241m2\u001b[39m]), (x,y), (\u001b[38;5;241m255\u001b[39m,\u001b[38;5;241m0\u001b[39m,\u001b[38;5;241m0\u001b[39m),\u001b[38;5;241m1\u001b[39m,cv2\u001b[38;5;241m.\u001b[39mLINE_AA)    \u001b[38;5;66;03m# 파일, 시작점, 끝점, 색깔, 두께, 옵션\u001b[39;00m\n\u001b[0;32m     47\u001b[0m     \u001b[38;5;28;01mif\u001b[39;00m event \u001b[38;5;241m==\u001b[39m cv2\u001b[38;5;241m.\u001b[39mEVENT_LBUTTONDOWN:\n\u001b[0;32m     48\u001b[0m         \u001b[38;5;28;01mbreak\u001b[39;00m\n",
      "\u001b[1;31mUnboundLocalError\u001b[0m: cannot access local variable 'a' where it is not associated with a value"
     ]
    },
    {
     "ename": "UnboundLocalError",
     "evalue": "cannot access local variable 'a' where it is not associated with a value",
     "output_type": "error",
     "traceback": [
      "\u001b[1;31m---------------------------------------------------------------------------\u001b[0m",
      "\u001b[1;31mUnboundLocalError\u001b[0m                         Traceback (most recent call last)",
      "Cell \u001b[1;32mIn[38], line 45\u001b[0m, in \u001b[0;36monMouse\u001b[1;34m(event, x, y, flags, _)\u001b[0m\n\u001b[0;32m     42\u001b[0m     cv2\u001b[38;5;241m.\u001b[39mcircle(img, (x,y), \u001b[38;5;241m3\u001b[39m, (\u001b[38;5;241m255\u001b[39m,\u001b[38;5;241m0\u001b[39m,\u001b[38;5;241m0\u001b[39m), cv2\u001b[38;5;241m.\u001b[39mFILLED)\n\u001b[0;32m     44\u001b[0m \u001b[38;5;28;01mwhile\u001b[39;00m \u001b[38;5;28;01mTrue\u001b[39;00m:\n\u001b[1;32m---> 45\u001b[0m     cv2\u001b[38;5;241m.\u001b[39mline(img, (point_x[\u001b[43ma\u001b[49m\u001b[38;5;241m-\u001b[39m\u001b[38;5;241m2\u001b[39m], point_y[a\u001b[38;5;241m-\u001b[39m\u001b[38;5;241m2\u001b[39m]), (x,y), (\u001b[38;5;241m255\u001b[39m,\u001b[38;5;241m0\u001b[39m,\u001b[38;5;241m0\u001b[39m),\u001b[38;5;241m1\u001b[39m,cv2\u001b[38;5;241m.\u001b[39mLINE_AA)    \u001b[38;5;66;03m# 파일, 시작점, 끝점, 색깔, 두께, 옵션\u001b[39;00m\n\u001b[0;32m     47\u001b[0m     \u001b[38;5;28;01mif\u001b[39;00m event \u001b[38;5;241m==\u001b[39m cv2\u001b[38;5;241m.\u001b[39mEVENT_LBUTTONDOWN:\n\u001b[0;32m     48\u001b[0m         \u001b[38;5;28;01mbreak\u001b[39;00m\n",
      "\u001b[1;31mUnboundLocalError\u001b[0m: cannot access local variable 'a' where it is not associated with a value"
     ]
    },
    {
     "ename": "UnboundLocalError",
     "evalue": "cannot access local variable 'a' where it is not associated with a value",
     "output_type": "error",
     "traceback": [
      "\u001b[1;31m---------------------------------------------------------------------------\u001b[0m",
      "\u001b[1;31mUnboundLocalError\u001b[0m                         Traceback (most recent call last)",
      "Cell \u001b[1;32mIn[38], line 45\u001b[0m, in \u001b[0;36monMouse\u001b[1;34m(event, x, y, flags, _)\u001b[0m\n\u001b[0;32m     42\u001b[0m     cv2\u001b[38;5;241m.\u001b[39mcircle(img, (x,y), \u001b[38;5;241m3\u001b[39m, (\u001b[38;5;241m255\u001b[39m,\u001b[38;5;241m0\u001b[39m,\u001b[38;5;241m0\u001b[39m), cv2\u001b[38;5;241m.\u001b[39mFILLED)\n\u001b[0;32m     44\u001b[0m \u001b[38;5;28;01mwhile\u001b[39;00m \u001b[38;5;28;01mTrue\u001b[39;00m:\n\u001b[1;32m---> 45\u001b[0m     cv2\u001b[38;5;241m.\u001b[39mline(img, (point_x[\u001b[43ma\u001b[49m\u001b[38;5;241m-\u001b[39m\u001b[38;5;241m2\u001b[39m], point_y[a\u001b[38;5;241m-\u001b[39m\u001b[38;5;241m2\u001b[39m]), (x,y), (\u001b[38;5;241m255\u001b[39m,\u001b[38;5;241m0\u001b[39m,\u001b[38;5;241m0\u001b[39m),\u001b[38;5;241m1\u001b[39m,cv2\u001b[38;5;241m.\u001b[39mLINE_AA)    \u001b[38;5;66;03m# 파일, 시작점, 끝점, 색깔, 두께, 옵션\u001b[39;00m\n\u001b[0;32m     47\u001b[0m     \u001b[38;5;28;01mif\u001b[39;00m event \u001b[38;5;241m==\u001b[39m cv2\u001b[38;5;241m.\u001b[39mEVENT_LBUTTONDOWN:\n\u001b[0;32m     48\u001b[0m         \u001b[38;5;28;01mbreak\u001b[39;00m\n",
      "\u001b[1;31mUnboundLocalError\u001b[0m: cannot access local variable 'a' where it is not associated with a value"
     ]
    },
    {
     "ename": "UnboundLocalError",
     "evalue": "cannot access local variable 'a' where it is not associated with a value",
     "output_type": "error",
     "traceback": [
      "\u001b[1;31m---------------------------------------------------------------------------\u001b[0m",
      "\u001b[1;31mUnboundLocalError\u001b[0m                         Traceback (most recent call last)",
      "Cell \u001b[1;32mIn[38], line 45\u001b[0m, in \u001b[0;36monMouse\u001b[1;34m(event, x, y, flags, _)\u001b[0m\n\u001b[0;32m     42\u001b[0m     cv2\u001b[38;5;241m.\u001b[39mcircle(img, (x,y), \u001b[38;5;241m3\u001b[39m, (\u001b[38;5;241m255\u001b[39m,\u001b[38;5;241m0\u001b[39m,\u001b[38;5;241m0\u001b[39m), cv2\u001b[38;5;241m.\u001b[39mFILLED)\n\u001b[0;32m     44\u001b[0m \u001b[38;5;28;01mwhile\u001b[39;00m \u001b[38;5;28;01mTrue\u001b[39;00m:\n\u001b[1;32m---> 45\u001b[0m     cv2\u001b[38;5;241m.\u001b[39mline(img, (point_x[\u001b[43ma\u001b[49m\u001b[38;5;241m-\u001b[39m\u001b[38;5;241m2\u001b[39m], point_y[a\u001b[38;5;241m-\u001b[39m\u001b[38;5;241m2\u001b[39m]), (x,y), (\u001b[38;5;241m255\u001b[39m,\u001b[38;5;241m0\u001b[39m,\u001b[38;5;241m0\u001b[39m),\u001b[38;5;241m1\u001b[39m,cv2\u001b[38;5;241m.\u001b[39mLINE_AA)    \u001b[38;5;66;03m# 파일, 시작점, 끝점, 색깔, 두께, 옵션\u001b[39;00m\n\u001b[0;32m     47\u001b[0m     \u001b[38;5;28;01mif\u001b[39;00m event \u001b[38;5;241m==\u001b[39m cv2\u001b[38;5;241m.\u001b[39mEVENT_LBUTTONDOWN:\n\u001b[0;32m     48\u001b[0m         \u001b[38;5;28;01mbreak\u001b[39;00m\n",
      "\u001b[1;31mUnboundLocalError\u001b[0m: cannot access local variable 'a' where it is not associated with a value"
     ]
    },
    {
     "ename": "UnboundLocalError",
     "evalue": "cannot access local variable 'a' where it is not associated with a value",
     "output_type": "error",
     "traceback": [
      "\u001b[1;31m---------------------------------------------------------------------------\u001b[0m",
      "\u001b[1;31mUnboundLocalError\u001b[0m                         Traceback (most recent call last)",
      "Cell \u001b[1;32mIn[38], line 45\u001b[0m, in \u001b[0;36monMouse\u001b[1;34m(event, x, y, flags, _)\u001b[0m\n\u001b[0;32m     42\u001b[0m     cv2\u001b[38;5;241m.\u001b[39mcircle(img, (x,y), \u001b[38;5;241m3\u001b[39m, (\u001b[38;5;241m255\u001b[39m,\u001b[38;5;241m0\u001b[39m,\u001b[38;5;241m0\u001b[39m), cv2\u001b[38;5;241m.\u001b[39mFILLED)\n\u001b[0;32m     44\u001b[0m \u001b[38;5;28;01mwhile\u001b[39;00m \u001b[38;5;28;01mTrue\u001b[39;00m:\n\u001b[1;32m---> 45\u001b[0m     cv2\u001b[38;5;241m.\u001b[39mline(img, (point_x[\u001b[43ma\u001b[49m\u001b[38;5;241m-\u001b[39m\u001b[38;5;241m2\u001b[39m], point_y[a\u001b[38;5;241m-\u001b[39m\u001b[38;5;241m2\u001b[39m]), (x,y), (\u001b[38;5;241m255\u001b[39m,\u001b[38;5;241m0\u001b[39m,\u001b[38;5;241m0\u001b[39m),\u001b[38;5;241m1\u001b[39m,cv2\u001b[38;5;241m.\u001b[39mLINE_AA)    \u001b[38;5;66;03m# 파일, 시작점, 끝점, 색깔, 두께, 옵션\u001b[39;00m\n\u001b[0;32m     47\u001b[0m     \u001b[38;5;28;01mif\u001b[39;00m event \u001b[38;5;241m==\u001b[39m cv2\u001b[38;5;241m.\u001b[39mEVENT_LBUTTONDOWN:\n\u001b[0;32m     48\u001b[0m         \u001b[38;5;28;01mbreak\u001b[39;00m\n",
      "\u001b[1;31mUnboundLocalError\u001b[0m: cannot access local variable 'a' where it is not associated with a value"
     ]
    },
    {
     "ename": "UnboundLocalError",
     "evalue": "cannot access local variable 'a' where it is not associated with a value",
     "output_type": "error",
     "traceback": [
      "\u001b[1;31m---------------------------------------------------------------------------\u001b[0m",
      "\u001b[1;31mUnboundLocalError\u001b[0m                         Traceback (most recent call last)",
      "Cell \u001b[1;32mIn[38], line 45\u001b[0m, in \u001b[0;36monMouse\u001b[1;34m(event, x, y, flags, _)\u001b[0m\n\u001b[0;32m     42\u001b[0m     cv2\u001b[38;5;241m.\u001b[39mcircle(img, (x,y), \u001b[38;5;241m3\u001b[39m, (\u001b[38;5;241m255\u001b[39m,\u001b[38;5;241m0\u001b[39m,\u001b[38;5;241m0\u001b[39m), cv2\u001b[38;5;241m.\u001b[39mFILLED)\n\u001b[0;32m     44\u001b[0m \u001b[38;5;28;01mwhile\u001b[39;00m \u001b[38;5;28;01mTrue\u001b[39;00m:\n\u001b[1;32m---> 45\u001b[0m     cv2\u001b[38;5;241m.\u001b[39mline(img, (point_x[\u001b[43ma\u001b[49m\u001b[38;5;241m-\u001b[39m\u001b[38;5;241m2\u001b[39m], point_y[a\u001b[38;5;241m-\u001b[39m\u001b[38;5;241m2\u001b[39m]), (x,y), (\u001b[38;5;241m255\u001b[39m,\u001b[38;5;241m0\u001b[39m,\u001b[38;5;241m0\u001b[39m),\u001b[38;5;241m1\u001b[39m,cv2\u001b[38;5;241m.\u001b[39mLINE_AA)    \u001b[38;5;66;03m# 파일, 시작점, 끝점, 색깔, 두께, 옵션\u001b[39;00m\n\u001b[0;32m     47\u001b[0m     \u001b[38;5;28;01mif\u001b[39;00m event \u001b[38;5;241m==\u001b[39m cv2\u001b[38;5;241m.\u001b[39mEVENT_LBUTTONDOWN:\n\u001b[0;32m     48\u001b[0m         \u001b[38;5;28;01mbreak\u001b[39;00m\n",
      "\u001b[1;31mUnboundLocalError\u001b[0m: cannot access local variable 'a' where it is not associated with a value"
     ]
    },
    {
     "ename": "UnboundLocalError",
     "evalue": "cannot access local variable 'a' where it is not associated with a value",
     "output_type": "error",
     "traceback": [
      "\u001b[1;31m---------------------------------------------------------------------------\u001b[0m",
      "\u001b[1;31mUnboundLocalError\u001b[0m                         Traceback (most recent call last)",
      "Cell \u001b[1;32mIn[38], line 45\u001b[0m, in \u001b[0;36monMouse\u001b[1;34m(event, x, y, flags, _)\u001b[0m\n\u001b[0;32m     42\u001b[0m     cv2\u001b[38;5;241m.\u001b[39mcircle(img, (x,y), \u001b[38;5;241m3\u001b[39m, (\u001b[38;5;241m255\u001b[39m,\u001b[38;5;241m0\u001b[39m,\u001b[38;5;241m0\u001b[39m), cv2\u001b[38;5;241m.\u001b[39mFILLED)\n\u001b[0;32m     44\u001b[0m \u001b[38;5;28;01mwhile\u001b[39;00m \u001b[38;5;28;01mTrue\u001b[39;00m:\n\u001b[1;32m---> 45\u001b[0m     cv2\u001b[38;5;241m.\u001b[39mline(img, (point_x[\u001b[43ma\u001b[49m\u001b[38;5;241m-\u001b[39m\u001b[38;5;241m2\u001b[39m], point_y[a\u001b[38;5;241m-\u001b[39m\u001b[38;5;241m2\u001b[39m]), (x,y), (\u001b[38;5;241m255\u001b[39m,\u001b[38;5;241m0\u001b[39m,\u001b[38;5;241m0\u001b[39m),\u001b[38;5;241m1\u001b[39m,cv2\u001b[38;5;241m.\u001b[39mLINE_AA)    \u001b[38;5;66;03m# 파일, 시작점, 끝점, 색깔, 두께, 옵션\u001b[39;00m\n\u001b[0;32m     47\u001b[0m     \u001b[38;5;28;01mif\u001b[39;00m event \u001b[38;5;241m==\u001b[39m cv2\u001b[38;5;241m.\u001b[39mEVENT_LBUTTONDOWN:\n\u001b[0;32m     48\u001b[0m         \u001b[38;5;28;01mbreak\u001b[39;00m\n",
      "\u001b[1;31mUnboundLocalError\u001b[0m: cannot access local variable 'a' where it is not associated with a value"
     ]
    },
    {
     "ename": "UnboundLocalError",
     "evalue": "cannot access local variable 'a' where it is not associated with a value",
     "output_type": "error",
     "traceback": [
      "\u001b[1;31m---------------------------------------------------------------------------\u001b[0m",
      "\u001b[1;31mUnboundLocalError\u001b[0m                         Traceback (most recent call last)",
      "Cell \u001b[1;32mIn[38], line 45\u001b[0m, in \u001b[0;36monMouse\u001b[1;34m(event, x, y, flags, _)\u001b[0m\n\u001b[0;32m     42\u001b[0m     cv2\u001b[38;5;241m.\u001b[39mcircle(img, (x,y), \u001b[38;5;241m3\u001b[39m, (\u001b[38;5;241m255\u001b[39m,\u001b[38;5;241m0\u001b[39m,\u001b[38;5;241m0\u001b[39m), cv2\u001b[38;5;241m.\u001b[39mFILLED)\n\u001b[0;32m     44\u001b[0m \u001b[38;5;28;01mwhile\u001b[39;00m \u001b[38;5;28;01mTrue\u001b[39;00m:\n\u001b[1;32m---> 45\u001b[0m     cv2\u001b[38;5;241m.\u001b[39mline(img, (point_x[\u001b[43ma\u001b[49m\u001b[38;5;241m-\u001b[39m\u001b[38;5;241m2\u001b[39m], point_y[a\u001b[38;5;241m-\u001b[39m\u001b[38;5;241m2\u001b[39m]), (x,y), (\u001b[38;5;241m255\u001b[39m,\u001b[38;5;241m0\u001b[39m,\u001b[38;5;241m0\u001b[39m),\u001b[38;5;241m1\u001b[39m,cv2\u001b[38;5;241m.\u001b[39mLINE_AA)    \u001b[38;5;66;03m# 파일, 시작점, 끝점, 색깔, 두께, 옵션\u001b[39;00m\n\u001b[0;32m     47\u001b[0m     \u001b[38;5;28;01mif\u001b[39;00m event \u001b[38;5;241m==\u001b[39m cv2\u001b[38;5;241m.\u001b[39mEVENT_LBUTTONDOWN:\n\u001b[0;32m     48\u001b[0m         \u001b[38;5;28;01mbreak\u001b[39;00m\n",
      "\u001b[1;31mUnboundLocalError\u001b[0m: cannot access local variable 'a' where it is not associated with a value"
     ]
    },
    {
     "ename": "UnboundLocalError",
     "evalue": "cannot access local variable 'a' where it is not associated with a value",
     "output_type": "error",
     "traceback": [
      "\u001b[1;31m---------------------------------------------------------------------------\u001b[0m",
      "\u001b[1;31mUnboundLocalError\u001b[0m                         Traceback (most recent call last)",
      "Cell \u001b[1;32mIn[38], line 45\u001b[0m, in \u001b[0;36monMouse\u001b[1;34m(event, x, y, flags, _)\u001b[0m\n\u001b[0;32m     42\u001b[0m     cv2\u001b[38;5;241m.\u001b[39mcircle(img, (x,y), \u001b[38;5;241m3\u001b[39m, (\u001b[38;5;241m255\u001b[39m,\u001b[38;5;241m0\u001b[39m,\u001b[38;5;241m0\u001b[39m), cv2\u001b[38;5;241m.\u001b[39mFILLED)\n\u001b[0;32m     44\u001b[0m \u001b[38;5;28;01mwhile\u001b[39;00m \u001b[38;5;28;01mTrue\u001b[39;00m:\n\u001b[1;32m---> 45\u001b[0m     cv2\u001b[38;5;241m.\u001b[39mline(img, (point_x[\u001b[43ma\u001b[49m\u001b[38;5;241m-\u001b[39m\u001b[38;5;241m2\u001b[39m], point_y[a\u001b[38;5;241m-\u001b[39m\u001b[38;5;241m2\u001b[39m]), (x,y), (\u001b[38;5;241m255\u001b[39m,\u001b[38;5;241m0\u001b[39m,\u001b[38;5;241m0\u001b[39m),\u001b[38;5;241m1\u001b[39m,cv2\u001b[38;5;241m.\u001b[39mLINE_AA)    \u001b[38;5;66;03m# 파일, 시작점, 끝점, 색깔, 두께, 옵션\u001b[39;00m\n\u001b[0;32m     47\u001b[0m     \u001b[38;5;28;01mif\u001b[39;00m event \u001b[38;5;241m==\u001b[39m cv2\u001b[38;5;241m.\u001b[39mEVENT_LBUTTONDOWN:\n\u001b[0;32m     48\u001b[0m         \u001b[38;5;28;01mbreak\u001b[39;00m\n",
      "\u001b[1;31mUnboundLocalError\u001b[0m: cannot access local variable 'a' where it is not associated with a value"
     ]
    },
    {
     "ename": "UnboundLocalError",
     "evalue": "cannot access local variable 'a' where it is not associated with a value",
     "output_type": "error",
     "traceback": [
      "\u001b[1;31m---------------------------------------------------------------------------\u001b[0m",
      "\u001b[1;31mUnboundLocalError\u001b[0m                         Traceback (most recent call last)",
      "Cell \u001b[1;32mIn[38], line 45\u001b[0m, in \u001b[0;36monMouse\u001b[1;34m(event, x, y, flags, _)\u001b[0m\n\u001b[0;32m     42\u001b[0m     cv2\u001b[38;5;241m.\u001b[39mcircle(img, (x,y), \u001b[38;5;241m3\u001b[39m, (\u001b[38;5;241m255\u001b[39m,\u001b[38;5;241m0\u001b[39m,\u001b[38;5;241m0\u001b[39m), cv2\u001b[38;5;241m.\u001b[39mFILLED)\n\u001b[0;32m     44\u001b[0m \u001b[38;5;28;01mwhile\u001b[39;00m \u001b[38;5;28;01mTrue\u001b[39;00m:\n\u001b[1;32m---> 45\u001b[0m     cv2\u001b[38;5;241m.\u001b[39mline(img, (point_x[\u001b[43ma\u001b[49m\u001b[38;5;241m-\u001b[39m\u001b[38;5;241m2\u001b[39m], point_y[a\u001b[38;5;241m-\u001b[39m\u001b[38;5;241m2\u001b[39m]), (x,y), (\u001b[38;5;241m255\u001b[39m,\u001b[38;5;241m0\u001b[39m,\u001b[38;5;241m0\u001b[39m),\u001b[38;5;241m1\u001b[39m,cv2\u001b[38;5;241m.\u001b[39mLINE_AA)    \u001b[38;5;66;03m# 파일, 시작점, 끝점, 색깔, 두께, 옵션\u001b[39;00m\n\u001b[0;32m     47\u001b[0m     \u001b[38;5;28;01mif\u001b[39;00m event \u001b[38;5;241m==\u001b[39m cv2\u001b[38;5;241m.\u001b[39mEVENT_LBUTTONDOWN:\n\u001b[0;32m     48\u001b[0m         \u001b[38;5;28;01mbreak\u001b[39;00m\n",
      "\u001b[1;31mUnboundLocalError\u001b[0m: cannot access local variable 'a' where it is not associated with a value"
     ]
    },
    {
     "ename": "UnboundLocalError",
     "evalue": "cannot access local variable 'a' where it is not associated with a value",
     "output_type": "error",
     "traceback": [
      "\u001b[1;31m---------------------------------------------------------------------------\u001b[0m",
      "\u001b[1;31mUnboundLocalError\u001b[0m                         Traceback (most recent call last)",
      "Cell \u001b[1;32mIn[38], line 45\u001b[0m, in \u001b[0;36monMouse\u001b[1;34m(event, x, y, flags, _)\u001b[0m\n\u001b[0;32m     42\u001b[0m     cv2\u001b[38;5;241m.\u001b[39mcircle(img, (x,y), \u001b[38;5;241m3\u001b[39m, (\u001b[38;5;241m255\u001b[39m,\u001b[38;5;241m0\u001b[39m,\u001b[38;5;241m0\u001b[39m), cv2\u001b[38;5;241m.\u001b[39mFILLED)\n\u001b[0;32m     44\u001b[0m \u001b[38;5;28;01mwhile\u001b[39;00m \u001b[38;5;28;01mTrue\u001b[39;00m:\n\u001b[1;32m---> 45\u001b[0m     cv2\u001b[38;5;241m.\u001b[39mline(img, (point_x[\u001b[43ma\u001b[49m\u001b[38;5;241m-\u001b[39m\u001b[38;5;241m2\u001b[39m], point_y[a\u001b[38;5;241m-\u001b[39m\u001b[38;5;241m2\u001b[39m]), (x,y), (\u001b[38;5;241m255\u001b[39m,\u001b[38;5;241m0\u001b[39m,\u001b[38;5;241m0\u001b[39m),\u001b[38;5;241m1\u001b[39m,cv2\u001b[38;5;241m.\u001b[39mLINE_AA)    \u001b[38;5;66;03m# 파일, 시작점, 끝점, 색깔, 두께, 옵션\u001b[39;00m\n\u001b[0;32m     47\u001b[0m     \u001b[38;5;28;01mif\u001b[39;00m event \u001b[38;5;241m==\u001b[39m cv2\u001b[38;5;241m.\u001b[39mEVENT_LBUTTONDOWN:\n\u001b[0;32m     48\u001b[0m         \u001b[38;5;28;01mbreak\u001b[39;00m\n",
      "\u001b[1;31mUnboundLocalError\u001b[0m: cannot access local variable 'a' where it is not associated with a value"
     ]
    },
    {
     "ename": "UnboundLocalError",
     "evalue": "cannot access local variable 'a' where it is not associated with a value",
     "output_type": "error",
     "traceback": [
      "\u001b[1;31m---------------------------------------------------------------------------\u001b[0m",
      "\u001b[1;31mUnboundLocalError\u001b[0m                         Traceback (most recent call last)",
      "Cell \u001b[1;32mIn[38], line 45\u001b[0m, in \u001b[0;36monMouse\u001b[1;34m(event, x, y, flags, _)\u001b[0m\n\u001b[0;32m     42\u001b[0m     cv2\u001b[38;5;241m.\u001b[39mcircle(img, (x,y), \u001b[38;5;241m3\u001b[39m, (\u001b[38;5;241m255\u001b[39m,\u001b[38;5;241m0\u001b[39m,\u001b[38;5;241m0\u001b[39m), cv2\u001b[38;5;241m.\u001b[39mFILLED)\n\u001b[0;32m     44\u001b[0m \u001b[38;5;28;01mwhile\u001b[39;00m \u001b[38;5;28;01mTrue\u001b[39;00m:\n\u001b[1;32m---> 45\u001b[0m     cv2\u001b[38;5;241m.\u001b[39mline(img, (point_x[\u001b[43ma\u001b[49m\u001b[38;5;241m-\u001b[39m\u001b[38;5;241m2\u001b[39m], point_y[a\u001b[38;5;241m-\u001b[39m\u001b[38;5;241m2\u001b[39m]), (x,y), (\u001b[38;5;241m255\u001b[39m,\u001b[38;5;241m0\u001b[39m,\u001b[38;5;241m0\u001b[39m),\u001b[38;5;241m1\u001b[39m,cv2\u001b[38;5;241m.\u001b[39mLINE_AA)    \u001b[38;5;66;03m# 파일, 시작점, 끝점, 색깔, 두께, 옵션\u001b[39;00m\n\u001b[0;32m     47\u001b[0m     \u001b[38;5;28;01mif\u001b[39;00m event \u001b[38;5;241m==\u001b[39m cv2\u001b[38;5;241m.\u001b[39mEVENT_LBUTTONDOWN:\n\u001b[0;32m     48\u001b[0m         \u001b[38;5;28;01mbreak\u001b[39;00m\n",
      "\u001b[1;31mUnboundLocalError\u001b[0m: cannot access local variable 'a' where it is not associated with a value"
     ]
    },
    {
     "ename": "UnboundLocalError",
     "evalue": "cannot access local variable 'a' where it is not associated with a value",
     "output_type": "error",
     "traceback": [
      "\u001b[1;31m---------------------------------------------------------------------------\u001b[0m",
      "\u001b[1;31mUnboundLocalError\u001b[0m                         Traceback (most recent call last)",
      "Cell \u001b[1;32mIn[38], line 45\u001b[0m, in \u001b[0;36monMouse\u001b[1;34m(event, x, y, flags, _)\u001b[0m\n\u001b[0;32m     42\u001b[0m     cv2\u001b[38;5;241m.\u001b[39mcircle(img, (x,y), \u001b[38;5;241m3\u001b[39m, (\u001b[38;5;241m255\u001b[39m,\u001b[38;5;241m0\u001b[39m,\u001b[38;5;241m0\u001b[39m), cv2\u001b[38;5;241m.\u001b[39mFILLED)\n\u001b[0;32m     44\u001b[0m \u001b[38;5;28;01mwhile\u001b[39;00m \u001b[38;5;28;01mTrue\u001b[39;00m:\n\u001b[1;32m---> 45\u001b[0m     cv2\u001b[38;5;241m.\u001b[39mline(img, (point_x[\u001b[43ma\u001b[49m\u001b[38;5;241m-\u001b[39m\u001b[38;5;241m2\u001b[39m], point_y[a\u001b[38;5;241m-\u001b[39m\u001b[38;5;241m2\u001b[39m]), (x,y), (\u001b[38;5;241m255\u001b[39m,\u001b[38;5;241m0\u001b[39m,\u001b[38;5;241m0\u001b[39m),\u001b[38;5;241m1\u001b[39m,cv2\u001b[38;5;241m.\u001b[39mLINE_AA)    \u001b[38;5;66;03m# 파일, 시작점, 끝점, 색깔, 두께, 옵션\u001b[39;00m\n\u001b[0;32m     47\u001b[0m     \u001b[38;5;28;01mif\u001b[39;00m event \u001b[38;5;241m==\u001b[39m cv2\u001b[38;5;241m.\u001b[39mEVENT_LBUTTONDOWN:\n\u001b[0;32m     48\u001b[0m         \u001b[38;5;28;01mbreak\u001b[39;00m\n",
      "\u001b[1;31mUnboundLocalError\u001b[0m: cannot access local variable 'a' where it is not associated with a value"
     ]
    },
    {
     "ename": "UnboundLocalError",
     "evalue": "cannot access local variable 'a' where it is not associated with a value",
     "output_type": "error",
     "traceback": [
      "\u001b[1;31m---------------------------------------------------------------------------\u001b[0m",
      "\u001b[1;31mUnboundLocalError\u001b[0m                         Traceback (most recent call last)",
      "Cell \u001b[1;32mIn[38], line 45\u001b[0m, in \u001b[0;36monMouse\u001b[1;34m(event, x, y, flags, _)\u001b[0m\n\u001b[0;32m     42\u001b[0m     cv2\u001b[38;5;241m.\u001b[39mcircle(img, (x,y), \u001b[38;5;241m3\u001b[39m, (\u001b[38;5;241m255\u001b[39m,\u001b[38;5;241m0\u001b[39m,\u001b[38;5;241m0\u001b[39m), cv2\u001b[38;5;241m.\u001b[39mFILLED)\n\u001b[0;32m     44\u001b[0m \u001b[38;5;28;01mwhile\u001b[39;00m \u001b[38;5;28;01mTrue\u001b[39;00m:\n\u001b[1;32m---> 45\u001b[0m     cv2\u001b[38;5;241m.\u001b[39mline(img, (point_x[\u001b[43ma\u001b[49m\u001b[38;5;241m-\u001b[39m\u001b[38;5;241m2\u001b[39m], point_y[a\u001b[38;5;241m-\u001b[39m\u001b[38;5;241m2\u001b[39m]), (x,y), (\u001b[38;5;241m255\u001b[39m,\u001b[38;5;241m0\u001b[39m,\u001b[38;5;241m0\u001b[39m),\u001b[38;5;241m1\u001b[39m,cv2\u001b[38;5;241m.\u001b[39mLINE_AA)    \u001b[38;5;66;03m# 파일, 시작점, 끝점, 색깔, 두께, 옵션\u001b[39;00m\n\u001b[0;32m     47\u001b[0m     \u001b[38;5;28;01mif\u001b[39;00m event \u001b[38;5;241m==\u001b[39m cv2\u001b[38;5;241m.\u001b[39mEVENT_LBUTTONDOWN:\n\u001b[0;32m     48\u001b[0m         \u001b[38;5;28;01mbreak\u001b[39;00m\n",
      "\u001b[1;31mUnboundLocalError\u001b[0m: cannot access local variable 'a' where it is not associated with a value"
     ]
    },
    {
     "ename": "UnboundLocalError",
     "evalue": "cannot access local variable 'a' where it is not associated with a value",
     "output_type": "error",
     "traceback": [
      "\u001b[1;31m---------------------------------------------------------------------------\u001b[0m",
      "\u001b[1;31mUnboundLocalError\u001b[0m                         Traceback (most recent call last)",
      "Cell \u001b[1;32mIn[38], line 45\u001b[0m, in \u001b[0;36monMouse\u001b[1;34m(event, x, y, flags, _)\u001b[0m\n\u001b[0;32m     42\u001b[0m     cv2\u001b[38;5;241m.\u001b[39mcircle(img, (x,y), \u001b[38;5;241m3\u001b[39m, (\u001b[38;5;241m255\u001b[39m,\u001b[38;5;241m0\u001b[39m,\u001b[38;5;241m0\u001b[39m), cv2\u001b[38;5;241m.\u001b[39mFILLED)\n\u001b[0;32m     44\u001b[0m \u001b[38;5;28;01mwhile\u001b[39;00m \u001b[38;5;28;01mTrue\u001b[39;00m:\n\u001b[1;32m---> 45\u001b[0m     cv2\u001b[38;5;241m.\u001b[39mline(img, (point_x[\u001b[43ma\u001b[49m\u001b[38;5;241m-\u001b[39m\u001b[38;5;241m2\u001b[39m], point_y[a\u001b[38;5;241m-\u001b[39m\u001b[38;5;241m2\u001b[39m]), (x,y), (\u001b[38;5;241m255\u001b[39m,\u001b[38;5;241m0\u001b[39m,\u001b[38;5;241m0\u001b[39m),\u001b[38;5;241m1\u001b[39m,cv2\u001b[38;5;241m.\u001b[39mLINE_AA)    \u001b[38;5;66;03m# 파일, 시작점, 끝점, 색깔, 두께, 옵션\u001b[39;00m\n\u001b[0;32m     47\u001b[0m     \u001b[38;5;28;01mif\u001b[39;00m event \u001b[38;5;241m==\u001b[39m cv2\u001b[38;5;241m.\u001b[39mEVENT_LBUTTONDOWN:\n\u001b[0;32m     48\u001b[0m         \u001b[38;5;28;01mbreak\u001b[39;00m\n",
      "\u001b[1;31mUnboundLocalError\u001b[0m: cannot access local variable 'a' where it is not associated with a value"
     ]
    },
    {
     "ename": "UnboundLocalError",
     "evalue": "cannot access local variable 'a' where it is not associated with a value",
     "output_type": "error",
     "traceback": [
      "\u001b[1;31m---------------------------------------------------------------------------\u001b[0m",
      "\u001b[1;31mUnboundLocalError\u001b[0m                         Traceback (most recent call last)",
      "Cell \u001b[1;32mIn[38], line 45\u001b[0m, in \u001b[0;36monMouse\u001b[1;34m(event, x, y, flags, _)\u001b[0m\n\u001b[0;32m     42\u001b[0m     cv2\u001b[38;5;241m.\u001b[39mcircle(img, (x,y), \u001b[38;5;241m3\u001b[39m, (\u001b[38;5;241m255\u001b[39m,\u001b[38;5;241m0\u001b[39m,\u001b[38;5;241m0\u001b[39m), cv2\u001b[38;5;241m.\u001b[39mFILLED)\n\u001b[0;32m     44\u001b[0m \u001b[38;5;28;01mwhile\u001b[39;00m \u001b[38;5;28;01mTrue\u001b[39;00m:\n\u001b[1;32m---> 45\u001b[0m     cv2\u001b[38;5;241m.\u001b[39mline(img, (point_x[\u001b[43ma\u001b[49m\u001b[38;5;241m-\u001b[39m\u001b[38;5;241m2\u001b[39m], point_y[a\u001b[38;5;241m-\u001b[39m\u001b[38;5;241m2\u001b[39m]), (x,y), (\u001b[38;5;241m255\u001b[39m,\u001b[38;5;241m0\u001b[39m,\u001b[38;5;241m0\u001b[39m),\u001b[38;5;241m1\u001b[39m,cv2\u001b[38;5;241m.\u001b[39mLINE_AA)    \u001b[38;5;66;03m# 파일, 시작점, 끝점, 색깔, 두께, 옵션\u001b[39;00m\n\u001b[0;32m     47\u001b[0m     \u001b[38;5;28;01mif\u001b[39;00m event \u001b[38;5;241m==\u001b[39m cv2\u001b[38;5;241m.\u001b[39mEVENT_LBUTTONDOWN:\n\u001b[0;32m     48\u001b[0m         \u001b[38;5;28;01mbreak\u001b[39;00m\n",
      "\u001b[1;31mUnboundLocalError\u001b[0m: cannot access local variable 'a' where it is not associated with a value"
     ]
    },
    {
     "ename": "UnboundLocalError",
     "evalue": "cannot access local variable 'a' where it is not associated with a value",
     "output_type": "error",
     "traceback": [
      "\u001b[1;31m---------------------------------------------------------------------------\u001b[0m",
      "\u001b[1;31mUnboundLocalError\u001b[0m                         Traceback (most recent call last)",
      "Cell \u001b[1;32mIn[38], line 45\u001b[0m, in \u001b[0;36monMouse\u001b[1;34m(event, x, y, flags, _)\u001b[0m\n\u001b[0;32m     42\u001b[0m     cv2\u001b[38;5;241m.\u001b[39mcircle(img, (x,y), \u001b[38;5;241m3\u001b[39m, (\u001b[38;5;241m255\u001b[39m,\u001b[38;5;241m0\u001b[39m,\u001b[38;5;241m0\u001b[39m), cv2\u001b[38;5;241m.\u001b[39mFILLED)\n\u001b[0;32m     44\u001b[0m \u001b[38;5;28;01mwhile\u001b[39;00m \u001b[38;5;28;01mTrue\u001b[39;00m:\n\u001b[1;32m---> 45\u001b[0m     cv2\u001b[38;5;241m.\u001b[39mline(img, (point_x[\u001b[43ma\u001b[49m\u001b[38;5;241m-\u001b[39m\u001b[38;5;241m2\u001b[39m], point_y[a\u001b[38;5;241m-\u001b[39m\u001b[38;5;241m2\u001b[39m]), (x,y), (\u001b[38;5;241m255\u001b[39m,\u001b[38;5;241m0\u001b[39m,\u001b[38;5;241m0\u001b[39m),\u001b[38;5;241m1\u001b[39m,cv2\u001b[38;5;241m.\u001b[39mLINE_AA)    \u001b[38;5;66;03m# 파일, 시작점, 끝점, 색깔, 두께, 옵션\u001b[39;00m\n\u001b[0;32m     47\u001b[0m     \u001b[38;5;28;01mif\u001b[39;00m event \u001b[38;5;241m==\u001b[39m cv2\u001b[38;5;241m.\u001b[39mEVENT_LBUTTONDOWN:\n\u001b[0;32m     48\u001b[0m         \u001b[38;5;28;01mbreak\u001b[39;00m\n",
      "\u001b[1;31mUnboundLocalError\u001b[0m: cannot access local variable 'a' where it is not associated with a value"
     ]
    },
    {
     "ename": "UnboundLocalError",
     "evalue": "cannot access local variable 'a' where it is not associated with a value",
     "output_type": "error",
     "traceback": [
      "\u001b[1;31m---------------------------------------------------------------------------\u001b[0m",
      "\u001b[1;31mUnboundLocalError\u001b[0m                         Traceback (most recent call last)",
      "Cell \u001b[1;32mIn[38], line 45\u001b[0m, in \u001b[0;36monMouse\u001b[1;34m(event, x, y, flags, _)\u001b[0m\n\u001b[0;32m     42\u001b[0m     cv2\u001b[38;5;241m.\u001b[39mcircle(img, (x,y), \u001b[38;5;241m3\u001b[39m, (\u001b[38;5;241m255\u001b[39m,\u001b[38;5;241m0\u001b[39m,\u001b[38;5;241m0\u001b[39m), cv2\u001b[38;5;241m.\u001b[39mFILLED)\n\u001b[0;32m     44\u001b[0m \u001b[38;5;28;01mwhile\u001b[39;00m \u001b[38;5;28;01mTrue\u001b[39;00m:\n\u001b[1;32m---> 45\u001b[0m     cv2\u001b[38;5;241m.\u001b[39mline(img, (point_x[\u001b[43ma\u001b[49m\u001b[38;5;241m-\u001b[39m\u001b[38;5;241m2\u001b[39m], point_y[a\u001b[38;5;241m-\u001b[39m\u001b[38;5;241m2\u001b[39m]), (x,y), (\u001b[38;5;241m255\u001b[39m,\u001b[38;5;241m0\u001b[39m,\u001b[38;5;241m0\u001b[39m),\u001b[38;5;241m1\u001b[39m,cv2\u001b[38;5;241m.\u001b[39mLINE_AA)    \u001b[38;5;66;03m# 파일, 시작점, 끝점, 색깔, 두께, 옵션\u001b[39;00m\n\u001b[0;32m     47\u001b[0m     \u001b[38;5;28;01mif\u001b[39;00m event \u001b[38;5;241m==\u001b[39m cv2\u001b[38;5;241m.\u001b[39mEVENT_LBUTTONDOWN:\n\u001b[0;32m     48\u001b[0m         \u001b[38;5;28;01mbreak\u001b[39;00m\n",
      "\u001b[1;31mUnboundLocalError\u001b[0m: cannot access local variable 'a' where it is not associated with a value"
     ]
    },
    {
     "ename": "UnboundLocalError",
     "evalue": "cannot access local variable 'a' where it is not associated with a value",
     "output_type": "error",
     "traceback": [
      "\u001b[1;31m---------------------------------------------------------------------------\u001b[0m",
      "\u001b[1;31mUnboundLocalError\u001b[0m                         Traceback (most recent call last)",
      "Cell \u001b[1;32mIn[38], line 45\u001b[0m, in \u001b[0;36monMouse\u001b[1;34m(event, x, y, flags, _)\u001b[0m\n\u001b[0;32m     42\u001b[0m     cv2\u001b[38;5;241m.\u001b[39mcircle(img, (x,y), \u001b[38;5;241m3\u001b[39m, (\u001b[38;5;241m255\u001b[39m,\u001b[38;5;241m0\u001b[39m,\u001b[38;5;241m0\u001b[39m), cv2\u001b[38;5;241m.\u001b[39mFILLED)\n\u001b[0;32m     44\u001b[0m \u001b[38;5;28;01mwhile\u001b[39;00m \u001b[38;5;28;01mTrue\u001b[39;00m:\n\u001b[1;32m---> 45\u001b[0m     cv2\u001b[38;5;241m.\u001b[39mline(img, (point_x[\u001b[43ma\u001b[49m\u001b[38;5;241m-\u001b[39m\u001b[38;5;241m2\u001b[39m], point_y[a\u001b[38;5;241m-\u001b[39m\u001b[38;5;241m2\u001b[39m]), (x,y), (\u001b[38;5;241m255\u001b[39m,\u001b[38;5;241m0\u001b[39m,\u001b[38;5;241m0\u001b[39m),\u001b[38;5;241m1\u001b[39m,cv2\u001b[38;5;241m.\u001b[39mLINE_AA)    \u001b[38;5;66;03m# 파일, 시작점, 끝점, 색깔, 두께, 옵션\u001b[39;00m\n\u001b[0;32m     47\u001b[0m     \u001b[38;5;28;01mif\u001b[39;00m event \u001b[38;5;241m==\u001b[39m cv2\u001b[38;5;241m.\u001b[39mEVENT_LBUTTONDOWN:\n\u001b[0;32m     48\u001b[0m         \u001b[38;5;28;01mbreak\u001b[39;00m\n",
      "\u001b[1;31mUnboundLocalError\u001b[0m: cannot access local variable 'a' where it is not associated with a value"
     ]
    },
    {
     "ename": "UnboundLocalError",
     "evalue": "cannot access local variable 'a' where it is not associated with a value",
     "output_type": "error",
     "traceback": [
      "\u001b[1;31m---------------------------------------------------------------------------\u001b[0m",
      "\u001b[1;31mUnboundLocalError\u001b[0m                         Traceback (most recent call last)",
      "Cell \u001b[1;32mIn[38], line 45\u001b[0m, in \u001b[0;36monMouse\u001b[1;34m(event, x, y, flags, _)\u001b[0m\n\u001b[0;32m     42\u001b[0m     cv2\u001b[38;5;241m.\u001b[39mcircle(img, (x,y), \u001b[38;5;241m3\u001b[39m, (\u001b[38;5;241m255\u001b[39m,\u001b[38;5;241m0\u001b[39m,\u001b[38;5;241m0\u001b[39m), cv2\u001b[38;5;241m.\u001b[39mFILLED)\n\u001b[0;32m     44\u001b[0m \u001b[38;5;28;01mwhile\u001b[39;00m \u001b[38;5;28;01mTrue\u001b[39;00m:\n\u001b[1;32m---> 45\u001b[0m     cv2\u001b[38;5;241m.\u001b[39mline(img, (point_x[\u001b[43ma\u001b[49m\u001b[38;5;241m-\u001b[39m\u001b[38;5;241m2\u001b[39m], point_y[a\u001b[38;5;241m-\u001b[39m\u001b[38;5;241m2\u001b[39m]), (x,y), (\u001b[38;5;241m255\u001b[39m,\u001b[38;5;241m0\u001b[39m,\u001b[38;5;241m0\u001b[39m),\u001b[38;5;241m1\u001b[39m,cv2\u001b[38;5;241m.\u001b[39mLINE_AA)    \u001b[38;5;66;03m# 파일, 시작점, 끝점, 색깔, 두께, 옵션\u001b[39;00m\n\u001b[0;32m     47\u001b[0m     \u001b[38;5;28;01mif\u001b[39;00m event \u001b[38;5;241m==\u001b[39m cv2\u001b[38;5;241m.\u001b[39mEVENT_LBUTTONDOWN:\n\u001b[0;32m     48\u001b[0m         \u001b[38;5;28;01mbreak\u001b[39;00m\n",
      "\u001b[1;31mUnboundLocalError\u001b[0m: cannot access local variable 'a' where it is not associated with a value"
     ]
    },
    {
     "ename": "UnboundLocalError",
     "evalue": "cannot access local variable 'a' where it is not associated with a value",
     "output_type": "error",
     "traceback": [
      "\u001b[1;31m---------------------------------------------------------------------------\u001b[0m",
      "\u001b[1;31mUnboundLocalError\u001b[0m                         Traceback (most recent call last)",
      "Cell \u001b[1;32mIn[38], line 45\u001b[0m, in \u001b[0;36monMouse\u001b[1;34m(event, x, y, flags, _)\u001b[0m\n\u001b[0;32m     42\u001b[0m     cv2\u001b[38;5;241m.\u001b[39mcircle(img, (x,y), \u001b[38;5;241m3\u001b[39m, (\u001b[38;5;241m255\u001b[39m,\u001b[38;5;241m0\u001b[39m,\u001b[38;5;241m0\u001b[39m), cv2\u001b[38;5;241m.\u001b[39mFILLED)\n\u001b[0;32m     44\u001b[0m \u001b[38;5;28;01mwhile\u001b[39;00m \u001b[38;5;28;01mTrue\u001b[39;00m:\n\u001b[1;32m---> 45\u001b[0m     cv2\u001b[38;5;241m.\u001b[39mline(img, (point_x[\u001b[43ma\u001b[49m\u001b[38;5;241m-\u001b[39m\u001b[38;5;241m2\u001b[39m], point_y[a\u001b[38;5;241m-\u001b[39m\u001b[38;5;241m2\u001b[39m]), (x,y), (\u001b[38;5;241m255\u001b[39m,\u001b[38;5;241m0\u001b[39m,\u001b[38;5;241m0\u001b[39m),\u001b[38;5;241m1\u001b[39m,cv2\u001b[38;5;241m.\u001b[39mLINE_AA)    \u001b[38;5;66;03m# 파일, 시작점, 끝점, 색깔, 두께, 옵션\u001b[39;00m\n\u001b[0;32m     47\u001b[0m     \u001b[38;5;28;01mif\u001b[39;00m event \u001b[38;5;241m==\u001b[39m cv2\u001b[38;5;241m.\u001b[39mEVENT_LBUTTONDOWN:\n\u001b[0;32m     48\u001b[0m         \u001b[38;5;28;01mbreak\u001b[39;00m\n",
      "\u001b[1;31mUnboundLocalError\u001b[0m: cannot access local variable 'a' where it is not associated with a value"
     ]
    },
    {
     "ename": "UnboundLocalError",
     "evalue": "cannot access local variable 'a' where it is not associated with a value",
     "output_type": "error",
     "traceback": [
      "\u001b[1;31m---------------------------------------------------------------------------\u001b[0m",
      "\u001b[1;31mUnboundLocalError\u001b[0m                         Traceback (most recent call last)",
      "Cell \u001b[1;32mIn[38], line 45\u001b[0m, in \u001b[0;36monMouse\u001b[1;34m(event, x, y, flags, _)\u001b[0m\n\u001b[0;32m     42\u001b[0m     cv2\u001b[38;5;241m.\u001b[39mcircle(img, (x,y), \u001b[38;5;241m3\u001b[39m, (\u001b[38;5;241m255\u001b[39m,\u001b[38;5;241m0\u001b[39m,\u001b[38;5;241m0\u001b[39m), cv2\u001b[38;5;241m.\u001b[39mFILLED)\n\u001b[0;32m     44\u001b[0m \u001b[38;5;28;01mwhile\u001b[39;00m \u001b[38;5;28;01mTrue\u001b[39;00m:\n\u001b[1;32m---> 45\u001b[0m     cv2\u001b[38;5;241m.\u001b[39mline(img, (point_x[\u001b[43ma\u001b[49m\u001b[38;5;241m-\u001b[39m\u001b[38;5;241m2\u001b[39m], point_y[a\u001b[38;5;241m-\u001b[39m\u001b[38;5;241m2\u001b[39m]), (x,y), (\u001b[38;5;241m255\u001b[39m,\u001b[38;5;241m0\u001b[39m,\u001b[38;5;241m0\u001b[39m),\u001b[38;5;241m1\u001b[39m,cv2\u001b[38;5;241m.\u001b[39mLINE_AA)    \u001b[38;5;66;03m# 파일, 시작점, 끝점, 색깔, 두께, 옵션\u001b[39;00m\n\u001b[0;32m     47\u001b[0m     \u001b[38;5;28;01mif\u001b[39;00m event \u001b[38;5;241m==\u001b[39m cv2\u001b[38;5;241m.\u001b[39mEVENT_LBUTTONDOWN:\n\u001b[0;32m     48\u001b[0m         \u001b[38;5;28;01mbreak\u001b[39;00m\n",
      "\u001b[1;31mUnboundLocalError\u001b[0m: cannot access local variable 'a' where it is not associated with a value"
     ]
    },
    {
     "ename": "UnboundLocalError",
     "evalue": "cannot access local variable 'a' where it is not associated with a value",
     "output_type": "error",
     "traceback": [
      "\u001b[1;31m---------------------------------------------------------------------------\u001b[0m",
      "\u001b[1;31mUnboundLocalError\u001b[0m                         Traceback (most recent call last)",
      "Cell \u001b[1;32mIn[38], line 45\u001b[0m, in \u001b[0;36monMouse\u001b[1;34m(event, x, y, flags, _)\u001b[0m\n\u001b[0;32m     42\u001b[0m     cv2\u001b[38;5;241m.\u001b[39mcircle(img, (x,y), \u001b[38;5;241m3\u001b[39m, (\u001b[38;5;241m255\u001b[39m,\u001b[38;5;241m0\u001b[39m,\u001b[38;5;241m0\u001b[39m), cv2\u001b[38;5;241m.\u001b[39mFILLED)\n\u001b[0;32m     44\u001b[0m \u001b[38;5;28;01mwhile\u001b[39;00m \u001b[38;5;28;01mTrue\u001b[39;00m:\n\u001b[1;32m---> 45\u001b[0m     cv2\u001b[38;5;241m.\u001b[39mline(img, (point_x[\u001b[43ma\u001b[49m\u001b[38;5;241m-\u001b[39m\u001b[38;5;241m2\u001b[39m], point_y[a\u001b[38;5;241m-\u001b[39m\u001b[38;5;241m2\u001b[39m]), (x,y), (\u001b[38;5;241m255\u001b[39m,\u001b[38;5;241m0\u001b[39m,\u001b[38;5;241m0\u001b[39m),\u001b[38;5;241m1\u001b[39m,cv2\u001b[38;5;241m.\u001b[39mLINE_AA)    \u001b[38;5;66;03m# 파일, 시작점, 끝점, 색깔, 두께, 옵션\u001b[39;00m\n\u001b[0;32m     47\u001b[0m     \u001b[38;5;28;01mif\u001b[39;00m event \u001b[38;5;241m==\u001b[39m cv2\u001b[38;5;241m.\u001b[39mEVENT_LBUTTONDOWN:\n\u001b[0;32m     48\u001b[0m         \u001b[38;5;28;01mbreak\u001b[39;00m\n",
      "\u001b[1;31mUnboundLocalError\u001b[0m: cannot access local variable 'a' where it is not associated with a value"
     ]
    },
    {
     "ename": "UnboundLocalError",
     "evalue": "cannot access local variable 'a' where it is not associated with a value",
     "output_type": "error",
     "traceback": [
      "\u001b[1;31m---------------------------------------------------------------------------\u001b[0m",
      "\u001b[1;31mUnboundLocalError\u001b[0m                         Traceback (most recent call last)",
      "Cell \u001b[1;32mIn[38], line 45\u001b[0m, in \u001b[0;36monMouse\u001b[1;34m(event, x, y, flags, _)\u001b[0m\n\u001b[0;32m     42\u001b[0m     cv2\u001b[38;5;241m.\u001b[39mcircle(img, (x,y), \u001b[38;5;241m3\u001b[39m, (\u001b[38;5;241m255\u001b[39m,\u001b[38;5;241m0\u001b[39m,\u001b[38;5;241m0\u001b[39m), cv2\u001b[38;5;241m.\u001b[39mFILLED)\n\u001b[0;32m     44\u001b[0m \u001b[38;5;28;01mwhile\u001b[39;00m \u001b[38;5;28;01mTrue\u001b[39;00m:\n\u001b[1;32m---> 45\u001b[0m     cv2\u001b[38;5;241m.\u001b[39mline(img, (point_x[\u001b[43ma\u001b[49m\u001b[38;5;241m-\u001b[39m\u001b[38;5;241m2\u001b[39m], point_y[a\u001b[38;5;241m-\u001b[39m\u001b[38;5;241m2\u001b[39m]), (x,y), (\u001b[38;5;241m255\u001b[39m,\u001b[38;5;241m0\u001b[39m,\u001b[38;5;241m0\u001b[39m),\u001b[38;5;241m1\u001b[39m,cv2\u001b[38;5;241m.\u001b[39mLINE_AA)    \u001b[38;5;66;03m# 파일, 시작점, 끝점, 색깔, 두께, 옵션\u001b[39;00m\n\u001b[0;32m     47\u001b[0m     \u001b[38;5;28;01mif\u001b[39;00m event \u001b[38;5;241m==\u001b[39m cv2\u001b[38;5;241m.\u001b[39mEVENT_LBUTTONDOWN:\n\u001b[0;32m     48\u001b[0m         \u001b[38;5;28;01mbreak\u001b[39;00m\n",
      "\u001b[1;31mUnboundLocalError\u001b[0m: cannot access local variable 'a' where it is not associated with a value"
     ]
    },
    {
     "ename": "UnboundLocalError",
     "evalue": "cannot access local variable 'a' where it is not associated with a value",
     "output_type": "error",
     "traceback": [
      "\u001b[1;31m---------------------------------------------------------------------------\u001b[0m",
      "\u001b[1;31mUnboundLocalError\u001b[0m                         Traceback (most recent call last)",
      "Cell \u001b[1;32mIn[38], line 45\u001b[0m, in \u001b[0;36monMouse\u001b[1;34m(event, x, y, flags, _)\u001b[0m\n\u001b[0;32m     42\u001b[0m     cv2\u001b[38;5;241m.\u001b[39mcircle(img, (x,y), \u001b[38;5;241m3\u001b[39m, (\u001b[38;5;241m255\u001b[39m,\u001b[38;5;241m0\u001b[39m,\u001b[38;5;241m0\u001b[39m), cv2\u001b[38;5;241m.\u001b[39mFILLED)\n\u001b[0;32m     44\u001b[0m \u001b[38;5;28;01mwhile\u001b[39;00m \u001b[38;5;28;01mTrue\u001b[39;00m:\n\u001b[1;32m---> 45\u001b[0m     cv2\u001b[38;5;241m.\u001b[39mline(img, (point_x[\u001b[43ma\u001b[49m\u001b[38;5;241m-\u001b[39m\u001b[38;5;241m2\u001b[39m], point_y[a\u001b[38;5;241m-\u001b[39m\u001b[38;5;241m2\u001b[39m]), (x,y), (\u001b[38;5;241m255\u001b[39m,\u001b[38;5;241m0\u001b[39m,\u001b[38;5;241m0\u001b[39m),\u001b[38;5;241m1\u001b[39m,cv2\u001b[38;5;241m.\u001b[39mLINE_AA)    \u001b[38;5;66;03m# 파일, 시작점, 끝점, 색깔, 두께, 옵션\u001b[39;00m\n\u001b[0;32m     47\u001b[0m     \u001b[38;5;28;01mif\u001b[39;00m event \u001b[38;5;241m==\u001b[39m cv2\u001b[38;5;241m.\u001b[39mEVENT_LBUTTONDOWN:\n\u001b[0;32m     48\u001b[0m         \u001b[38;5;28;01mbreak\u001b[39;00m\n",
      "\u001b[1;31mUnboundLocalError\u001b[0m: cannot access local variable 'a' where it is not associated with a value"
     ]
    },
    {
     "ename": "UnboundLocalError",
     "evalue": "cannot access local variable 'a' where it is not associated with a value",
     "output_type": "error",
     "traceback": [
      "\u001b[1;31m---------------------------------------------------------------------------\u001b[0m",
      "\u001b[1;31mUnboundLocalError\u001b[0m                         Traceback (most recent call last)",
      "Cell \u001b[1;32mIn[38], line 45\u001b[0m, in \u001b[0;36monMouse\u001b[1;34m(event, x, y, flags, _)\u001b[0m\n\u001b[0;32m     42\u001b[0m     cv2\u001b[38;5;241m.\u001b[39mcircle(img, (x,y), \u001b[38;5;241m3\u001b[39m, (\u001b[38;5;241m255\u001b[39m,\u001b[38;5;241m0\u001b[39m,\u001b[38;5;241m0\u001b[39m), cv2\u001b[38;5;241m.\u001b[39mFILLED)\n\u001b[0;32m     44\u001b[0m \u001b[38;5;28;01mwhile\u001b[39;00m \u001b[38;5;28;01mTrue\u001b[39;00m:\n\u001b[1;32m---> 45\u001b[0m     cv2\u001b[38;5;241m.\u001b[39mline(img, (point_x[\u001b[43ma\u001b[49m\u001b[38;5;241m-\u001b[39m\u001b[38;5;241m2\u001b[39m], point_y[a\u001b[38;5;241m-\u001b[39m\u001b[38;5;241m2\u001b[39m]), (x,y), (\u001b[38;5;241m255\u001b[39m,\u001b[38;5;241m0\u001b[39m,\u001b[38;5;241m0\u001b[39m),\u001b[38;5;241m1\u001b[39m,cv2\u001b[38;5;241m.\u001b[39mLINE_AA)    \u001b[38;5;66;03m# 파일, 시작점, 끝점, 색깔, 두께, 옵션\u001b[39;00m\n\u001b[0;32m     47\u001b[0m     \u001b[38;5;28;01mif\u001b[39;00m event \u001b[38;5;241m==\u001b[39m cv2\u001b[38;5;241m.\u001b[39mEVENT_LBUTTONDOWN:\n\u001b[0;32m     48\u001b[0m         \u001b[38;5;28;01mbreak\u001b[39;00m\n",
      "\u001b[1;31mUnboundLocalError\u001b[0m: cannot access local variable 'a' where it is not associated with a value"
     ]
    },
    {
     "ename": "UnboundLocalError",
     "evalue": "cannot access local variable 'a' where it is not associated with a value",
     "output_type": "error",
     "traceback": [
      "\u001b[1;31m---------------------------------------------------------------------------\u001b[0m",
      "\u001b[1;31mUnboundLocalError\u001b[0m                         Traceback (most recent call last)",
      "Cell \u001b[1;32mIn[38], line 45\u001b[0m, in \u001b[0;36monMouse\u001b[1;34m(event, x, y, flags, _)\u001b[0m\n\u001b[0;32m     42\u001b[0m     cv2\u001b[38;5;241m.\u001b[39mcircle(img, (x,y), \u001b[38;5;241m3\u001b[39m, (\u001b[38;5;241m255\u001b[39m,\u001b[38;5;241m0\u001b[39m,\u001b[38;5;241m0\u001b[39m), cv2\u001b[38;5;241m.\u001b[39mFILLED)\n\u001b[0;32m     44\u001b[0m \u001b[38;5;28;01mwhile\u001b[39;00m \u001b[38;5;28;01mTrue\u001b[39;00m:\n\u001b[1;32m---> 45\u001b[0m     cv2\u001b[38;5;241m.\u001b[39mline(img, (point_x[\u001b[43ma\u001b[49m\u001b[38;5;241m-\u001b[39m\u001b[38;5;241m2\u001b[39m], point_y[a\u001b[38;5;241m-\u001b[39m\u001b[38;5;241m2\u001b[39m]), (x,y), (\u001b[38;5;241m255\u001b[39m,\u001b[38;5;241m0\u001b[39m,\u001b[38;5;241m0\u001b[39m),\u001b[38;5;241m1\u001b[39m,cv2\u001b[38;5;241m.\u001b[39mLINE_AA)    \u001b[38;5;66;03m# 파일, 시작점, 끝점, 색깔, 두께, 옵션\u001b[39;00m\n\u001b[0;32m     47\u001b[0m     \u001b[38;5;28;01mif\u001b[39;00m event \u001b[38;5;241m==\u001b[39m cv2\u001b[38;5;241m.\u001b[39mEVENT_LBUTTONDOWN:\n\u001b[0;32m     48\u001b[0m         \u001b[38;5;28;01mbreak\u001b[39;00m\n",
      "\u001b[1;31mUnboundLocalError\u001b[0m: cannot access local variable 'a' where it is not associated with a value"
     ]
    },
    {
     "ename": "UnboundLocalError",
     "evalue": "cannot access local variable 'a' where it is not associated with a value",
     "output_type": "error",
     "traceback": [
      "\u001b[1;31m---------------------------------------------------------------------------\u001b[0m",
      "\u001b[1;31mUnboundLocalError\u001b[0m                         Traceback (most recent call last)",
      "Cell \u001b[1;32mIn[38], line 45\u001b[0m, in \u001b[0;36monMouse\u001b[1;34m(event, x, y, flags, _)\u001b[0m\n\u001b[0;32m     42\u001b[0m     cv2\u001b[38;5;241m.\u001b[39mcircle(img, (x,y), \u001b[38;5;241m3\u001b[39m, (\u001b[38;5;241m255\u001b[39m,\u001b[38;5;241m0\u001b[39m,\u001b[38;5;241m0\u001b[39m), cv2\u001b[38;5;241m.\u001b[39mFILLED)\n\u001b[0;32m     44\u001b[0m \u001b[38;5;28;01mwhile\u001b[39;00m \u001b[38;5;28;01mTrue\u001b[39;00m:\n\u001b[1;32m---> 45\u001b[0m     cv2\u001b[38;5;241m.\u001b[39mline(img, (point_x[\u001b[43ma\u001b[49m\u001b[38;5;241m-\u001b[39m\u001b[38;5;241m2\u001b[39m], point_y[a\u001b[38;5;241m-\u001b[39m\u001b[38;5;241m2\u001b[39m]), (x,y), (\u001b[38;5;241m255\u001b[39m,\u001b[38;5;241m0\u001b[39m,\u001b[38;5;241m0\u001b[39m),\u001b[38;5;241m1\u001b[39m,cv2\u001b[38;5;241m.\u001b[39mLINE_AA)    \u001b[38;5;66;03m# 파일, 시작점, 끝점, 색깔, 두께, 옵션\u001b[39;00m\n\u001b[0;32m     47\u001b[0m     \u001b[38;5;28;01mif\u001b[39;00m event \u001b[38;5;241m==\u001b[39m cv2\u001b[38;5;241m.\u001b[39mEVENT_LBUTTONDOWN:\n\u001b[0;32m     48\u001b[0m         \u001b[38;5;28;01mbreak\u001b[39;00m\n",
      "\u001b[1;31mUnboundLocalError\u001b[0m: cannot access local variable 'a' where it is not associated with a value"
     ]
    },
    {
     "ename": "UnboundLocalError",
     "evalue": "cannot access local variable 'a' where it is not associated with a value",
     "output_type": "error",
     "traceback": [
      "\u001b[1;31m---------------------------------------------------------------------------\u001b[0m",
      "\u001b[1;31mUnboundLocalError\u001b[0m                         Traceback (most recent call last)",
      "Cell \u001b[1;32mIn[38], line 45\u001b[0m, in \u001b[0;36monMouse\u001b[1;34m(event, x, y, flags, _)\u001b[0m\n\u001b[0;32m     42\u001b[0m     cv2\u001b[38;5;241m.\u001b[39mcircle(img, (x,y), \u001b[38;5;241m3\u001b[39m, (\u001b[38;5;241m255\u001b[39m,\u001b[38;5;241m0\u001b[39m,\u001b[38;5;241m0\u001b[39m), cv2\u001b[38;5;241m.\u001b[39mFILLED)\n\u001b[0;32m     44\u001b[0m \u001b[38;5;28;01mwhile\u001b[39;00m \u001b[38;5;28;01mTrue\u001b[39;00m:\n\u001b[1;32m---> 45\u001b[0m     cv2\u001b[38;5;241m.\u001b[39mline(img, (point_x[\u001b[43ma\u001b[49m\u001b[38;5;241m-\u001b[39m\u001b[38;5;241m2\u001b[39m], point_y[a\u001b[38;5;241m-\u001b[39m\u001b[38;5;241m2\u001b[39m]), (x,y), (\u001b[38;5;241m255\u001b[39m,\u001b[38;5;241m0\u001b[39m,\u001b[38;5;241m0\u001b[39m),\u001b[38;5;241m1\u001b[39m,cv2\u001b[38;5;241m.\u001b[39mLINE_AA)    \u001b[38;5;66;03m# 파일, 시작점, 끝점, 색깔, 두께, 옵션\u001b[39;00m\n\u001b[0;32m     47\u001b[0m     \u001b[38;5;28;01mif\u001b[39;00m event \u001b[38;5;241m==\u001b[39m cv2\u001b[38;5;241m.\u001b[39mEVENT_LBUTTONDOWN:\n\u001b[0;32m     48\u001b[0m         \u001b[38;5;28;01mbreak\u001b[39;00m\n",
      "\u001b[1;31mUnboundLocalError\u001b[0m: cannot access local variable 'a' where it is not associated with a value"
     ]
    },
    {
     "ename": "UnboundLocalError",
     "evalue": "cannot access local variable 'a' where it is not associated with a value",
     "output_type": "error",
     "traceback": [
      "\u001b[1;31m---------------------------------------------------------------------------\u001b[0m",
      "\u001b[1;31mUnboundLocalError\u001b[0m                         Traceback (most recent call last)",
      "Cell \u001b[1;32mIn[38], line 45\u001b[0m, in \u001b[0;36monMouse\u001b[1;34m(event, x, y, flags, _)\u001b[0m\n\u001b[0;32m     42\u001b[0m     cv2\u001b[38;5;241m.\u001b[39mcircle(img, (x,y), \u001b[38;5;241m3\u001b[39m, (\u001b[38;5;241m255\u001b[39m,\u001b[38;5;241m0\u001b[39m,\u001b[38;5;241m0\u001b[39m), cv2\u001b[38;5;241m.\u001b[39mFILLED)\n\u001b[0;32m     44\u001b[0m \u001b[38;5;28;01mwhile\u001b[39;00m \u001b[38;5;28;01mTrue\u001b[39;00m:\n\u001b[1;32m---> 45\u001b[0m     cv2\u001b[38;5;241m.\u001b[39mline(img, (point_x[\u001b[43ma\u001b[49m\u001b[38;5;241m-\u001b[39m\u001b[38;5;241m2\u001b[39m], point_y[a\u001b[38;5;241m-\u001b[39m\u001b[38;5;241m2\u001b[39m]), (x,y), (\u001b[38;5;241m255\u001b[39m,\u001b[38;5;241m0\u001b[39m,\u001b[38;5;241m0\u001b[39m),\u001b[38;5;241m1\u001b[39m,cv2\u001b[38;5;241m.\u001b[39mLINE_AA)    \u001b[38;5;66;03m# 파일, 시작점, 끝점, 색깔, 두께, 옵션\u001b[39;00m\n\u001b[0;32m     47\u001b[0m     \u001b[38;5;28;01mif\u001b[39;00m event \u001b[38;5;241m==\u001b[39m cv2\u001b[38;5;241m.\u001b[39mEVENT_LBUTTONDOWN:\n\u001b[0;32m     48\u001b[0m         \u001b[38;5;28;01mbreak\u001b[39;00m\n",
      "\u001b[1;31mUnboundLocalError\u001b[0m: cannot access local variable 'a' where it is not associated with a value"
     ]
    },
    {
     "ename": "UnboundLocalError",
     "evalue": "cannot access local variable 'a' where it is not associated with a value",
     "output_type": "error",
     "traceback": [
      "\u001b[1;31m---------------------------------------------------------------------------\u001b[0m",
      "\u001b[1;31mUnboundLocalError\u001b[0m                         Traceback (most recent call last)",
      "Cell \u001b[1;32mIn[38], line 45\u001b[0m, in \u001b[0;36monMouse\u001b[1;34m(event, x, y, flags, _)\u001b[0m\n\u001b[0;32m     42\u001b[0m     cv2\u001b[38;5;241m.\u001b[39mcircle(img, (x,y), \u001b[38;5;241m3\u001b[39m, (\u001b[38;5;241m255\u001b[39m,\u001b[38;5;241m0\u001b[39m,\u001b[38;5;241m0\u001b[39m), cv2\u001b[38;5;241m.\u001b[39mFILLED)\n\u001b[0;32m     44\u001b[0m \u001b[38;5;28;01mwhile\u001b[39;00m \u001b[38;5;28;01mTrue\u001b[39;00m:\n\u001b[1;32m---> 45\u001b[0m     cv2\u001b[38;5;241m.\u001b[39mline(img, (point_x[\u001b[43ma\u001b[49m\u001b[38;5;241m-\u001b[39m\u001b[38;5;241m2\u001b[39m], point_y[a\u001b[38;5;241m-\u001b[39m\u001b[38;5;241m2\u001b[39m]), (x,y), (\u001b[38;5;241m255\u001b[39m,\u001b[38;5;241m0\u001b[39m,\u001b[38;5;241m0\u001b[39m),\u001b[38;5;241m1\u001b[39m,cv2\u001b[38;5;241m.\u001b[39mLINE_AA)    \u001b[38;5;66;03m# 파일, 시작점, 끝점, 색깔, 두께, 옵션\u001b[39;00m\n\u001b[0;32m     47\u001b[0m     \u001b[38;5;28;01mif\u001b[39;00m event \u001b[38;5;241m==\u001b[39m cv2\u001b[38;5;241m.\u001b[39mEVENT_LBUTTONDOWN:\n\u001b[0;32m     48\u001b[0m         \u001b[38;5;28;01mbreak\u001b[39;00m\n",
      "\u001b[1;31mUnboundLocalError\u001b[0m: cannot access local variable 'a' where it is not associated with a value"
     ]
    },
    {
     "ename": "UnboundLocalError",
     "evalue": "cannot access local variable 'a' where it is not associated with a value",
     "output_type": "error",
     "traceback": [
      "\u001b[1;31m---------------------------------------------------------------------------\u001b[0m",
      "\u001b[1;31mUnboundLocalError\u001b[0m                         Traceback (most recent call last)",
      "Cell \u001b[1;32mIn[38], line 45\u001b[0m, in \u001b[0;36monMouse\u001b[1;34m(event, x, y, flags, _)\u001b[0m\n\u001b[0;32m     42\u001b[0m     cv2\u001b[38;5;241m.\u001b[39mcircle(img, (x,y), \u001b[38;5;241m3\u001b[39m, (\u001b[38;5;241m255\u001b[39m,\u001b[38;5;241m0\u001b[39m,\u001b[38;5;241m0\u001b[39m), cv2\u001b[38;5;241m.\u001b[39mFILLED)\n\u001b[0;32m     44\u001b[0m \u001b[38;5;28;01mwhile\u001b[39;00m \u001b[38;5;28;01mTrue\u001b[39;00m:\n\u001b[1;32m---> 45\u001b[0m     cv2\u001b[38;5;241m.\u001b[39mline(img, (point_x[\u001b[43ma\u001b[49m\u001b[38;5;241m-\u001b[39m\u001b[38;5;241m2\u001b[39m], point_y[a\u001b[38;5;241m-\u001b[39m\u001b[38;5;241m2\u001b[39m]), (x,y), (\u001b[38;5;241m255\u001b[39m,\u001b[38;5;241m0\u001b[39m,\u001b[38;5;241m0\u001b[39m),\u001b[38;5;241m1\u001b[39m,cv2\u001b[38;5;241m.\u001b[39mLINE_AA)    \u001b[38;5;66;03m# 파일, 시작점, 끝점, 색깔, 두께, 옵션\u001b[39;00m\n\u001b[0;32m     47\u001b[0m     \u001b[38;5;28;01mif\u001b[39;00m event \u001b[38;5;241m==\u001b[39m cv2\u001b[38;5;241m.\u001b[39mEVENT_LBUTTONDOWN:\n\u001b[0;32m     48\u001b[0m         \u001b[38;5;28;01mbreak\u001b[39;00m\n",
      "\u001b[1;31mUnboundLocalError\u001b[0m: cannot access local variable 'a' where it is not associated with a value"
     ]
    },
    {
     "ename": "UnboundLocalError",
     "evalue": "cannot access local variable 'a' where it is not associated with a value",
     "output_type": "error",
     "traceback": [
      "\u001b[1;31m---------------------------------------------------------------------------\u001b[0m",
      "\u001b[1;31mUnboundLocalError\u001b[0m                         Traceback (most recent call last)",
      "Cell \u001b[1;32mIn[38], line 45\u001b[0m, in \u001b[0;36monMouse\u001b[1;34m(event, x, y, flags, _)\u001b[0m\n\u001b[0;32m     42\u001b[0m     cv2\u001b[38;5;241m.\u001b[39mcircle(img, (x,y), \u001b[38;5;241m3\u001b[39m, (\u001b[38;5;241m255\u001b[39m,\u001b[38;5;241m0\u001b[39m,\u001b[38;5;241m0\u001b[39m), cv2\u001b[38;5;241m.\u001b[39mFILLED)\n\u001b[0;32m     44\u001b[0m \u001b[38;5;28;01mwhile\u001b[39;00m \u001b[38;5;28;01mTrue\u001b[39;00m:\n\u001b[1;32m---> 45\u001b[0m     cv2\u001b[38;5;241m.\u001b[39mline(img, (point_x[\u001b[43ma\u001b[49m\u001b[38;5;241m-\u001b[39m\u001b[38;5;241m2\u001b[39m], point_y[a\u001b[38;5;241m-\u001b[39m\u001b[38;5;241m2\u001b[39m]), (x,y), (\u001b[38;5;241m255\u001b[39m,\u001b[38;5;241m0\u001b[39m,\u001b[38;5;241m0\u001b[39m),\u001b[38;5;241m1\u001b[39m,cv2\u001b[38;5;241m.\u001b[39mLINE_AA)    \u001b[38;5;66;03m# 파일, 시작점, 끝점, 색깔, 두께, 옵션\u001b[39;00m\n\u001b[0;32m     47\u001b[0m     \u001b[38;5;28;01mif\u001b[39;00m event \u001b[38;5;241m==\u001b[39m cv2\u001b[38;5;241m.\u001b[39mEVENT_LBUTTONDOWN:\n\u001b[0;32m     48\u001b[0m         \u001b[38;5;28;01mbreak\u001b[39;00m\n",
      "\u001b[1;31mUnboundLocalError\u001b[0m: cannot access local variable 'a' where it is not associated with a value"
     ]
    },
    {
     "ename": "UnboundLocalError",
     "evalue": "cannot access local variable 'a' where it is not associated with a value",
     "output_type": "error",
     "traceback": [
      "\u001b[1;31m---------------------------------------------------------------------------\u001b[0m",
      "\u001b[1;31mUnboundLocalError\u001b[0m                         Traceback (most recent call last)",
      "Cell \u001b[1;32mIn[38], line 45\u001b[0m, in \u001b[0;36monMouse\u001b[1;34m(event, x, y, flags, _)\u001b[0m\n\u001b[0;32m     42\u001b[0m     cv2\u001b[38;5;241m.\u001b[39mcircle(img, (x,y), \u001b[38;5;241m3\u001b[39m, (\u001b[38;5;241m255\u001b[39m,\u001b[38;5;241m0\u001b[39m,\u001b[38;5;241m0\u001b[39m), cv2\u001b[38;5;241m.\u001b[39mFILLED)\n\u001b[0;32m     44\u001b[0m \u001b[38;5;28;01mwhile\u001b[39;00m \u001b[38;5;28;01mTrue\u001b[39;00m:\n\u001b[1;32m---> 45\u001b[0m     cv2\u001b[38;5;241m.\u001b[39mline(img, (point_x[\u001b[43ma\u001b[49m\u001b[38;5;241m-\u001b[39m\u001b[38;5;241m2\u001b[39m], point_y[a\u001b[38;5;241m-\u001b[39m\u001b[38;5;241m2\u001b[39m]), (x,y), (\u001b[38;5;241m255\u001b[39m,\u001b[38;5;241m0\u001b[39m,\u001b[38;5;241m0\u001b[39m),\u001b[38;5;241m1\u001b[39m,cv2\u001b[38;5;241m.\u001b[39mLINE_AA)    \u001b[38;5;66;03m# 파일, 시작점, 끝점, 색깔, 두께, 옵션\u001b[39;00m\n\u001b[0;32m     47\u001b[0m     \u001b[38;5;28;01mif\u001b[39;00m event \u001b[38;5;241m==\u001b[39m cv2\u001b[38;5;241m.\u001b[39mEVENT_LBUTTONDOWN:\n\u001b[0;32m     48\u001b[0m         \u001b[38;5;28;01mbreak\u001b[39;00m\n",
      "\u001b[1;31mUnboundLocalError\u001b[0m: cannot access local variable 'a' where it is not associated with a value"
     ]
    },
    {
     "ename": "UnboundLocalError",
     "evalue": "cannot access local variable 'a' where it is not associated with a value",
     "output_type": "error",
     "traceback": [
      "\u001b[1;31m---------------------------------------------------------------------------\u001b[0m",
      "\u001b[1;31mUnboundLocalError\u001b[0m                         Traceback (most recent call last)",
      "Cell \u001b[1;32mIn[38], line 45\u001b[0m, in \u001b[0;36monMouse\u001b[1;34m(event, x, y, flags, _)\u001b[0m\n\u001b[0;32m     42\u001b[0m     cv2\u001b[38;5;241m.\u001b[39mcircle(img, (x,y), \u001b[38;5;241m3\u001b[39m, (\u001b[38;5;241m255\u001b[39m,\u001b[38;5;241m0\u001b[39m,\u001b[38;5;241m0\u001b[39m), cv2\u001b[38;5;241m.\u001b[39mFILLED)\n\u001b[0;32m     44\u001b[0m \u001b[38;5;28;01mwhile\u001b[39;00m \u001b[38;5;28;01mTrue\u001b[39;00m:\n\u001b[1;32m---> 45\u001b[0m     cv2\u001b[38;5;241m.\u001b[39mline(img, (point_x[\u001b[43ma\u001b[49m\u001b[38;5;241m-\u001b[39m\u001b[38;5;241m2\u001b[39m], point_y[a\u001b[38;5;241m-\u001b[39m\u001b[38;5;241m2\u001b[39m]), (x,y), (\u001b[38;5;241m255\u001b[39m,\u001b[38;5;241m0\u001b[39m,\u001b[38;5;241m0\u001b[39m),\u001b[38;5;241m1\u001b[39m,cv2\u001b[38;5;241m.\u001b[39mLINE_AA)    \u001b[38;5;66;03m# 파일, 시작점, 끝점, 색깔, 두께, 옵션\u001b[39;00m\n\u001b[0;32m     47\u001b[0m     \u001b[38;5;28;01mif\u001b[39;00m event \u001b[38;5;241m==\u001b[39m cv2\u001b[38;5;241m.\u001b[39mEVENT_LBUTTONDOWN:\n\u001b[0;32m     48\u001b[0m         \u001b[38;5;28;01mbreak\u001b[39;00m\n",
      "\u001b[1;31mUnboundLocalError\u001b[0m: cannot access local variable 'a' where it is not associated with a value"
     ]
    },
    {
     "ename": "UnboundLocalError",
     "evalue": "cannot access local variable 'a' where it is not associated with a value",
     "output_type": "error",
     "traceback": [
      "\u001b[1;31m---------------------------------------------------------------------------\u001b[0m",
      "\u001b[1;31mUnboundLocalError\u001b[0m                         Traceback (most recent call last)",
      "Cell \u001b[1;32mIn[38], line 45\u001b[0m, in \u001b[0;36monMouse\u001b[1;34m(event, x, y, flags, _)\u001b[0m\n\u001b[0;32m     42\u001b[0m     cv2\u001b[38;5;241m.\u001b[39mcircle(img, (x,y), \u001b[38;5;241m3\u001b[39m, (\u001b[38;5;241m255\u001b[39m,\u001b[38;5;241m0\u001b[39m,\u001b[38;5;241m0\u001b[39m), cv2\u001b[38;5;241m.\u001b[39mFILLED)\n\u001b[0;32m     44\u001b[0m \u001b[38;5;28;01mwhile\u001b[39;00m \u001b[38;5;28;01mTrue\u001b[39;00m:\n\u001b[1;32m---> 45\u001b[0m     cv2\u001b[38;5;241m.\u001b[39mline(img, (point_x[\u001b[43ma\u001b[49m\u001b[38;5;241m-\u001b[39m\u001b[38;5;241m2\u001b[39m], point_y[a\u001b[38;5;241m-\u001b[39m\u001b[38;5;241m2\u001b[39m]), (x,y), (\u001b[38;5;241m255\u001b[39m,\u001b[38;5;241m0\u001b[39m,\u001b[38;5;241m0\u001b[39m),\u001b[38;5;241m1\u001b[39m,cv2\u001b[38;5;241m.\u001b[39mLINE_AA)    \u001b[38;5;66;03m# 파일, 시작점, 끝점, 색깔, 두께, 옵션\u001b[39;00m\n\u001b[0;32m     47\u001b[0m     \u001b[38;5;28;01mif\u001b[39;00m event \u001b[38;5;241m==\u001b[39m cv2\u001b[38;5;241m.\u001b[39mEVENT_LBUTTONDOWN:\n\u001b[0;32m     48\u001b[0m         \u001b[38;5;28;01mbreak\u001b[39;00m\n",
      "\u001b[1;31mUnboundLocalError\u001b[0m: cannot access local variable 'a' where it is not associated with a value"
     ]
    },
    {
     "ename": "UnboundLocalError",
     "evalue": "cannot access local variable 'a' where it is not associated with a value",
     "output_type": "error",
     "traceback": [
      "\u001b[1;31m---------------------------------------------------------------------------\u001b[0m",
      "\u001b[1;31mUnboundLocalError\u001b[0m                         Traceback (most recent call last)",
      "Cell \u001b[1;32mIn[38], line 45\u001b[0m, in \u001b[0;36monMouse\u001b[1;34m(event, x, y, flags, _)\u001b[0m\n\u001b[0;32m     42\u001b[0m     cv2\u001b[38;5;241m.\u001b[39mcircle(img, (x,y), \u001b[38;5;241m3\u001b[39m, (\u001b[38;5;241m255\u001b[39m,\u001b[38;5;241m0\u001b[39m,\u001b[38;5;241m0\u001b[39m), cv2\u001b[38;5;241m.\u001b[39mFILLED)\n\u001b[0;32m     44\u001b[0m \u001b[38;5;28;01mwhile\u001b[39;00m \u001b[38;5;28;01mTrue\u001b[39;00m:\n\u001b[1;32m---> 45\u001b[0m     cv2\u001b[38;5;241m.\u001b[39mline(img, (point_x[\u001b[43ma\u001b[49m\u001b[38;5;241m-\u001b[39m\u001b[38;5;241m2\u001b[39m], point_y[a\u001b[38;5;241m-\u001b[39m\u001b[38;5;241m2\u001b[39m]), (x,y), (\u001b[38;5;241m255\u001b[39m,\u001b[38;5;241m0\u001b[39m,\u001b[38;5;241m0\u001b[39m),\u001b[38;5;241m1\u001b[39m,cv2\u001b[38;5;241m.\u001b[39mLINE_AA)    \u001b[38;5;66;03m# 파일, 시작점, 끝점, 색깔, 두께, 옵션\u001b[39;00m\n\u001b[0;32m     47\u001b[0m     \u001b[38;5;28;01mif\u001b[39;00m event \u001b[38;5;241m==\u001b[39m cv2\u001b[38;5;241m.\u001b[39mEVENT_LBUTTONDOWN:\n\u001b[0;32m     48\u001b[0m         \u001b[38;5;28;01mbreak\u001b[39;00m\n",
      "\u001b[1;31mUnboundLocalError\u001b[0m: cannot access local variable 'a' where it is not associated with a value"
     ]
    },
    {
     "ename": "UnboundLocalError",
     "evalue": "cannot access local variable 'a' where it is not associated with a value",
     "output_type": "error",
     "traceback": [
      "\u001b[1;31m---------------------------------------------------------------------------\u001b[0m",
      "\u001b[1;31mUnboundLocalError\u001b[0m                         Traceback (most recent call last)",
      "Cell \u001b[1;32mIn[38], line 45\u001b[0m, in \u001b[0;36monMouse\u001b[1;34m(event, x, y, flags, _)\u001b[0m\n\u001b[0;32m     42\u001b[0m     cv2\u001b[38;5;241m.\u001b[39mcircle(img, (x,y), \u001b[38;5;241m3\u001b[39m, (\u001b[38;5;241m255\u001b[39m,\u001b[38;5;241m0\u001b[39m,\u001b[38;5;241m0\u001b[39m), cv2\u001b[38;5;241m.\u001b[39mFILLED)\n\u001b[0;32m     44\u001b[0m \u001b[38;5;28;01mwhile\u001b[39;00m \u001b[38;5;28;01mTrue\u001b[39;00m:\n\u001b[1;32m---> 45\u001b[0m     cv2\u001b[38;5;241m.\u001b[39mline(img, (point_x[\u001b[43ma\u001b[49m\u001b[38;5;241m-\u001b[39m\u001b[38;5;241m2\u001b[39m], point_y[a\u001b[38;5;241m-\u001b[39m\u001b[38;5;241m2\u001b[39m]), (x,y), (\u001b[38;5;241m255\u001b[39m,\u001b[38;5;241m0\u001b[39m,\u001b[38;5;241m0\u001b[39m),\u001b[38;5;241m1\u001b[39m,cv2\u001b[38;5;241m.\u001b[39mLINE_AA)    \u001b[38;5;66;03m# 파일, 시작점, 끝점, 색깔, 두께, 옵션\u001b[39;00m\n\u001b[0;32m     47\u001b[0m     \u001b[38;5;28;01mif\u001b[39;00m event \u001b[38;5;241m==\u001b[39m cv2\u001b[38;5;241m.\u001b[39mEVENT_LBUTTONDOWN:\n\u001b[0;32m     48\u001b[0m         \u001b[38;5;28;01mbreak\u001b[39;00m\n",
      "\u001b[1;31mUnboundLocalError\u001b[0m: cannot access local variable 'a' where it is not associated with a value"
     ]
    },
    {
     "ename": "UnboundLocalError",
     "evalue": "cannot access local variable 'a' where it is not associated with a value",
     "output_type": "error",
     "traceback": [
      "\u001b[1;31m---------------------------------------------------------------------------\u001b[0m",
      "\u001b[1;31mUnboundLocalError\u001b[0m                         Traceback (most recent call last)",
      "Cell \u001b[1;32mIn[38], line 45\u001b[0m, in \u001b[0;36monMouse\u001b[1;34m(event, x, y, flags, _)\u001b[0m\n\u001b[0;32m     42\u001b[0m     cv2\u001b[38;5;241m.\u001b[39mcircle(img, (x,y), \u001b[38;5;241m3\u001b[39m, (\u001b[38;5;241m255\u001b[39m,\u001b[38;5;241m0\u001b[39m,\u001b[38;5;241m0\u001b[39m), cv2\u001b[38;5;241m.\u001b[39mFILLED)\n\u001b[0;32m     44\u001b[0m \u001b[38;5;28;01mwhile\u001b[39;00m \u001b[38;5;28;01mTrue\u001b[39;00m:\n\u001b[1;32m---> 45\u001b[0m     cv2\u001b[38;5;241m.\u001b[39mline(img, (point_x[\u001b[43ma\u001b[49m\u001b[38;5;241m-\u001b[39m\u001b[38;5;241m2\u001b[39m], point_y[a\u001b[38;5;241m-\u001b[39m\u001b[38;5;241m2\u001b[39m]), (x,y), (\u001b[38;5;241m255\u001b[39m,\u001b[38;5;241m0\u001b[39m,\u001b[38;5;241m0\u001b[39m),\u001b[38;5;241m1\u001b[39m,cv2\u001b[38;5;241m.\u001b[39mLINE_AA)    \u001b[38;5;66;03m# 파일, 시작점, 끝점, 색깔, 두께, 옵션\u001b[39;00m\n\u001b[0;32m     47\u001b[0m     \u001b[38;5;28;01mif\u001b[39;00m event \u001b[38;5;241m==\u001b[39m cv2\u001b[38;5;241m.\u001b[39mEVENT_LBUTTONDOWN:\n\u001b[0;32m     48\u001b[0m         \u001b[38;5;28;01mbreak\u001b[39;00m\n",
      "\u001b[1;31mUnboundLocalError\u001b[0m: cannot access local variable 'a' where it is not associated with a value"
     ]
    },
    {
     "ename": "UnboundLocalError",
     "evalue": "cannot access local variable 'a' where it is not associated with a value",
     "output_type": "error",
     "traceback": [
      "\u001b[1;31m---------------------------------------------------------------------------\u001b[0m",
      "\u001b[1;31mUnboundLocalError\u001b[0m                         Traceback (most recent call last)",
      "Cell \u001b[1;32mIn[38], line 45\u001b[0m, in \u001b[0;36monMouse\u001b[1;34m(event, x, y, flags, _)\u001b[0m\n\u001b[0;32m     42\u001b[0m     cv2\u001b[38;5;241m.\u001b[39mcircle(img, (x,y), \u001b[38;5;241m3\u001b[39m, (\u001b[38;5;241m255\u001b[39m,\u001b[38;5;241m0\u001b[39m,\u001b[38;5;241m0\u001b[39m), cv2\u001b[38;5;241m.\u001b[39mFILLED)\n\u001b[0;32m     44\u001b[0m \u001b[38;5;28;01mwhile\u001b[39;00m \u001b[38;5;28;01mTrue\u001b[39;00m:\n\u001b[1;32m---> 45\u001b[0m     cv2\u001b[38;5;241m.\u001b[39mline(img, (point_x[\u001b[43ma\u001b[49m\u001b[38;5;241m-\u001b[39m\u001b[38;5;241m2\u001b[39m], point_y[a\u001b[38;5;241m-\u001b[39m\u001b[38;5;241m2\u001b[39m]), (x,y), (\u001b[38;5;241m255\u001b[39m,\u001b[38;5;241m0\u001b[39m,\u001b[38;5;241m0\u001b[39m),\u001b[38;5;241m1\u001b[39m,cv2\u001b[38;5;241m.\u001b[39mLINE_AA)    \u001b[38;5;66;03m# 파일, 시작점, 끝점, 색깔, 두께, 옵션\u001b[39;00m\n\u001b[0;32m     47\u001b[0m     \u001b[38;5;28;01mif\u001b[39;00m event \u001b[38;5;241m==\u001b[39m cv2\u001b[38;5;241m.\u001b[39mEVENT_LBUTTONDOWN:\n\u001b[0;32m     48\u001b[0m         \u001b[38;5;28;01mbreak\u001b[39;00m\n",
      "\u001b[1;31mUnboundLocalError\u001b[0m: cannot access local variable 'a' where it is not associated with a value"
     ]
    },
    {
     "ename": "UnboundLocalError",
     "evalue": "cannot access local variable 'a' where it is not associated with a value",
     "output_type": "error",
     "traceback": [
      "\u001b[1;31m---------------------------------------------------------------------------\u001b[0m",
      "\u001b[1;31mUnboundLocalError\u001b[0m                         Traceback (most recent call last)",
      "Cell \u001b[1;32mIn[38], line 45\u001b[0m, in \u001b[0;36monMouse\u001b[1;34m(event, x, y, flags, _)\u001b[0m\n\u001b[0;32m     42\u001b[0m     cv2\u001b[38;5;241m.\u001b[39mcircle(img, (x,y), \u001b[38;5;241m3\u001b[39m, (\u001b[38;5;241m255\u001b[39m,\u001b[38;5;241m0\u001b[39m,\u001b[38;5;241m0\u001b[39m), cv2\u001b[38;5;241m.\u001b[39mFILLED)\n\u001b[0;32m     44\u001b[0m \u001b[38;5;28;01mwhile\u001b[39;00m \u001b[38;5;28;01mTrue\u001b[39;00m:\n\u001b[1;32m---> 45\u001b[0m     cv2\u001b[38;5;241m.\u001b[39mline(img, (point_x[\u001b[43ma\u001b[49m\u001b[38;5;241m-\u001b[39m\u001b[38;5;241m2\u001b[39m], point_y[a\u001b[38;5;241m-\u001b[39m\u001b[38;5;241m2\u001b[39m]), (x,y), (\u001b[38;5;241m255\u001b[39m,\u001b[38;5;241m0\u001b[39m,\u001b[38;5;241m0\u001b[39m),\u001b[38;5;241m1\u001b[39m,cv2\u001b[38;5;241m.\u001b[39mLINE_AA)    \u001b[38;5;66;03m# 파일, 시작점, 끝점, 색깔, 두께, 옵션\u001b[39;00m\n\u001b[0;32m     47\u001b[0m     \u001b[38;5;28;01mif\u001b[39;00m event \u001b[38;5;241m==\u001b[39m cv2\u001b[38;5;241m.\u001b[39mEVENT_LBUTTONDOWN:\n\u001b[0;32m     48\u001b[0m         \u001b[38;5;28;01mbreak\u001b[39;00m\n",
      "\u001b[1;31mUnboundLocalError\u001b[0m: cannot access local variable 'a' where it is not associated with a value"
     ]
    },
    {
     "ename": "UnboundLocalError",
     "evalue": "cannot access local variable 'a' where it is not associated with a value",
     "output_type": "error",
     "traceback": [
      "\u001b[1;31m---------------------------------------------------------------------------\u001b[0m",
      "\u001b[1;31mUnboundLocalError\u001b[0m                         Traceback (most recent call last)",
      "Cell \u001b[1;32mIn[38], line 45\u001b[0m, in \u001b[0;36monMouse\u001b[1;34m(event, x, y, flags, _)\u001b[0m\n\u001b[0;32m     42\u001b[0m     cv2\u001b[38;5;241m.\u001b[39mcircle(img, (x,y), \u001b[38;5;241m3\u001b[39m, (\u001b[38;5;241m255\u001b[39m,\u001b[38;5;241m0\u001b[39m,\u001b[38;5;241m0\u001b[39m), cv2\u001b[38;5;241m.\u001b[39mFILLED)\n\u001b[0;32m     44\u001b[0m \u001b[38;5;28;01mwhile\u001b[39;00m \u001b[38;5;28;01mTrue\u001b[39;00m:\n\u001b[1;32m---> 45\u001b[0m     cv2\u001b[38;5;241m.\u001b[39mline(img, (point_x[\u001b[43ma\u001b[49m\u001b[38;5;241m-\u001b[39m\u001b[38;5;241m2\u001b[39m], point_y[a\u001b[38;5;241m-\u001b[39m\u001b[38;5;241m2\u001b[39m]), (x,y), (\u001b[38;5;241m255\u001b[39m,\u001b[38;5;241m0\u001b[39m,\u001b[38;5;241m0\u001b[39m),\u001b[38;5;241m1\u001b[39m,cv2\u001b[38;5;241m.\u001b[39mLINE_AA)    \u001b[38;5;66;03m# 파일, 시작점, 끝점, 색깔, 두께, 옵션\u001b[39;00m\n\u001b[0;32m     47\u001b[0m     \u001b[38;5;28;01mif\u001b[39;00m event \u001b[38;5;241m==\u001b[39m cv2\u001b[38;5;241m.\u001b[39mEVENT_LBUTTONDOWN:\n\u001b[0;32m     48\u001b[0m         \u001b[38;5;28;01mbreak\u001b[39;00m\n",
      "\u001b[1;31mUnboundLocalError\u001b[0m: cannot access local variable 'a' where it is not associated with a value"
     ]
    },
    {
     "ename": "UnboundLocalError",
     "evalue": "cannot access local variable 'a' where it is not associated with a value",
     "output_type": "error",
     "traceback": [
      "\u001b[1;31m---------------------------------------------------------------------------\u001b[0m",
      "\u001b[1;31mUnboundLocalError\u001b[0m                         Traceback (most recent call last)",
      "Cell \u001b[1;32mIn[38], line 45\u001b[0m, in \u001b[0;36monMouse\u001b[1;34m(event, x, y, flags, _)\u001b[0m\n\u001b[0;32m     42\u001b[0m     cv2\u001b[38;5;241m.\u001b[39mcircle(img, (x,y), \u001b[38;5;241m3\u001b[39m, (\u001b[38;5;241m255\u001b[39m,\u001b[38;5;241m0\u001b[39m,\u001b[38;5;241m0\u001b[39m), cv2\u001b[38;5;241m.\u001b[39mFILLED)\n\u001b[0;32m     44\u001b[0m \u001b[38;5;28;01mwhile\u001b[39;00m \u001b[38;5;28;01mTrue\u001b[39;00m:\n\u001b[1;32m---> 45\u001b[0m     cv2\u001b[38;5;241m.\u001b[39mline(img, (point_x[\u001b[43ma\u001b[49m\u001b[38;5;241m-\u001b[39m\u001b[38;5;241m2\u001b[39m], point_y[a\u001b[38;5;241m-\u001b[39m\u001b[38;5;241m2\u001b[39m]), (x,y), (\u001b[38;5;241m255\u001b[39m,\u001b[38;5;241m0\u001b[39m,\u001b[38;5;241m0\u001b[39m),\u001b[38;5;241m1\u001b[39m,cv2\u001b[38;5;241m.\u001b[39mLINE_AA)    \u001b[38;5;66;03m# 파일, 시작점, 끝점, 색깔, 두께, 옵션\u001b[39;00m\n\u001b[0;32m     47\u001b[0m     \u001b[38;5;28;01mif\u001b[39;00m event \u001b[38;5;241m==\u001b[39m cv2\u001b[38;5;241m.\u001b[39mEVENT_LBUTTONDOWN:\n\u001b[0;32m     48\u001b[0m         \u001b[38;5;28;01mbreak\u001b[39;00m\n",
      "\u001b[1;31mUnboundLocalError\u001b[0m: cannot access local variable 'a' where it is not associated with a value"
     ]
    },
    {
     "ename": "UnboundLocalError",
     "evalue": "cannot access local variable 'a' where it is not associated with a value",
     "output_type": "error",
     "traceback": [
      "\u001b[1;31m---------------------------------------------------------------------------\u001b[0m",
      "\u001b[1;31mUnboundLocalError\u001b[0m                         Traceback (most recent call last)",
      "Cell \u001b[1;32mIn[38], line 45\u001b[0m, in \u001b[0;36monMouse\u001b[1;34m(event, x, y, flags, _)\u001b[0m\n\u001b[0;32m     42\u001b[0m     cv2\u001b[38;5;241m.\u001b[39mcircle(img, (x,y), \u001b[38;5;241m3\u001b[39m, (\u001b[38;5;241m255\u001b[39m,\u001b[38;5;241m0\u001b[39m,\u001b[38;5;241m0\u001b[39m), cv2\u001b[38;5;241m.\u001b[39mFILLED)\n\u001b[0;32m     44\u001b[0m \u001b[38;5;28;01mwhile\u001b[39;00m \u001b[38;5;28;01mTrue\u001b[39;00m:\n\u001b[1;32m---> 45\u001b[0m     cv2\u001b[38;5;241m.\u001b[39mline(img, (point_x[\u001b[43ma\u001b[49m\u001b[38;5;241m-\u001b[39m\u001b[38;5;241m2\u001b[39m], point_y[a\u001b[38;5;241m-\u001b[39m\u001b[38;5;241m2\u001b[39m]), (x,y), (\u001b[38;5;241m255\u001b[39m,\u001b[38;5;241m0\u001b[39m,\u001b[38;5;241m0\u001b[39m),\u001b[38;5;241m1\u001b[39m,cv2\u001b[38;5;241m.\u001b[39mLINE_AA)    \u001b[38;5;66;03m# 파일, 시작점, 끝점, 색깔, 두께, 옵션\u001b[39;00m\n\u001b[0;32m     47\u001b[0m     \u001b[38;5;28;01mif\u001b[39;00m event \u001b[38;5;241m==\u001b[39m cv2\u001b[38;5;241m.\u001b[39mEVENT_LBUTTONDOWN:\n\u001b[0;32m     48\u001b[0m         \u001b[38;5;28;01mbreak\u001b[39;00m\n",
      "\u001b[1;31mUnboundLocalError\u001b[0m: cannot access local variable 'a' where it is not associated with a value"
     ]
    },
    {
     "ename": "UnboundLocalError",
     "evalue": "cannot access local variable 'a' where it is not associated with a value",
     "output_type": "error",
     "traceback": [
      "\u001b[1;31m---------------------------------------------------------------------------\u001b[0m",
      "\u001b[1;31mUnboundLocalError\u001b[0m                         Traceback (most recent call last)",
      "Cell \u001b[1;32mIn[38], line 45\u001b[0m, in \u001b[0;36monMouse\u001b[1;34m(event, x, y, flags, _)\u001b[0m\n\u001b[0;32m     42\u001b[0m     cv2\u001b[38;5;241m.\u001b[39mcircle(img, (x,y), \u001b[38;5;241m3\u001b[39m, (\u001b[38;5;241m255\u001b[39m,\u001b[38;5;241m0\u001b[39m,\u001b[38;5;241m0\u001b[39m), cv2\u001b[38;5;241m.\u001b[39mFILLED)\n\u001b[0;32m     44\u001b[0m \u001b[38;5;28;01mwhile\u001b[39;00m \u001b[38;5;28;01mTrue\u001b[39;00m:\n\u001b[1;32m---> 45\u001b[0m     cv2\u001b[38;5;241m.\u001b[39mline(img, (point_x[\u001b[43ma\u001b[49m\u001b[38;5;241m-\u001b[39m\u001b[38;5;241m2\u001b[39m], point_y[a\u001b[38;5;241m-\u001b[39m\u001b[38;5;241m2\u001b[39m]), (x,y), (\u001b[38;5;241m255\u001b[39m,\u001b[38;5;241m0\u001b[39m,\u001b[38;5;241m0\u001b[39m),\u001b[38;5;241m1\u001b[39m,cv2\u001b[38;5;241m.\u001b[39mLINE_AA)    \u001b[38;5;66;03m# 파일, 시작점, 끝점, 색깔, 두께, 옵션\u001b[39;00m\n\u001b[0;32m     47\u001b[0m     \u001b[38;5;28;01mif\u001b[39;00m event \u001b[38;5;241m==\u001b[39m cv2\u001b[38;5;241m.\u001b[39mEVENT_LBUTTONDOWN:\n\u001b[0;32m     48\u001b[0m         \u001b[38;5;28;01mbreak\u001b[39;00m\n",
      "\u001b[1;31mUnboundLocalError\u001b[0m: cannot access local variable 'a' where it is not associated with a value"
     ]
    },
    {
     "ename": "UnboundLocalError",
     "evalue": "cannot access local variable 'a' where it is not associated with a value",
     "output_type": "error",
     "traceback": [
      "\u001b[1;31m---------------------------------------------------------------------------\u001b[0m",
      "\u001b[1;31mUnboundLocalError\u001b[0m                         Traceback (most recent call last)",
      "Cell \u001b[1;32mIn[38], line 45\u001b[0m, in \u001b[0;36monMouse\u001b[1;34m(event, x, y, flags, _)\u001b[0m\n\u001b[0;32m     42\u001b[0m     cv2\u001b[38;5;241m.\u001b[39mcircle(img, (x,y), \u001b[38;5;241m3\u001b[39m, (\u001b[38;5;241m255\u001b[39m,\u001b[38;5;241m0\u001b[39m,\u001b[38;5;241m0\u001b[39m), cv2\u001b[38;5;241m.\u001b[39mFILLED)\n\u001b[0;32m     44\u001b[0m \u001b[38;5;28;01mwhile\u001b[39;00m \u001b[38;5;28;01mTrue\u001b[39;00m:\n\u001b[1;32m---> 45\u001b[0m     cv2\u001b[38;5;241m.\u001b[39mline(img, (point_x[\u001b[43ma\u001b[49m\u001b[38;5;241m-\u001b[39m\u001b[38;5;241m2\u001b[39m], point_y[a\u001b[38;5;241m-\u001b[39m\u001b[38;5;241m2\u001b[39m]), (x,y), (\u001b[38;5;241m255\u001b[39m,\u001b[38;5;241m0\u001b[39m,\u001b[38;5;241m0\u001b[39m),\u001b[38;5;241m1\u001b[39m,cv2\u001b[38;5;241m.\u001b[39mLINE_AA)    \u001b[38;5;66;03m# 파일, 시작점, 끝점, 색깔, 두께, 옵션\u001b[39;00m\n\u001b[0;32m     47\u001b[0m     \u001b[38;5;28;01mif\u001b[39;00m event \u001b[38;5;241m==\u001b[39m cv2\u001b[38;5;241m.\u001b[39mEVENT_LBUTTONDOWN:\n\u001b[0;32m     48\u001b[0m         \u001b[38;5;28;01mbreak\u001b[39;00m\n",
      "\u001b[1;31mUnboundLocalError\u001b[0m: cannot access local variable 'a' where it is not associated with a value"
     ]
    },
    {
     "ename": "UnboundLocalError",
     "evalue": "cannot access local variable 'a' where it is not associated with a value",
     "output_type": "error",
     "traceback": [
      "\u001b[1;31m---------------------------------------------------------------------------\u001b[0m",
      "\u001b[1;31mUnboundLocalError\u001b[0m                         Traceback (most recent call last)",
      "Cell \u001b[1;32mIn[38], line 45\u001b[0m, in \u001b[0;36monMouse\u001b[1;34m(event, x, y, flags, _)\u001b[0m\n\u001b[0;32m     42\u001b[0m     cv2\u001b[38;5;241m.\u001b[39mcircle(img, (x,y), \u001b[38;5;241m3\u001b[39m, (\u001b[38;5;241m255\u001b[39m,\u001b[38;5;241m0\u001b[39m,\u001b[38;5;241m0\u001b[39m), cv2\u001b[38;5;241m.\u001b[39mFILLED)\n\u001b[0;32m     44\u001b[0m \u001b[38;5;28;01mwhile\u001b[39;00m \u001b[38;5;28;01mTrue\u001b[39;00m:\n\u001b[1;32m---> 45\u001b[0m     cv2\u001b[38;5;241m.\u001b[39mline(img, (point_x[\u001b[43ma\u001b[49m\u001b[38;5;241m-\u001b[39m\u001b[38;5;241m2\u001b[39m], point_y[a\u001b[38;5;241m-\u001b[39m\u001b[38;5;241m2\u001b[39m]), (x,y), (\u001b[38;5;241m255\u001b[39m,\u001b[38;5;241m0\u001b[39m,\u001b[38;5;241m0\u001b[39m),\u001b[38;5;241m1\u001b[39m,cv2\u001b[38;5;241m.\u001b[39mLINE_AA)    \u001b[38;5;66;03m# 파일, 시작점, 끝점, 색깔, 두께, 옵션\u001b[39;00m\n\u001b[0;32m     47\u001b[0m     \u001b[38;5;28;01mif\u001b[39;00m event \u001b[38;5;241m==\u001b[39m cv2\u001b[38;5;241m.\u001b[39mEVENT_LBUTTONDOWN:\n\u001b[0;32m     48\u001b[0m         \u001b[38;5;28;01mbreak\u001b[39;00m\n",
      "\u001b[1;31mUnboundLocalError\u001b[0m: cannot access local variable 'a' where it is not associated with a value"
     ]
    },
    {
     "ename": "UnboundLocalError",
     "evalue": "cannot access local variable 'a' where it is not associated with a value",
     "output_type": "error",
     "traceback": [
      "\u001b[1;31m---------------------------------------------------------------------------\u001b[0m",
      "\u001b[1;31mUnboundLocalError\u001b[0m                         Traceback (most recent call last)",
      "Cell \u001b[1;32mIn[38], line 45\u001b[0m, in \u001b[0;36monMouse\u001b[1;34m(event, x, y, flags, _)\u001b[0m\n\u001b[0;32m     42\u001b[0m     cv2\u001b[38;5;241m.\u001b[39mcircle(img, (x,y), \u001b[38;5;241m3\u001b[39m, (\u001b[38;5;241m255\u001b[39m,\u001b[38;5;241m0\u001b[39m,\u001b[38;5;241m0\u001b[39m), cv2\u001b[38;5;241m.\u001b[39mFILLED)\n\u001b[0;32m     44\u001b[0m \u001b[38;5;28;01mwhile\u001b[39;00m \u001b[38;5;28;01mTrue\u001b[39;00m:\n\u001b[1;32m---> 45\u001b[0m     cv2\u001b[38;5;241m.\u001b[39mline(img, (point_x[\u001b[43ma\u001b[49m\u001b[38;5;241m-\u001b[39m\u001b[38;5;241m2\u001b[39m], point_y[a\u001b[38;5;241m-\u001b[39m\u001b[38;5;241m2\u001b[39m]), (x,y), (\u001b[38;5;241m255\u001b[39m,\u001b[38;5;241m0\u001b[39m,\u001b[38;5;241m0\u001b[39m),\u001b[38;5;241m1\u001b[39m,cv2\u001b[38;5;241m.\u001b[39mLINE_AA)    \u001b[38;5;66;03m# 파일, 시작점, 끝점, 색깔, 두께, 옵션\u001b[39;00m\n\u001b[0;32m     47\u001b[0m     \u001b[38;5;28;01mif\u001b[39;00m event \u001b[38;5;241m==\u001b[39m cv2\u001b[38;5;241m.\u001b[39mEVENT_LBUTTONDOWN:\n\u001b[0;32m     48\u001b[0m         \u001b[38;5;28;01mbreak\u001b[39;00m\n",
      "\u001b[1;31mUnboundLocalError\u001b[0m: cannot access local variable 'a' where it is not associated with a value"
     ]
    },
    {
     "ename": "UnboundLocalError",
     "evalue": "cannot access local variable 'a' where it is not associated with a value",
     "output_type": "error",
     "traceback": [
      "\u001b[1;31m---------------------------------------------------------------------------\u001b[0m",
      "\u001b[1;31mUnboundLocalError\u001b[0m                         Traceback (most recent call last)",
      "Cell \u001b[1;32mIn[38], line 45\u001b[0m, in \u001b[0;36monMouse\u001b[1;34m(event, x, y, flags, _)\u001b[0m\n\u001b[0;32m     42\u001b[0m     cv2\u001b[38;5;241m.\u001b[39mcircle(img, (x,y), \u001b[38;5;241m3\u001b[39m, (\u001b[38;5;241m255\u001b[39m,\u001b[38;5;241m0\u001b[39m,\u001b[38;5;241m0\u001b[39m), cv2\u001b[38;5;241m.\u001b[39mFILLED)\n\u001b[0;32m     44\u001b[0m \u001b[38;5;28;01mwhile\u001b[39;00m \u001b[38;5;28;01mTrue\u001b[39;00m:\n\u001b[1;32m---> 45\u001b[0m     cv2\u001b[38;5;241m.\u001b[39mline(img, (point_x[\u001b[43ma\u001b[49m\u001b[38;5;241m-\u001b[39m\u001b[38;5;241m2\u001b[39m], point_y[a\u001b[38;5;241m-\u001b[39m\u001b[38;5;241m2\u001b[39m]), (x,y), (\u001b[38;5;241m255\u001b[39m,\u001b[38;5;241m0\u001b[39m,\u001b[38;5;241m0\u001b[39m),\u001b[38;5;241m1\u001b[39m,cv2\u001b[38;5;241m.\u001b[39mLINE_AA)    \u001b[38;5;66;03m# 파일, 시작점, 끝점, 색깔, 두께, 옵션\u001b[39;00m\n\u001b[0;32m     47\u001b[0m     \u001b[38;5;28;01mif\u001b[39;00m event \u001b[38;5;241m==\u001b[39m cv2\u001b[38;5;241m.\u001b[39mEVENT_LBUTTONDOWN:\n\u001b[0;32m     48\u001b[0m         \u001b[38;5;28;01mbreak\u001b[39;00m\n",
      "\u001b[1;31mUnboundLocalError\u001b[0m: cannot access local variable 'a' where it is not associated with a value"
     ]
    },
    {
     "ename": "UnboundLocalError",
     "evalue": "cannot access local variable 'a' where it is not associated with a value",
     "output_type": "error",
     "traceback": [
      "\u001b[1;31m---------------------------------------------------------------------------\u001b[0m",
      "\u001b[1;31mUnboundLocalError\u001b[0m                         Traceback (most recent call last)",
      "Cell \u001b[1;32mIn[38], line 45\u001b[0m, in \u001b[0;36monMouse\u001b[1;34m(event, x, y, flags, _)\u001b[0m\n\u001b[0;32m     42\u001b[0m     cv2\u001b[38;5;241m.\u001b[39mcircle(img, (x,y), \u001b[38;5;241m3\u001b[39m, (\u001b[38;5;241m255\u001b[39m,\u001b[38;5;241m0\u001b[39m,\u001b[38;5;241m0\u001b[39m), cv2\u001b[38;5;241m.\u001b[39mFILLED)\n\u001b[0;32m     44\u001b[0m \u001b[38;5;28;01mwhile\u001b[39;00m \u001b[38;5;28;01mTrue\u001b[39;00m:\n\u001b[1;32m---> 45\u001b[0m     cv2\u001b[38;5;241m.\u001b[39mline(img, (point_x[\u001b[43ma\u001b[49m\u001b[38;5;241m-\u001b[39m\u001b[38;5;241m2\u001b[39m], point_y[a\u001b[38;5;241m-\u001b[39m\u001b[38;5;241m2\u001b[39m]), (x,y), (\u001b[38;5;241m255\u001b[39m,\u001b[38;5;241m0\u001b[39m,\u001b[38;5;241m0\u001b[39m),\u001b[38;5;241m1\u001b[39m,cv2\u001b[38;5;241m.\u001b[39mLINE_AA)    \u001b[38;5;66;03m# 파일, 시작점, 끝점, 색깔, 두께, 옵션\u001b[39;00m\n\u001b[0;32m     47\u001b[0m     \u001b[38;5;28;01mif\u001b[39;00m event \u001b[38;5;241m==\u001b[39m cv2\u001b[38;5;241m.\u001b[39mEVENT_LBUTTONDOWN:\n\u001b[0;32m     48\u001b[0m         \u001b[38;5;28;01mbreak\u001b[39;00m\n",
      "\u001b[1;31mUnboundLocalError\u001b[0m: cannot access local variable 'a' where it is not associated with a value"
     ]
    },
    {
     "ename": "UnboundLocalError",
     "evalue": "cannot access local variable 'a' where it is not associated with a value",
     "output_type": "error",
     "traceback": [
      "\u001b[1;31m---------------------------------------------------------------------------\u001b[0m",
      "\u001b[1;31mUnboundLocalError\u001b[0m                         Traceback (most recent call last)",
      "Cell \u001b[1;32mIn[38], line 45\u001b[0m, in \u001b[0;36monMouse\u001b[1;34m(event, x, y, flags, _)\u001b[0m\n\u001b[0;32m     42\u001b[0m     cv2\u001b[38;5;241m.\u001b[39mcircle(img, (x,y), \u001b[38;5;241m3\u001b[39m, (\u001b[38;5;241m255\u001b[39m,\u001b[38;5;241m0\u001b[39m,\u001b[38;5;241m0\u001b[39m), cv2\u001b[38;5;241m.\u001b[39mFILLED)\n\u001b[0;32m     44\u001b[0m \u001b[38;5;28;01mwhile\u001b[39;00m \u001b[38;5;28;01mTrue\u001b[39;00m:\n\u001b[1;32m---> 45\u001b[0m     cv2\u001b[38;5;241m.\u001b[39mline(img, (point_x[\u001b[43ma\u001b[49m\u001b[38;5;241m-\u001b[39m\u001b[38;5;241m2\u001b[39m], point_y[a\u001b[38;5;241m-\u001b[39m\u001b[38;5;241m2\u001b[39m]), (x,y), (\u001b[38;5;241m255\u001b[39m,\u001b[38;5;241m0\u001b[39m,\u001b[38;5;241m0\u001b[39m),\u001b[38;5;241m1\u001b[39m,cv2\u001b[38;5;241m.\u001b[39mLINE_AA)    \u001b[38;5;66;03m# 파일, 시작점, 끝점, 색깔, 두께, 옵션\u001b[39;00m\n\u001b[0;32m     47\u001b[0m     \u001b[38;5;28;01mif\u001b[39;00m event \u001b[38;5;241m==\u001b[39m cv2\u001b[38;5;241m.\u001b[39mEVENT_LBUTTONDOWN:\n\u001b[0;32m     48\u001b[0m         \u001b[38;5;28;01mbreak\u001b[39;00m\n",
      "\u001b[1;31mUnboundLocalError\u001b[0m: cannot access local variable 'a' where it is not associated with a value"
     ]
    },
    {
     "ename": "UnboundLocalError",
     "evalue": "cannot access local variable 'a' where it is not associated with a value",
     "output_type": "error",
     "traceback": [
      "\u001b[1;31m---------------------------------------------------------------------------\u001b[0m",
      "\u001b[1;31mUnboundLocalError\u001b[0m                         Traceback (most recent call last)",
      "Cell \u001b[1;32mIn[38], line 45\u001b[0m, in \u001b[0;36monMouse\u001b[1;34m(event, x, y, flags, _)\u001b[0m\n\u001b[0;32m     42\u001b[0m     cv2\u001b[38;5;241m.\u001b[39mcircle(img, (x,y), \u001b[38;5;241m3\u001b[39m, (\u001b[38;5;241m255\u001b[39m,\u001b[38;5;241m0\u001b[39m,\u001b[38;5;241m0\u001b[39m), cv2\u001b[38;5;241m.\u001b[39mFILLED)\n\u001b[0;32m     44\u001b[0m \u001b[38;5;28;01mwhile\u001b[39;00m \u001b[38;5;28;01mTrue\u001b[39;00m:\n\u001b[1;32m---> 45\u001b[0m     cv2\u001b[38;5;241m.\u001b[39mline(img, (point_x[\u001b[43ma\u001b[49m\u001b[38;5;241m-\u001b[39m\u001b[38;5;241m2\u001b[39m], point_y[a\u001b[38;5;241m-\u001b[39m\u001b[38;5;241m2\u001b[39m]), (x,y), (\u001b[38;5;241m255\u001b[39m,\u001b[38;5;241m0\u001b[39m,\u001b[38;5;241m0\u001b[39m),\u001b[38;5;241m1\u001b[39m,cv2\u001b[38;5;241m.\u001b[39mLINE_AA)    \u001b[38;5;66;03m# 파일, 시작점, 끝점, 색깔, 두께, 옵션\u001b[39;00m\n\u001b[0;32m     47\u001b[0m     \u001b[38;5;28;01mif\u001b[39;00m event \u001b[38;5;241m==\u001b[39m cv2\u001b[38;5;241m.\u001b[39mEVENT_LBUTTONDOWN:\n\u001b[0;32m     48\u001b[0m         \u001b[38;5;28;01mbreak\u001b[39;00m\n",
      "\u001b[1;31mUnboundLocalError\u001b[0m: cannot access local variable 'a' where it is not associated with a value"
     ]
    },
    {
     "ename": "UnboundLocalError",
     "evalue": "cannot access local variable 'a' where it is not associated with a value",
     "output_type": "error",
     "traceback": [
      "\u001b[1;31m---------------------------------------------------------------------------\u001b[0m",
      "\u001b[1;31mUnboundLocalError\u001b[0m                         Traceback (most recent call last)",
      "Cell \u001b[1;32mIn[38], line 45\u001b[0m, in \u001b[0;36monMouse\u001b[1;34m(event, x, y, flags, _)\u001b[0m\n\u001b[0;32m     42\u001b[0m     cv2\u001b[38;5;241m.\u001b[39mcircle(img, (x,y), \u001b[38;5;241m3\u001b[39m, (\u001b[38;5;241m255\u001b[39m,\u001b[38;5;241m0\u001b[39m,\u001b[38;5;241m0\u001b[39m), cv2\u001b[38;5;241m.\u001b[39mFILLED)\n\u001b[0;32m     44\u001b[0m \u001b[38;5;28;01mwhile\u001b[39;00m \u001b[38;5;28;01mTrue\u001b[39;00m:\n\u001b[1;32m---> 45\u001b[0m     cv2\u001b[38;5;241m.\u001b[39mline(img, (point_x[\u001b[43ma\u001b[49m\u001b[38;5;241m-\u001b[39m\u001b[38;5;241m2\u001b[39m], point_y[a\u001b[38;5;241m-\u001b[39m\u001b[38;5;241m2\u001b[39m]), (x,y), (\u001b[38;5;241m255\u001b[39m,\u001b[38;5;241m0\u001b[39m,\u001b[38;5;241m0\u001b[39m),\u001b[38;5;241m1\u001b[39m,cv2\u001b[38;5;241m.\u001b[39mLINE_AA)    \u001b[38;5;66;03m# 파일, 시작점, 끝점, 색깔, 두께, 옵션\u001b[39;00m\n\u001b[0;32m     47\u001b[0m     \u001b[38;5;28;01mif\u001b[39;00m event \u001b[38;5;241m==\u001b[39m cv2\u001b[38;5;241m.\u001b[39mEVENT_LBUTTONDOWN:\n\u001b[0;32m     48\u001b[0m         \u001b[38;5;28;01mbreak\u001b[39;00m\n",
      "\u001b[1;31mUnboundLocalError\u001b[0m: cannot access local variable 'a' where it is not associated with a value"
     ]
    },
    {
     "ename": "UnboundLocalError",
     "evalue": "cannot access local variable 'a' where it is not associated with a value",
     "output_type": "error",
     "traceback": [
      "\u001b[1;31m---------------------------------------------------------------------------\u001b[0m",
      "\u001b[1;31mUnboundLocalError\u001b[0m                         Traceback (most recent call last)",
      "Cell \u001b[1;32mIn[38], line 45\u001b[0m, in \u001b[0;36monMouse\u001b[1;34m(event, x, y, flags, _)\u001b[0m\n\u001b[0;32m     42\u001b[0m     cv2\u001b[38;5;241m.\u001b[39mcircle(img, (x,y), \u001b[38;5;241m3\u001b[39m, (\u001b[38;5;241m255\u001b[39m,\u001b[38;5;241m0\u001b[39m,\u001b[38;5;241m0\u001b[39m), cv2\u001b[38;5;241m.\u001b[39mFILLED)\n\u001b[0;32m     44\u001b[0m \u001b[38;5;28;01mwhile\u001b[39;00m \u001b[38;5;28;01mTrue\u001b[39;00m:\n\u001b[1;32m---> 45\u001b[0m     cv2\u001b[38;5;241m.\u001b[39mline(img, (point_x[\u001b[43ma\u001b[49m\u001b[38;5;241m-\u001b[39m\u001b[38;5;241m2\u001b[39m], point_y[a\u001b[38;5;241m-\u001b[39m\u001b[38;5;241m2\u001b[39m]), (x,y), (\u001b[38;5;241m255\u001b[39m,\u001b[38;5;241m0\u001b[39m,\u001b[38;5;241m0\u001b[39m),\u001b[38;5;241m1\u001b[39m,cv2\u001b[38;5;241m.\u001b[39mLINE_AA)    \u001b[38;5;66;03m# 파일, 시작점, 끝점, 색깔, 두께, 옵션\u001b[39;00m\n\u001b[0;32m     47\u001b[0m     \u001b[38;5;28;01mif\u001b[39;00m event \u001b[38;5;241m==\u001b[39m cv2\u001b[38;5;241m.\u001b[39mEVENT_LBUTTONDOWN:\n\u001b[0;32m     48\u001b[0m         \u001b[38;5;28;01mbreak\u001b[39;00m\n",
      "\u001b[1;31mUnboundLocalError\u001b[0m: cannot access local variable 'a' where it is not associated with a value"
     ]
    },
    {
     "ename": "UnboundLocalError",
     "evalue": "cannot access local variable 'a' where it is not associated with a value",
     "output_type": "error",
     "traceback": [
      "\u001b[1;31m---------------------------------------------------------------------------\u001b[0m",
      "\u001b[1;31mUnboundLocalError\u001b[0m                         Traceback (most recent call last)",
      "Cell \u001b[1;32mIn[38], line 45\u001b[0m, in \u001b[0;36monMouse\u001b[1;34m(event, x, y, flags, _)\u001b[0m\n\u001b[0;32m     42\u001b[0m     cv2\u001b[38;5;241m.\u001b[39mcircle(img, (x,y), \u001b[38;5;241m3\u001b[39m, (\u001b[38;5;241m255\u001b[39m,\u001b[38;5;241m0\u001b[39m,\u001b[38;5;241m0\u001b[39m), cv2\u001b[38;5;241m.\u001b[39mFILLED)\n\u001b[0;32m     44\u001b[0m \u001b[38;5;28;01mwhile\u001b[39;00m \u001b[38;5;28;01mTrue\u001b[39;00m:\n\u001b[1;32m---> 45\u001b[0m     cv2\u001b[38;5;241m.\u001b[39mline(img, (point_x[\u001b[43ma\u001b[49m\u001b[38;5;241m-\u001b[39m\u001b[38;5;241m2\u001b[39m], point_y[a\u001b[38;5;241m-\u001b[39m\u001b[38;5;241m2\u001b[39m]), (x,y), (\u001b[38;5;241m255\u001b[39m,\u001b[38;5;241m0\u001b[39m,\u001b[38;5;241m0\u001b[39m),\u001b[38;5;241m1\u001b[39m,cv2\u001b[38;5;241m.\u001b[39mLINE_AA)    \u001b[38;5;66;03m# 파일, 시작점, 끝점, 색깔, 두께, 옵션\u001b[39;00m\n\u001b[0;32m     47\u001b[0m     \u001b[38;5;28;01mif\u001b[39;00m event \u001b[38;5;241m==\u001b[39m cv2\u001b[38;5;241m.\u001b[39mEVENT_LBUTTONDOWN:\n\u001b[0;32m     48\u001b[0m         \u001b[38;5;28;01mbreak\u001b[39;00m\n",
      "\u001b[1;31mUnboundLocalError\u001b[0m: cannot access local variable 'a' where it is not associated with a value"
     ]
    },
    {
     "ename": "UnboundLocalError",
     "evalue": "cannot access local variable 'a' where it is not associated with a value",
     "output_type": "error",
     "traceback": [
      "\u001b[1;31m---------------------------------------------------------------------------\u001b[0m",
      "\u001b[1;31mUnboundLocalError\u001b[0m                         Traceback (most recent call last)",
      "Cell \u001b[1;32mIn[38], line 45\u001b[0m, in \u001b[0;36monMouse\u001b[1;34m(event, x, y, flags, _)\u001b[0m\n\u001b[0;32m     42\u001b[0m     cv2\u001b[38;5;241m.\u001b[39mcircle(img, (x,y), \u001b[38;5;241m3\u001b[39m, (\u001b[38;5;241m255\u001b[39m,\u001b[38;5;241m0\u001b[39m,\u001b[38;5;241m0\u001b[39m), cv2\u001b[38;5;241m.\u001b[39mFILLED)\n\u001b[0;32m     44\u001b[0m \u001b[38;5;28;01mwhile\u001b[39;00m \u001b[38;5;28;01mTrue\u001b[39;00m:\n\u001b[1;32m---> 45\u001b[0m     cv2\u001b[38;5;241m.\u001b[39mline(img, (point_x[\u001b[43ma\u001b[49m\u001b[38;5;241m-\u001b[39m\u001b[38;5;241m2\u001b[39m], point_y[a\u001b[38;5;241m-\u001b[39m\u001b[38;5;241m2\u001b[39m]), (x,y), (\u001b[38;5;241m255\u001b[39m,\u001b[38;5;241m0\u001b[39m,\u001b[38;5;241m0\u001b[39m),\u001b[38;5;241m1\u001b[39m,cv2\u001b[38;5;241m.\u001b[39mLINE_AA)    \u001b[38;5;66;03m# 파일, 시작점, 끝점, 색깔, 두께, 옵션\u001b[39;00m\n\u001b[0;32m     47\u001b[0m     \u001b[38;5;28;01mif\u001b[39;00m event \u001b[38;5;241m==\u001b[39m cv2\u001b[38;5;241m.\u001b[39mEVENT_LBUTTONDOWN:\n\u001b[0;32m     48\u001b[0m         \u001b[38;5;28;01mbreak\u001b[39;00m\n",
      "\u001b[1;31mUnboundLocalError\u001b[0m: cannot access local variable 'a' where it is not associated with a value"
     ]
    },
    {
     "ename": "UnboundLocalError",
     "evalue": "cannot access local variable 'a' where it is not associated with a value",
     "output_type": "error",
     "traceback": [
      "\u001b[1;31m---------------------------------------------------------------------------\u001b[0m",
      "\u001b[1;31mUnboundLocalError\u001b[0m                         Traceback (most recent call last)",
      "Cell \u001b[1;32mIn[38], line 45\u001b[0m, in \u001b[0;36monMouse\u001b[1;34m(event, x, y, flags, _)\u001b[0m\n\u001b[0;32m     42\u001b[0m     cv2\u001b[38;5;241m.\u001b[39mcircle(img, (x,y), \u001b[38;5;241m3\u001b[39m, (\u001b[38;5;241m255\u001b[39m,\u001b[38;5;241m0\u001b[39m,\u001b[38;5;241m0\u001b[39m), cv2\u001b[38;5;241m.\u001b[39mFILLED)\n\u001b[0;32m     44\u001b[0m \u001b[38;5;28;01mwhile\u001b[39;00m \u001b[38;5;28;01mTrue\u001b[39;00m:\n\u001b[1;32m---> 45\u001b[0m     cv2\u001b[38;5;241m.\u001b[39mline(img, (point_x[\u001b[43ma\u001b[49m\u001b[38;5;241m-\u001b[39m\u001b[38;5;241m2\u001b[39m], point_y[a\u001b[38;5;241m-\u001b[39m\u001b[38;5;241m2\u001b[39m]), (x,y), (\u001b[38;5;241m255\u001b[39m,\u001b[38;5;241m0\u001b[39m,\u001b[38;5;241m0\u001b[39m),\u001b[38;5;241m1\u001b[39m,cv2\u001b[38;5;241m.\u001b[39mLINE_AA)    \u001b[38;5;66;03m# 파일, 시작점, 끝점, 색깔, 두께, 옵션\u001b[39;00m\n\u001b[0;32m     47\u001b[0m     \u001b[38;5;28;01mif\u001b[39;00m event \u001b[38;5;241m==\u001b[39m cv2\u001b[38;5;241m.\u001b[39mEVENT_LBUTTONDOWN:\n\u001b[0;32m     48\u001b[0m         \u001b[38;5;28;01mbreak\u001b[39;00m\n",
      "\u001b[1;31mUnboundLocalError\u001b[0m: cannot access local variable 'a' where it is not associated with a value"
     ]
    },
    {
     "ename": "UnboundLocalError",
     "evalue": "cannot access local variable 'a' where it is not associated with a value",
     "output_type": "error",
     "traceback": [
      "\u001b[1;31m---------------------------------------------------------------------------\u001b[0m",
      "\u001b[1;31mUnboundLocalError\u001b[0m                         Traceback (most recent call last)",
      "Cell \u001b[1;32mIn[38], line 45\u001b[0m, in \u001b[0;36monMouse\u001b[1;34m(event, x, y, flags, _)\u001b[0m\n\u001b[0;32m     42\u001b[0m     cv2\u001b[38;5;241m.\u001b[39mcircle(img, (x,y), \u001b[38;5;241m3\u001b[39m, (\u001b[38;5;241m255\u001b[39m,\u001b[38;5;241m0\u001b[39m,\u001b[38;5;241m0\u001b[39m), cv2\u001b[38;5;241m.\u001b[39mFILLED)\n\u001b[0;32m     44\u001b[0m \u001b[38;5;28;01mwhile\u001b[39;00m \u001b[38;5;28;01mTrue\u001b[39;00m:\n\u001b[1;32m---> 45\u001b[0m     cv2\u001b[38;5;241m.\u001b[39mline(img, (point_x[\u001b[43ma\u001b[49m\u001b[38;5;241m-\u001b[39m\u001b[38;5;241m2\u001b[39m], point_y[a\u001b[38;5;241m-\u001b[39m\u001b[38;5;241m2\u001b[39m]), (x,y), (\u001b[38;5;241m255\u001b[39m,\u001b[38;5;241m0\u001b[39m,\u001b[38;5;241m0\u001b[39m),\u001b[38;5;241m1\u001b[39m,cv2\u001b[38;5;241m.\u001b[39mLINE_AA)    \u001b[38;5;66;03m# 파일, 시작점, 끝점, 색깔, 두께, 옵션\u001b[39;00m\n\u001b[0;32m     47\u001b[0m     \u001b[38;5;28;01mif\u001b[39;00m event \u001b[38;5;241m==\u001b[39m cv2\u001b[38;5;241m.\u001b[39mEVENT_LBUTTONDOWN:\n\u001b[0;32m     48\u001b[0m         \u001b[38;5;28;01mbreak\u001b[39;00m\n",
      "\u001b[1;31mUnboundLocalError\u001b[0m: cannot access local variable 'a' where it is not associated with a value"
     ]
    },
    {
     "ename": "UnboundLocalError",
     "evalue": "cannot access local variable 'a' where it is not associated with a value",
     "output_type": "error",
     "traceback": [
      "\u001b[1;31m---------------------------------------------------------------------------\u001b[0m",
      "\u001b[1;31mUnboundLocalError\u001b[0m                         Traceback (most recent call last)",
      "Cell \u001b[1;32mIn[38], line 45\u001b[0m, in \u001b[0;36monMouse\u001b[1;34m(event, x, y, flags, _)\u001b[0m\n\u001b[0;32m     42\u001b[0m     cv2\u001b[38;5;241m.\u001b[39mcircle(img, (x,y), \u001b[38;5;241m3\u001b[39m, (\u001b[38;5;241m255\u001b[39m,\u001b[38;5;241m0\u001b[39m,\u001b[38;5;241m0\u001b[39m), cv2\u001b[38;5;241m.\u001b[39mFILLED)\n\u001b[0;32m     44\u001b[0m \u001b[38;5;28;01mwhile\u001b[39;00m \u001b[38;5;28;01mTrue\u001b[39;00m:\n\u001b[1;32m---> 45\u001b[0m     cv2\u001b[38;5;241m.\u001b[39mline(img, (point_x[\u001b[43ma\u001b[49m\u001b[38;5;241m-\u001b[39m\u001b[38;5;241m2\u001b[39m], point_y[a\u001b[38;5;241m-\u001b[39m\u001b[38;5;241m2\u001b[39m]), (x,y), (\u001b[38;5;241m255\u001b[39m,\u001b[38;5;241m0\u001b[39m,\u001b[38;5;241m0\u001b[39m),\u001b[38;5;241m1\u001b[39m,cv2\u001b[38;5;241m.\u001b[39mLINE_AA)    \u001b[38;5;66;03m# 파일, 시작점, 끝점, 색깔, 두께, 옵션\u001b[39;00m\n\u001b[0;32m     47\u001b[0m     \u001b[38;5;28;01mif\u001b[39;00m event \u001b[38;5;241m==\u001b[39m cv2\u001b[38;5;241m.\u001b[39mEVENT_LBUTTONDOWN:\n\u001b[0;32m     48\u001b[0m         \u001b[38;5;28;01mbreak\u001b[39;00m\n",
      "\u001b[1;31mUnboundLocalError\u001b[0m: cannot access local variable 'a' where it is not associated with a value"
     ]
    },
    {
     "ename": "UnboundLocalError",
     "evalue": "cannot access local variable 'a' where it is not associated with a value",
     "output_type": "error",
     "traceback": [
      "\u001b[1;31m---------------------------------------------------------------------------\u001b[0m",
      "\u001b[1;31mUnboundLocalError\u001b[0m                         Traceback (most recent call last)",
      "Cell \u001b[1;32mIn[38], line 45\u001b[0m, in \u001b[0;36monMouse\u001b[1;34m(event, x, y, flags, _)\u001b[0m\n\u001b[0;32m     42\u001b[0m     cv2\u001b[38;5;241m.\u001b[39mcircle(img, (x,y), \u001b[38;5;241m3\u001b[39m, (\u001b[38;5;241m255\u001b[39m,\u001b[38;5;241m0\u001b[39m,\u001b[38;5;241m0\u001b[39m), cv2\u001b[38;5;241m.\u001b[39mFILLED)\n\u001b[0;32m     44\u001b[0m \u001b[38;5;28;01mwhile\u001b[39;00m \u001b[38;5;28;01mTrue\u001b[39;00m:\n\u001b[1;32m---> 45\u001b[0m     cv2\u001b[38;5;241m.\u001b[39mline(img, (point_x[\u001b[43ma\u001b[49m\u001b[38;5;241m-\u001b[39m\u001b[38;5;241m2\u001b[39m], point_y[a\u001b[38;5;241m-\u001b[39m\u001b[38;5;241m2\u001b[39m]), (x,y), (\u001b[38;5;241m255\u001b[39m,\u001b[38;5;241m0\u001b[39m,\u001b[38;5;241m0\u001b[39m),\u001b[38;5;241m1\u001b[39m,cv2\u001b[38;5;241m.\u001b[39mLINE_AA)    \u001b[38;5;66;03m# 파일, 시작점, 끝점, 색깔, 두께, 옵션\u001b[39;00m\n\u001b[0;32m     47\u001b[0m     \u001b[38;5;28;01mif\u001b[39;00m event \u001b[38;5;241m==\u001b[39m cv2\u001b[38;5;241m.\u001b[39mEVENT_LBUTTONDOWN:\n\u001b[0;32m     48\u001b[0m         \u001b[38;5;28;01mbreak\u001b[39;00m\n",
      "\u001b[1;31mUnboundLocalError\u001b[0m: cannot access local variable 'a' where it is not associated with a value"
     ]
    },
    {
     "ename": "UnboundLocalError",
     "evalue": "cannot access local variable 'a' where it is not associated with a value",
     "output_type": "error",
     "traceback": [
      "\u001b[1;31m---------------------------------------------------------------------------\u001b[0m",
      "\u001b[1;31mUnboundLocalError\u001b[0m                         Traceback (most recent call last)",
      "Cell \u001b[1;32mIn[38], line 45\u001b[0m, in \u001b[0;36monMouse\u001b[1;34m(event, x, y, flags, _)\u001b[0m\n\u001b[0;32m     42\u001b[0m     cv2\u001b[38;5;241m.\u001b[39mcircle(img, (x,y), \u001b[38;5;241m3\u001b[39m, (\u001b[38;5;241m255\u001b[39m,\u001b[38;5;241m0\u001b[39m,\u001b[38;5;241m0\u001b[39m), cv2\u001b[38;5;241m.\u001b[39mFILLED)\n\u001b[0;32m     44\u001b[0m \u001b[38;5;28;01mwhile\u001b[39;00m \u001b[38;5;28;01mTrue\u001b[39;00m:\n\u001b[1;32m---> 45\u001b[0m     cv2\u001b[38;5;241m.\u001b[39mline(img, (point_x[\u001b[43ma\u001b[49m\u001b[38;5;241m-\u001b[39m\u001b[38;5;241m2\u001b[39m], point_y[a\u001b[38;5;241m-\u001b[39m\u001b[38;5;241m2\u001b[39m]), (x,y), (\u001b[38;5;241m255\u001b[39m,\u001b[38;5;241m0\u001b[39m,\u001b[38;5;241m0\u001b[39m),\u001b[38;5;241m1\u001b[39m,cv2\u001b[38;5;241m.\u001b[39mLINE_AA)    \u001b[38;5;66;03m# 파일, 시작점, 끝점, 색깔, 두께, 옵션\u001b[39;00m\n\u001b[0;32m     47\u001b[0m     \u001b[38;5;28;01mif\u001b[39;00m event \u001b[38;5;241m==\u001b[39m cv2\u001b[38;5;241m.\u001b[39mEVENT_LBUTTONDOWN:\n\u001b[0;32m     48\u001b[0m         \u001b[38;5;28;01mbreak\u001b[39;00m\n",
      "\u001b[1;31mUnboundLocalError\u001b[0m: cannot access local variable 'a' where it is not associated with a value"
     ]
    },
    {
     "ename": "UnboundLocalError",
     "evalue": "cannot access local variable 'a' where it is not associated with a value",
     "output_type": "error",
     "traceback": [
      "\u001b[1;31m---------------------------------------------------------------------------\u001b[0m",
      "\u001b[1;31mUnboundLocalError\u001b[0m                         Traceback (most recent call last)",
      "Cell \u001b[1;32mIn[38], line 45\u001b[0m, in \u001b[0;36monMouse\u001b[1;34m(event, x, y, flags, _)\u001b[0m\n\u001b[0;32m     42\u001b[0m     cv2\u001b[38;5;241m.\u001b[39mcircle(img, (x,y), \u001b[38;5;241m3\u001b[39m, (\u001b[38;5;241m255\u001b[39m,\u001b[38;5;241m0\u001b[39m,\u001b[38;5;241m0\u001b[39m), cv2\u001b[38;5;241m.\u001b[39mFILLED)\n\u001b[0;32m     44\u001b[0m \u001b[38;5;28;01mwhile\u001b[39;00m \u001b[38;5;28;01mTrue\u001b[39;00m:\n\u001b[1;32m---> 45\u001b[0m     cv2\u001b[38;5;241m.\u001b[39mline(img, (point_x[\u001b[43ma\u001b[49m\u001b[38;5;241m-\u001b[39m\u001b[38;5;241m2\u001b[39m], point_y[a\u001b[38;5;241m-\u001b[39m\u001b[38;5;241m2\u001b[39m]), (x,y), (\u001b[38;5;241m255\u001b[39m,\u001b[38;5;241m0\u001b[39m,\u001b[38;5;241m0\u001b[39m),\u001b[38;5;241m1\u001b[39m,cv2\u001b[38;5;241m.\u001b[39mLINE_AA)    \u001b[38;5;66;03m# 파일, 시작점, 끝점, 색깔, 두께, 옵션\u001b[39;00m\n\u001b[0;32m     47\u001b[0m     \u001b[38;5;28;01mif\u001b[39;00m event \u001b[38;5;241m==\u001b[39m cv2\u001b[38;5;241m.\u001b[39mEVENT_LBUTTONDOWN:\n\u001b[0;32m     48\u001b[0m         \u001b[38;5;28;01mbreak\u001b[39;00m\n",
      "\u001b[1;31mUnboundLocalError\u001b[0m: cannot access local variable 'a' where it is not associated with a value"
     ]
    },
    {
     "ename": "UnboundLocalError",
     "evalue": "cannot access local variable 'a' where it is not associated with a value",
     "output_type": "error",
     "traceback": [
      "\u001b[1;31m---------------------------------------------------------------------------\u001b[0m",
      "\u001b[1;31mUnboundLocalError\u001b[0m                         Traceback (most recent call last)",
      "Cell \u001b[1;32mIn[38], line 45\u001b[0m, in \u001b[0;36monMouse\u001b[1;34m(event, x, y, flags, _)\u001b[0m\n\u001b[0;32m     42\u001b[0m     cv2\u001b[38;5;241m.\u001b[39mcircle(img, (x,y), \u001b[38;5;241m3\u001b[39m, (\u001b[38;5;241m255\u001b[39m,\u001b[38;5;241m0\u001b[39m,\u001b[38;5;241m0\u001b[39m), cv2\u001b[38;5;241m.\u001b[39mFILLED)\n\u001b[0;32m     44\u001b[0m \u001b[38;5;28;01mwhile\u001b[39;00m \u001b[38;5;28;01mTrue\u001b[39;00m:\n\u001b[1;32m---> 45\u001b[0m     cv2\u001b[38;5;241m.\u001b[39mline(img, (point_x[\u001b[43ma\u001b[49m\u001b[38;5;241m-\u001b[39m\u001b[38;5;241m2\u001b[39m], point_y[a\u001b[38;5;241m-\u001b[39m\u001b[38;5;241m2\u001b[39m]), (x,y), (\u001b[38;5;241m255\u001b[39m,\u001b[38;5;241m0\u001b[39m,\u001b[38;5;241m0\u001b[39m),\u001b[38;5;241m1\u001b[39m,cv2\u001b[38;5;241m.\u001b[39mLINE_AA)    \u001b[38;5;66;03m# 파일, 시작점, 끝점, 색깔, 두께, 옵션\u001b[39;00m\n\u001b[0;32m     47\u001b[0m     \u001b[38;5;28;01mif\u001b[39;00m event \u001b[38;5;241m==\u001b[39m cv2\u001b[38;5;241m.\u001b[39mEVENT_LBUTTONDOWN:\n\u001b[0;32m     48\u001b[0m         \u001b[38;5;28;01mbreak\u001b[39;00m\n",
      "\u001b[1;31mUnboundLocalError\u001b[0m: cannot access local variable 'a' where it is not associated with a value"
     ]
    },
    {
     "ename": "UnboundLocalError",
     "evalue": "cannot access local variable 'a' where it is not associated with a value",
     "output_type": "error",
     "traceback": [
      "\u001b[1;31m---------------------------------------------------------------------------\u001b[0m",
      "\u001b[1;31mUnboundLocalError\u001b[0m                         Traceback (most recent call last)",
      "Cell \u001b[1;32mIn[38], line 45\u001b[0m, in \u001b[0;36monMouse\u001b[1;34m(event, x, y, flags, _)\u001b[0m\n\u001b[0;32m     42\u001b[0m     cv2\u001b[38;5;241m.\u001b[39mcircle(img, (x,y), \u001b[38;5;241m3\u001b[39m, (\u001b[38;5;241m255\u001b[39m,\u001b[38;5;241m0\u001b[39m,\u001b[38;5;241m0\u001b[39m), cv2\u001b[38;5;241m.\u001b[39mFILLED)\n\u001b[0;32m     44\u001b[0m \u001b[38;5;28;01mwhile\u001b[39;00m \u001b[38;5;28;01mTrue\u001b[39;00m:\n\u001b[1;32m---> 45\u001b[0m     cv2\u001b[38;5;241m.\u001b[39mline(img, (point_x[\u001b[43ma\u001b[49m\u001b[38;5;241m-\u001b[39m\u001b[38;5;241m2\u001b[39m], point_y[a\u001b[38;5;241m-\u001b[39m\u001b[38;5;241m2\u001b[39m]), (x,y), (\u001b[38;5;241m255\u001b[39m,\u001b[38;5;241m0\u001b[39m,\u001b[38;5;241m0\u001b[39m),\u001b[38;5;241m1\u001b[39m,cv2\u001b[38;5;241m.\u001b[39mLINE_AA)    \u001b[38;5;66;03m# 파일, 시작점, 끝점, 색깔, 두께, 옵션\u001b[39;00m\n\u001b[0;32m     47\u001b[0m     \u001b[38;5;28;01mif\u001b[39;00m event \u001b[38;5;241m==\u001b[39m cv2\u001b[38;5;241m.\u001b[39mEVENT_LBUTTONDOWN:\n\u001b[0;32m     48\u001b[0m         \u001b[38;5;28;01mbreak\u001b[39;00m\n",
      "\u001b[1;31mUnboundLocalError\u001b[0m: cannot access local variable 'a' where it is not associated with a value"
     ]
    },
    {
     "ename": "UnboundLocalError",
     "evalue": "cannot access local variable 'a' where it is not associated with a value",
     "output_type": "error",
     "traceback": [
      "\u001b[1;31m---------------------------------------------------------------------------\u001b[0m",
      "\u001b[1;31mUnboundLocalError\u001b[0m                         Traceback (most recent call last)",
      "Cell \u001b[1;32mIn[38], line 45\u001b[0m, in \u001b[0;36monMouse\u001b[1;34m(event, x, y, flags, _)\u001b[0m\n\u001b[0;32m     42\u001b[0m     cv2\u001b[38;5;241m.\u001b[39mcircle(img, (x,y), \u001b[38;5;241m3\u001b[39m, (\u001b[38;5;241m255\u001b[39m,\u001b[38;5;241m0\u001b[39m,\u001b[38;5;241m0\u001b[39m), cv2\u001b[38;5;241m.\u001b[39mFILLED)\n\u001b[0;32m     44\u001b[0m \u001b[38;5;28;01mwhile\u001b[39;00m \u001b[38;5;28;01mTrue\u001b[39;00m:\n\u001b[1;32m---> 45\u001b[0m     cv2\u001b[38;5;241m.\u001b[39mline(img, (point_x[\u001b[43ma\u001b[49m\u001b[38;5;241m-\u001b[39m\u001b[38;5;241m2\u001b[39m], point_y[a\u001b[38;5;241m-\u001b[39m\u001b[38;5;241m2\u001b[39m]), (x,y), (\u001b[38;5;241m255\u001b[39m,\u001b[38;5;241m0\u001b[39m,\u001b[38;5;241m0\u001b[39m),\u001b[38;5;241m1\u001b[39m,cv2\u001b[38;5;241m.\u001b[39mLINE_AA)    \u001b[38;5;66;03m# 파일, 시작점, 끝점, 색깔, 두께, 옵션\u001b[39;00m\n\u001b[0;32m     47\u001b[0m     \u001b[38;5;28;01mif\u001b[39;00m event \u001b[38;5;241m==\u001b[39m cv2\u001b[38;5;241m.\u001b[39mEVENT_LBUTTONDOWN:\n\u001b[0;32m     48\u001b[0m         \u001b[38;5;28;01mbreak\u001b[39;00m\n",
      "\u001b[1;31mUnboundLocalError\u001b[0m: cannot access local variable 'a' where it is not associated with a value"
     ]
    },
    {
     "ename": "UnboundLocalError",
     "evalue": "cannot access local variable 'a' where it is not associated with a value",
     "output_type": "error",
     "traceback": [
      "\u001b[1;31m---------------------------------------------------------------------------\u001b[0m",
      "\u001b[1;31mUnboundLocalError\u001b[0m                         Traceback (most recent call last)",
      "Cell \u001b[1;32mIn[38], line 45\u001b[0m, in \u001b[0;36monMouse\u001b[1;34m(event, x, y, flags, _)\u001b[0m\n\u001b[0;32m     42\u001b[0m     cv2\u001b[38;5;241m.\u001b[39mcircle(img, (x,y), \u001b[38;5;241m3\u001b[39m, (\u001b[38;5;241m255\u001b[39m,\u001b[38;5;241m0\u001b[39m,\u001b[38;5;241m0\u001b[39m), cv2\u001b[38;5;241m.\u001b[39mFILLED)\n\u001b[0;32m     44\u001b[0m \u001b[38;5;28;01mwhile\u001b[39;00m \u001b[38;5;28;01mTrue\u001b[39;00m:\n\u001b[1;32m---> 45\u001b[0m     cv2\u001b[38;5;241m.\u001b[39mline(img, (point_x[\u001b[43ma\u001b[49m\u001b[38;5;241m-\u001b[39m\u001b[38;5;241m2\u001b[39m], point_y[a\u001b[38;5;241m-\u001b[39m\u001b[38;5;241m2\u001b[39m]), (x,y), (\u001b[38;5;241m255\u001b[39m,\u001b[38;5;241m0\u001b[39m,\u001b[38;5;241m0\u001b[39m),\u001b[38;5;241m1\u001b[39m,cv2\u001b[38;5;241m.\u001b[39mLINE_AA)    \u001b[38;5;66;03m# 파일, 시작점, 끝점, 색깔, 두께, 옵션\u001b[39;00m\n\u001b[0;32m     47\u001b[0m     \u001b[38;5;28;01mif\u001b[39;00m event \u001b[38;5;241m==\u001b[39m cv2\u001b[38;5;241m.\u001b[39mEVENT_LBUTTONDOWN:\n\u001b[0;32m     48\u001b[0m         \u001b[38;5;28;01mbreak\u001b[39;00m\n",
      "\u001b[1;31mUnboundLocalError\u001b[0m: cannot access local variable 'a' where it is not associated with a value"
     ]
    },
    {
     "ename": "UnboundLocalError",
     "evalue": "cannot access local variable 'a' where it is not associated with a value",
     "output_type": "error",
     "traceback": [
      "\u001b[1;31m---------------------------------------------------------------------------\u001b[0m",
      "\u001b[1;31mUnboundLocalError\u001b[0m                         Traceback (most recent call last)",
      "Cell \u001b[1;32mIn[38], line 45\u001b[0m, in \u001b[0;36monMouse\u001b[1;34m(event, x, y, flags, _)\u001b[0m\n\u001b[0;32m     42\u001b[0m     cv2\u001b[38;5;241m.\u001b[39mcircle(img, (x,y), \u001b[38;5;241m3\u001b[39m, (\u001b[38;5;241m255\u001b[39m,\u001b[38;5;241m0\u001b[39m,\u001b[38;5;241m0\u001b[39m), cv2\u001b[38;5;241m.\u001b[39mFILLED)\n\u001b[0;32m     44\u001b[0m \u001b[38;5;28;01mwhile\u001b[39;00m \u001b[38;5;28;01mTrue\u001b[39;00m:\n\u001b[1;32m---> 45\u001b[0m     cv2\u001b[38;5;241m.\u001b[39mline(img, (point_x[\u001b[43ma\u001b[49m\u001b[38;5;241m-\u001b[39m\u001b[38;5;241m2\u001b[39m], point_y[a\u001b[38;5;241m-\u001b[39m\u001b[38;5;241m2\u001b[39m]), (x,y), (\u001b[38;5;241m255\u001b[39m,\u001b[38;5;241m0\u001b[39m,\u001b[38;5;241m0\u001b[39m),\u001b[38;5;241m1\u001b[39m,cv2\u001b[38;5;241m.\u001b[39mLINE_AA)    \u001b[38;5;66;03m# 파일, 시작점, 끝점, 색깔, 두께, 옵션\u001b[39;00m\n\u001b[0;32m     47\u001b[0m     \u001b[38;5;28;01mif\u001b[39;00m event \u001b[38;5;241m==\u001b[39m cv2\u001b[38;5;241m.\u001b[39mEVENT_LBUTTONDOWN:\n\u001b[0;32m     48\u001b[0m         \u001b[38;5;28;01mbreak\u001b[39;00m\n",
      "\u001b[1;31mUnboundLocalError\u001b[0m: cannot access local variable 'a' where it is not associated with a value"
     ]
    },
    {
     "ename": "UnboundLocalError",
     "evalue": "cannot access local variable 'a' where it is not associated with a value",
     "output_type": "error",
     "traceback": [
      "\u001b[1;31m---------------------------------------------------------------------------\u001b[0m",
      "\u001b[1;31mUnboundLocalError\u001b[0m                         Traceback (most recent call last)",
      "Cell \u001b[1;32mIn[38], line 45\u001b[0m, in \u001b[0;36monMouse\u001b[1;34m(event, x, y, flags, _)\u001b[0m\n\u001b[0;32m     42\u001b[0m     cv2\u001b[38;5;241m.\u001b[39mcircle(img, (x,y), \u001b[38;5;241m3\u001b[39m, (\u001b[38;5;241m255\u001b[39m,\u001b[38;5;241m0\u001b[39m,\u001b[38;5;241m0\u001b[39m), cv2\u001b[38;5;241m.\u001b[39mFILLED)\n\u001b[0;32m     44\u001b[0m \u001b[38;5;28;01mwhile\u001b[39;00m \u001b[38;5;28;01mTrue\u001b[39;00m:\n\u001b[1;32m---> 45\u001b[0m     cv2\u001b[38;5;241m.\u001b[39mline(img, (point_x[\u001b[43ma\u001b[49m\u001b[38;5;241m-\u001b[39m\u001b[38;5;241m2\u001b[39m], point_y[a\u001b[38;5;241m-\u001b[39m\u001b[38;5;241m2\u001b[39m]), (x,y), (\u001b[38;5;241m255\u001b[39m,\u001b[38;5;241m0\u001b[39m,\u001b[38;5;241m0\u001b[39m),\u001b[38;5;241m1\u001b[39m,cv2\u001b[38;5;241m.\u001b[39mLINE_AA)    \u001b[38;5;66;03m# 파일, 시작점, 끝점, 색깔, 두께, 옵션\u001b[39;00m\n\u001b[0;32m     47\u001b[0m     \u001b[38;5;28;01mif\u001b[39;00m event \u001b[38;5;241m==\u001b[39m cv2\u001b[38;5;241m.\u001b[39mEVENT_LBUTTONDOWN:\n\u001b[0;32m     48\u001b[0m         \u001b[38;5;28;01mbreak\u001b[39;00m\n",
      "\u001b[1;31mUnboundLocalError\u001b[0m: cannot access local variable 'a' where it is not associated with a value"
     ]
    },
    {
     "ename": "UnboundLocalError",
     "evalue": "cannot access local variable 'a' where it is not associated with a value",
     "output_type": "error",
     "traceback": [
      "\u001b[1;31m---------------------------------------------------------------------------\u001b[0m",
      "\u001b[1;31mUnboundLocalError\u001b[0m                         Traceback (most recent call last)",
      "Cell \u001b[1;32mIn[38], line 45\u001b[0m, in \u001b[0;36monMouse\u001b[1;34m(event, x, y, flags, _)\u001b[0m\n\u001b[0;32m     42\u001b[0m     cv2\u001b[38;5;241m.\u001b[39mcircle(img, (x,y), \u001b[38;5;241m3\u001b[39m, (\u001b[38;5;241m255\u001b[39m,\u001b[38;5;241m0\u001b[39m,\u001b[38;5;241m0\u001b[39m), cv2\u001b[38;5;241m.\u001b[39mFILLED)\n\u001b[0;32m     44\u001b[0m \u001b[38;5;28;01mwhile\u001b[39;00m \u001b[38;5;28;01mTrue\u001b[39;00m:\n\u001b[1;32m---> 45\u001b[0m     cv2\u001b[38;5;241m.\u001b[39mline(img, (point_x[\u001b[43ma\u001b[49m\u001b[38;5;241m-\u001b[39m\u001b[38;5;241m2\u001b[39m], point_y[a\u001b[38;5;241m-\u001b[39m\u001b[38;5;241m2\u001b[39m]), (x,y), (\u001b[38;5;241m255\u001b[39m,\u001b[38;5;241m0\u001b[39m,\u001b[38;5;241m0\u001b[39m),\u001b[38;5;241m1\u001b[39m,cv2\u001b[38;5;241m.\u001b[39mLINE_AA)    \u001b[38;5;66;03m# 파일, 시작점, 끝점, 색깔, 두께, 옵션\u001b[39;00m\n\u001b[0;32m     47\u001b[0m     \u001b[38;5;28;01mif\u001b[39;00m event \u001b[38;5;241m==\u001b[39m cv2\u001b[38;5;241m.\u001b[39mEVENT_LBUTTONDOWN:\n\u001b[0;32m     48\u001b[0m         \u001b[38;5;28;01mbreak\u001b[39;00m\n",
      "\u001b[1;31mUnboundLocalError\u001b[0m: cannot access local variable 'a' where it is not associated with a value"
     ]
    },
    {
     "ename": "UnboundLocalError",
     "evalue": "cannot access local variable 'a' where it is not associated with a value",
     "output_type": "error",
     "traceback": [
      "\u001b[1;31m---------------------------------------------------------------------------\u001b[0m",
      "\u001b[1;31mUnboundLocalError\u001b[0m                         Traceback (most recent call last)",
      "Cell \u001b[1;32mIn[38], line 45\u001b[0m, in \u001b[0;36monMouse\u001b[1;34m(event, x, y, flags, _)\u001b[0m\n\u001b[0;32m     42\u001b[0m     cv2\u001b[38;5;241m.\u001b[39mcircle(img, (x,y), \u001b[38;5;241m3\u001b[39m, (\u001b[38;5;241m255\u001b[39m,\u001b[38;5;241m0\u001b[39m,\u001b[38;5;241m0\u001b[39m), cv2\u001b[38;5;241m.\u001b[39mFILLED)\n\u001b[0;32m     44\u001b[0m \u001b[38;5;28;01mwhile\u001b[39;00m \u001b[38;5;28;01mTrue\u001b[39;00m:\n\u001b[1;32m---> 45\u001b[0m     cv2\u001b[38;5;241m.\u001b[39mline(img, (point_x[\u001b[43ma\u001b[49m\u001b[38;5;241m-\u001b[39m\u001b[38;5;241m2\u001b[39m], point_y[a\u001b[38;5;241m-\u001b[39m\u001b[38;5;241m2\u001b[39m]), (x,y), (\u001b[38;5;241m255\u001b[39m,\u001b[38;5;241m0\u001b[39m,\u001b[38;5;241m0\u001b[39m),\u001b[38;5;241m1\u001b[39m,cv2\u001b[38;5;241m.\u001b[39mLINE_AA)    \u001b[38;5;66;03m# 파일, 시작점, 끝점, 색깔, 두께, 옵션\u001b[39;00m\n\u001b[0;32m     47\u001b[0m     \u001b[38;5;28;01mif\u001b[39;00m event \u001b[38;5;241m==\u001b[39m cv2\u001b[38;5;241m.\u001b[39mEVENT_LBUTTONDOWN:\n\u001b[0;32m     48\u001b[0m         \u001b[38;5;28;01mbreak\u001b[39;00m\n",
      "\u001b[1;31mUnboundLocalError\u001b[0m: cannot access local variable 'a' where it is not associated with a value"
     ]
    },
    {
     "ename": "UnboundLocalError",
     "evalue": "cannot access local variable 'a' where it is not associated with a value",
     "output_type": "error",
     "traceback": [
      "\u001b[1;31m---------------------------------------------------------------------------\u001b[0m",
      "\u001b[1;31mUnboundLocalError\u001b[0m                         Traceback (most recent call last)",
      "Cell \u001b[1;32mIn[38], line 45\u001b[0m, in \u001b[0;36monMouse\u001b[1;34m(event, x, y, flags, _)\u001b[0m\n\u001b[0;32m     42\u001b[0m     cv2\u001b[38;5;241m.\u001b[39mcircle(img, (x,y), \u001b[38;5;241m3\u001b[39m, (\u001b[38;5;241m255\u001b[39m,\u001b[38;5;241m0\u001b[39m,\u001b[38;5;241m0\u001b[39m), cv2\u001b[38;5;241m.\u001b[39mFILLED)\n\u001b[0;32m     44\u001b[0m \u001b[38;5;28;01mwhile\u001b[39;00m \u001b[38;5;28;01mTrue\u001b[39;00m:\n\u001b[1;32m---> 45\u001b[0m     cv2\u001b[38;5;241m.\u001b[39mline(img, (point_x[\u001b[43ma\u001b[49m\u001b[38;5;241m-\u001b[39m\u001b[38;5;241m2\u001b[39m], point_y[a\u001b[38;5;241m-\u001b[39m\u001b[38;5;241m2\u001b[39m]), (x,y), (\u001b[38;5;241m255\u001b[39m,\u001b[38;5;241m0\u001b[39m,\u001b[38;5;241m0\u001b[39m),\u001b[38;5;241m1\u001b[39m,cv2\u001b[38;5;241m.\u001b[39mLINE_AA)    \u001b[38;5;66;03m# 파일, 시작점, 끝점, 색깔, 두께, 옵션\u001b[39;00m\n\u001b[0;32m     47\u001b[0m     \u001b[38;5;28;01mif\u001b[39;00m event \u001b[38;5;241m==\u001b[39m cv2\u001b[38;5;241m.\u001b[39mEVENT_LBUTTONDOWN:\n\u001b[0;32m     48\u001b[0m         \u001b[38;5;28;01mbreak\u001b[39;00m\n",
      "\u001b[1;31mUnboundLocalError\u001b[0m: cannot access local variable 'a' where it is not associated with a value"
     ]
    },
    {
     "ename": "UnboundLocalError",
     "evalue": "cannot access local variable 'a' where it is not associated with a value",
     "output_type": "error",
     "traceback": [
      "\u001b[1;31m---------------------------------------------------------------------------\u001b[0m",
      "\u001b[1;31mUnboundLocalError\u001b[0m                         Traceback (most recent call last)",
      "Cell \u001b[1;32mIn[38], line 45\u001b[0m, in \u001b[0;36monMouse\u001b[1;34m(event, x, y, flags, _)\u001b[0m\n\u001b[0;32m     42\u001b[0m     cv2\u001b[38;5;241m.\u001b[39mcircle(img, (x,y), \u001b[38;5;241m3\u001b[39m, (\u001b[38;5;241m255\u001b[39m,\u001b[38;5;241m0\u001b[39m,\u001b[38;5;241m0\u001b[39m), cv2\u001b[38;5;241m.\u001b[39mFILLED)\n\u001b[0;32m     44\u001b[0m \u001b[38;5;28;01mwhile\u001b[39;00m \u001b[38;5;28;01mTrue\u001b[39;00m:\n\u001b[1;32m---> 45\u001b[0m     cv2\u001b[38;5;241m.\u001b[39mline(img, (point_x[\u001b[43ma\u001b[49m\u001b[38;5;241m-\u001b[39m\u001b[38;5;241m2\u001b[39m], point_y[a\u001b[38;5;241m-\u001b[39m\u001b[38;5;241m2\u001b[39m]), (x,y), (\u001b[38;5;241m255\u001b[39m,\u001b[38;5;241m0\u001b[39m,\u001b[38;5;241m0\u001b[39m),\u001b[38;5;241m1\u001b[39m,cv2\u001b[38;5;241m.\u001b[39mLINE_AA)    \u001b[38;5;66;03m# 파일, 시작점, 끝점, 색깔, 두께, 옵션\u001b[39;00m\n\u001b[0;32m     47\u001b[0m     \u001b[38;5;28;01mif\u001b[39;00m event \u001b[38;5;241m==\u001b[39m cv2\u001b[38;5;241m.\u001b[39mEVENT_LBUTTONDOWN:\n\u001b[0;32m     48\u001b[0m         \u001b[38;5;28;01mbreak\u001b[39;00m\n",
      "\u001b[1;31mUnboundLocalError\u001b[0m: cannot access local variable 'a' where it is not associated with a value"
     ]
    },
    {
     "ename": "UnboundLocalError",
     "evalue": "cannot access local variable 'a' where it is not associated with a value",
     "output_type": "error",
     "traceback": [
      "\u001b[1;31m---------------------------------------------------------------------------\u001b[0m",
      "\u001b[1;31mUnboundLocalError\u001b[0m                         Traceback (most recent call last)",
      "Cell \u001b[1;32mIn[38], line 45\u001b[0m, in \u001b[0;36monMouse\u001b[1;34m(event, x, y, flags, _)\u001b[0m\n\u001b[0;32m     42\u001b[0m     cv2\u001b[38;5;241m.\u001b[39mcircle(img, (x,y), \u001b[38;5;241m3\u001b[39m, (\u001b[38;5;241m255\u001b[39m,\u001b[38;5;241m0\u001b[39m,\u001b[38;5;241m0\u001b[39m), cv2\u001b[38;5;241m.\u001b[39mFILLED)\n\u001b[0;32m     44\u001b[0m \u001b[38;5;28;01mwhile\u001b[39;00m \u001b[38;5;28;01mTrue\u001b[39;00m:\n\u001b[1;32m---> 45\u001b[0m     cv2\u001b[38;5;241m.\u001b[39mline(img, (point_x[\u001b[43ma\u001b[49m\u001b[38;5;241m-\u001b[39m\u001b[38;5;241m2\u001b[39m], point_y[a\u001b[38;5;241m-\u001b[39m\u001b[38;5;241m2\u001b[39m]), (x,y), (\u001b[38;5;241m255\u001b[39m,\u001b[38;5;241m0\u001b[39m,\u001b[38;5;241m0\u001b[39m),\u001b[38;5;241m1\u001b[39m,cv2\u001b[38;5;241m.\u001b[39mLINE_AA)    \u001b[38;5;66;03m# 파일, 시작점, 끝점, 색깔, 두께, 옵션\u001b[39;00m\n\u001b[0;32m     47\u001b[0m     \u001b[38;5;28;01mif\u001b[39;00m event \u001b[38;5;241m==\u001b[39m cv2\u001b[38;5;241m.\u001b[39mEVENT_LBUTTONDOWN:\n\u001b[0;32m     48\u001b[0m         \u001b[38;5;28;01mbreak\u001b[39;00m\n",
      "\u001b[1;31mUnboundLocalError\u001b[0m: cannot access local variable 'a' where it is not associated with a value"
     ]
    },
    {
     "ename": "UnboundLocalError",
     "evalue": "cannot access local variable 'a' where it is not associated with a value",
     "output_type": "error",
     "traceback": [
      "\u001b[1;31m---------------------------------------------------------------------------\u001b[0m",
      "\u001b[1;31mUnboundLocalError\u001b[0m                         Traceback (most recent call last)",
      "Cell \u001b[1;32mIn[38], line 45\u001b[0m, in \u001b[0;36monMouse\u001b[1;34m(event, x, y, flags, _)\u001b[0m\n\u001b[0;32m     42\u001b[0m     cv2\u001b[38;5;241m.\u001b[39mcircle(img, (x,y), \u001b[38;5;241m3\u001b[39m, (\u001b[38;5;241m255\u001b[39m,\u001b[38;5;241m0\u001b[39m,\u001b[38;5;241m0\u001b[39m), cv2\u001b[38;5;241m.\u001b[39mFILLED)\n\u001b[0;32m     44\u001b[0m \u001b[38;5;28;01mwhile\u001b[39;00m \u001b[38;5;28;01mTrue\u001b[39;00m:\n\u001b[1;32m---> 45\u001b[0m     cv2\u001b[38;5;241m.\u001b[39mline(img, (point_x[\u001b[43ma\u001b[49m\u001b[38;5;241m-\u001b[39m\u001b[38;5;241m2\u001b[39m], point_y[a\u001b[38;5;241m-\u001b[39m\u001b[38;5;241m2\u001b[39m]), (x,y), (\u001b[38;5;241m255\u001b[39m,\u001b[38;5;241m0\u001b[39m,\u001b[38;5;241m0\u001b[39m),\u001b[38;5;241m1\u001b[39m,cv2\u001b[38;5;241m.\u001b[39mLINE_AA)    \u001b[38;5;66;03m# 파일, 시작점, 끝점, 색깔, 두께, 옵션\u001b[39;00m\n\u001b[0;32m     47\u001b[0m     \u001b[38;5;28;01mif\u001b[39;00m event \u001b[38;5;241m==\u001b[39m cv2\u001b[38;5;241m.\u001b[39mEVENT_LBUTTONDOWN:\n\u001b[0;32m     48\u001b[0m         \u001b[38;5;28;01mbreak\u001b[39;00m\n",
      "\u001b[1;31mUnboundLocalError\u001b[0m: cannot access local variable 'a' where it is not associated with a value"
     ]
    },
    {
     "ename": "UnboundLocalError",
     "evalue": "cannot access local variable 'a' where it is not associated with a value",
     "output_type": "error",
     "traceback": [
      "\u001b[1;31m---------------------------------------------------------------------------\u001b[0m",
      "\u001b[1;31mUnboundLocalError\u001b[0m                         Traceback (most recent call last)",
      "Cell \u001b[1;32mIn[38], line 45\u001b[0m, in \u001b[0;36monMouse\u001b[1;34m(event, x, y, flags, _)\u001b[0m\n\u001b[0;32m     42\u001b[0m     cv2\u001b[38;5;241m.\u001b[39mcircle(img, (x,y), \u001b[38;5;241m3\u001b[39m, (\u001b[38;5;241m255\u001b[39m,\u001b[38;5;241m0\u001b[39m,\u001b[38;5;241m0\u001b[39m), cv2\u001b[38;5;241m.\u001b[39mFILLED)\n\u001b[0;32m     44\u001b[0m \u001b[38;5;28;01mwhile\u001b[39;00m \u001b[38;5;28;01mTrue\u001b[39;00m:\n\u001b[1;32m---> 45\u001b[0m     cv2\u001b[38;5;241m.\u001b[39mline(img, (point_x[\u001b[43ma\u001b[49m\u001b[38;5;241m-\u001b[39m\u001b[38;5;241m2\u001b[39m], point_y[a\u001b[38;5;241m-\u001b[39m\u001b[38;5;241m2\u001b[39m]), (x,y), (\u001b[38;5;241m255\u001b[39m,\u001b[38;5;241m0\u001b[39m,\u001b[38;5;241m0\u001b[39m),\u001b[38;5;241m1\u001b[39m,cv2\u001b[38;5;241m.\u001b[39mLINE_AA)    \u001b[38;5;66;03m# 파일, 시작점, 끝점, 색깔, 두께, 옵션\u001b[39;00m\n\u001b[0;32m     47\u001b[0m     \u001b[38;5;28;01mif\u001b[39;00m event \u001b[38;5;241m==\u001b[39m cv2\u001b[38;5;241m.\u001b[39mEVENT_LBUTTONDOWN:\n\u001b[0;32m     48\u001b[0m         \u001b[38;5;28;01mbreak\u001b[39;00m\n",
      "\u001b[1;31mUnboundLocalError\u001b[0m: cannot access local variable 'a' where it is not associated with a value"
     ]
    },
    {
     "ename": "UnboundLocalError",
     "evalue": "cannot access local variable 'a' where it is not associated with a value",
     "output_type": "error",
     "traceback": [
      "\u001b[1;31m---------------------------------------------------------------------------\u001b[0m",
      "\u001b[1;31mUnboundLocalError\u001b[0m                         Traceback (most recent call last)",
      "Cell \u001b[1;32mIn[38], line 45\u001b[0m, in \u001b[0;36monMouse\u001b[1;34m(event, x, y, flags, _)\u001b[0m\n\u001b[0;32m     42\u001b[0m     cv2\u001b[38;5;241m.\u001b[39mcircle(img, (x,y), \u001b[38;5;241m3\u001b[39m, (\u001b[38;5;241m255\u001b[39m,\u001b[38;5;241m0\u001b[39m,\u001b[38;5;241m0\u001b[39m), cv2\u001b[38;5;241m.\u001b[39mFILLED)\n\u001b[0;32m     44\u001b[0m \u001b[38;5;28;01mwhile\u001b[39;00m \u001b[38;5;28;01mTrue\u001b[39;00m:\n\u001b[1;32m---> 45\u001b[0m     cv2\u001b[38;5;241m.\u001b[39mline(img, (point_x[\u001b[43ma\u001b[49m\u001b[38;5;241m-\u001b[39m\u001b[38;5;241m2\u001b[39m], point_y[a\u001b[38;5;241m-\u001b[39m\u001b[38;5;241m2\u001b[39m]), (x,y), (\u001b[38;5;241m255\u001b[39m,\u001b[38;5;241m0\u001b[39m,\u001b[38;5;241m0\u001b[39m),\u001b[38;5;241m1\u001b[39m,cv2\u001b[38;5;241m.\u001b[39mLINE_AA)    \u001b[38;5;66;03m# 파일, 시작점, 끝점, 색깔, 두께, 옵션\u001b[39;00m\n\u001b[0;32m     47\u001b[0m     \u001b[38;5;28;01mif\u001b[39;00m event \u001b[38;5;241m==\u001b[39m cv2\u001b[38;5;241m.\u001b[39mEVENT_LBUTTONDOWN:\n\u001b[0;32m     48\u001b[0m         \u001b[38;5;28;01mbreak\u001b[39;00m\n",
      "\u001b[1;31mUnboundLocalError\u001b[0m: cannot access local variable 'a' where it is not associated with a value"
     ]
    },
    {
     "ename": "UnboundLocalError",
     "evalue": "cannot access local variable 'a' where it is not associated with a value",
     "output_type": "error",
     "traceback": [
      "\u001b[1;31m---------------------------------------------------------------------------\u001b[0m",
      "\u001b[1;31mUnboundLocalError\u001b[0m                         Traceback (most recent call last)",
      "Cell \u001b[1;32mIn[38], line 45\u001b[0m, in \u001b[0;36monMouse\u001b[1;34m(event, x, y, flags, _)\u001b[0m\n\u001b[0;32m     42\u001b[0m     cv2\u001b[38;5;241m.\u001b[39mcircle(img, (x,y), \u001b[38;5;241m3\u001b[39m, (\u001b[38;5;241m255\u001b[39m,\u001b[38;5;241m0\u001b[39m,\u001b[38;5;241m0\u001b[39m), cv2\u001b[38;5;241m.\u001b[39mFILLED)\n\u001b[0;32m     44\u001b[0m \u001b[38;5;28;01mwhile\u001b[39;00m \u001b[38;5;28;01mTrue\u001b[39;00m:\n\u001b[1;32m---> 45\u001b[0m     cv2\u001b[38;5;241m.\u001b[39mline(img, (point_x[\u001b[43ma\u001b[49m\u001b[38;5;241m-\u001b[39m\u001b[38;5;241m2\u001b[39m], point_y[a\u001b[38;5;241m-\u001b[39m\u001b[38;5;241m2\u001b[39m]), (x,y), (\u001b[38;5;241m255\u001b[39m,\u001b[38;5;241m0\u001b[39m,\u001b[38;5;241m0\u001b[39m),\u001b[38;5;241m1\u001b[39m,cv2\u001b[38;5;241m.\u001b[39mLINE_AA)    \u001b[38;5;66;03m# 파일, 시작점, 끝점, 색깔, 두께, 옵션\u001b[39;00m\n\u001b[0;32m     47\u001b[0m     \u001b[38;5;28;01mif\u001b[39;00m event \u001b[38;5;241m==\u001b[39m cv2\u001b[38;5;241m.\u001b[39mEVENT_LBUTTONDOWN:\n\u001b[0;32m     48\u001b[0m         \u001b[38;5;28;01mbreak\u001b[39;00m\n",
      "\u001b[1;31mUnboundLocalError\u001b[0m: cannot access local variable 'a' where it is not associated with a value"
     ]
    },
    {
     "ename": "UnboundLocalError",
     "evalue": "cannot access local variable 'a' where it is not associated with a value",
     "output_type": "error",
     "traceback": [
      "\u001b[1;31m---------------------------------------------------------------------------\u001b[0m",
      "\u001b[1;31mUnboundLocalError\u001b[0m                         Traceback (most recent call last)",
      "Cell \u001b[1;32mIn[38], line 45\u001b[0m, in \u001b[0;36monMouse\u001b[1;34m(event, x, y, flags, _)\u001b[0m\n\u001b[0;32m     42\u001b[0m     cv2\u001b[38;5;241m.\u001b[39mcircle(img, (x,y), \u001b[38;5;241m3\u001b[39m, (\u001b[38;5;241m255\u001b[39m,\u001b[38;5;241m0\u001b[39m,\u001b[38;5;241m0\u001b[39m), cv2\u001b[38;5;241m.\u001b[39mFILLED)\n\u001b[0;32m     44\u001b[0m \u001b[38;5;28;01mwhile\u001b[39;00m \u001b[38;5;28;01mTrue\u001b[39;00m:\n\u001b[1;32m---> 45\u001b[0m     cv2\u001b[38;5;241m.\u001b[39mline(img, (point_x[\u001b[43ma\u001b[49m\u001b[38;5;241m-\u001b[39m\u001b[38;5;241m2\u001b[39m], point_y[a\u001b[38;5;241m-\u001b[39m\u001b[38;5;241m2\u001b[39m]), (x,y), (\u001b[38;5;241m255\u001b[39m,\u001b[38;5;241m0\u001b[39m,\u001b[38;5;241m0\u001b[39m),\u001b[38;5;241m1\u001b[39m,cv2\u001b[38;5;241m.\u001b[39mLINE_AA)    \u001b[38;5;66;03m# 파일, 시작점, 끝점, 색깔, 두께, 옵션\u001b[39;00m\n\u001b[0;32m     47\u001b[0m     \u001b[38;5;28;01mif\u001b[39;00m event \u001b[38;5;241m==\u001b[39m cv2\u001b[38;5;241m.\u001b[39mEVENT_LBUTTONDOWN:\n\u001b[0;32m     48\u001b[0m         \u001b[38;5;28;01mbreak\u001b[39;00m\n",
      "\u001b[1;31mUnboundLocalError\u001b[0m: cannot access local variable 'a' where it is not associated with a value"
     ]
    },
    {
     "ename": "UnboundLocalError",
     "evalue": "cannot access local variable 'a' where it is not associated with a value",
     "output_type": "error",
     "traceback": [
      "\u001b[1;31m---------------------------------------------------------------------------\u001b[0m",
      "\u001b[1;31mUnboundLocalError\u001b[0m                         Traceback (most recent call last)",
      "Cell \u001b[1;32mIn[38], line 45\u001b[0m, in \u001b[0;36monMouse\u001b[1;34m(event, x, y, flags, _)\u001b[0m\n\u001b[0;32m     42\u001b[0m     cv2\u001b[38;5;241m.\u001b[39mcircle(img, (x,y), \u001b[38;5;241m3\u001b[39m, (\u001b[38;5;241m255\u001b[39m,\u001b[38;5;241m0\u001b[39m,\u001b[38;5;241m0\u001b[39m), cv2\u001b[38;5;241m.\u001b[39mFILLED)\n\u001b[0;32m     44\u001b[0m \u001b[38;5;28;01mwhile\u001b[39;00m \u001b[38;5;28;01mTrue\u001b[39;00m:\n\u001b[1;32m---> 45\u001b[0m     cv2\u001b[38;5;241m.\u001b[39mline(img, (point_x[\u001b[43ma\u001b[49m\u001b[38;5;241m-\u001b[39m\u001b[38;5;241m2\u001b[39m], point_y[a\u001b[38;5;241m-\u001b[39m\u001b[38;5;241m2\u001b[39m]), (x,y), (\u001b[38;5;241m255\u001b[39m,\u001b[38;5;241m0\u001b[39m,\u001b[38;5;241m0\u001b[39m),\u001b[38;5;241m1\u001b[39m,cv2\u001b[38;5;241m.\u001b[39mLINE_AA)    \u001b[38;5;66;03m# 파일, 시작점, 끝점, 색깔, 두께, 옵션\u001b[39;00m\n\u001b[0;32m     47\u001b[0m     \u001b[38;5;28;01mif\u001b[39;00m event \u001b[38;5;241m==\u001b[39m cv2\u001b[38;5;241m.\u001b[39mEVENT_LBUTTONDOWN:\n\u001b[0;32m     48\u001b[0m         \u001b[38;5;28;01mbreak\u001b[39;00m\n",
      "\u001b[1;31mUnboundLocalError\u001b[0m: cannot access local variable 'a' where it is not associated with a value"
     ]
    },
    {
     "ename": "UnboundLocalError",
     "evalue": "cannot access local variable 'a' where it is not associated with a value",
     "output_type": "error",
     "traceback": [
      "\u001b[1;31m---------------------------------------------------------------------------\u001b[0m",
      "\u001b[1;31mUnboundLocalError\u001b[0m                         Traceback (most recent call last)",
      "Cell \u001b[1;32mIn[38], line 45\u001b[0m, in \u001b[0;36monMouse\u001b[1;34m(event, x, y, flags, _)\u001b[0m\n\u001b[0;32m     42\u001b[0m     cv2\u001b[38;5;241m.\u001b[39mcircle(img, (x,y), \u001b[38;5;241m3\u001b[39m, (\u001b[38;5;241m255\u001b[39m,\u001b[38;5;241m0\u001b[39m,\u001b[38;5;241m0\u001b[39m), cv2\u001b[38;5;241m.\u001b[39mFILLED)\n\u001b[0;32m     44\u001b[0m \u001b[38;5;28;01mwhile\u001b[39;00m \u001b[38;5;28;01mTrue\u001b[39;00m:\n\u001b[1;32m---> 45\u001b[0m     cv2\u001b[38;5;241m.\u001b[39mline(img, (point_x[\u001b[43ma\u001b[49m\u001b[38;5;241m-\u001b[39m\u001b[38;5;241m2\u001b[39m], point_y[a\u001b[38;5;241m-\u001b[39m\u001b[38;5;241m2\u001b[39m]), (x,y), (\u001b[38;5;241m255\u001b[39m,\u001b[38;5;241m0\u001b[39m,\u001b[38;5;241m0\u001b[39m),\u001b[38;5;241m1\u001b[39m,cv2\u001b[38;5;241m.\u001b[39mLINE_AA)    \u001b[38;5;66;03m# 파일, 시작점, 끝점, 색깔, 두께, 옵션\u001b[39;00m\n\u001b[0;32m     47\u001b[0m     \u001b[38;5;28;01mif\u001b[39;00m event \u001b[38;5;241m==\u001b[39m cv2\u001b[38;5;241m.\u001b[39mEVENT_LBUTTONDOWN:\n\u001b[0;32m     48\u001b[0m         \u001b[38;5;28;01mbreak\u001b[39;00m\n",
      "\u001b[1;31mUnboundLocalError\u001b[0m: cannot access local variable 'a' where it is not associated with a value"
     ]
    },
    {
     "ename": "UnboundLocalError",
     "evalue": "cannot access local variable 'a' where it is not associated with a value",
     "output_type": "error",
     "traceback": [
      "\u001b[1;31m---------------------------------------------------------------------------\u001b[0m",
      "\u001b[1;31mUnboundLocalError\u001b[0m                         Traceback (most recent call last)",
      "Cell \u001b[1;32mIn[38], line 45\u001b[0m, in \u001b[0;36monMouse\u001b[1;34m(event, x, y, flags, _)\u001b[0m\n\u001b[0;32m     42\u001b[0m     cv2\u001b[38;5;241m.\u001b[39mcircle(img, (x,y), \u001b[38;5;241m3\u001b[39m, (\u001b[38;5;241m255\u001b[39m,\u001b[38;5;241m0\u001b[39m,\u001b[38;5;241m0\u001b[39m), cv2\u001b[38;5;241m.\u001b[39mFILLED)\n\u001b[0;32m     44\u001b[0m \u001b[38;5;28;01mwhile\u001b[39;00m \u001b[38;5;28;01mTrue\u001b[39;00m:\n\u001b[1;32m---> 45\u001b[0m     cv2\u001b[38;5;241m.\u001b[39mline(img, (point_x[\u001b[43ma\u001b[49m\u001b[38;5;241m-\u001b[39m\u001b[38;5;241m2\u001b[39m], point_y[a\u001b[38;5;241m-\u001b[39m\u001b[38;5;241m2\u001b[39m]), (x,y), (\u001b[38;5;241m255\u001b[39m,\u001b[38;5;241m0\u001b[39m,\u001b[38;5;241m0\u001b[39m),\u001b[38;5;241m1\u001b[39m,cv2\u001b[38;5;241m.\u001b[39mLINE_AA)    \u001b[38;5;66;03m# 파일, 시작점, 끝점, 색깔, 두께, 옵션\u001b[39;00m\n\u001b[0;32m     47\u001b[0m     \u001b[38;5;28;01mif\u001b[39;00m event \u001b[38;5;241m==\u001b[39m cv2\u001b[38;5;241m.\u001b[39mEVENT_LBUTTONDOWN:\n\u001b[0;32m     48\u001b[0m         \u001b[38;5;28;01mbreak\u001b[39;00m\n",
      "\u001b[1;31mUnboundLocalError\u001b[0m: cannot access local variable 'a' where it is not associated with a value"
     ]
    },
    {
     "ename": "UnboundLocalError",
     "evalue": "cannot access local variable 'a' where it is not associated with a value",
     "output_type": "error",
     "traceback": [
      "\u001b[1;31m---------------------------------------------------------------------------\u001b[0m",
      "\u001b[1;31mUnboundLocalError\u001b[0m                         Traceback (most recent call last)",
      "Cell \u001b[1;32mIn[38], line 45\u001b[0m, in \u001b[0;36monMouse\u001b[1;34m(event, x, y, flags, _)\u001b[0m\n\u001b[0;32m     42\u001b[0m     cv2\u001b[38;5;241m.\u001b[39mcircle(img, (x,y), \u001b[38;5;241m3\u001b[39m, (\u001b[38;5;241m255\u001b[39m,\u001b[38;5;241m0\u001b[39m,\u001b[38;5;241m0\u001b[39m), cv2\u001b[38;5;241m.\u001b[39mFILLED)\n\u001b[0;32m     44\u001b[0m \u001b[38;5;28;01mwhile\u001b[39;00m \u001b[38;5;28;01mTrue\u001b[39;00m:\n\u001b[1;32m---> 45\u001b[0m     cv2\u001b[38;5;241m.\u001b[39mline(img, (point_x[\u001b[43ma\u001b[49m\u001b[38;5;241m-\u001b[39m\u001b[38;5;241m2\u001b[39m], point_y[a\u001b[38;5;241m-\u001b[39m\u001b[38;5;241m2\u001b[39m]), (x,y), (\u001b[38;5;241m255\u001b[39m,\u001b[38;5;241m0\u001b[39m,\u001b[38;5;241m0\u001b[39m),\u001b[38;5;241m1\u001b[39m,cv2\u001b[38;5;241m.\u001b[39mLINE_AA)    \u001b[38;5;66;03m# 파일, 시작점, 끝점, 색깔, 두께, 옵션\u001b[39;00m\n\u001b[0;32m     47\u001b[0m     \u001b[38;5;28;01mif\u001b[39;00m event \u001b[38;5;241m==\u001b[39m cv2\u001b[38;5;241m.\u001b[39mEVENT_LBUTTONDOWN:\n\u001b[0;32m     48\u001b[0m         \u001b[38;5;28;01mbreak\u001b[39;00m\n",
      "\u001b[1;31mUnboundLocalError\u001b[0m: cannot access local variable 'a' where it is not associated with a value"
     ]
    },
    {
     "ename": "UnboundLocalError",
     "evalue": "cannot access local variable 'a' where it is not associated with a value",
     "output_type": "error",
     "traceback": [
      "\u001b[1;31m---------------------------------------------------------------------------\u001b[0m",
      "\u001b[1;31mUnboundLocalError\u001b[0m                         Traceback (most recent call last)",
      "Cell \u001b[1;32mIn[38], line 45\u001b[0m, in \u001b[0;36monMouse\u001b[1;34m(event, x, y, flags, _)\u001b[0m\n\u001b[0;32m     42\u001b[0m     cv2\u001b[38;5;241m.\u001b[39mcircle(img, (x,y), \u001b[38;5;241m3\u001b[39m, (\u001b[38;5;241m255\u001b[39m,\u001b[38;5;241m0\u001b[39m,\u001b[38;5;241m0\u001b[39m), cv2\u001b[38;5;241m.\u001b[39mFILLED)\n\u001b[0;32m     44\u001b[0m \u001b[38;5;28;01mwhile\u001b[39;00m \u001b[38;5;28;01mTrue\u001b[39;00m:\n\u001b[1;32m---> 45\u001b[0m     cv2\u001b[38;5;241m.\u001b[39mline(img, (point_x[\u001b[43ma\u001b[49m\u001b[38;5;241m-\u001b[39m\u001b[38;5;241m2\u001b[39m], point_y[a\u001b[38;5;241m-\u001b[39m\u001b[38;5;241m2\u001b[39m]), (x,y), (\u001b[38;5;241m255\u001b[39m,\u001b[38;5;241m0\u001b[39m,\u001b[38;5;241m0\u001b[39m),\u001b[38;5;241m1\u001b[39m,cv2\u001b[38;5;241m.\u001b[39mLINE_AA)    \u001b[38;5;66;03m# 파일, 시작점, 끝점, 색깔, 두께, 옵션\u001b[39;00m\n\u001b[0;32m     47\u001b[0m     \u001b[38;5;28;01mif\u001b[39;00m event \u001b[38;5;241m==\u001b[39m cv2\u001b[38;5;241m.\u001b[39mEVENT_LBUTTONDOWN:\n\u001b[0;32m     48\u001b[0m         \u001b[38;5;28;01mbreak\u001b[39;00m\n",
      "\u001b[1;31mUnboundLocalError\u001b[0m: cannot access local variable 'a' where it is not associated with a value"
     ]
    },
    {
     "ename": "UnboundLocalError",
     "evalue": "cannot access local variable 'a' where it is not associated with a value",
     "output_type": "error",
     "traceback": [
      "\u001b[1;31m---------------------------------------------------------------------------\u001b[0m",
      "\u001b[1;31mUnboundLocalError\u001b[0m                         Traceback (most recent call last)",
      "Cell \u001b[1;32mIn[38], line 45\u001b[0m, in \u001b[0;36monMouse\u001b[1;34m(event, x, y, flags, _)\u001b[0m\n\u001b[0;32m     42\u001b[0m     cv2\u001b[38;5;241m.\u001b[39mcircle(img, (x,y), \u001b[38;5;241m3\u001b[39m, (\u001b[38;5;241m255\u001b[39m,\u001b[38;5;241m0\u001b[39m,\u001b[38;5;241m0\u001b[39m), cv2\u001b[38;5;241m.\u001b[39mFILLED)\n\u001b[0;32m     44\u001b[0m \u001b[38;5;28;01mwhile\u001b[39;00m \u001b[38;5;28;01mTrue\u001b[39;00m:\n\u001b[1;32m---> 45\u001b[0m     cv2\u001b[38;5;241m.\u001b[39mline(img, (point_x[\u001b[43ma\u001b[49m\u001b[38;5;241m-\u001b[39m\u001b[38;5;241m2\u001b[39m], point_y[a\u001b[38;5;241m-\u001b[39m\u001b[38;5;241m2\u001b[39m]), (x,y), (\u001b[38;5;241m255\u001b[39m,\u001b[38;5;241m0\u001b[39m,\u001b[38;5;241m0\u001b[39m),\u001b[38;5;241m1\u001b[39m,cv2\u001b[38;5;241m.\u001b[39mLINE_AA)    \u001b[38;5;66;03m# 파일, 시작점, 끝점, 색깔, 두께, 옵션\u001b[39;00m\n\u001b[0;32m     47\u001b[0m     \u001b[38;5;28;01mif\u001b[39;00m event \u001b[38;5;241m==\u001b[39m cv2\u001b[38;5;241m.\u001b[39mEVENT_LBUTTONDOWN:\n\u001b[0;32m     48\u001b[0m         \u001b[38;5;28;01mbreak\u001b[39;00m\n",
      "\u001b[1;31mUnboundLocalError\u001b[0m: cannot access local variable 'a' where it is not associated with a value"
     ]
    },
    {
     "ename": "UnboundLocalError",
     "evalue": "cannot access local variable 'a' where it is not associated with a value",
     "output_type": "error",
     "traceback": [
      "\u001b[1;31m---------------------------------------------------------------------------\u001b[0m",
      "\u001b[1;31mUnboundLocalError\u001b[0m                         Traceback (most recent call last)",
      "Cell \u001b[1;32mIn[38], line 45\u001b[0m, in \u001b[0;36monMouse\u001b[1;34m(event, x, y, flags, _)\u001b[0m\n\u001b[0;32m     42\u001b[0m     cv2\u001b[38;5;241m.\u001b[39mcircle(img, (x,y), \u001b[38;5;241m3\u001b[39m, (\u001b[38;5;241m255\u001b[39m,\u001b[38;5;241m0\u001b[39m,\u001b[38;5;241m0\u001b[39m), cv2\u001b[38;5;241m.\u001b[39mFILLED)\n\u001b[0;32m     44\u001b[0m \u001b[38;5;28;01mwhile\u001b[39;00m \u001b[38;5;28;01mTrue\u001b[39;00m:\n\u001b[1;32m---> 45\u001b[0m     cv2\u001b[38;5;241m.\u001b[39mline(img, (point_x[\u001b[43ma\u001b[49m\u001b[38;5;241m-\u001b[39m\u001b[38;5;241m2\u001b[39m], point_y[a\u001b[38;5;241m-\u001b[39m\u001b[38;5;241m2\u001b[39m]), (x,y), (\u001b[38;5;241m255\u001b[39m,\u001b[38;5;241m0\u001b[39m,\u001b[38;5;241m0\u001b[39m),\u001b[38;5;241m1\u001b[39m,cv2\u001b[38;5;241m.\u001b[39mLINE_AA)    \u001b[38;5;66;03m# 파일, 시작점, 끝점, 색깔, 두께, 옵션\u001b[39;00m\n\u001b[0;32m     47\u001b[0m     \u001b[38;5;28;01mif\u001b[39;00m event \u001b[38;5;241m==\u001b[39m cv2\u001b[38;5;241m.\u001b[39mEVENT_LBUTTONDOWN:\n\u001b[0;32m     48\u001b[0m         \u001b[38;5;28;01mbreak\u001b[39;00m\n",
      "\u001b[1;31mUnboundLocalError\u001b[0m: cannot access local variable 'a' where it is not associated with a value"
     ]
    },
    {
     "ename": "UnboundLocalError",
     "evalue": "cannot access local variable 'a' where it is not associated with a value",
     "output_type": "error",
     "traceback": [
      "\u001b[1;31m---------------------------------------------------------------------------\u001b[0m",
      "\u001b[1;31mUnboundLocalError\u001b[0m                         Traceback (most recent call last)",
      "Cell \u001b[1;32mIn[38], line 45\u001b[0m, in \u001b[0;36monMouse\u001b[1;34m(event, x, y, flags, _)\u001b[0m\n\u001b[0;32m     42\u001b[0m     cv2\u001b[38;5;241m.\u001b[39mcircle(img, (x,y), \u001b[38;5;241m3\u001b[39m, (\u001b[38;5;241m255\u001b[39m,\u001b[38;5;241m0\u001b[39m,\u001b[38;5;241m0\u001b[39m), cv2\u001b[38;5;241m.\u001b[39mFILLED)\n\u001b[0;32m     44\u001b[0m \u001b[38;5;28;01mwhile\u001b[39;00m \u001b[38;5;28;01mTrue\u001b[39;00m:\n\u001b[1;32m---> 45\u001b[0m     cv2\u001b[38;5;241m.\u001b[39mline(img, (point_x[\u001b[43ma\u001b[49m\u001b[38;5;241m-\u001b[39m\u001b[38;5;241m2\u001b[39m], point_y[a\u001b[38;5;241m-\u001b[39m\u001b[38;5;241m2\u001b[39m]), (x,y), (\u001b[38;5;241m255\u001b[39m,\u001b[38;5;241m0\u001b[39m,\u001b[38;5;241m0\u001b[39m),\u001b[38;5;241m1\u001b[39m,cv2\u001b[38;5;241m.\u001b[39mLINE_AA)    \u001b[38;5;66;03m# 파일, 시작점, 끝점, 색깔, 두께, 옵션\u001b[39;00m\n\u001b[0;32m     47\u001b[0m     \u001b[38;5;28;01mif\u001b[39;00m event \u001b[38;5;241m==\u001b[39m cv2\u001b[38;5;241m.\u001b[39mEVENT_LBUTTONDOWN:\n\u001b[0;32m     48\u001b[0m         \u001b[38;5;28;01mbreak\u001b[39;00m\n",
      "\u001b[1;31mUnboundLocalError\u001b[0m: cannot access local variable 'a' where it is not associated with a value"
     ]
    },
    {
     "ename": "UnboundLocalError",
     "evalue": "cannot access local variable 'a' where it is not associated with a value",
     "output_type": "error",
     "traceback": [
      "\u001b[1;31m---------------------------------------------------------------------------\u001b[0m",
      "\u001b[1;31mUnboundLocalError\u001b[0m                         Traceback (most recent call last)",
      "Cell \u001b[1;32mIn[38], line 45\u001b[0m, in \u001b[0;36monMouse\u001b[1;34m(event, x, y, flags, _)\u001b[0m\n\u001b[0;32m     42\u001b[0m     cv2\u001b[38;5;241m.\u001b[39mcircle(img, (x,y), \u001b[38;5;241m3\u001b[39m, (\u001b[38;5;241m255\u001b[39m,\u001b[38;5;241m0\u001b[39m,\u001b[38;5;241m0\u001b[39m), cv2\u001b[38;5;241m.\u001b[39mFILLED)\n\u001b[0;32m     44\u001b[0m \u001b[38;5;28;01mwhile\u001b[39;00m \u001b[38;5;28;01mTrue\u001b[39;00m:\n\u001b[1;32m---> 45\u001b[0m     cv2\u001b[38;5;241m.\u001b[39mline(img, (point_x[\u001b[43ma\u001b[49m\u001b[38;5;241m-\u001b[39m\u001b[38;5;241m2\u001b[39m], point_y[a\u001b[38;5;241m-\u001b[39m\u001b[38;5;241m2\u001b[39m]), (x,y), (\u001b[38;5;241m255\u001b[39m,\u001b[38;5;241m0\u001b[39m,\u001b[38;5;241m0\u001b[39m),\u001b[38;5;241m1\u001b[39m,cv2\u001b[38;5;241m.\u001b[39mLINE_AA)    \u001b[38;5;66;03m# 파일, 시작점, 끝점, 색깔, 두께, 옵션\u001b[39;00m\n\u001b[0;32m     47\u001b[0m     \u001b[38;5;28;01mif\u001b[39;00m event \u001b[38;5;241m==\u001b[39m cv2\u001b[38;5;241m.\u001b[39mEVENT_LBUTTONDOWN:\n\u001b[0;32m     48\u001b[0m         \u001b[38;5;28;01mbreak\u001b[39;00m\n",
      "\u001b[1;31mUnboundLocalError\u001b[0m: cannot access local variable 'a' where it is not associated with a value"
     ]
    },
    {
     "ename": "UnboundLocalError",
     "evalue": "cannot access local variable 'a' where it is not associated with a value",
     "output_type": "error",
     "traceback": [
      "\u001b[1;31m---------------------------------------------------------------------------\u001b[0m",
      "\u001b[1;31mUnboundLocalError\u001b[0m                         Traceback (most recent call last)",
      "Cell \u001b[1;32mIn[38], line 45\u001b[0m, in \u001b[0;36monMouse\u001b[1;34m(event, x, y, flags, _)\u001b[0m\n\u001b[0;32m     42\u001b[0m     cv2\u001b[38;5;241m.\u001b[39mcircle(img, (x,y), \u001b[38;5;241m3\u001b[39m, (\u001b[38;5;241m255\u001b[39m,\u001b[38;5;241m0\u001b[39m,\u001b[38;5;241m0\u001b[39m), cv2\u001b[38;5;241m.\u001b[39mFILLED)\n\u001b[0;32m     44\u001b[0m \u001b[38;5;28;01mwhile\u001b[39;00m \u001b[38;5;28;01mTrue\u001b[39;00m:\n\u001b[1;32m---> 45\u001b[0m     cv2\u001b[38;5;241m.\u001b[39mline(img, (point_x[\u001b[43ma\u001b[49m\u001b[38;5;241m-\u001b[39m\u001b[38;5;241m2\u001b[39m], point_y[a\u001b[38;5;241m-\u001b[39m\u001b[38;5;241m2\u001b[39m]), (x,y), (\u001b[38;5;241m255\u001b[39m,\u001b[38;5;241m0\u001b[39m,\u001b[38;5;241m0\u001b[39m),\u001b[38;5;241m1\u001b[39m,cv2\u001b[38;5;241m.\u001b[39mLINE_AA)    \u001b[38;5;66;03m# 파일, 시작점, 끝점, 색깔, 두께, 옵션\u001b[39;00m\n\u001b[0;32m     47\u001b[0m     \u001b[38;5;28;01mif\u001b[39;00m event \u001b[38;5;241m==\u001b[39m cv2\u001b[38;5;241m.\u001b[39mEVENT_LBUTTONDOWN:\n\u001b[0;32m     48\u001b[0m         \u001b[38;5;28;01mbreak\u001b[39;00m\n",
      "\u001b[1;31mUnboundLocalError\u001b[0m: cannot access local variable 'a' where it is not associated with a value"
     ]
    },
    {
     "ename": "UnboundLocalError",
     "evalue": "cannot access local variable 'a' where it is not associated with a value",
     "output_type": "error",
     "traceback": [
      "\u001b[1;31m---------------------------------------------------------------------------\u001b[0m",
      "\u001b[1;31mUnboundLocalError\u001b[0m                         Traceback (most recent call last)",
      "Cell \u001b[1;32mIn[38], line 45\u001b[0m, in \u001b[0;36monMouse\u001b[1;34m(event, x, y, flags, _)\u001b[0m\n\u001b[0;32m     42\u001b[0m     cv2\u001b[38;5;241m.\u001b[39mcircle(img, (x,y), \u001b[38;5;241m3\u001b[39m, (\u001b[38;5;241m255\u001b[39m,\u001b[38;5;241m0\u001b[39m,\u001b[38;5;241m0\u001b[39m), cv2\u001b[38;5;241m.\u001b[39mFILLED)\n\u001b[0;32m     44\u001b[0m \u001b[38;5;28;01mwhile\u001b[39;00m \u001b[38;5;28;01mTrue\u001b[39;00m:\n\u001b[1;32m---> 45\u001b[0m     cv2\u001b[38;5;241m.\u001b[39mline(img, (point_x[\u001b[43ma\u001b[49m\u001b[38;5;241m-\u001b[39m\u001b[38;5;241m2\u001b[39m], point_y[a\u001b[38;5;241m-\u001b[39m\u001b[38;5;241m2\u001b[39m]), (x,y), (\u001b[38;5;241m255\u001b[39m,\u001b[38;5;241m0\u001b[39m,\u001b[38;5;241m0\u001b[39m),\u001b[38;5;241m1\u001b[39m,cv2\u001b[38;5;241m.\u001b[39mLINE_AA)    \u001b[38;5;66;03m# 파일, 시작점, 끝점, 색깔, 두께, 옵션\u001b[39;00m\n\u001b[0;32m     47\u001b[0m     \u001b[38;5;28;01mif\u001b[39;00m event \u001b[38;5;241m==\u001b[39m cv2\u001b[38;5;241m.\u001b[39mEVENT_LBUTTONDOWN:\n\u001b[0;32m     48\u001b[0m         \u001b[38;5;28;01mbreak\u001b[39;00m\n",
      "\u001b[1;31mUnboundLocalError\u001b[0m: cannot access local variable 'a' where it is not associated with a value"
     ]
    }
   ],
   "source": [
    "# 미니 프로젝트\n",
    "\n",
    "import cv2\n",
    "import numpy as np\n",
    "\n",
    "# 스캔에 사용할 이미지를 입력합니다\n",
    "img = cv2.imread('images/down.jpg')\n",
    "\n",
    "# 포인트를 저장할 리스트를 생성합니다\n",
    "point_x = []\n",
    "point_y = []\n",
    "a=len(point_x)\n",
    "\n",
    "# 최종 결과를 출력하는 함수입니다\n",
    "def show_result():\n",
    "    if len(point_x)==4:\n",
    "        width, height = 600, 250\n",
    "        \n",
    "        #메모장으로 이미지 꼭지점 파악(시계방향으로 작성)\n",
    "        src=np.array([[point_x[0],point_y[0]],[point_x[1],point_y[1]],[point_x[2],point_y[2]],[point_x[3],point_y[3]]],dtype=np.float32)\n",
    "        \n",
    "        # 결과물 출력할 형태\n",
    "        dst=np.array([[0,0],[width,0],[width, height],[0,height]], dtype=np.float32)\n",
    "        \n",
    "        mat=cv2.getPerspectiveTransform(src, dst)     # 변형될 소스, 변형할 소스\n",
    "        \n",
    "        # img를 mat에 의해 변환\n",
    "        result=cv2.warpPerspective(img, mat, (width, height))    # 이미지, 매트릭스, (넓이, 높이)\n",
    "        cv2.imshow('result', result)\n",
    "\n",
    "\n",
    "\n",
    "\n",
    "# 마우스 이벤트와 함께 실행되는 콜백함수입니다.\n",
    "def onMouse(event, x, y, flags, _):\n",
    "  # 조건을 만족하면 결과를 출력하는 함수를 실행합니다.\n",
    "\n",
    "    if event == cv2.EVENT_LBUTTONDOWN:           # 좌클릭시 동그라미 만들기\n",
    "        copied=img.copy()        # 깊은 복사\n",
    "        point_x.append(x)\n",
    "        point_y.append(y)\n",
    "        a=len(point_x)\n",
    "\n",
    "        cv2.circle(img, (x,y), 3, (255,0,0), cv2.FILLED)\n",
    "\n",
    "    while True:\n",
    "        cv2.line(img, (point_x[a-2], point_y[a-2]), (x,y), (255,0,0),1,cv2.LINE_AA)    # 파일, 시작점, 끝점, 색깔, 두께, 옵션\n",
    "\n",
    "        if event == cv2.EVENT_LBUTTONDOWN:\n",
    "            break\n",
    "\n",
    "    cv2.imshow(name, img)\n",
    "    show_result()\n",
    "\n",
    "\n",
    "# 기본적인 코드 실행입니다.\n",
    "name = \"Scanner\"\n",
    "cv2.namedWindow(name)\n",
    "cv2.setMouseCallback(name, onMouse)\n",
    "cv2.imshow(name, img)\n",
    "cv2.waitKey(0)\n",
    "cv2.destroyAllWindows()"
   ]
  },
  {
   "cell_type": "code",
   "execution_count": null,
   "metadata": {},
   "outputs": [
    {
     "name": "stdout",
     "output_type": "stream",
     "text": [
      "(2,)\n"
     ]
    }
   ],
   "source": []
  },
  {
   "cell_type": "code",
   "execution_count": null,
   "metadata": {},
   "outputs": [
    {
     "name": "stdout",
     "output_type": "stream",
     "text": [
      "4\n"
     ]
    }
   ],
   "source": []
  }
 ],
 "metadata": {
  "kernelspec": {
   "display_name": "my_cv",
   "language": "python",
   "name": "python3"
  },
  "language_info": {
   "codemirror_mode": {
    "name": "ipython",
    "version": 3
   },
   "file_extension": ".py",
   "mimetype": "text/x-python",
   "name": "python",
   "nbconvert_exporter": "python",
   "pygments_lexer": "ipython3",
   "version": "3.12.7"
  }
 },
 "nbformat": 4,
 "nbformat_minor": 2
}
