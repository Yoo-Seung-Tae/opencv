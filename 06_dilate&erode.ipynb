{
 "cells": [
  {
   "cell_type": "code",
   "execution_count": null,
   "metadata": {},
   "outputs": [],
   "source": [
    "# 팽창과 침식: 이미지의 노이즈 제거\n",
    "\n",
    "import cv2\n",
    "import numpy as np\n",
    "\n",
    "dilate_path='images/dilate.png'\n",
    "erode_path='images/erode.png'\n"
   ]
  },
  {
   "cell_type": "code",
   "execution_count": 3,
   "metadata": {},
   "outputs": [],
   "source": [
    "# 팽창: 흰색영역을 확장하여 검은영역을 채움\n",
    "\n",
    "img=cv2.imread(dilate_path)\n",
    "\n",
    "kernel=np.ones((3,3), dtype=np.uint8)\n",
    "dilate_1=cv2.dilate(img, kernel, iterations=1)    # 이미지, 커널, 팽창을 진행할 반복 횟수\n",
    "dilate_2=cv2.dilate(img, kernel, iterations=2)   \n",
    "dilate_3=cv2.dilate(img, kernel, iterations=3)    # 팽창 진행 반복 수에 따른 비굔\n",
    "\n",
    "cv2.imshow('1',img)\n",
    "cv2.imshow('2',dilate_1)\n",
    "cv2.imshow('3',dilate_2)\n",
    "cv2.imshow('4',dilate_3)\n",
    "\n",
    "\n",
    "cv2.waitKey(0)\n",
    "cv2.destroyAllWindows()"
   ]
  },
  {
   "cell_type": "code",
   "execution_count": null,
   "metadata": {},
   "outputs": [],
   "source": [
    "# 침식: 흰색영역의 외곽을 검은색으로 변경\n",
    "\n",
    "img=cv2.imread(erode_path)\n",
    "\n",
    "kernel=np.ones((3,3), dtype=np.uint8)\n",
    "erode_1=cv2.erode(img, kernel, iterations=1)    # 이미지, 커널, 팽창을 진행할 반복 횟수\n",
    "erode_2=cv2.erode(img, kernel, iterations=2)   \n",
    "erode_3=cv2.erode(img, kernel, iterations=3)    # 팽창 진행 반복 수에 따른 비교교\n",
    "\n",
    "cv2.imshow('1',img)\n",
    "cv2.imshow('2',erode_1)\n",
    "cv2.imshow('3',erode_2)\n",
    "cv2.imshow('4',erode_3)\n",
    "\n",
    "\n",
    "cv2.waitKey(0)\n",
    "cv2.destroyAllWindows()\n"
   ]
  },
  {
   "cell_type": "code",
   "execution_count": 3,
   "metadata": {},
   "outputs": [],
   "source": [
    "# 열림: 침식 후 팽창\n",
    "\n",
    "img=cv2.imread(erode_path)\n",
    "\n",
    "kernel=np.ones((3,3), dtype=np.uint8)\n",
    "erode=cv2.erode(img, kernel, iterations=3)    # 침식\n",
    "dilate=cv2.dilate(erode, kernel, iterations=3)    # 팽창\n",
    "\n",
    "\n",
    "cv2.imshow('1',img)\n",
    "cv2.imshow('2',erode)\n",
    "cv2.imshow('3',dilate)\n",
    "\n",
    "\n",
    "cv2.waitKey(0)\n",
    "cv2.destroyAllWindows()\n"
   ]
  },
  {
   "cell_type": "code",
   "execution_count": 6,
   "metadata": {},
   "outputs": [],
   "source": [
    "# 닫힘: 팽창 후 침식\n",
    "\n",
    "img=cv2.imread(dilate_path)\n",
    "\n",
    "kernel=np.ones((3,3), dtype=np.uint8)\n",
    "dilate=cv2.dilate(img, kernel, iterations=3)   # 팽창\n",
    "erode=cv2.erode(dilate, kernel, iterations=3)    # 침식\n",
    "\n",
    "\n",
    "cv2.imshow('1',img)\n",
    "cv2.imshow('2',dilate)\n",
    "cv2.imshow('3',erode)\n",
    "\n",
    "\n",
    "cv2.waitKey(0)\n",
    "cv2.destroyAllWindows()\n"
   ]
  },
  {
   "cell_type": "code",
   "execution_count": null,
   "metadata": {},
   "outputs": [],
   "source": [
    "\n",
    "\n",
    "\n"
   ]
  },
  {
   "cell_type": "code",
   "execution_count": null,
   "metadata": {},
   "outputs": [],
   "source": []
  }
 ],
 "metadata": {
  "kernelspec": {
   "display_name": "my_cv",
   "language": "python",
   "name": "python3"
  },
  "language_info": {
   "codemirror_mode": {
    "name": "ipython",
    "version": 3
   },
   "file_extension": ".py",
   "mimetype": "text/x-python",
   "name": "python",
   "nbconvert_exporter": "python",
   "pygments_lexer": "ipython3",
   "version": "3.12.7"
  }
 },
 "nbformat": 4,
 "nbformat_minor": 2
}
