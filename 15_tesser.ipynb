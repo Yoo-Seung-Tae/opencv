{
 "cells": [
  {
   "cell_type": "code",
   "execution_count": null,
   "metadata": {},
   "outputs": [
    {
     "name": "stdout",
     "output_type": "stream",
     "text": [
      "정지\n",
      "STOP\n",
      "\n"
     ]
    }
   ],
   "source": [
    "## 광학 문자 인식\n",
    "\n",
    "from pytesseract import pytesseract as pyt\n",
    "import cv2\n",
    "\n",
    "pyt.tesseract_cmd=r'C:\\Users\\Administrator\\AppData\\Local\\Programs\\Tesseract-OCR\\tesseract.exe'\n",
    "\n",
    "\n",
    "\n",
    "\n",
    "img=img[37:200,39:185]\n",
    "\n",
    "ret, binary=cv2.threshold(img, -1, 255, cv2.THRESH_BINARY | cv2.THRESH_OTSU)\n",
    "\n",
    "text=pyt.image_to_string(img, lang='kor')\n",
    "text2=pyt.image_to_string(img, lang='kor+eng')\n",
    "\n",
    "print(text2)"
   ]
  },
  {
   "cell_type": "code",
   "execution_count": 63,
   "metadata": {},
   "outputs": [
    {
     "name": "stdout",
     "output_type": "stream",
     "text": [
      "STOP\n",
      "\n",
      "STOP\n",
      "\n",
      "STOP\n",
      "\n",
      "STOP\n",
      "\n",
      "STOP\n",
      "\n"
     ]
    }
   ],
   "source": [
    "# 실습 : 이미지를 불러와서 출력하기\n",
    "\n",
    "import cv2\n",
    "import numpy as np\n",
    "\n",
    "img=cv2.imread('images/stop.png',cv2.IMREAD_GRAYSCALE)\n",
    "a = []\n",
    "\n",
    "\n",
    "# 최종 결과를 출력하는 함수입니다\n",
    "def show_result():\n",
    "  width, height = 600, 350\n",
    "  src = np.array(a, dtype=np.float32)\n",
    "  # src = np.float32(a)\n",
    "  target = np.array([[0,0], [width, 0], [width, height], [0, height]], dtype=np.float32)\n",
    "  mat = cv2.getPerspectiveTransform(src, target)\n",
    "  result = cv2.warpPerspective(img, mat, (width, height))\n",
    "\n",
    "  img_2=img.copy()\n",
    "  img_2=img_2[a[0][1]:a[2][1],a[0][0]:a[2][0]]\n",
    "\n",
    "  _, binary=cv2.threshold(img_2, -1, 255, cv2.THRESH_BINARY | cv2.THRESH_OTSU)\n",
    "\n",
    "  text=pyt.image_to_string(binary, lang='kor')\n",
    "  text2=pyt.image_to_string(binary, lang='kor+eng')\n",
    "\n",
    "  print(text2)\n",
    "\n",
    "\n",
    "\n",
    "  cv2.imshow(\"result\", result)\n",
    "\n",
    "\n",
    "# 마우스 이벤트와 함께 실행되는 콜백함수입니다.\n",
    "drawing = False\n",
    "def on_mouse(event, x, y, flags, _):\n",
    "  global drawing\n",
    "  coppied = img.copy()\n",
    "  if event == cv2.EVENT_LBUTTONDOWN:\n",
    "    drawing = True\n",
    "    a.append((x,y))\n",
    "\n",
    "  if drawing:\n",
    "    prev_point = None\n",
    "    for point in a:\n",
    "      cv2.circle(coppied, point, 10, (0,0,255), cv2.FILLED)\n",
    "      if prev_point:\n",
    "        cv2.line(coppied, prev_point, point, (0,0,255), 5)\n",
    "      prev_point = point\n",
    "\n",
    "    next_point = (x,y)\n",
    "    if len(a) == 4:\n",
    "      next_point = a[0]\n",
    "      show_result()\n",
    "    cv2.line(coppied, a[-1], next_point, (0,0,255), 5)\n",
    "  cv2.imshow(name, coppied)\n",
    "\n",
    "# 기본적인 코드 실행입니다.\n",
    "name = \"Scanner\"\n",
    "cv2.namedWindow(name)\n",
    "cv2.setMouseCallback(name, on_mouse)\n",
    "cv2.imshow(name, img)\n",
    "cv2.waitKey(0)\n",
    "cv2.destroyAllWindows()\n"
   ]
  },
  {
   "cell_type": "code",
   "execution_count": null,
   "metadata": {},
   "outputs": [],
   "source": []
  },
  {
   "cell_type": "code",
   "execution_count": null,
   "metadata": {},
   "outputs": [],
   "source": []
  },
  {
   "cell_type": "code",
   "execution_count": null,
   "metadata": {},
   "outputs": [],
   "source": []
  }
 ],
 "metadata": {
  "kernelspec": {
   "display_name": "my_cv",
   "language": "python",
   "name": "python3"
  },
  "language_info": {
   "codemirror_mode": {
    "name": "ipython",
    "version": 3
   },
   "file_extension": ".py",
   "mimetype": "text/x-python",
   "name": "python",
   "nbconvert_exporter": "python",
   "pygments_lexer": "ipython3",
   "version": "3.12.7"
  }
 },
 "nbformat": 4,
 "nbformat_minor": 2
}
