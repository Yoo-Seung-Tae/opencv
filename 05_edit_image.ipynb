{
 "cells": [
  {
   "cell_type": "code",
   "execution_count": null,
   "metadata": {},
   "outputs": [],
   "source": [
    "## 이미지 조정\n",
    "\n",
    "import cv2\n",
    "import numpy as np\n",
    "img_path='images/a.jpg'\n",
    "iu_path='images/iu.jpg'\n",
    "video_path='videos/a.mp4'"
   ]
  },
  {
   "cell_type": "code",
   "execution_count": 4,
   "metadata": {},
   "outputs": [],
   "source": [
    "img=cv2.imread(img_path)\n",
    "shallow_copy=img\n",
    "deep_copy=img.copy()\n",
    "\n",
    "gray=cv2.cvtColor(shallow_copy, cv2.COLOR_BGR2GRAY)\n",
    "\n",
    "cv2.imshow('original',img)\n",
    "cv2.imshow('shallow',gray)\n",
    "\n",
    "\n",
    "cv2.waitKey(0)\n",
    "cv2.destroyAllWindows()"
   ]
  },
  {
   "cell_type": "code",
   "execution_count": null,
   "metadata": {},
   "outputs": [],
   "source": [
    "img = cv2.imread(img_path)\n",
    "\n",
    "# 고정 크기를 입력해서 조정\n",
    "dst = cv2.resize(img, (150,100))\n",
    "\n",
    "# 비율로 조정\n",
    "dst=cv2.resize(img, None, fx=2, fy=2)       # 이미지, 배수\n",
    "dst_cubic=cv2.resize(img, None, fx=2, fy=2, interpolation=cv2.INTER_CUBIC)       # 보간법: 이미지 깨지는거 최대한 자연스럽게 하는거\n",
    "\n",
    "\n",
    "cv2.imshow('resize',dst)\n",
    "cv2.imshow('resize_cubic',dst_cubic)\n",
    "cv2.waitKey(0)\n",
    "cv2.destroyAllWindows()"
   ]
  },
  {
   "cell_type": "code",
   "execution_count": null,
   "metadata": {},
   "outputs": [],
   "source": [
    "# 비디오 비율 조정\n",
    "\n",
    "cap = cv2.VideoCapture(video_path)\n",
    "\n",
    "\n",
    "while cap.isOpened():\n",
    "    ret, frame = cap.read()    # 파일을 읽어서 프레임을 반환(ret: 프레임이 있는지 체크)\n",
    "    \n",
    "    if not ret:\n",
    "        break\n",
    "\n",
    "    dst = cv2.resize(frame, None, fx=0.3, fy=0.3, interpolation=cv2.INTER_CUBIC)       # 이미지, 배수\n",
    "    cv2.imshow('video',dst)\n",
    "\n",
    "    if cv2.waitKey(1) != -1:\n",
    "        break\n",
    "\n",
    "\n",
    "cap.release()    # 영상 객체를 해제\n",
    "cv2.destroyAllWindows()\n"
   ]
  },
  {
   "cell_type": "code",
   "execution_count": null,
   "metadata": {},
   "outputs": [],
   "source": [
    "# 이미지 피라미드\n",
    "img = cv2.imread(img_path)\n",
    "\n",
    "sizeup = cv2.pyrUp(img)    # 2배수로 적용됨\n",
    "sizedown = cv2.pyrDown(img)\n",
    "\n",
    "\n",
    "cv2.imshow('original',img)\n",
    "cv2.imshow('up',sizeup)\n",
    "cv2.imshow('down',sizedown)\n",
    "cv2.waitKey(0)\n",
    "cv2.destroyAllWindows()"
   ]
  },
  {
   "cell_type": "code",
   "execution_count": null,
   "metadata": {},
   "outputs": [],
   "source": [
    "# 이미지 자르기\n",
    "img = cv2.imread(img_path)\n",
    "cropped = img[100:1000,100:1000]\n",
    "\n",
    "\n",
    "cv2.imshow('1',img)\n",
    "cv2.imshow('2',cropped)\n",
    "cv2.waitKey(0)\n",
    "cv2.destroyAllWindows()\n"
   ]
  },
  {
   "cell_type": "code",
   "execution_count": null,
   "metadata": {},
   "outputs": [],
   "source": [
    "# 이미지 붙이기 (배열 슬라이싱을 활용하여 붙이기)\n",
    "img = cv2.imread(img_path)\n",
    "cropped = img[100:1000,100:1000]\n",
    "img[100:1000,500:1400] = cropped\n",
    "\n",
    "cv2.imshow('1',img)\n",
    "cv2.imshow('2',cropped)\n",
    "cv2.waitKey(0)\n",
    "cv2.destroyAllWindows()"
   ]
  },
  {
   "cell_type": "code",
   "execution_count": null,
   "metadata": {},
   "outputs": [],
   "source": [
    "## 이미지 대칭\n",
    "'''\n",
    "- flipcode > 0 : 좌우 반전 (y축 반전)\n",
    "- flipcode = 0 : 상하 반전 (x축 반전)\n",
    "- flipcode < 0 : 상하좌우 반전 (x, y축 반전)\n",
    "'''\n",
    "\n",
    "\n",
    "img = cv2.imread(img_path)\n",
    "dst_1 = cv2.flip(img, -1)\n",
    "dst_2 = cv2.flip(img, 1)\n",
    "\n",
    "cv2.imshow('1',img)\n",
    "cv2.imshow('2',dst_1)\n",
    "cv2.imshow('3',dst_2)\n",
    "\n",
    "cv2.waitKey(0)\n",
    "cv2.destroyAllWindows()"
   ]
  },
  {
   "cell_type": "code",
   "execution_count": null,
   "metadata": {},
   "outputs": [],
   "source": [
    "img = cv2.imread(iu_path)\n",
    "img2 = cv2.resize(img, None, fx=0.5, fy=0.5)\n",
    "img3 = cv2.flip(img2, 1)\n",
    "img[img.shape[0]-img3.shape[0]:,img.shape[1]-img3.shape[1]:] = img3\n",
    "#print(img.shape)\n",
    "#print(img3.shape)\n",
    "\n",
    "cv2.imshow('iu',img)\n",
    "cv2.waitKey(0)\n",
    "cv2.destroyAllWindows()"
   ]
  },
  {
   "cell_type": "code",
   "execution_count": null,
   "metadata": {},
   "outputs": [],
   "source": [
    "# 색깔 분리 추출\n",
    "img = cv2.imread(iu_path)\n",
    "\n",
    "blue, green, red = cv2.split(img)\n",
    "merged_image = cv2.merge([blue, green, red])    # 다시 합치기\n",
    "\n",
    "cv2.imshow('1',blue)\n",
    "cv2.imshow('2',green)\n",
    "cv2.imshow('3',red)\n",
    "cv2.imshow('4',merged_image)\n",
    "cv2.waitKey(0)\n",
    "cv2.destroyAllWindows()"
   ]
  },
  {
   "cell_type": "code",
   "execution_count": null,
   "metadata": {},
   "outputs": [],
   "source": [
    "## 이미지 색상 변경\n",
    "\n",
    "img = cv2.imread(iu_path)\n",
    "rgb = cv2.cvtColor(img, cv2.COLOR_BGR2RGB)\n",
    "\n",
    "cv2.imshow('1', gray)\n",
    "cv2.imshow('2', rgb)\n",
    "cv2.waitKey(0)\n",
    "cv2.destroyAllWindows()"
   ]
  },
  {
   "cell_type": "code",
   "execution_count": null,
   "metadata": {},
   "outputs": [],
   "source": [
    "## 이미지 흑백 반전\n",
    "img = cv2.imread(iu_path)\n",
    "gray = cv2.cvtColor(img, cv2.COLOR_BGR2GRAY)\n",
    "\n",
    "img_blwh = 255-gray\n",
    "\n",
    "cv2.imshow('4',img_blwh)\n",
    "cv2.waitKey(0)\n",
    "cv2.destroyAllWindows()"
   ]
  },
  {
   "cell_type": "code",
   "execution_count": null,
   "metadata": {},
   "outputs": [],
   "source": [
    "## 이미지 흐리기(GaussianBlur)\n",
    "\n",
    "img=cv2.imread(iu_path)\n",
    "\n",
    "kernel_3=cv2.GaussianBlur(img, (3,3), 0)    # 이미지, 커널을 사용하는 방식(3,3) (5,5) (7,7)을 주로 사용함, 편차\n",
    "kernel_5=cv2.GaussianBlur(img, (5,5), 0)    \n",
    "kernel_7=cv2.GaussianBlur(img, (7,7), 0)    # 크기가 클수록 흐려짐\n",
    "\n",
    "\n",
    "cv2.imshow('1',kernel_3)\n",
    "cv2.imshow('2',kernel_5)\n",
    "cv2.imshow('3',kernel_7)\n",
    "cv2.waitKey(0)\n",
    "cv2.destroyAllWindows()"
   ]
  },
  {
   "cell_type": "code",
   "execution_count": 5,
   "metadata": {},
   "outputs": [],
   "source": [
    "## 이미지 흐리기(GaussianBlur)\n",
    "\n",
    "img=cv2.imread(iu_path)\n",
    "\n",
    "sigma_1=cv2.GaussianBlur(img, (3,3), 1)    # 이미지, 커널을 사용하는 방식(3,3) (5,5) (7,7)을 주로 사용함, 편차\n",
    "sigma_2=cv2.GaussianBlur(img, (5,5), 2)    \n",
    "sigma_3=cv2.GaussianBlur(img, (7,7), 3)    # 편차가 클수록 흐려짐\n",
    "\n",
    "\n",
    "cv2.imshow('1', sigma_1)\n",
    "cv2.imshow('2', sigma_2)\n",
    "cv2.imshow('3', sigma_3)\n",
    "cv2.waitKey(0)\n",
    "cv2.destroyAllWindows()"
   ]
  },
  {
   "cell_type": "code",
   "execution_count": null,
   "metadata": {},
   "outputs": [],
   "source": [
    "## 이미지 회전(Rotate 함수)\n",
    "img=cv2.imread(iu_path)\n",
    "\n",
    "'''\n",
    "- cv2.ROTATE_90_CLOCKWISE : 시계방향 90도 회전\n",
    "- cv2.ROTATE_180 : 180도 회전\n",
    "- cv2.ROTATE_90_COUNTERCLOCKWISE : 반시계방향 90도 회전\n",
    "'''\n",
    "\n",
    "dst_90=cv2.rotate(img, cv2.ROTATE_90_CLOCKWISE)\n",
    "dst_180=cv2.rotate(img, cv2.ROTATE_180)\n",
    "dst_09=cv2.rotate(img, cv2.ROTATE_90_COUNTERCLOCKWISE)\n",
    "\n",
    "\n",
    "cv2.imshow('1', dst_90)\n",
    "cv2.imshow('2', dst_180)\n",
    "cv2.imshow('3', dst_09)\n",
    "\n",
    "cv2.waitKey(0)\n",
    "cv2.destroyAllWindows()"
   ]
  },
  {
   "cell_type": "code",
   "execution_count": null,
   "metadata": {},
   "outputs": [],
   "source": [
    "## 이미지 회전(아핀 변환 - 각도 지정)\n",
    "\n",
    "img=cv2.imread(iu_path)\n",
    "\n",
    "affine_matrix=cv2.getRotationMatrix2D((img.shape[1]/2,img.shape[0]/2), 45, 1)     # 회전중심점((0,0)을 하면 왼쪽 위 끝 중심으로 회전함), 도는 각도, 그림크기(1은 유지)\n",
    "dst=cv2.warpAffine(img, affine_matrix, (img.shape[1], img.shape[0]))      # 이미지, 아핀행렬, 크기\n",
    "\n",
    "\n",
    "cv2.imshow('1', dst)\n",
    "\n",
    "cv2.waitKey(0)\n",
    "cv2.destroyAllWindows()"
   ]
  },
  {
   "cell_type": "code",
   "execution_count": null,
   "metadata": {},
   "outputs": [],
   "source": [
    "## 직접 아핀 행렬 생성\n",
    "\n",
    "import math\n",
    "\n",
    "img=cv2.imread(iu_path)\n",
    "\n",
    "rad=30*math.pi/180\n",
    "affine_matrix=np.array([[math.cos(rad),-math.sin(rad),0], [math.sin(rad),math.cos(rad),0]], dtype=np.float32)\n",
    "dst = cv2.warpAffine(img, affine_matrix, (img.shape[1], img.shape[0]))\n",
    "\n",
    "cv2.imshow('1', dst)\n",
    "cv2.waitKey(0)\n",
    "cv2.destroyAllWindows()"
   ]
  },
  {
   "cell_type": "code",
   "execution_count": null,
   "metadata": {},
   "outputs": [],
   "source": []
  },
  {
   "cell_type": "code",
   "execution_count": null,
   "metadata": {},
   "outputs": [],
   "source": []
  },
  {
   "cell_type": "code",
   "execution_count": null,
   "metadata": {},
   "outputs": [],
   "source": []
  },
  {
   "cell_type": "code",
   "execution_count": null,
   "metadata": {},
   "outputs": [],
   "source": []
  },
  {
   "cell_type": "code",
   "execution_count": null,
   "metadata": {},
   "outputs": [],
   "source": []
  },
  {
   "cell_type": "code",
   "execution_count": null,
   "metadata": {},
   "outputs": [],
   "source": []
  }
 ],
 "metadata": {
  "kernelspec": {
   "display_name": "my_cv",
   "language": "python",
   "name": "python3"
  },
  "language_info": {
   "codemirror_mode": {
    "name": "ipython",
    "version": 3
   },
   "file_extension": ".py",
   "mimetype": "text/x-python",
   "name": "python",
   "nbconvert_exporter": "python",
   "pygments_lexer": "ipython3",
   "version": "3.12.7"
  }
 },
 "nbformat": 4,
 "nbformat_minor": 2
}
